{
 "cells": [
  {
   "cell_type": "code",
   "execution_count": 1,
   "metadata": {},
   "outputs": [
    {
     "name": "stderr",
     "output_type": "stream",
     "text": [
      "/Users/philneff/anaconda3/lib/python3.6/site-packages/statsmodels/compat/pandas.py:56: FutureWarning: The pandas.core.datetools module is deprecated and will be removed in a future version. Please use the pandas.tseries module instead.\n",
      "  from pandas.core import datetools\n"
     ]
    }
   ],
   "source": [
    "import pandas as pd\n",
    "import numpy as np\n",
    "from datetime import datetime\n",
    "\n",
    "import itertools\n",
    "from itertools import chain, combinations\n",
    "import statsmodels.formula.api as smf\n",
    "import scipy.stats as scipystats\n",
    "import statsmodels.api as sm\n",
    "import statsmodels.stats.stattools as stools\n",
    "import statsmodels.stats as stats\n",
    "from statsmodels.graphics.regressionplots import *\n",
    "import matplotlib.pyplot as plt\n",
    "import matplotlib.mlab as mlab\n",
    "import seaborn as sns\n",
    "import copy\n",
    "import math\n",
    "import time\n",
    "\n",
    "%matplotlib inline\n",
    "plt.rcParams['figure.figsize'] = (8, 6)"
   ]
  },
  {
   "cell_type": "markdown",
   "metadata": {},
   "source": [
    "# Load data"
   ]
  },
  {
   "cell_type": "code",
   "execution_count": 2,
   "metadata": {
    "collapsed": true
   },
   "outputs": [],
   "source": [
    "path = '../input/'"
   ]
  },
  {
   "cell_type": "code",
   "execution_count": 3,
   "metadata": {
    "collapsed": true
   },
   "outputs": [],
   "source": [
    "release_disp = pd.read_csv(f'{path}release_disp_2013-2017.csv')"
   ]
  },
  {
   "cell_type": "code",
   "execution_count": 4,
   "metadata": {},
   "outputs": [
    {
     "name": "stdout",
     "output_type": "stream",
     "text": [
      "<class 'pandas.core.frame.DataFrame'>\n",
      "RangeIndex: 40010 entries, 0 to 40009\n",
      "Data columns (total 13 columns):\n",
      "booking_id                  40010 non-null int64\n",
      "inmate_name                 40010 non-null object\n",
      "booking_dt                  40010 non-null object\n",
      "release_dt                  40010 non-null object\n",
      "booking_charge_desc         40010 non-null object\n",
      "booking_charge_txt          3022 non-null object\n",
      "charge_release_dt           40010 non-null object\n",
      "title_txt                   40010 non-null object\n",
      "dob                         40010 non-null object\n",
      "cause_num                   31745 non-null object\n",
      "jurisdiction_cd             40010 non-null object\n",
      "release_disposition_desc    40010 non-null object\n",
      "post_flg                    40010 non-null object\n",
      "dtypes: int64(1), object(12)\n",
      "memory usage: 4.0+ MB\n"
     ]
    }
   ],
   "source": [
    "release_disp.info()"
   ]
  },
  {
   "cell_type": "code",
   "execution_count": 5,
   "metadata": {
    "collapsed": true
   },
   "outputs": [],
   "source": [
    "bookings_by_date_2016_2017 = pd.read_csv(f'{path}bookings_by_date_2016-2017.csv')\n",
    "bookings_by_date_2013_2016 = pd.read_csv(f'{path}Bookings_By_Date_2013-2016.csv')"
   ]
  },
  {
   "cell_type": "code",
   "execution_count": 137,
   "metadata": {
    "collapsed": true
   },
   "outputs": [],
   "source": [
    "bookings_by_date = pd.concat([bookings_by_date_2016_2017, bookings_by_date_2013_2016])"
   ]
  },
  {
   "cell_type": "code",
   "execution_count": 138,
   "metadata": {},
   "outputs": [
    {
     "name": "stdout",
     "output_type": "stream",
     "text": [
      "<class 'pandas.core.frame.DataFrame'>\n",
      "Int64Index: 71706 entries, 0 to 53846\n",
      "Data columns (total 14 columns):\n",
      "booking_id             71706 non-null int64\n",
      "inmate_name            71706 non-null object\n",
      "dob                    71706 non-null object\n",
      "gender_desc            71705 non-null object\n",
      "height_feet            71706 non-null int64\n",
      "height_inches          71706 non-null int64\n",
      "weight                 71706 non-null int64\n",
      "race_desc              71706 non-null object\n",
      "booking_charge_desc    71706 non-null int64\n",
      "jurisdiction_desc      71706 non-null int64\n",
      "start_dt               71706 non-null object\n",
      "in_custody_flg         0 non-null float64\n",
      "view_charges_flg       0 non-null float64\n",
      "end_dt                 71706 non-null object\n",
      "dtypes: float64(2), int64(6), object(6)\n",
      "memory usage: 8.2+ MB\n"
     ]
    }
   ],
   "source": [
    "bookings_by_date.info()"
   ]
  },
  {
   "cell_type": "code",
   "execution_count": 139,
   "metadata": {
    "collapsed": true
   },
   "outputs": [],
   "source": [
    "bookings_by_date.drop_duplicates(subset='booking_id', inplace=True)\n",
    "bookings_by_date.dropna(subset=['gender_desc'], axis=0, inplace=True)"
   ]
  },
  {
   "cell_type": "code",
   "execution_count": 140,
   "metadata": {
    "collapsed": true
   },
   "outputs": [],
   "source": [
    "bookings_with_bail = pd.read_csv(f'{path}bookings_with_bail.csv', sep='|')"
   ]
  },
  {
   "cell_type": "code",
   "execution_count": 141,
   "metadata": {},
   "outputs": [
    {
     "name": "stdout",
     "output_type": "stream",
     "text": [
      "<class 'pandas.core.frame.DataFrame'>\n",
      "RangeIndex: 6175 entries, 0 to 6174\n",
      "Data columns (total 19 columns):\n",
      "booking_id               6175 non-null int64\n",
      "inmate_name              6175 non-null object\n",
      "bail_receipt_id          6175 non-null int64\n",
      "booking_charge_cd        6175 non-null object\n",
      "bail_receipt_dt          6175 non-null object\n",
      "booking_charge_desc      6175 non-null object\n",
      "booking_charge_counts    6175 non-null int64\n",
      "jurisdiction_cd          6175 non-null object\n",
      "jurisdiction_desc        6175 non-null object\n",
      "booking_charge_txt       299 non-null object\n",
      "bail_fund_type_cd        6175 non-null object\n",
      "bail_fund_type_desc      6175 non-null object\n",
      "fine_amt                 6175 non-null float64\n",
      "start_dt                 6175 non-null object\n",
      "end_dt                   6175 non-null object\n",
      "start_receipt_id         6175 non-null int64\n",
      "end_receipt_id           6175 non-null int64\n",
      "disbursed_status         6175 non-null object\n",
      "disbursed_dt             6175 non-null object\n",
      "dtypes: float64(1), int64(5), object(13)\n",
      "memory usage: 916.7+ KB\n"
     ]
    }
   ],
   "source": [
    "bookings_with_bail.info()"
   ]
  },
  {
   "cell_type": "code",
   "execution_count": 142,
   "metadata": {},
   "outputs": [
    {
     "data": {
      "text/html": [
       "<div>\n",
       "<style>\n",
       "    .dataframe thead tr:only-child th {\n",
       "        text-align: right;\n",
       "    }\n",
       "\n",
       "    .dataframe thead th {\n",
       "        text-align: left;\n",
       "    }\n",
       "\n",
       "    .dataframe tbody tr th {\n",
       "        vertical-align: top;\n",
       "    }\n",
       "</style>\n",
       "<table border=\"1\" class=\"dataframe\">\n",
       "  <thead>\n",
       "    <tr style=\"text-align: right;\">\n",
       "      <th></th>\n",
       "      <th>booking_id</th>\n",
       "      <th>inmate_name</th>\n",
       "      <th>bail_receipt_id</th>\n",
       "      <th>booking_charge_cd</th>\n",
       "      <th>bail_receipt_dt</th>\n",
       "      <th>booking_charge_desc</th>\n",
       "      <th>booking_charge_counts</th>\n",
       "      <th>jurisdiction_cd</th>\n",
       "      <th>jurisdiction_desc</th>\n",
       "      <th>booking_charge_txt</th>\n",
       "      <th>bail_fund_type_cd</th>\n",
       "      <th>bail_fund_type_desc</th>\n",
       "      <th>fine_amt</th>\n",
       "      <th>start_dt</th>\n",
       "      <th>end_dt</th>\n",
       "      <th>start_receipt_id</th>\n",
       "      <th>end_receipt_id</th>\n",
       "      <th>disbursed_status</th>\n",
       "      <th>disbursed_dt</th>\n",
       "    </tr>\n",
       "  </thead>\n",
       "  <tbody>\n",
       "    <tr>\n",
       "      <th>0</th>\n",
       "      <td>2016271070</td>\n",
       "      <td>AUSTIN, JR, WALTER EUGENE</td>\n",
       "      <td>99231</td>\n",
       "      <td>D600</td>\n",
       "      <td>2016-10-01 00:03:00</td>\n",
       "      <td>D600 - DWI</td>\n",
       "      <td>1</td>\n",
       "      <td>PD1</td>\n",
       "      <td>DISTRICT COURT 1 (TACOMA)</td>\n",
       "      <td>NaN</td>\n",
       "      <td>BB</td>\n",
       "      <td>BAIL BOND</td>\n",
       "      <td>6000.0</td>\n",
       "      <td>2016-10-01 00:00:00.0</td>\n",
       "      <td>2017-09-30 23:59:00.0</td>\n",
       "      <td>0</td>\n",
       "      <td>106273</td>\n",
       "      <td>D</td>\n",
       "      <td>2016-10-03 08:44:17.996</td>\n",
       "    </tr>\n",
       "    <tr>\n",
       "      <th>1</th>\n",
       "      <td>2016271070</td>\n",
       "      <td>AUSTIN, JR, WALTER EUGENE</td>\n",
       "      <td>99231</td>\n",
       "      <td>D610</td>\n",
       "      <td>2016-10-01 00:03:00</td>\n",
       "      <td>D610 - DWLS/DWLR</td>\n",
       "      <td>1</td>\n",
       "      <td>PD1</td>\n",
       "      <td>DISTRICT COURT 1 (TACOMA)</td>\n",
       "      <td>3RD DEGREE</td>\n",
       "      <td>BB</td>\n",
       "      <td>BAIL BOND</td>\n",
       "      <td>0.0</td>\n",
       "      <td>2016-10-01 00:00:00.0</td>\n",
       "      <td>2017-09-30 23:59:00.0</td>\n",
       "      <td>0</td>\n",
       "      <td>106273</td>\n",
       "      <td>D</td>\n",
       "      <td>2016-10-03 08:44:17.996</td>\n",
       "    </tr>\n",
       "    <tr>\n",
       "      <th>2</th>\n",
       "      <td>2016271070</td>\n",
       "      <td>AUSTIN, JR, WALTER EUGENE</td>\n",
       "      <td>99231</td>\n",
       "      <td>D618</td>\n",
       "      <td>2016-10-01 00:03:00</td>\n",
       "      <td>D618 - OPERATE VEH W/O IGN INTERLOCK DEV</td>\n",
       "      <td>1</td>\n",
       "      <td>PD1</td>\n",
       "      <td>DISTRICT COURT 1 (TACOMA)</td>\n",
       "      <td>NaN</td>\n",
       "      <td>BB</td>\n",
       "      <td>BAIL BOND</td>\n",
       "      <td>6000.0</td>\n",
       "      <td>2016-10-01 00:00:00.0</td>\n",
       "      <td>2017-09-30 23:59:00.0</td>\n",
       "      <td>0</td>\n",
       "      <td>106273</td>\n",
       "      <td>D</td>\n",
       "      <td>2016-10-03 08:44:17.996</td>\n",
       "    </tr>\n",
       "    <tr>\n",
       "      <th>3</th>\n",
       "      <td>2016274052</td>\n",
       "      <td>FOURNILLIER, ROGER EARL</td>\n",
       "      <td>99232</td>\n",
       "      <td>D900</td>\n",
       "      <td>2016-10-01 02:19:00</td>\n",
       "      <td>D900 - ASSAULT 4 /DV</td>\n",
       "      <td>1</td>\n",
       "      <td>PD1</td>\n",
       "      <td>DISTRICT COURT 1 (TACOMA)</td>\n",
       "      <td>NaN</td>\n",
       "      <td>CASH</td>\n",
       "      <td>CASH</td>\n",
       "      <td>1000.0</td>\n",
       "      <td>2016-10-01 00:00:00.0</td>\n",
       "      <td>2017-09-30 23:59:00.0</td>\n",
       "      <td>0</td>\n",
       "      <td>106273</td>\n",
       "      <td>D</td>\n",
       "      <td>2016-10-03 08:44:06.72</td>\n",
       "    </tr>\n",
       "    <tr>\n",
       "      <th>4</th>\n",
       "      <td>2016275014</td>\n",
       "      <td>GARCIA, RUBEN</td>\n",
       "      <td>99233</td>\n",
       "      <td>T600</td>\n",
       "      <td>2016-10-01 06:19:00</td>\n",
       "      <td>T600 - DWI</td>\n",
       "      <td>1</td>\n",
       "      <td>TACM</td>\n",
       "      <td>TACOMA MUNICIPAL COURT</td>\n",
       "      <td>NaN</td>\n",
       "      <td>BB</td>\n",
       "      <td>BAIL BOND</td>\n",
       "      <td>1000.0</td>\n",
       "      <td>2016-10-01 00:00:00.0</td>\n",
       "      <td>2017-09-30 23:59:00.0</td>\n",
       "      <td>0</td>\n",
       "      <td>106273</td>\n",
       "      <td>D</td>\n",
       "      <td>2016-10-03 08:45:51.526</td>\n",
       "    </tr>\n",
       "  </tbody>\n",
       "</table>\n",
       "</div>"
      ],
      "text/plain": [
       "   booking_id                inmate_name  bail_receipt_id booking_charge_cd  \\\n",
       "0  2016271070  AUSTIN, JR, WALTER EUGENE            99231              D600   \n",
       "1  2016271070  AUSTIN, JR, WALTER EUGENE            99231              D610   \n",
       "2  2016271070  AUSTIN, JR, WALTER EUGENE            99231              D618   \n",
       "3  2016274052    FOURNILLIER, ROGER EARL            99232              D900   \n",
       "4  2016275014             GARCIA, RUBEN             99233              T600   \n",
       "\n",
       "       bail_receipt_dt                       booking_charge_desc  \\\n",
       "0  2016-10-01 00:03:00                                D600 - DWI   \n",
       "1  2016-10-01 00:03:00                          D610 - DWLS/DWLR   \n",
       "2  2016-10-01 00:03:00  D618 - OPERATE VEH W/O IGN INTERLOCK DEV   \n",
       "3  2016-10-01 02:19:00                      D900 - ASSAULT 4 /DV   \n",
       "4  2016-10-01 06:19:00                                T600 - DWI   \n",
       "\n",
       "   booking_charge_counts jurisdiction_cd          jurisdiction_desc  \\\n",
       "0                      1             PD1  DISTRICT COURT 1 (TACOMA)   \n",
       "1                      1             PD1  DISTRICT COURT 1 (TACOMA)   \n",
       "2                      1             PD1  DISTRICT COURT 1 (TACOMA)   \n",
       "3                      1             PD1  DISTRICT COURT 1 (TACOMA)   \n",
       "4                      1            TACM     TACOMA MUNICIPAL COURT   \n",
       "\n",
       "  booking_charge_txt bail_fund_type_cd bail_fund_type_desc  fine_amt  \\\n",
       "0                NaN              BB             BAIL BOND    6000.0   \n",
       "1         3RD DEGREE              BB             BAIL BOND       0.0   \n",
       "2                NaN              BB             BAIL BOND    6000.0   \n",
       "3                NaN              CASH                CASH    1000.0   \n",
       "4                NaN              BB             BAIL BOND    1000.0   \n",
       "\n",
       "                start_dt                 end_dt  start_receipt_id  \\\n",
       "0  2016-10-01 00:00:00.0  2017-09-30 23:59:00.0                 0   \n",
       "1  2016-10-01 00:00:00.0  2017-09-30 23:59:00.0                 0   \n",
       "2  2016-10-01 00:00:00.0  2017-09-30 23:59:00.0                 0   \n",
       "3  2016-10-01 00:00:00.0  2017-09-30 23:59:00.0                 0   \n",
       "4  2016-10-01 00:00:00.0  2017-09-30 23:59:00.0                 0   \n",
       "\n",
       "   end_receipt_id disbursed_status             disbursed_dt  \n",
       "0          106273                D  2016-10-03 08:44:17.996  \n",
       "1          106273                D  2016-10-03 08:44:17.996  \n",
       "2          106273                D  2016-10-03 08:44:17.996  \n",
       "3          106273                D   2016-10-03 08:44:06.72  \n",
       "4          106273                D  2016-10-03 08:45:51.526  "
      ]
     },
     "execution_count": 142,
     "metadata": {},
     "output_type": "execute_result"
    }
   ],
   "source": [
    "bookings_with_bail.head()"
   ]
  },
  {
   "cell_type": "code",
   "execution_count": null,
   "metadata": {
    "collapsed": true
   },
   "outputs": [],
   "source": []
  },
  {
   "cell_type": "code",
   "execution_count": null,
   "metadata": {
    "collapsed": true
   },
   "outputs": [],
   "source": []
  },
  {
   "cell_type": "markdown",
   "metadata": {},
   "source": [
    "# Getting booking demographics\n",
    "\n",
    "Make a separate table with columns unique to `bookings_by_date`, join to `release_disp` using `booking_id` as key. We only get demographics for people booked between `start_dt` and `end_dt`. Records without demographic data are dropped."
   ]
  },
  {
   "cell_type": "code",
   "execution_count": 143,
   "metadata": {
    "collapsed": true
   },
   "outputs": [],
   "source": [
    "gender_race = bookings_by_date[['booking_id', 'gender_desc', 'race_desc']]"
   ]
  },
  {
   "cell_type": "code",
   "execution_count": 144,
   "metadata": {
    "collapsed": true
   },
   "outputs": [],
   "source": [
    "df = pd.merge(release_disp, gender_race, on='booking_id', how='left')"
   ]
  },
  {
   "cell_type": "code",
   "execution_count": 145,
   "metadata": {
    "collapsed": true
   },
   "outputs": [],
   "source": [
    "predrop_df = df.copy()"
   ]
  },
  {
   "cell_type": "code",
   "execution_count": 146,
   "metadata": {},
   "outputs": [
    {
     "name": "stdout",
     "output_type": "stream",
     "text": [
      "115 booking charges with value 'HOLD IMMIGRAT' prior to drop.\n"
     ]
    }
   ],
   "source": [
    "predrop_imm_holds = sum(predrop_df['booking_charge_desc'] == 'HOLD IMMIGRAT')\n",
    "msg = ' booking charges with value \\'HOLD IMMIGRAT\\' prior to drop.'\n",
    "print(f'{predrop_imm_holds}{msg}')"
   ]
  },
  {
   "cell_type": "code",
   "execution_count": 147,
   "metadata": {
    "collapsed": true
   },
   "outputs": [],
   "source": [
    "null_gender = df[df['gender_desc'].isnull()]['booking_id'].tolist()\n",
    "null_race = df[df['race_desc'].isnull()]['booking_id'].tolist()"
   ]
  },
  {
   "cell_type": "code",
   "execution_count": 148,
   "metadata": {
    "collapsed": true
   },
   "outputs": [],
   "source": [
    "null_gender_ids = set(df[df['booking_id'].isin(null_gender)]['booking_id'])\n",
    "null_race_ids = set(df[df['booking_id'].isin(null_race)]['booking_id'])"
   ]
  },
  {
   "cell_type": "markdown",
   "metadata": {},
   "source": [
    "Booking ID records missing gender description are same as records missing race description.\n",
    "\n",
    "No group of Booking ID records has demographic data for some charges but not others."
   ]
  },
  {
   "cell_type": "code",
   "execution_count": 149,
   "metadata": {
    "collapsed": true
   },
   "outputs": [],
   "source": [
    "assert len(null_gender_ids - null_race_ids) == 0"
   ]
  },
  {
   "cell_type": "code",
   "execution_count": 150,
   "metadata": {
    "collapsed": true,
    "scrolled": true
   },
   "outputs": [],
   "source": [
    "assert sum(df[df['booking_id'].isin(null_gender_ids)]['gender_desc'].notnull()) == 0"
   ]
  },
  {
   "cell_type": "code",
   "execution_count": 151,
   "metadata": {
    "collapsed": true
   },
   "outputs": [],
   "source": [
    "del null_gender, null_race, null_gender_ids, null_race_ids"
   ]
  },
  {
   "cell_type": "code",
   "execution_count": 152,
   "metadata": {},
   "outputs": [
    {
     "name": "stdout",
     "output_type": "stream",
     "text": [
      "0 records without demographic data dropped. \n"
     ]
    }
   ],
   "source": [
    "pre = len(df)\n",
    "df.dropna(subset=['race_desc', 'gender_desc'], inplace=True)\n",
    "post = len(df)\n",
    "print(f\"{pre - post} records without demographic data dropped. \")"
   ]
  },
  {
   "cell_type": "code",
   "execution_count": 153,
   "metadata": {},
   "outputs": [
    {
     "name": "stdout",
     "output_type": "stream",
     "text": [
      "115 booking charges with value 'HOLD IMMIGRAT' post drop.\n"
     ]
    }
   ],
   "source": [
    "postdrop_imm_holds = sum(df['booking_charge_desc'] == 'HOLD IMMIGRAT')\n",
    "print(f'{postdrop_imm_holds} booking charges with value \\'HOLD IMMIGRAT\\' post drop.' )"
   ]
  },
  {
   "cell_type": "code",
   "execution_count": 154,
   "metadata": {},
   "outputs": [
    {
     "name": "stdout",
     "output_type": "stream",
     "text": [
      "<class 'pandas.core.frame.DataFrame'>\n",
      "Int64Index: 40010 entries, 0 to 40009\n",
      "Data columns (total 15 columns):\n",
      "booking_id                  40010 non-null int64\n",
      "inmate_name                 40010 non-null object\n",
      "booking_dt                  40010 non-null object\n",
      "release_dt                  40010 non-null object\n",
      "booking_charge_desc         40010 non-null object\n",
      "booking_charge_txt          3022 non-null object\n",
      "charge_release_dt           40010 non-null object\n",
      "title_txt                   40010 non-null object\n",
      "dob                         40010 non-null object\n",
      "cause_num                   31745 non-null object\n",
      "jurisdiction_cd             40010 non-null object\n",
      "release_disposition_desc    40010 non-null object\n",
      "post_flg                    40010 non-null object\n",
      "gender_desc                 40010 non-null object\n",
      "race_desc                   40010 non-null object\n",
      "dtypes: int64(1), object(14)\n",
      "memory usage: 4.9+ MB\n"
     ]
    }
   ],
   "source": [
    "df.info()"
   ]
  },
  {
   "cell_type": "code",
   "execution_count": 155,
   "metadata": {},
   "outputs": [
    {
     "data": {
      "text/plain": [
       "17715"
      ]
     },
     "execution_count": 155,
     "metadata": {},
     "output_type": "execute_result"
    }
   ],
   "source": [
    "# Number of booking records for which we both have booking demos and release info\n",
    "len(set(df['booking_id']))"
   ]
  },
  {
   "cell_type": "code",
   "execution_count": 156,
   "metadata": {
    "collapsed": true
   },
   "outputs": [],
   "source": [
    "df.sort_values(by=['booking_id'], inplace=True)"
   ]
  },
  {
   "cell_type": "code",
   "execution_count": 157,
   "metadata": {
    "scrolled": true
   },
   "outputs": [
    {
     "data": {
      "text/html": [
       "<div>\n",
       "<style>\n",
       "    .dataframe thead tr:only-child th {\n",
       "        text-align: right;\n",
       "    }\n",
       "\n",
       "    .dataframe thead th {\n",
       "        text-align: left;\n",
       "    }\n",
       "\n",
       "    .dataframe tbody tr th {\n",
       "        vertical-align: top;\n",
       "    }\n",
       "</style>\n",
       "<table border=\"1\" class=\"dataframe\">\n",
       "  <thead>\n",
       "    <tr style=\"text-align: right;\">\n",
       "      <th></th>\n",
       "      <th>booking_id</th>\n",
       "      <th>inmate_name</th>\n",
       "      <th>booking_dt</th>\n",
       "      <th>release_dt</th>\n",
       "      <th>booking_charge_desc</th>\n",
       "      <th>booking_charge_txt</th>\n",
       "      <th>charge_release_dt</th>\n",
       "      <th>title_txt</th>\n",
       "      <th>dob</th>\n",
       "      <th>cause_num</th>\n",
       "      <th>jurisdiction_cd</th>\n",
       "      <th>release_disposition_desc</th>\n",
       "      <th>post_flg</th>\n",
       "      <th>gender_desc</th>\n",
       "      <th>race_desc</th>\n",
       "    </tr>\n",
       "  </thead>\n",
       "  <tbody>\n",
       "    <tr>\n",
       "      <th>32785</th>\n",
       "      <td>2013172036</td>\n",
       "      <td>SMITH, JR, ROBERT LEON</td>\n",
       "      <td>2013-06-21 18:42:00.0</td>\n",
       "      <td>2017-01-26 08:00:00.0</td>\n",
       "      <td>DEST PROP /DV</td>\n",
       "      <td>NaN</td>\n",
       "      <td>2014-06-15 08:00:00.0</td>\n",
       "      <td>Report Criteria: 10/01/2016 to 09/30/2017, Dis...</td>\n",
       "      <td>1980-01-04 00:00:00.0</td>\n",
       "      <td>D39012</td>\n",
       "      <td>TACM</td>\n",
       "      <td>Time Served</td>\n",
       "      <td>N</td>\n",
       "      <td>MALE</td>\n",
       "      <td>BLACK</td>\n",
       "    </tr>\n",
       "    <tr>\n",
       "      <th>36812</th>\n",
       "      <td>2013172036</td>\n",
       "      <td>SMITH, JR, ROBERT LEON</td>\n",
       "      <td>2013-06-21 18:42:00.0</td>\n",
       "      <td>2017-01-26 08:00:00.0</td>\n",
       "      <td>MURDER 1</td>\n",
       "      <td>NaN</td>\n",
       "      <td>2017-01-26 09:00:00.0</td>\n",
       "      <td>Report Criteria: 10/01/2016 to 09/30/2017, Dis...</td>\n",
       "      <td>1980-01-04 00:00:00.0</td>\n",
       "      <td>13-1-02555-0</td>\n",
       "      <td>SUP</td>\n",
       "      <td>WSI Chain</td>\n",
       "      <td>N</td>\n",
       "      <td>MALE</td>\n",
       "      <td>BLACK</td>\n",
       "    </tr>\n",
       "    <tr>\n",
       "      <th>11740</th>\n",
       "      <td>2013172036</td>\n",
       "      <td>SMITH, JR, ROBERT LEON</td>\n",
       "      <td>2013-06-21 18:42:00.0</td>\n",
       "      <td>2017-01-26 08:00:00.0</td>\n",
       "      <td>ROBBERY 1</td>\n",
       "      <td>ATTEMPTED</td>\n",
       "      <td>2017-01-20 20:00:00.0</td>\n",
       "      <td>Report Criteria: 10/01/2016 to 09/30/2017, Dis...</td>\n",
       "      <td>1980-01-04 00:00:00.0</td>\n",
       "      <td>13-1-02555-0</td>\n",
       "      <td>SUP</td>\n",
       "      <td>Dismissed</td>\n",
       "      <td>N</td>\n",
       "      <td>MALE</td>\n",
       "      <td>BLACK</td>\n",
       "    </tr>\n",
       "    <tr>\n",
       "      <th>36813</th>\n",
       "      <td>2013172036</td>\n",
       "      <td>SMITH, JR, ROBERT LEON</td>\n",
       "      <td>2013-06-21 18:42:00.0</td>\n",
       "      <td>2017-01-26 08:00:00.0</td>\n",
       "      <td>BURGLARY 1</td>\n",
       "      <td>NaN</td>\n",
       "      <td>2017-01-26 09:00:00.0</td>\n",
       "      <td>Report Criteria: 10/01/2016 to 09/30/2017, Dis...</td>\n",
       "      <td>1980-01-04 00:00:00.0</td>\n",
       "      <td>13-1-02555-0</td>\n",
       "      <td>SUP</td>\n",
       "      <td>WSI Chain</td>\n",
       "      <td>N</td>\n",
       "      <td>MALE</td>\n",
       "      <td>BLACK</td>\n",
       "    </tr>\n",
       "    <tr>\n",
       "      <th>18749</th>\n",
       "      <td>2013172036</td>\n",
       "      <td>SMITH, JR, ROBERT LEON</td>\n",
       "      <td>2013-06-21 18:42:00.0</td>\n",
       "      <td>2017-01-26 08:00:00.0</td>\n",
       "      <td>UNL POSS FIREARM 1</td>\n",
       "      <td>NaN</td>\n",
       "      <td>2013-06-24 22:00:00.0</td>\n",
       "      <td>Report Criteria: 10/01/2016 to 09/30/2017, Dis...</td>\n",
       "      <td>1980-01-04 00:00:00.0</td>\n",
       "      <td>NaN</td>\n",
       "      <td>SUP</td>\n",
       "      <td>NCF Final</td>\n",
       "      <td>N</td>\n",
       "      <td>MALE</td>\n",
       "      <td>BLACK</td>\n",
       "    </tr>\n",
       "  </tbody>\n",
       "</table>\n",
       "</div>"
      ],
      "text/plain": [
       "       booking_id             inmate_name             booking_dt  \\\n",
       "32785  2013172036  SMITH, JR, ROBERT LEON  2013-06-21 18:42:00.0   \n",
       "36812  2013172036  SMITH, JR, ROBERT LEON  2013-06-21 18:42:00.0   \n",
       "11740  2013172036  SMITH, JR, ROBERT LEON  2013-06-21 18:42:00.0   \n",
       "36813  2013172036  SMITH, JR, ROBERT LEON  2013-06-21 18:42:00.0   \n",
       "18749  2013172036  SMITH, JR, ROBERT LEON  2013-06-21 18:42:00.0   \n",
       "\n",
       "                  release_dt booking_charge_desc booking_charge_txt  \\\n",
       "32785  2017-01-26 08:00:00.0       DEST PROP /DV                NaN   \n",
       "36812  2017-01-26 08:00:00.0            MURDER 1                NaN   \n",
       "11740  2017-01-26 08:00:00.0           ROBBERY 1          ATTEMPTED   \n",
       "36813  2017-01-26 08:00:00.0          BURGLARY 1                NaN   \n",
       "18749  2017-01-26 08:00:00.0  UNL POSS FIREARM 1                NaN   \n",
       "\n",
       "           charge_release_dt  \\\n",
       "32785  2014-06-15 08:00:00.0   \n",
       "36812  2017-01-26 09:00:00.0   \n",
       "11740  2017-01-20 20:00:00.0   \n",
       "36813  2017-01-26 09:00:00.0   \n",
       "18749  2013-06-24 22:00:00.0   \n",
       "\n",
       "                                               title_txt  \\\n",
       "32785  Report Criteria: 10/01/2016 to 09/30/2017, Dis...   \n",
       "36812  Report Criteria: 10/01/2016 to 09/30/2017, Dis...   \n",
       "11740  Report Criteria: 10/01/2016 to 09/30/2017, Dis...   \n",
       "36813  Report Criteria: 10/01/2016 to 09/30/2017, Dis...   \n",
       "18749  Report Criteria: 10/01/2016 to 09/30/2017, Dis...   \n",
       "\n",
       "                         dob     cause_num jurisdiction_cd  \\\n",
       "32785  1980-01-04 00:00:00.0        D39012            TACM   \n",
       "36812  1980-01-04 00:00:00.0  13-1-02555-0             SUP   \n",
       "11740  1980-01-04 00:00:00.0  13-1-02555-0             SUP   \n",
       "36813  1980-01-04 00:00:00.0  13-1-02555-0             SUP   \n",
       "18749  1980-01-04 00:00:00.0           NaN             SUP   \n",
       "\n",
       "      release_disposition_desc post_flg gender_desc race_desc  \n",
       "32785              Time Served        N        MALE     BLACK  \n",
       "36812                WSI Chain        N        MALE     BLACK  \n",
       "11740                Dismissed        N        MALE     BLACK  \n",
       "36813                WSI Chain        N        MALE     BLACK  \n",
       "18749                NCF Final        N        MALE     BLACK  "
      ]
     },
     "execution_count": 157,
     "metadata": {},
     "output_type": "execute_result"
    }
   ],
   "source": [
    "df.head()"
   ]
  },
  {
   "cell_type": "code",
   "execution_count": 158,
   "metadata": {
    "collapsed": true
   },
   "outputs": [],
   "source": [
    "charge_desc_txt = df[['booking_charge_desc', 'booking_charge_txt']].drop_duplicates()\n",
    "charge_desc_txt.dropna(subset=['booking_charge_txt'], inplace=True)"
   ]
  },
  {
   "cell_type": "code",
   "execution_count": 159,
   "metadata": {},
   "outputs": [
    {
     "name": "stdout",
     "output_type": "stream",
     "text": [
      "2013-06-24 22:00:00.0\n",
      "2017-12-05 08:00:00.0\n"
     ]
    }
   ],
   "source": [
    "print(df['charge_release_dt'].min())\n",
    "print(df['charge_release_dt'].max())"
   ]
  },
  {
   "cell_type": "code",
   "execution_count": 160,
   "metadata": {},
   "outputs": [
    {
     "name": "stdout",
     "output_type": "stream",
     "text": [
      "2016-10-01 01:00:00.0\n",
      "2017-09-30 22:10:00.0\n"
     ]
    }
   ],
   "source": [
    "print(df['release_dt'].min())\n",
    "print(df['release_dt'].max())"
   ]
  },
  {
   "cell_type": "code",
   "execution_count": 161,
   "metadata": {},
   "outputs": [
    {
     "name": "stdout",
     "output_type": "stream",
     "text": [
      "2013-06-21 18:42:00.0\n",
      "2017-09-30 19:11:00.0\n"
     ]
    }
   ],
   "source": [
    "print(df['booking_dt'].min())\n",
    "print(df['booking_dt'].max())"
   ]
  },
  {
   "cell_type": "code",
   "execution_count": 162,
   "metadata": {
    "collapsed": true
   },
   "outputs": [],
   "source": [
    "# charge_desc_txt.to_csv('../output/charge_desc_text.csv')"
   ]
  },
  {
   "cell_type": "markdown",
   "metadata": {},
   "source": [
    "# Calculating time detained\n",
    "\n",
    "Fields `release_dt` and `booking_dt` are consistent for each `booking_id`; `charge_release_date` varies by charge within `booking_id`."
   ]
  },
  {
   "cell_type": "code",
   "execution_count": 163,
   "metadata": {
    "collapsed": true
   },
   "outputs": [],
   "source": [
    "booking_dates = df.groupby('booking_id')['booking_dt'].nunique()\n",
    "release_dates = df.groupby('booking_id')['release_dt'].nunique()\n",
    "assert len(booking_dates) == sum(booking_dates == 1)\n",
    "assert len(release_dates) == sum(release_dates == 1)\n",
    "del booking_dates, release_dates"
   ]
  },
  {
   "cell_type": "code",
   "execution_count": 164,
   "metadata": {
    "collapsed": true
   },
   "outputs": [],
   "source": [
    "charge_dates = df.groupby('booking_id')['charge_release_dt'].nunique()\n",
    "assert len(charge_dates) != sum(charge_dates == 1)\n",
    "del charge_dates"
   ]
  },
  {
   "cell_type": "code",
   "execution_count": 165,
   "metadata": {
    "collapsed": true
   },
   "outputs": [],
   "source": [
    "df['release_dt'] = pd.to_datetime(df['release_dt'])\n",
    "df['booking_dt'] = pd.to_datetime(df['booking_dt'])\n",
    "df['charge_release_dt'] = pd.to_datetime(df['charge_release_dt'])"
   ]
  },
  {
   "cell_type": "code",
   "execution_count": 166,
   "metadata": {
    "collapsed": true
   },
   "outputs": [],
   "source": [
    "df['time_detained'] = df['release_dt'] - df['booking_dt']"
   ]
  },
  {
   "cell_type": "code",
   "execution_count": 167,
   "metadata": {
    "collapsed": true
   },
   "outputs": [],
   "source": [
    "# Express as a time delta in days\n",
    "df['time_detained'] = df['time_detained'] / np.timedelta64(1,'D')"
   ]
  },
  {
   "cell_type": "code",
   "execution_count": 168,
   "metadata": {},
   "outputs": [
    {
     "name": "stdout",
     "output_type": "stream",
     "text": [
      "count    40010.000000\n",
      "mean        42.665201\n",
      "std         87.084736\n",
      "min          0.004861\n",
      "25%          1.604167\n",
      "50%          8.794097\n",
      "75%         42.140104\n",
      "max       1314.554167\n",
      "Name: time_detained, dtype: float64\n"
     ]
    }
   ],
   "source": [
    "print(df['time_detained'].describe())"
   ]
  },
  {
   "cell_type": "markdown",
   "metadata": {},
   "source": [
    "# Demographic dummy variables\n",
    "\n",
    "Nice function to create dummy variables for race and gender, which we merge on to table."
   ]
  },
  {
   "cell_type": "code",
   "execution_count": 169,
   "metadata": {
    "collapsed": true
   },
   "outputs": [],
   "source": [
    "race_vars = pd.get_dummies(df['race_desc'])\n",
    "gender_vars = pd.get_dummies(df['gender_desc'])"
   ]
  },
  {
   "cell_type": "code",
   "execution_count": 170,
   "metadata": {
    "collapsed": true
   },
   "outputs": [],
   "source": [
    "race_vars.columns = race_vars.columns.str.replace(' ', '_')\n",
    "race_vars.columns = race_vars.columns.str.replace('/', '_')\n",
    "race_vars.columns = race_vars.columns.str.lower()\n",
    "gender_vars.columns = gender_vars.columns.str.lower()"
   ]
  },
  {
   "cell_type": "code",
   "execution_count": 171,
   "metadata": {
    "collapsed": true
   },
   "outputs": [],
   "source": [
    "race_cols = race_vars.columns.tolist()\n",
    "gender_cols = gender_vars.columns.tolist()"
   ]
  },
  {
   "cell_type": "code",
   "execution_count": 172,
   "metadata": {
    "collapsed": true
   },
   "outputs": [],
   "source": [
    "df = pd.concat([df, race_vars], axis=1)\n",
    "df = pd.concat([df, gender_vars], axis=1)"
   ]
  },
  {
   "cell_type": "markdown",
   "metadata": {},
   "source": [
    "Race and gender percentages (dropping duplicate booking IDs)"
   ]
  },
  {
   "cell_type": "code",
   "execution_count": 173,
   "metadata": {
    "scrolled": false
   },
   "outputs": [
    {
     "data": {
      "text/plain": [
       "amer_indian_alaskan      3.036974\n",
       "asian_pacific_island     5.769122\n",
       "black                   23.951454\n",
       "hispanic                 8.399661\n",
       "unknown                  0.191928\n",
       "white                   58.650861\n",
       "dtype: float64"
      ]
     },
     "execution_count": 173,
     "metadata": {},
     "output_type": "execute_result"
    }
   ],
   "source": [
    "df.drop_duplicates(subset='booking_id')[race_cols].sum()/len(df.drop_duplicates(subset='booking_id'))*100"
   ]
  },
  {
   "cell_type": "code",
   "execution_count": 174,
   "metadata": {},
   "outputs": [
    {
     "data": {
      "text/plain": [
       "female    23.827265\n",
       "male      76.172735\n",
       "dtype: float64"
      ]
     },
     "execution_count": 174,
     "metadata": {},
     "output_type": "execute_result"
    }
   ],
   "source": [
    "df.drop_duplicates(subset='booking_id')[gender_cols].sum()/len(df.drop_duplicates(subset='booking_id'))*100"
   ]
  },
  {
   "cell_type": "code",
   "execution_count": 175,
   "metadata": {},
   "outputs": [
    {
     "name": "stdout",
     "output_type": "stream",
     "text": [
      "Dropped 65 records with unknown race.\n"
     ]
    }
   ],
   "source": [
    "# Drop records where race is unknown\n",
    "predrop = len(df)\n",
    "df = df[df['unknown'] == 0]\n",
    "df.drop('unknown', axis=1, inplace=True)\n",
    "postdrop = len(df)\n",
    "print(f'Dropped {predrop - postdrop} records with unknown race.')"
   ]
  },
  {
   "cell_type": "markdown",
   "metadata": {},
   "source": [
    "# Get seriousness"
   ]
  },
  {
   "cell_type": "code",
   "execution_count": 176,
   "metadata": {
    "collapsed": true
   },
   "outputs": [],
   "source": [
    "booking_charges = pd.read_csv('../hand/booking_charges.csv')\n",
    "fugitive_charges = pd.read_csv('../hand/fugitive.csv')"
   ]
  },
  {
   "cell_type": "code",
   "execution_count": 177,
   "metadata": {
    "collapsed": true
   },
   "outputs": [],
   "source": [
    "booking_charges = booking_charges[['booking_charge_desc', 'category', 'type']]"
   ]
  },
  {
   "cell_type": "code",
   "execution_count": 178,
   "metadata": {
    "collapsed": true
   },
   "outputs": [],
   "source": [
    "seriousness = {'class A felony': 6,\n",
    "               'class A/B felony': 6,\n",
    "               'class B felony': 5,\n",
    "               'class C felony': 4,\n",
    "               'class c felony': 4,\n",
    "               'class B/C felony': 5,\n",
    "               'gross misdemeanor/class B felony': 5,\n",
    "               'gross misdemeanor/class C felony': 4,\n",
    "               'gross misdemeanor': 3,                                             \n",
    "               'gross misdemeanor ': 3,\n",
    "               'misdemeanor': 2,\n",
    "               'civil infraction': 1,\n",
    "               'other': 0\n",
    "            }"
   ]
  },
  {
   "cell_type": "code",
   "execution_count": 179,
   "metadata": {
    "collapsed": true
   },
   "outputs": [],
   "source": [
    "booking_charges['seriousness'] = booking_charges['category'].replace(to_replace=seriousness)\n",
    "fugitive_charges['seriousness'] = fugitive_charges['category'].replace(to_replace=seriousness)"
   ]
  },
  {
   "cell_type": "code",
   "execution_count": 180,
   "metadata": {
    "collapsed": true
   },
   "outputs": [],
   "source": [
    "fugitive_mask = df['booking_charge_desc'] == 'FUGITIVE'"
   ]
  },
  {
   "cell_type": "code",
   "execution_count": 181,
   "metadata": {
    "collapsed": true
   },
   "outputs": [],
   "source": [
    "fugitive_df = df[fugitive_mask]\n",
    "non_fugitive_df = df[~fugitive_mask]"
   ]
  },
  {
   "cell_type": "code",
   "execution_count": 182,
   "metadata": {
    "collapsed": true
   },
   "outputs": [],
   "source": [
    "premerge = len(fugitive_df)\n",
    "fugitive_df = pd.merge(fugitive_df, fugitive_charges, on=['booking_charge_desc', 'booking_charge_txt'], how='left')\n",
    "postmerge = len(fugitive_df)\n",
    "assert premerge == postmerge\n",
    "del premerge, postmerge\n",
    "\n",
    "premerge = len(non_fugitive_df)\n",
    "non_fugitive_df = pd.merge(non_fugitive_df, booking_charges, on='booking_charge_desc', how='left')\n",
    "postmerge = len(non_fugitive_df)\n",
    "assert premerge == postmerge\n",
    "del premerge, postmerge"
   ]
  },
  {
   "cell_type": "code",
   "execution_count": 183,
   "metadata": {
    "collapsed": true
   },
   "outputs": [],
   "source": [
    "preconcat = len(df)\n",
    "df = pd.concat([non_fugitive_df, fugitive_df])\n",
    "postconcat = len(df)\n",
    "assert preconcat == postconcat\n",
    "del preconcat, postconcat\n",
    "\n",
    "df.reset_index(inplace=True, drop=True)\n",
    "df = df.sort_values(by=['booking_id'])"
   ]
  },
  {
   "cell_type": "code",
   "execution_count": 184,
   "metadata": {
    "collapsed": true
   },
   "outputs": [],
   "source": [
    "df['type'] = df['type'].str.strip()\n",
    "df['type'] = df['type'].str.replace(' ', '_')"
   ]
  },
  {
   "cell_type": "code",
   "execution_count": 185,
   "metadata": {},
   "outputs": [
    {
     "name": "stdout",
     "output_type": "stream",
     "text": [
      "Dropped 138 records with null seriousness.\n",
      "Dropped 29 bookings.\n"
     ]
    }
   ],
   "source": [
    "predrop = len(df)\n",
    "predropbookingset = len(set(df['booking_id']))\n",
    "df = df.dropna(subset=['seriousness'])\n",
    "postdrop = len(df)\n",
    "postdropbookingset = len(set(df['booking_id']))\n",
    "print(f'Dropped {predrop - postdrop} records with null seriousness.')\n",
    "print(f'Dropped {predropbookingset - postdropbookingset} bookings.')\n",
    "\n",
    "del predrop, postdrop, predropbookingset, postdropbookingset"
   ]
  },
  {
   "cell_type": "code",
   "execution_count": 186,
   "metadata": {},
   "outputs": [
    {
     "name": "stdout",
     "output_type": "stream",
     "text": [
      "<class 'pandas.core.frame.DataFrame'>\n",
      "Int64Index: 39807 entries, 0 to 39751\n",
      "Data columns (total 26 columns):\n",
      "booking_id                  39807 non-null int64\n",
      "inmate_name                 39807 non-null object\n",
      "booking_dt                  39807 non-null datetime64[ns]\n",
      "release_dt                  39807 non-null datetime64[ns]\n",
      "booking_charge_desc         39807 non-null object\n",
      "booking_charge_txt          3004 non-null object\n",
      "charge_release_dt           39807 non-null datetime64[ns]\n",
      "title_txt                   39807 non-null object\n",
      "dob                         39807 non-null object\n",
      "cause_num                   31584 non-null object\n",
      "jurisdiction_cd             39807 non-null object\n",
      "release_disposition_desc    39807 non-null object\n",
      "post_flg                    39807 non-null object\n",
      "gender_desc                 39807 non-null object\n",
      "race_desc                   39807 non-null object\n",
      "time_detained               39807 non-null float64\n",
      "amer_indian_alaskan         39807 non-null uint8\n",
      "asian_pacific_island        39807 non-null uint8\n",
      "black                       39807 non-null uint8\n",
      "hispanic                    39807 non-null uint8\n",
      "white                       39807 non-null uint8\n",
      "female                      39807 non-null uint8\n",
      "male                        39807 non-null uint8\n",
      "category                    39807 non-null object\n",
      "type                        39807 non-null object\n",
      "seriousness                 39807 non-null float64\n",
      "dtypes: datetime64[ns](3), float64(2), int64(1), object(13), uint8(7)\n",
      "memory usage: 6.3+ MB\n"
     ]
    }
   ],
   "source": [
    "df.info()"
   ]
  },
  {
   "cell_type": "code",
   "execution_count": 187,
   "metadata": {
    "collapsed": true
   },
   "outputs": [],
   "source": [
    "max_seriousness = df.groupby('booking_id')['seriousness'].max()"
   ]
  },
  {
   "cell_type": "code",
   "execution_count": 188,
   "metadata": {
    "collapsed": true
   },
   "outputs": [],
   "source": [
    "max_id = df.groupby('booking_id')['seriousness'].idxmax()"
   ]
  },
  {
   "cell_type": "code",
   "execution_count": 189,
   "metadata": {},
   "outputs": [
    {
     "data": {
      "text/html": [
       "<div>\n",
       "<style>\n",
       "    .dataframe thead tr:only-child th {\n",
       "        text-align: right;\n",
       "    }\n",
       "\n",
       "    .dataframe thead th {\n",
       "        text-align: left;\n",
       "    }\n",
       "\n",
       "    .dataframe tbody tr th {\n",
       "        vertical-align: top;\n",
       "    }\n",
       "</style>\n",
       "<table border=\"1\" class=\"dataframe\">\n",
       "  <thead>\n",
       "    <tr style=\"text-align: right;\">\n",
       "      <th></th>\n",
       "      <th>booking_id</th>\n",
       "      <th>inmate_name</th>\n",
       "      <th>booking_dt</th>\n",
       "      <th>release_dt</th>\n",
       "      <th>booking_charge_desc</th>\n",
       "      <th>booking_charge_txt</th>\n",
       "      <th>charge_release_dt</th>\n",
       "      <th>title_txt</th>\n",
       "      <th>dob</th>\n",
       "      <th>cause_num</th>\n",
       "      <th>...</th>\n",
       "      <th>amer_indian_alaskan</th>\n",
       "      <th>asian_pacific_island</th>\n",
       "      <th>black</th>\n",
       "      <th>hispanic</th>\n",
       "      <th>white</th>\n",
       "      <th>female</th>\n",
       "      <th>male</th>\n",
       "      <th>category</th>\n",
       "      <th>type</th>\n",
       "      <th>seriousness</th>\n",
       "    </tr>\n",
       "  </thead>\n",
       "  <tbody>\n",
       "    <tr>\n",
       "      <th>0</th>\n",
       "      <td>2013172036</td>\n",
       "      <td>SMITH, JR, ROBERT LEON</td>\n",
       "      <td>2013-06-21 18:42:00</td>\n",
       "      <td>2017-01-26 08:00:00</td>\n",
       "      <td>DEST PROP /DV</td>\n",
       "      <td>NaN</td>\n",
       "      <td>2014-06-15 08:00:00</td>\n",
       "      <td>Report Criteria: 10/01/2016 to 09/30/2017, Dis...</td>\n",
       "      <td>1980-01-04 00:00:00.0</td>\n",
       "      <td>D39012</td>\n",
       "      <td>...</td>\n",
       "      <td>0</td>\n",
       "      <td>0</td>\n",
       "      <td>1</td>\n",
       "      <td>0</td>\n",
       "      <td>0</td>\n",
       "      <td>0</td>\n",
       "      <td>1</td>\n",
       "      <td>gross misdemeanor</td>\n",
       "      <td>public_order</td>\n",
       "      <td>3.0</td>\n",
       "    </tr>\n",
       "    <tr>\n",
       "      <th>1</th>\n",
       "      <td>2013172036</td>\n",
       "      <td>SMITH, JR, ROBERT LEON</td>\n",
       "      <td>2013-06-21 18:42:00</td>\n",
       "      <td>2017-01-26 08:00:00</td>\n",
       "      <td>MURDER 1</td>\n",
       "      <td>NaN</td>\n",
       "      <td>2017-01-26 09:00:00</td>\n",
       "      <td>Report Criteria: 10/01/2016 to 09/30/2017, Dis...</td>\n",
       "      <td>1980-01-04 00:00:00.0</td>\n",
       "      <td>13-1-02555-0</td>\n",
       "      <td>...</td>\n",
       "      <td>0</td>\n",
       "      <td>0</td>\n",
       "      <td>1</td>\n",
       "      <td>0</td>\n",
       "      <td>0</td>\n",
       "      <td>0</td>\n",
       "      <td>1</td>\n",
       "      <td>class A felony</td>\n",
       "      <td>violent</td>\n",
       "      <td>6.0</td>\n",
       "    </tr>\n",
       "    <tr>\n",
       "      <th>2</th>\n",
       "      <td>2013172036</td>\n",
       "      <td>SMITH, JR, ROBERT LEON</td>\n",
       "      <td>2013-06-21 18:42:00</td>\n",
       "      <td>2017-01-26 08:00:00</td>\n",
       "      <td>ROBBERY 1</td>\n",
       "      <td>ATTEMPTED</td>\n",
       "      <td>2017-01-20 20:00:00</td>\n",
       "      <td>Report Criteria: 10/01/2016 to 09/30/2017, Dis...</td>\n",
       "      <td>1980-01-04 00:00:00.0</td>\n",
       "      <td>13-1-02555-0</td>\n",
       "      <td>...</td>\n",
       "      <td>0</td>\n",
       "      <td>0</td>\n",
       "      <td>1</td>\n",
       "      <td>0</td>\n",
       "      <td>0</td>\n",
       "      <td>0</td>\n",
       "      <td>1</td>\n",
       "      <td>class A felony</td>\n",
       "      <td>violent</td>\n",
       "      <td>6.0</td>\n",
       "    </tr>\n",
       "    <tr>\n",
       "      <th>3</th>\n",
       "      <td>2013172036</td>\n",
       "      <td>SMITH, JR, ROBERT LEON</td>\n",
       "      <td>2013-06-21 18:42:00</td>\n",
       "      <td>2017-01-26 08:00:00</td>\n",
       "      <td>BURGLARY 1</td>\n",
       "      <td>NaN</td>\n",
       "      <td>2017-01-26 09:00:00</td>\n",
       "      <td>Report Criteria: 10/01/2016 to 09/30/2017, Dis...</td>\n",
       "      <td>1980-01-04 00:00:00.0</td>\n",
       "      <td>13-1-02555-0</td>\n",
       "      <td>...</td>\n",
       "      <td>0</td>\n",
       "      <td>0</td>\n",
       "      <td>1</td>\n",
       "      <td>0</td>\n",
       "      <td>0</td>\n",
       "      <td>0</td>\n",
       "      <td>1</td>\n",
       "      <td>class A felony</td>\n",
       "      <td>property</td>\n",
       "      <td>6.0</td>\n",
       "    </tr>\n",
       "    <tr>\n",
       "      <th>4</th>\n",
       "      <td>2013172036</td>\n",
       "      <td>SMITH, JR, ROBERT LEON</td>\n",
       "      <td>2013-06-21 18:42:00</td>\n",
       "      <td>2017-01-26 08:00:00</td>\n",
       "      <td>UNL POSS FIREARM 1</td>\n",
       "      <td>NaN</td>\n",
       "      <td>2013-06-24 22:00:00</td>\n",
       "      <td>Report Criteria: 10/01/2016 to 09/30/2017, Dis...</td>\n",
       "      <td>1980-01-04 00:00:00.0</td>\n",
       "      <td>NaN</td>\n",
       "      <td>...</td>\n",
       "      <td>0</td>\n",
       "      <td>0</td>\n",
       "      <td>1</td>\n",
       "      <td>0</td>\n",
       "      <td>0</td>\n",
       "      <td>0</td>\n",
       "      <td>1</td>\n",
       "      <td>class B felony</td>\n",
       "      <td>public_order</td>\n",
       "      <td>5.0</td>\n",
       "    </tr>\n",
       "  </tbody>\n",
       "</table>\n",
       "<p>5 rows × 26 columns</p>\n",
       "</div>"
      ],
      "text/plain": [
       "   booking_id             inmate_name          booking_dt          release_dt  \\\n",
       "0  2013172036  SMITH, JR, ROBERT LEON 2013-06-21 18:42:00 2017-01-26 08:00:00   \n",
       "1  2013172036  SMITH, JR, ROBERT LEON 2013-06-21 18:42:00 2017-01-26 08:00:00   \n",
       "2  2013172036  SMITH, JR, ROBERT LEON 2013-06-21 18:42:00 2017-01-26 08:00:00   \n",
       "3  2013172036  SMITH, JR, ROBERT LEON 2013-06-21 18:42:00 2017-01-26 08:00:00   \n",
       "4  2013172036  SMITH, JR, ROBERT LEON 2013-06-21 18:42:00 2017-01-26 08:00:00   \n",
       "\n",
       "  booking_charge_desc booking_charge_txt   charge_release_dt  \\\n",
       "0       DEST PROP /DV                NaN 2014-06-15 08:00:00   \n",
       "1            MURDER 1                NaN 2017-01-26 09:00:00   \n",
       "2           ROBBERY 1          ATTEMPTED 2017-01-20 20:00:00   \n",
       "3          BURGLARY 1                NaN 2017-01-26 09:00:00   \n",
       "4  UNL POSS FIREARM 1                NaN 2013-06-24 22:00:00   \n",
       "\n",
       "                                           title_txt                    dob  \\\n",
       "0  Report Criteria: 10/01/2016 to 09/30/2017, Dis...  1980-01-04 00:00:00.0   \n",
       "1  Report Criteria: 10/01/2016 to 09/30/2017, Dis...  1980-01-04 00:00:00.0   \n",
       "2  Report Criteria: 10/01/2016 to 09/30/2017, Dis...  1980-01-04 00:00:00.0   \n",
       "3  Report Criteria: 10/01/2016 to 09/30/2017, Dis...  1980-01-04 00:00:00.0   \n",
       "4  Report Criteria: 10/01/2016 to 09/30/2017, Dis...  1980-01-04 00:00:00.0   \n",
       "\n",
       "      cause_num     ...      amer_indian_alaskan asian_pacific_island black  \\\n",
       "0        D39012     ...                        0                    0     1   \n",
       "1  13-1-02555-0     ...                        0                    0     1   \n",
       "2  13-1-02555-0     ...                        0                    0     1   \n",
       "3  13-1-02555-0     ...                        0                    0     1   \n",
       "4           NaN     ...                        0                    0     1   \n",
       "\n",
       "  hispanic white  female  male           category          type  seriousness  \n",
       "0        0     0       0     1  gross misdemeanor  public_order          3.0  \n",
       "1        0     0       0     1     class A felony       violent          6.0  \n",
       "2        0     0       0     1     class A felony       violent          6.0  \n",
       "3        0     0       0     1     class A felony      property          6.0  \n",
       "4        0     0       0     1     class B felony  public_order          5.0  \n",
       "\n",
       "[5 rows x 26 columns]"
      ]
     },
     "execution_count": 189,
     "metadata": {},
     "output_type": "execute_result"
    }
   ],
   "source": [
    "df.head()"
   ]
  },
  {
   "cell_type": "code",
   "execution_count": 190,
   "metadata": {
    "collapsed": true
   },
   "outputs": [],
   "source": [
    "max_type = []\n",
    "max_charge_desc = []\n",
    "for i in max_id:\n",
    "    charge_type = df.loc[i,:]['type']\n",
    "    charge_desc = df.loc[i,:]['booking_charge_desc']\n",
    "    max_type.append(charge_type)\n",
    "    max_charge_desc.append(charge_desc)"
   ]
  },
  {
   "cell_type": "code",
   "execution_count": 191,
   "metadata": {
    "collapsed": true
   },
   "outputs": [],
   "source": [
    "seriousness_type = max_seriousness.to_frame(name='max_seriousness')\n",
    "seriousness_type['max_charge_type'] = max_type\n",
    "seriousness_type['max_charge_desc'] = max_charge_desc"
   ]
  },
  {
   "cell_type": "code",
   "execution_count": 192,
   "metadata": {
    "collapsed": true
   },
   "outputs": [],
   "source": [
    "seriousness_type.reset_index(inplace=True)"
   ]
  },
  {
   "cell_type": "code",
   "execution_count": 193,
   "metadata": {},
   "outputs": [
    {
     "data": {
      "text/html": [
       "<div>\n",
       "<style>\n",
       "    .dataframe thead tr:only-child th {\n",
       "        text-align: right;\n",
       "    }\n",
       "\n",
       "    .dataframe thead th {\n",
       "        text-align: left;\n",
       "    }\n",
       "\n",
       "    .dataframe tbody tr th {\n",
       "        vertical-align: top;\n",
       "    }\n",
       "</style>\n",
       "<table border=\"1\" class=\"dataframe\">\n",
       "  <thead>\n",
       "    <tr style=\"text-align: right;\">\n",
       "      <th></th>\n",
       "      <th>booking_id</th>\n",
       "      <th>max_seriousness</th>\n",
       "      <th>max_charge_type</th>\n",
       "      <th>max_charge_desc</th>\n",
       "    </tr>\n",
       "  </thead>\n",
       "  <tbody>\n",
       "    <tr>\n",
       "      <th>0</th>\n",
       "      <td>2013172036</td>\n",
       "      <td>6.0</td>\n",
       "      <td>violent</td>\n",
       "      <td>MURDER 1</td>\n",
       "    </tr>\n",
       "    <tr>\n",
       "      <th>1</th>\n",
       "      <td>2013172043</td>\n",
       "      <td>6.0</td>\n",
       "      <td>property</td>\n",
       "      <td>BURGLARY 1</td>\n",
       "    </tr>\n",
       "    <tr>\n",
       "      <th>2</th>\n",
       "      <td>2013328017</td>\n",
       "      <td>6.0</td>\n",
       "      <td>violent</td>\n",
       "      <td>CONSP COM MURDER</td>\n",
       "    </tr>\n",
       "    <tr>\n",
       "      <th>3</th>\n",
       "      <td>2014308018</td>\n",
       "      <td>6.0</td>\n",
       "      <td>sex</td>\n",
       "      <td>RAPE 2</td>\n",
       "    </tr>\n",
       "    <tr>\n",
       "      <th>4</th>\n",
       "      <td>2015015043</td>\n",
       "      <td>0.0</td>\n",
       "      <td>other</td>\n",
       "      <td>HOLD MAT WITNESS</td>\n",
       "    </tr>\n",
       "  </tbody>\n",
       "</table>\n",
       "</div>"
      ],
      "text/plain": [
       "   booking_id  max_seriousness max_charge_type   max_charge_desc\n",
       "0  2013172036              6.0         violent          MURDER 1\n",
       "1  2013172043              6.0        property        BURGLARY 1\n",
       "2  2013328017              6.0         violent  CONSP COM MURDER\n",
       "3  2014308018              6.0             sex            RAPE 2\n",
       "4  2015015043              0.0           other  HOLD MAT WITNESS"
      ]
     },
     "execution_count": 193,
     "metadata": {},
     "output_type": "execute_result"
    }
   ],
   "source": [
    "seriousness_type.head()"
   ]
  },
  {
   "cell_type": "code",
   "execution_count": 194,
   "metadata": {
    "collapsed": true
   },
   "outputs": [],
   "source": [
    "max_type_dummies = pd.get_dummies(seriousness_type['max_charge_type'])"
   ]
  },
  {
   "cell_type": "code",
   "execution_count": 195,
   "metadata": {
    "collapsed": true
   },
   "outputs": [],
   "source": [
    "seriousness_type = pd.concat([seriousness_type, max_type_dummies], axis=1)"
   ]
  },
  {
   "cell_type": "code",
   "execution_count": 196,
   "metadata": {
    "collapsed": true
   },
   "outputs": [],
   "source": [
    "df = pd.merge(df, seriousness_type, on='booking_id', how='left')"
   ]
  },
  {
   "cell_type": "code",
   "execution_count": 197,
   "metadata": {},
   "outputs": [
    {
     "name": "stdout",
     "output_type": "stream",
     "text": [
      "<class 'pandas.core.frame.DataFrame'>\n",
      "Int64Index: 39807 entries, 0 to 39806\n",
      "Data columns (total 35 columns):\n",
      "booking_id                  39807 non-null int64\n",
      "inmate_name                 39807 non-null object\n",
      "booking_dt                  39807 non-null datetime64[ns]\n",
      "release_dt                  39807 non-null datetime64[ns]\n",
      "booking_charge_desc         39807 non-null object\n",
      "booking_charge_txt          3004 non-null object\n",
      "charge_release_dt           39807 non-null datetime64[ns]\n",
      "title_txt                   39807 non-null object\n",
      "dob                         39807 non-null object\n",
      "cause_num                   31584 non-null object\n",
      "jurisdiction_cd             39807 non-null object\n",
      "release_disposition_desc    39807 non-null object\n",
      "post_flg                    39807 non-null object\n",
      "gender_desc                 39807 non-null object\n",
      "race_desc                   39807 non-null object\n",
      "time_detained               39807 non-null float64\n",
      "amer_indian_alaskan         39807 non-null uint8\n",
      "asian_pacific_island        39807 non-null uint8\n",
      "black                       39807 non-null uint8\n",
      "hispanic                    39807 non-null uint8\n",
      "white                       39807 non-null uint8\n",
      "female                      39807 non-null uint8\n",
      "male                        39807 non-null uint8\n",
      "category                    39807 non-null object\n",
      "type                        39807 non-null object\n",
      "seriousness                 39807 non-null float64\n",
      "max_seriousness             39807 non-null float64\n",
      "max_charge_type             39807 non-null object\n",
      "max_charge_desc             39807 non-null object\n",
      "drug                        39807 non-null uint8\n",
      "other                       39807 non-null uint8\n",
      "property                    39807 non-null uint8\n",
      "public_order                39807 non-null uint8\n",
      "sex                         39807 non-null uint8\n",
      "violent                     39807 non-null uint8\n",
      "dtypes: datetime64[ns](3), float64(3), int64(1), object(15), uint8(13)\n",
      "memory usage: 7.5+ MB\n"
     ]
    }
   ],
   "source": [
    "df.info()"
   ]
  },
  {
   "cell_type": "code",
   "execution_count": 198,
   "metadata": {
    "collapsed": true
   },
   "outputs": [],
   "source": [
    "df.reset_index(inplace=True, drop=True)\n",
    "df = df.sort_values(by=['booking_id'])"
   ]
  },
  {
   "cell_type": "code",
   "execution_count": 199,
   "metadata": {},
   "outputs": [
    {
     "data": {
      "image/png": "[encoded data removed]",
      "text/plain": [
       "<matplotlib.figure.Figure at 0x11f1ddd30>"
      ]
     },
     "metadata": {},
     "output_type": "display_data"
    }
   ],
   "source": [
    "data = df.drop_duplicates(subset='booking_id')['max_seriousness']\n",
    "num_bins = 6\n",
    "# the histogram of the data\n",
    "n, bins, patches = plt.hist(data.dropna(), num_bins, facecolor='blue', alpha=0.5)\n",
    " \n",
    "plt.plot()\n",
    "plt.xlabel('Seriousness')\n",
    "plt.xticks(np.arange(0, 7, step=1))\n",
    "plt.ylabel('Count')\n",
    "plt.title('Seriousness')\n",
    " \n",
    "# Tweak spacing to prevent clipping of ylabel\n",
    "plt.subplots_adjust(left=0.15) \n",
    "plt.show()"
   ]
  },
  {
   "cell_type": "code",
   "execution_count": 200,
   "metadata": {
    "collapsed": true
   },
   "outputs": [],
   "source": [
    "# data = hold.drop_duplicates(subset='booking_id')['max_seriousness']\n",
    "# num_bins = 6\n",
    "# # the histogram of the data\n",
    "# n, bins, patches = plt.hist(data.dropna(), num_bins, facecolor='blue', alpha=0.5)\n",
    " \n",
    "# plt.plot()\n",
    "# plt.xlabel('Seriousness')\n",
    "# plt.xticks(np.arange(0, 7, step=1))\n",
    "# plt.ylabel('Count')\n",
    "# plt.title('Seriousness')\n",
    " \n",
    "# # Tweak spacing to prevent clipping of ylabel\n",
    "# plt.subplots_adjust(left=0.15) \n",
    "# plt.show()"
   ]
  },
  {
   "cell_type": "code",
   "execution_count": 201,
   "metadata": {
    "collapsed": true
   },
   "outputs": [],
   "source": [
    "felony_mask = df['max_seriousness'] > 3\n",
    "misdemeanor_mask = (df['max_seriousness'] > 1) & (df['max_seriousness'] <3 )\n",
    "no_charge_mask = df['max_seriousness'] == 0"
   ]
  },
  {
   "cell_type": "code",
   "execution_count": 202,
   "metadata": {},
   "outputs": [
    {
     "name": "stderr",
     "output_type": "stream",
     "text": [
      "/Users/philneff/anaconda3/lib/python3.6/site-packages/ipykernel_launcher.py:2: SettingWithCopyWarning: \n",
      "A value is trying to be set on a copy of a slice from a DataFrame\n",
      "\n",
      "See the caveats in the documentation: http://pandas.pydata.org/pandas-docs/stable/indexing.html#indexing-view-versus-copy\n",
      "  \n"
     ]
    }
   ],
   "source": [
    "df['felony'] = 0\n",
    "df['felony'][felony_mask] = 1"
   ]
  },
  {
   "cell_type": "code",
   "execution_count": 203,
   "metadata": {},
   "outputs": [
    {
     "name": "stderr",
     "output_type": "stream",
     "text": [
      "/Users/philneff/anaconda3/lib/python3.6/site-packages/ipykernel_launcher.py:2: SettingWithCopyWarning: \n",
      "A value is trying to be set on a copy of a slice from a DataFrame\n",
      "\n",
      "See the caveats in the documentation: http://pandas.pydata.org/pandas-docs/stable/indexing.html#indexing-view-versus-copy\n",
      "  \n"
     ]
    }
   ],
   "source": [
    "df['misdemeanor'] = 0\n",
    "df['misdemeanor'][misdemeanor_mask] = 1"
   ]
  },
  {
   "cell_type": "code",
   "execution_count": 204,
   "metadata": {},
   "outputs": [
    {
     "data": {
      "text/plain": [
       "1    10806\n",
       "0     6846\n",
       "Name: felony, dtype: int64"
      ]
     },
     "execution_count": 204,
     "metadata": {},
     "output_type": "execute_result"
    }
   ],
   "source": [
    "df.drop_duplicates(subset='booking_id')['felony'].value_counts()"
   ]
  },
  {
   "cell_type": "code",
   "execution_count": 205,
   "metadata": {},
   "outputs": [
    {
     "data": {
      "text/plain": [
       "0    16924\n",
       "1      728\n",
       "Name: misdemeanor, dtype: int64"
      ]
     },
     "execution_count": 205,
     "metadata": {},
     "output_type": "execute_result"
    }
   ],
   "source": [
    "df.drop_duplicates(subset='booking_id')['misdemeanor'].value_counts()"
   ]
  },
  {
   "cell_type": "code",
   "execution_count": 206,
   "metadata": {
    "collapsed": true
   },
   "outputs": [],
   "source": [
    "assert sum(df[df['felony'] == 1]['misdemeanor']) == 0\n",
    "assert sum(df[df['misdemeanor'] == 1]['felony']) == 0"
   ]
  },
  {
   "cell_type": "markdown",
   "metadata": {},
   "source": [
    "## Count charges\n",
    "\n",
    "As in Beckett and Evans 2015, we count charges with court cause numbers for each `booking_id`, and then add this to table."
   ]
  },
  {
   "cell_type": "code",
   "execution_count": 207,
   "metadata": {
    "collapsed": true
   },
   "outputs": [],
   "source": [
    "charge_counts = df.groupby('booking_id')['cause_num'].count()"
   ]
  },
  {
   "cell_type": "code",
   "execution_count": 208,
   "metadata": {
    "collapsed": true
   },
   "outputs": [],
   "source": [
    "df.set_index('booking_id', inplace=True)"
   ]
  },
  {
   "cell_type": "code",
   "execution_count": 209,
   "metadata": {
    "collapsed": true
   },
   "outputs": [],
   "source": [
    "df['charge_count'] = charge_counts"
   ]
  },
  {
   "cell_type": "code",
   "execution_count": 210,
   "metadata": {
    "collapsed": true
   },
   "outputs": [],
   "source": [
    "df.reset_index(inplace=True)"
   ]
  },
  {
   "cell_type": "code",
   "execution_count": 211,
   "metadata": {},
   "outputs": [
    {
     "data": {
      "text/plain": [
       "21"
      ]
     },
     "execution_count": 211,
     "metadata": {},
     "output_type": "execute_result"
    }
   ],
   "source": [
    "df['charge_count'].max()"
   ]
  },
  {
   "cell_type": "code",
   "execution_count": 212,
   "metadata": {},
   "outputs": [
    {
     "name": "stderr",
     "output_type": "stream",
     "text": [
      "/Users/philneff/anaconda3/lib/python3.6/site-packages/ipykernel_launcher.py:3: SettingWithCopyWarning: \n",
      "A value is trying to be set on a copy of a slice from a DataFrame\n",
      "\n",
      "See the caveats in the documentation: http://pandas.pydata.org/pandas-docs/stable/indexing.html#indexing-view-versus-copy\n",
      "  This is separate from the ipykernel package so we can avoid doing imports until\n"
     ]
    }
   ],
   "source": [
    "df['charge_topcount'] = df['charge_count'].copy()\n",
    "mask = df['charge_topcount'] >= 10\n",
    "df.loc[:, 'charge_topcount'][mask] = 10"
   ]
  },
  {
   "cell_type": "code",
   "execution_count": 213,
   "metadata": {},
   "outputs": [
    {
     "data": {
      "image/png": "[encoded data removed]",
      "text/plain": [
       "<matplotlib.figure.Figure at 0x11cb12d68>"
      ]
     },
     "metadata": {},
     "output_type": "display_data"
    }
   ],
   "source": [
    "data = df.drop_duplicates(subset='booking_id')['charge_count']\n",
    "num_bins = 22\n",
    "# the histogram of the data\n",
    "n, bins, patches = plt.hist(data, num_bins, facecolor='blue', alpha=0.5)\n",
    " \n",
    "plt.plot()\n",
    "plt.xlabel('Charges')\n",
    "plt.xticks(np.arange(0, 22, step=1))\n",
    "plt.ylabel('Count')\n",
    "plt.title('Raw charge counts (max charge == 21)')\n",
    " \n",
    "# Tweak spacing to prevent clipping of ylabel\n",
    "plt.subplots_adjust(left=0.15) \n",
    "plt.show()"
   ]
  },
  {
   "cell_type": "code",
   "execution_count": 214,
   "metadata": {},
   "outputs": [
    {
     "data": {
      "image/png": "[encoded data removed]",
      "text/plain": [
       "<matplotlib.figure.Figure at 0x11cb12b00>"
      ]
     },
     "metadata": {},
     "output_type": "display_data"
    }
   ],
   "source": [
    "data = df.drop_duplicates(subset='booking_id')['charge_topcount']\n",
    "num_bins = 10\n",
    "# the histogram of the data\n",
    "n, bins, patches = plt.hist(data, num_bins, facecolor='blue', alpha=0.5)\n",
    " \n",
    "# add a 'best fit' line\n",
    "plt.plot()\n",
    "plt.xlabel('Charges')\n",
    "plt.xticks(np.arange(0, 11, step=1))\n",
    "plt.ylabel('Count')\n",
    "plt.title('Topcounted charges (max charge == 10)')\n",
    " \n",
    "# Tweak spacing to prevent clipping of ylabel\n",
    "plt.subplots_adjust(left=0.15)\n",
    "plt.show()"
   ]
  },
  {
   "cell_type": "markdown",
   "metadata": {},
   "source": [
    "## Basic masking for immigration holds, release to immigration"
   ]
  },
  {
   "cell_type": "markdown",
   "metadata": {},
   "source": [
    "Doing some basic masking and birds-eye view calculations of average time detained for different subsets of data:"
   ]
  },
  {
   "cell_type": "code",
   "execution_count": 215,
   "metadata": {
    "collapsed": true
   },
   "outputs": [],
   "source": [
    "# Booking IDs of people released to immigration\n",
    "release_imm_ids = set(df[df['release_disposition_desc'] == \"Immigration\"]['booking_id'])"
   ]
  },
  {
   "cell_type": "code",
   "execution_count": 216,
   "metadata": {
    "collapsed": true
   },
   "outputs": [],
   "source": [
    "# Release jurisdiction == IMM. What does this mean?\n",
    "juris_imm_ids = set(df[df['jurisdiction_cd'] == \"IMM\"]['booking_id'])"
   ]
  },
  {
   "cell_type": "code",
   "execution_count": 217,
   "metadata": {
    "collapsed": true
   },
   "outputs": [],
   "source": [
    "# Immigration hold IDs\n",
    "hold_ids = set(df[df['booking_charge_desc'] == 'HOLD IMMIGRAT']['booking_id'])"
   ]
  },
  {
   "cell_type": "code",
   "execution_count": 218,
   "metadata": {
    "collapsed": true
   },
   "outputs": [],
   "source": [
    "# Booking IDs of people with canceled detainers\n",
    "cancel_detainer_ids = set(df[df['release_disposition_desc'] == 'Cancel Detainer']['booking_id'])"
   ]
  },
  {
   "cell_type": "code",
   "execution_count": 219,
   "metadata": {
    "collapsed": true
   },
   "outputs": [],
   "source": [
    "hold = df[df['booking_id'].isin(hold_ids)]\n",
    "no_hold = df[~df['booking_id'].isin(hold_ids)]\n",
    "release_imm = df[df['booking_id'].isin(release_imm_ids)]\n",
    "no_release_imm = df[~df['booking_id'].isin(release_imm_ids)]\n",
    "juris_imm = df[df['booking_id'].isin(juris_imm_ids)]"
   ]
  },
  {
   "cell_type": "code",
   "execution_count": 220,
   "metadata": {
    "collapsed": true
   },
   "outputs": [],
   "source": [
    "hold_release_imm = hold[hold['booking_id'].isin(release_imm_ids)]\n",
    "hold_no_release_imm = hold[~hold['booking_id'].isin(release_imm_ids)]"
   ]
  },
  {
   "cell_type": "code",
   "execution_count": 221,
   "metadata": {
    "collapsed": true
   },
   "outputs": [],
   "source": [
    "hold = hold.sort_values(by=['booking_id'])\n",
    "release_imm = release_imm.sort_values(by=['booking_id'])"
   ]
  },
  {
   "cell_type": "code",
   "execution_count": 222,
   "metadata": {
    "collapsed": true
   },
   "outputs": [],
   "source": [
    "#hold.to_csv('subsets/bookings_with_imm_hold.csv', index=False)\n",
    "#release_imm.to_csv('../output/released_to_imm.csv', index=False)"
   ]
  },
  {
   "cell_type": "code",
   "execution_count": 223,
   "metadata": {
    "scrolled": false
   },
   "outputs": [
    {
     "data": {
      "text/plain": [
       "5"
      ]
     },
     "execution_count": 223,
     "metadata": {},
     "output_type": "execute_result"
    }
   ],
   "source": [
    "# Cases with hold with \"Cancel Detainer\" release disp\n",
    "len(hold_ids.intersection(cancel_detainer_ids))"
   ]
  },
  {
   "cell_type": "code",
   "execution_count": 224,
   "metadata": {},
   "outputs": [
    {
     "data": {
      "text/plain": [
       "76"
      ]
     },
     "execution_count": 224,
     "metadata": {},
     "output_type": "execute_result"
    }
   ],
   "source": [
    "# Cases with holds released to immigration\n",
    "len(hold_ids.intersection(release_imm_ids))"
   ]
  },
  {
   "cell_type": "code",
   "execution_count": 225,
   "metadata": {},
   "outputs": [
    {
     "data": {
      "text/plain": [
       "111"
      ]
     },
     "execution_count": 225,
     "metadata": {},
     "output_type": "execute_result"
    }
   ],
   "source": [
    "# Cases with holds release jurisdiction == IMM\n",
    "len(hold_ids.intersection(juris_imm_ids))"
   ]
  },
  {
   "cell_type": "code",
   "execution_count": 226,
   "metadata": {},
   "outputs": [
    {
     "data": {
      "text/plain": [
       "5"
      ]
     },
     "execution_count": 226,
     "metadata": {},
     "output_type": "execute_result"
    }
   ],
   "source": [
    "# Canceled detainers release jurisdiction == IMM\n",
    "len(juris_imm_ids.intersection(cancel_detainer_ids))"
   ]
  },
  {
   "cell_type": "code",
   "execution_count": 227,
   "metadata": {},
   "outputs": [
    {
     "data": {
      "text/plain": [
       "Immigration               20.365535\n",
       "WSI Chain                 14.360313\n",
       "Dismissed                 13.838120\n",
       "Credit for Time Served     9.399478\n",
       "Time Served                6.266319\n",
       "Mini-Chain                 6.005222\n",
       "Court Order                4.699739\n",
       "PR                         3.916449\n",
       "NCF Final                  3.655352\n",
       "Suspended Sentence         3.394256\n",
       "NCF, Pending Inv           3.133159\n",
       "NCF TacM                   1.827676\n",
       "Police Department          1.305483\n",
       "No Charges Filed           1.305483\n",
       "Cancel Detainer            1.305483\n",
       "NCF Dist                   1.044386\n",
       "No Prob Cause              0.783290\n",
       "Not Guilty Verdict         0.783290\n",
       "US Marshall                0.522193\n",
       "Bail Bond                  0.522193\n",
       "FBI                        0.522193\n",
       "Cash Bail                  0.522193\n",
       "NCF, LAKEWOOD              0.522193\n",
       "Name: release_disposition_desc, dtype: float64"
      ]
     },
     "execution_count": 227,
     "metadata": {},
     "output_type": "execute_result"
    }
   ],
   "source": [
    "hold['release_disposition_desc'].value_counts() / len(hold) * 100"
   ]
  },
  {
   "cell_type": "code",
   "execution_count": 228,
   "metadata": {},
   "outputs": [
    {
     "data": {
      "text/plain": [
       "Bail Bond                         13.375101\n",
       "PR                                10.952719\n",
       "Time Served                        9.900061\n",
       "WSI Chain                          7.926644\n",
       "Dismissed                          7.893669\n",
       "Credit for Time Served             6.851157\n",
       "NCF Final                          5.869521\n",
       "Court Order                        5.230317\n",
       "Mini-Chain                         4.116782\n",
       "Probation/Parole Officer           3.807325\n",
       "NCF, Pending Inv                   3.193486\n",
       "PDC                                3.122463\n",
       "SIP                                2.432528\n",
       "No Charges Filed                   2.369115\n",
       "Police Department                  1.585329\n",
       "Cash Bail                          1.519379\n",
       "Suspended Sentence                 1.412845\n",
       "NCF Dist                           1.341822\n",
       "Drug Court                         1.278409\n",
       "NCF TacM                           1.128754\n",
       "Cancel Detainer                    1.078024\n",
       "Administrative Booking             1.032366\n",
       "No Prob Cause                      0.547890\n",
       "Release without charge             0.431209\n",
       "NCF, LAKEWOOD                      0.400771\n",
       "US Marshall                        0.218141\n",
       "Deferred Sentence                  0.187703\n",
       "Not Guilty Verdict                 0.124290\n",
       "DETOX CENTER                       0.078632\n",
       "Extradition                        0.078632\n",
       "Escape Breaking the Cycle(BTC)     0.078632\n",
       "NCF Sup                            0.048194\n",
       "Check                              0.048194\n",
       "Quashed                            0.043121\n",
       "Escape                             0.040584\n",
       "Sheriff's Office                   0.038048\n",
       "Time Payments                      0.035511\n",
       "Mental Health Professional         0.032975\n",
       "Fine Paid                          0.030438\n",
       "Western State Hospital             0.025365\n",
       "Balance of Sentence Suspended      0.022829\n",
       "Not Guilty - Insanity              0.020292\n",
       "Department of Corrections          0.010146\n",
       "Self                               0.010146\n",
       "FBI                                0.007610\n",
       "Breaking the Cycle                 0.005073\n",
       "Medical Dismissal                  0.005073\n",
       "Progress House                     0.002537\n",
       "DEA                                0.002537\n",
       "Teletype Release                   0.002537\n",
       "Time Served, Weekend               0.002537\n",
       "Immigration                        0.002537\n",
       "Name: release_disposition_desc, dtype: float64"
      ]
     },
     "execution_count": 228,
     "metadata": {},
     "output_type": "execute_result"
    }
   ],
   "source": [
    "no_hold['release_disposition_desc'].value_counts() / len(no_hold) * 100"
   ]
  },
  {
   "cell_type": "markdown",
   "metadata": {},
   "source": [
    "## Simple masking for immigration holds and release to immigration"
   ]
  },
  {
   "cell_type": "code",
   "execution_count": 229,
   "metadata": {
    "collapsed": true
   },
   "outputs": [],
   "source": [
    "hold_mask = df['booking_id'].isin(hold_ids)\n",
    "release_imm_mask = df['booking_id'].isin(release_imm_ids)\n",
    "juris_imm_mask = df['booking_id'].isin(juris_imm_ids)"
   ]
  },
  {
   "cell_type": "code",
   "execution_count": 230,
   "metadata": {
    "collapsed": true,
    "scrolled": true
   },
   "outputs": [],
   "source": [
    "df['imm_hold'] = 0\n",
    "df.loc[hold_mask, 'imm_hold'] = 1"
   ]
  },
  {
   "cell_type": "code",
   "execution_count": 231,
   "metadata": {
    "collapsed": true
   },
   "outputs": [],
   "source": [
    "df['release_to_imm'] = 0\n",
    "df.loc[release_imm_mask, 'release_to_imm'] = 1"
   ]
  },
  {
   "cell_type": "code",
   "execution_count": 232,
   "metadata": {
    "collapsed": true
   },
   "outputs": [],
   "source": [
    "df['juris_imm'] = 0\n",
    "df.loc[release_imm_mask, 'juris_imm'] = 1"
   ]
  },
  {
   "cell_type": "markdown",
   "metadata": {},
   "source": [
    "# Bookings held longer on detainer than on other charges"
   ]
  },
  {
   "cell_type": "markdown",
   "metadata": {},
   "source": [
    "Here we're looking for bookings where the charge release date for immigration hold was greater than release date for other charges. Note that charge release dates may be later than actual release dates. What we're looking for is records where actual release date and hold release date are both later than release dates for other charges. Could consider adding additional logic below to control for this but for now we'll hand check."
   ]
  },
  {
   "cell_type": "code",
   "execution_count": 233,
   "metadata": {
    "collapsed": true
   },
   "outputs": [],
   "source": [
    "df['charge_delta'] = df['charge_release_dt'] - df['booking_dt']\n",
    "df['charge_delta'] = df['charge_delta'] / np.timedelta64(1,'D') "
   ]
  },
  {
   "cell_type": "code",
   "execution_count": 234,
   "metadata": {
    "collapsed": true
   },
   "outputs": [],
   "source": [
    "held_longer_on_detainer = []\n",
    "for b_id in hold_ids:\n",
    "    booking = df[df['booking_id'] == b_id]\n",
    "\n",
    "    non_hold_charge_deltas = booking[booking['booking_charge_desc'] != 'HOLD IMMIGRAT']['charge_delta']\n",
    "\n",
    "    hold_charge_delta = float(booking[booking['booking_charge_desc'] == 'HOLD IMMIGRAT']['charge_delta'])\n",
    "    \n",
    "    if hold_charge_delta > non_hold_charge_deltas.max():\n",
    "        \n",
    "        held_longer_on_detainer.append(b_id)"
   ]
  },
  {
   "cell_type": "code",
   "execution_count": 235,
   "metadata": {
    "collapsed": true
   },
   "outputs": [],
   "source": [
    "# df[df['booking_id'].isin(held_longer_on_detainer)].to_csv('../output/held_longer_on_detainer.csv', index=False)"
   ]
  },
  {
   "cell_type": "markdown",
   "metadata": {},
   "source": [
    "# Bail"
   ]
  },
  {
   "cell_type": "code",
   "execution_count": 236,
   "metadata": {
    "collapsed": true
   },
   "outputs": [],
   "source": [
    "bookings_with_bail['booking_charge_cd_desc'] = bookings_with_bail['booking_charge_desc'].copy()"
   ]
  },
  {
   "cell_type": "code",
   "execution_count": 237,
   "metadata": {
    "collapsed": true
   },
   "outputs": [],
   "source": [
    "bookings_with_bail['booking_charge_desc'] = bookings_with_bail['booking_charge_cd_desc'].str.split(' - ', 1).str[1]"
   ]
  },
  {
   "cell_type": "code",
   "execution_count": 238,
   "metadata": {
    "collapsed": true
   },
   "outputs": [],
   "source": [
    "bailcols = ['booking_id',\n",
    "            'bail_receipt_id',\n",
    "            'bail_receipt_dt',\n",
    "            'booking_charge_desc',\n",
    "            'bail_fund_type_cd',\n",
    "            'bail_fund_type_desc',\n",
    "            'fine_amt',\n",
    "            'start_receipt_id',\n",
    "            'end_receipt_id',\n",
    "            'disbursed_status',\n",
    "            'disbursed_dt']"
   ]
  },
  {
   "cell_type": "markdown",
   "metadata": {},
   "source": [
    "This merge duplicates some records with multiple charges with same description.\n",
    "- Do it after counting charges & other groupby calculations?\n",
    "- De-duplicate bail payments by dropping duplicate `bail_receipt_id` values when doing calculations?"
   ]
  },
  {
   "cell_type": "code",
   "execution_count": 239,
   "metadata": {
    "collapsed": true
   },
   "outputs": [],
   "source": [
    "bail_df = pd.merge(df, bookings_with_bail[bailcols], on=['booking_id', 'booking_charge_desc'], how='left')"
   ]
  },
  {
   "cell_type": "code",
   "execution_count": 240,
   "metadata": {
    "scrolled": true
   },
   "outputs": [
    {
     "name": "stdout",
     "output_type": "stream",
     "text": [
      "<class 'pandas.core.frame.DataFrame'>\n",
      "Int64Index: 40475 entries, 0 to 40474\n",
      "Data columns (total 52 columns):\n",
      "booking_id                  40475 non-null int64\n",
      "inmate_name                 40475 non-null object\n",
      "booking_dt                  40475 non-null datetime64[ns]\n",
      "release_dt                  40475 non-null datetime64[ns]\n",
      "booking_charge_desc         40475 non-null object\n",
      "booking_charge_txt          3055 non-null object\n",
      "charge_release_dt           40475 non-null datetime64[ns]\n",
      "title_txt                   40475 non-null object\n",
      "dob                         40475 non-null object\n",
      "cause_num                   32209 non-null object\n",
      "jurisdiction_cd             40475 non-null object\n",
      "release_disposition_desc    40475 non-null object\n",
      "post_flg                    40475 non-null object\n",
      "gender_desc                 40475 non-null object\n",
      "race_desc                   40475 non-null object\n",
      "time_detained               40475 non-null float64\n",
      "amer_indian_alaskan         40475 non-null uint8\n",
      "asian_pacific_island        40475 non-null uint8\n",
      "black                       40475 non-null uint8\n",
      "hispanic                    40475 non-null uint8\n",
      "white                       40475 non-null uint8\n",
      "female                      40475 non-null uint8\n",
      "male                        40475 non-null uint8\n",
      "category                    40475 non-null object\n",
      "type                        40475 non-null object\n",
      "seriousness                 40475 non-null float64\n",
      "max_seriousness             40475 non-null float64\n",
      "max_charge_type             40475 non-null object\n",
      "max_charge_desc             40475 non-null object\n",
      "drug                        40475 non-null uint8\n",
      "other                       40475 non-null uint8\n",
      "property                    40475 non-null uint8\n",
      "public_order                40475 non-null uint8\n",
      "sex                         40475 non-null uint8\n",
      "violent                     40475 non-null uint8\n",
      "felony                      40475 non-null int64\n",
      "misdemeanor                 40475 non-null int64\n",
      "charge_count                40475 non-null int64\n",
      "charge_topcount             40475 non-null int64\n",
      "imm_hold                    40475 non-null int64\n",
      "release_to_imm              40475 non-null int64\n",
      "juris_imm                   40475 non-null int64\n",
      "charge_delta                40475 non-null float64\n",
      "bail_receipt_id             6992 non-null float64\n",
      "bail_receipt_dt             6992 non-null object\n",
      "bail_fund_type_cd           6992 non-null object\n",
      "bail_fund_type_desc         6992 non-null object\n",
      "fine_amt                    6992 non-null float64\n",
      "start_receipt_id            6992 non-null float64\n",
      "end_receipt_id              6992 non-null float64\n",
      "disbursed_status            6992 non-null object\n",
      "disbursed_dt                6992 non-null object\n",
      "dtypes: datetime64[ns](3), float64(8), int64(8), object(20), uint8(13)\n",
      "memory usage: 12.9+ MB\n"
     ]
    }
   ],
   "source": [
    "bail_df.info()"
   ]
  },
  {
   "cell_type": "code",
   "execution_count": 241,
   "metadata": {},
   "outputs": [
    {
     "data": {
      "text/html": [
       "<div>\n",
       "<style>\n",
       "    .dataframe thead tr:only-child th {\n",
       "        text-align: right;\n",
       "    }\n",
       "\n",
       "    .dataframe thead th {\n",
       "        text-align: left;\n",
       "    }\n",
       "\n",
       "    .dataframe tbody tr th {\n",
       "        vertical-align: top;\n",
       "    }\n",
       "</style>\n",
       "<table border=\"1\" class=\"dataframe\">\n",
       "  <thead>\n",
       "    <tr style=\"text-align: right;\">\n",
       "      <th></th>\n",
       "      <th>booking_id</th>\n",
       "      <th>inmate_name</th>\n",
       "      <th>booking_dt</th>\n",
       "      <th>release_dt</th>\n",
       "      <th>booking_charge_desc</th>\n",
       "      <th>booking_charge_txt</th>\n",
       "      <th>charge_release_dt</th>\n",
       "      <th>title_txt</th>\n",
       "      <th>dob</th>\n",
       "      <th>cause_num</th>\n",
       "      <th>...</th>\n",
       "      <th>charge_delta</th>\n",
       "      <th>bail_receipt_id</th>\n",
       "      <th>bail_receipt_dt</th>\n",
       "      <th>bail_fund_type_cd</th>\n",
       "      <th>bail_fund_type_desc</th>\n",
       "      <th>fine_amt</th>\n",
       "      <th>start_receipt_id</th>\n",
       "      <th>end_receipt_id</th>\n",
       "      <th>disbursed_status</th>\n",
       "      <th>disbursed_dt</th>\n",
       "    </tr>\n",
       "  </thead>\n",
       "  <tbody>\n",
       "    <tr>\n",
       "      <th>0</th>\n",
       "      <td>2013172036</td>\n",
       "      <td>SMITH, JR, ROBERT LEON</td>\n",
       "      <td>2013-06-21 18:42:00</td>\n",
       "      <td>2017-01-26 08:00:00</td>\n",
       "      <td>DEST PROP /DV</td>\n",
       "      <td>NaN</td>\n",
       "      <td>2014-06-15 08:00:00</td>\n",
       "      <td>Report Criteria: 10/01/2016 to 09/30/2017, Dis...</td>\n",
       "      <td>1980-01-04 00:00:00.0</td>\n",
       "      <td>D39012</td>\n",
       "      <td>...</td>\n",
       "      <td>358.554167</td>\n",
       "      <td>NaN</td>\n",
       "      <td>NaN</td>\n",
       "      <td>NaN</td>\n",
       "      <td>NaN</td>\n",
       "      <td>NaN</td>\n",
       "      <td>NaN</td>\n",
       "      <td>NaN</td>\n",
       "      <td>NaN</td>\n",
       "      <td>NaN</td>\n",
       "    </tr>\n",
       "    <tr>\n",
       "      <th>1</th>\n",
       "      <td>2013172036</td>\n",
       "      <td>SMITH, JR, ROBERT LEON</td>\n",
       "      <td>2013-06-21 18:42:00</td>\n",
       "      <td>2017-01-26 08:00:00</td>\n",
       "      <td>MURDER 1</td>\n",
       "      <td>NaN</td>\n",
       "      <td>2017-01-26 09:00:00</td>\n",
       "      <td>Report Criteria: 10/01/2016 to 09/30/2017, Dis...</td>\n",
       "      <td>1980-01-04 00:00:00.0</td>\n",
       "      <td>13-1-02555-0</td>\n",
       "      <td>...</td>\n",
       "      <td>1314.595833</td>\n",
       "      <td>NaN</td>\n",
       "      <td>NaN</td>\n",
       "      <td>NaN</td>\n",
       "      <td>NaN</td>\n",
       "      <td>NaN</td>\n",
       "      <td>NaN</td>\n",
       "      <td>NaN</td>\n",
       "      <td>NaN</td>\n",
       "      <td>NaN</td>\n",
       "    </tr>\n",
       "    <tr>\n",
       "      <th>2</th>\n",
       "      <td>2013172036</td>\n",
       "      <td>SMITH, JR, ROBERT LEON</td>\n",
       "      <td>2013-06-21 18:42:00</td>\n",
       "      <td>2017-01-26 08:00:00</td>\n",
       "      <td>ROBBERY 1</td>\n",
       "      <td>ATTEMPTED</td>\n",
       "      <td>2017-01-20 20:00:00</td>\n",
       "      <td>Report Criteria: 10/01/2016 to 09/30/2017, Dis...</td>\n",
       "      <td>1980-01-04 00:00:00.0</td>\n",
       "      <td>13-1-02555-0</td>\n",
       "      <td>...</td>\n",
       "      <td>1309.054167</td>\n",
       "      <td>NaN</td>\n",
       "      <td>NaN</td>\n",
       "      <td>NaN</td>\n",
       "      <td>NaN</td>\n",
       "      <td>NaN</td>\n",
       "      <td>NaN</td>\n",
       "      <td>NaN</td>\n",
       "      <td>NaN</td>\n",
       "      <td>NaN</td>\n",
       "    </tr>\n",
       "    <tr>\n",
       "      <th>3</th>\n",
       "      <td>2013172036</td>\n",
       "      <td>SMITH, JR, ROBERT LEON</td>\n",
       "      <td>2013-06-21 18:42:00</td>\n",
       "      <td>2017-01-26 08:00:00</td>\n",
       "      <td>BURGLARY 1</td>\n",
       "      <td>NaN</td>\n",
       "      <td>2017-01-26 09:00:00</td>\n",
       "      <td>Report Criteria: 10/01/2016 to 09/30/2017, Dis...</td>\n",
       "      <td>1980-01-04 00:00:00.0</td>\n",
       "      <td>13-1-02555-0</td>\n",
       "      <td>...</td>\n",
       "      <td>1314.595833</td>\n",
       "      <td>NaN</td>\n",
       "      <td>NaN</td>\n",
       "      <td>NaN</td>\n",
       "      <td>NaN</td>\n",
       "      <td>NaN</td>\n",
       "      <td>NaN</td>\n",
       "      <td>NaN</td>\n",
       "      <td>NaN</td>\n",
       "      <td>NaN</td>\n",
       "    </tr>\n",
       "    <tr>\n",
       "      <th>4</th>\n",
       "      <td>2013172036</td>\n",
       "      <td>SMITH, JR, ROBERT LEON</td>\n",
       "      <td>2013-06-21 18:42:00</td>\n",
       "      <td>2017-01-26 08:00:00</td>\n",
       "      <td>UNL POSS FIREARM 1</td>\n",
       "      <td>NaN</td>\n",
       "      <td>2013-06-24 22:00:00</td>\n",
       "      <td>Report Criteria: 10/01/2016 to 09/30/2017, Dis...</td>\n",
       "      <td>1980-01-04 00:00:00.0</td>\n",
       "      <td>NaN</td>\n",
       "      <td>...</td>\n",
       "      <td>3.137500</td>\n",
       "      <td>NaN</td>\n",
       "      <td>NaN</td>\n",
       "      <td>NaN</td>\n",
       "      <td>NaN</td>\n",
       "      <td>NaN</td>\n",
       "      <td>NaN</td>\n",
       "      <td>NaN</td>\n",
       "      <td>NaN</td>\n",
       "      <td>NaN</td>\n",
       "    </tr>\n",
       "  </tbody>\n",
       "</table>\n",
       "<p>5 rows × 52 columns</p>\n",
       "</div>"
      ],
      "text/plain": [
       "   booking_id             inmate_name          booking_dt          release_dt  \\\n",
       "0  2013172036  SMITH, JR, ROBERT LEON 2013-06-21 18:42:00 2017-01-26 08:00:00   \n",
       "1  2013172036  SMITH, JR, ROBERT LEON 2013-06-21 18:42:00 2017-01-26 08:00:00   \n",
       "2  2013172036  SMITH, JR, ROBERT LEON 2013-06-21 18:42:00 2017-01-26 08:00:00   \n",
       "3  2013172036  SMITH, JR, ROBERT LEON 2013-06-21 18:42:00 2017-01-26 08:00:00   \n",
       "4  2013172036  SMITH, JR, ROBERT LEON 2013-06-21 18:42:00 2017-01-26 08:00:00   \n",
       "\n",
       "  booking_charge_desc booking_charge_txt   charge_release_dt  \\\n",
       "0       DEST PROP /DV                NaN 2014-06-15 08:00:00   \n",
       "1            MURDER 1                NaN 2017-01-26 09:00:00   \n",
       "2           ROBBERY 1          ATTEMPTED 2017-01-20 20:00:00   \n",
       "3          BURGLARY 1                NaN 2017-01-26 09:00:00   \n",
       "4  UNL POSS FIREARM 1                NaN 2013-06-24 22:00:00   \n",
       "\n",
       "                                           title_txt                    dob  \\\n",
       "0  Report Criteria: 10/01/2016 to 09/30/2017, Dis...  1980-01-04 00:00:00.0   \n",
       "1  Report Criteria: 10/01/2016 to 09/30/2017, Dis...  1980-01-04 00:00:00.0   \n",
       "2  Report Criteria: 10/01/2016 to 09/30/2017, Dis...  1980-01-04 00:00:00.0   \n",
       "3  Report Criteria: 10/01/2016 to 09/30/2017, Dis...  1980-01-04 00:00:00.0   \n",
       "4  Report Criteria: 10/01/2016 to 09/30/2017, Dis...  1980-01-04 00:00:00.0   \n",
       "\n",
       "      cause_num      ...      charge_delta bail_receipt_id bail_receipt_dt  \\\n",
       "0        D39012      ...        358.554167             NaN             NaN   \n",
       "1  13-1-02555-0      ...       1314.595833             NaN             NaN   \n",
       "2  13-1-02555-0      ...       1309.054167             NaN             NaN   \n",
       "3  13-1-02555-0      ...       1314.595833             NaN             NaN   \n",
       "4           NaN      ...          3.137500             NaN             NaN   \n",
       "\n",
       "  bail_fund_type_cd bail_fund_type_desc  fine_amt  start_receipt_id  \\\n",
       "0               NaN                 NaN       NaN               NaN   \n",
       "1               NaN                 NaN       NaN               NaN   \n",
       "2               NaN                 NaN       NaN               NaN   \n",
       "3               NaN                 NaN       NaN               NaN   \n",
       "4               NaN                 NaN       NaN               NaN   \n",
       "\n",
       "   end_receipt_id  disbursed_status  disbursed_dt  \n",
       "0             NaN               NaN           NaN  \n",
       "1             NaN               NaN           NaN  \n",
       "2             NaN               NaN           NaN  \n",
       "3             NaN               NaN           NaN  \n",
       "4             NaN               NaN           NaN  \n",
       "\n",
       "[5 rows x 52 columns]"
      ]
     },
     "execution_count": 241,
     "metadata": {},
     "output_type": "execute_result"
    }
   ],
   "source": [
    "bail_df.head()"
   ]
  },
  {
   "cell_type": "code",
   "execution_count": 242,
   "metadata": {},
   "outputs": [
    {
     "data": {
      "text/plain": [
       "0    14141\n",
       "1     3175\n",
       "2      286\n",
       "3       44\n",
       "4        4\n",
       "5        2\n",
       "Name: bail_receipt_id, dtype: int64"
      ]
     },
     "execution_count": 242,
     "metadata": {},
     "output_type": "execute_result"
    }
   ],
   "source": [
    "bail_df.groupby('booking_id')['bail_receipt_id'].nunique().value_counts()"
   ]
  },
  {
   "cell_type": "code",
   "execution_count": 243,
   "metadata": {},
   "outputs": [
    {
     "data": {
      "text/plain": [
       "booking_id  bail_receipt_id\n",
       "2015260025  99419.0            100000.0\n",
       "2015289022  99910.0               100.0\n",
       "2016156033  100580.0            15000.0\n",
       "2016166054  99373.0             40000.0\n",
       "2016174004  99541.0             35000.0\n",
       "            99542.0              1500.0\n",
       "2016197021  100378.0            25000.0\n",
       "2016210020  101187.0           100000.0\n",
       "2016211052  99596.0              3000.0\n",
       "2016212024  100829.0            15000.0\n",
       "2016215032  99869.0             10000.0\n",
       "2016233004  99342.0            200000.0\n",
       "2016237022  99441.0            100000.0\n",
       "2016237049  99602.0             20000.0\n",
       "2016238004  99913.0             20000.0\n",
       "2016238012  99783.0            100000.0\n",
       "            99784.0              5000.0\n",
       "2016239016  99682.0               250.0\n",
       "2016243045  99296.0             15000.0\n",
       "2016249029  99686.0             20000.0\n",
       "2016250022  100125.0            10000.0\n",
       "            100126.0             1700.0\n",
       "2016250046  99866.0             20000.0\n",
       "2016253011  99612.0            100000.0\n",
       "2016254020  99259.0              5000.0\n",
       "2016257021  99297.0              5000.0\n",
       "2016257037  99249.0             10000.0\n",
       "2016258004  99526.0             75000.0\n",
       "2016258014  99402.0             20000.0\n",
       "            99404.0             17400.0\n",
       "                                 ...   \n",
       "2017267033  103164.0            50000.0\n",
       "            103165.0             5000.0\n",
       "2017267034  103168.0            30000.0\n",
       "2017268008  103159.0             1500.0\n",
       "2017268009  103158.0             5000.0\n",
       "2017268022  103199.0            10000.0\n",
       "2017268028  103172.0             5000.0\n",
       "2017269012  103178.0             2500.0\n",
       "2017269033  103210.0             5000.0\n",
       "            103212.0             3400.0\n",
       "2017269036  103182.0             5000.0\n",
       "2017270003  103184.0            25000.0\n",
       "2017270008  103181.0            25000.0\n",
       "2017270010  103185.0            30000.0\n",
       "2017270044  103179.0             1000.0\n",
       "2017270045  103187.0             5000.0\n",
       "2017271006  103198.0            50000.0\n",
       "2017271026  103203.0            25000.0\n",
       "2017271045  103202.0            10000.0\n",
       "2017271048  103195.0             1000.0\n",
       "2017272004  103190.0             1000.0\n",
       "2017272005  103193.0             1000.0\n",
       "2017272020  103191.0            15000.0\n",
       "2017272028  103192.0             5000.0\n",
       "2017272039  103197.0             1000.0\n",
       "2017272046  103201.0             1000.0\n",
       "2017272047  103200.0             6000.0\n",
       "2017273010  103209.0             1000.0\n",
       "2017273015  103208.0             2000.0\n",
       "2017273029  103211.0             1000.0\n",
       "Name: fine_amt, Length: 3905, dtype: float64"
      ]
     },
     "execution_count": 243,
     "metadata": {},
     "output_type": "execute_result"
    }
   ],
   "source": [
    "# Is this ever summing duplicated bail amounts?\n",
    "bail_df.groupby(['booking_id', 'bail_receipt_id'])['fine_amt'].sum()"
   ]
  },
  {
   "cell_type": "code",
   "execution_count": 244,
   "metadata": {},
   "outputs": [
    {
     "data": {
      "text/plain": [
       "inmate_name                                              TAULOLO, TAUNUUTASI \n",
       "booking_dt                                                2017-09-29 12:41:00\n",
       "release_dt                                                2017-09-29 14:15:00\n",
       "booking_charge_desc                                                       DWI\n",
       "booking_charge_txt                                                        NaN\n",
       "charge_release_dt                                         2017-09-29 22:00:00\n",
       "title_txt                   Report Criteria: 10/01/2016 to 09/30/2017, Dis...\n",
       "dob                                                     1981-11-28 00:00:00.0\n",
       "cause_num                                                           6YC000659\n",
       "jurisdiction_cd                                                           PD1\n",
       "release_disposition_desc                                            Bail Bond\n",
       "post_flg                                                                    N\n",
       "gender_desc                                                              MALE\n",
       "race_desc                                                               BLACK\n",
       "time_detained                                                       0.0652778\n",
       "amer_indian_alaskan                                                         0\n",
       "asian_pacific_island                                                        0\n",
       "black                                                                       1\n",
       "hispanic                                                                    0\n",
       "white                                                                       0\n",
       "female                                                                      0\n",
       "male                                                                        1\n",
       "category                                                    gross misdemeanor\n",
       "type                                                             public_order\n",
       "seriousness                                                                 3\n",
       "max_seriousness                                                             3\n",
       "max_charge_type                                                  public_order\n",
       "max_charge_desc                                                           DWI\n",
       "drug                                                                        0\n",
       "other                                                                       0\n",
       "property                                                                    0\n",
       "public_order                                                                1\n",
       "sex                                                                         0\n",
       "violent                                                                     0\n",
       "felony                                                                      0\n",
       "misdemeanor                                                                 0\n",
       "charge_count                                                                1\n",
       "charge_topcount                                                             1\n",
       "imm_hold                                                                    0\n",
       "release_to_imm                                                              0\n",
       "juris_imm                                                                   0\n",
       "charge_delta                                                         0.388194\n",
       "bail_receipt_id                                                        103192\n",
       "bail_receipt_dt                                           2017-09-29 13:11:00\n",
       "bail_fund_type_cd                                                        BB  \n",
       "bail_fund_type_desc                                                 BAIL BOND\n",
       "fine_amt                                                                 5000\n",
       "start_receipt_id                                                            0\n",
       "end_receipt_id                                                         106273\n",
       "disbursed_status                                                            D\n",
       "disbursed_dt                                           2017-10-02 08:46:12.39\n",
       "Name: 2017272028, dtype: object"
      ]
     },
     "execution_count": 244,
     "metadata": {},
     "output_type": "execute_result"
    }
   ],
   "source": [
    "bail_df.set_index('booking_id').loc[2017272028].T"
   ]
  },
  {
   "cell_type": "markdown",
   "metadata": {},
   "source": [
    "# Drop duplicates"
   ]
  },
  {
   "cell_type": "markdown",
   "metadata": {},
   "source": [
    "Subsequent cell drops duplicate booking IDs so count = individual bookings, not charges. Mask any variables that we want to analyze further."
   ]
  },
  {
   "cell_type": "code",
   "execution_count": 245,
   "metadata": {},
   "outputs": [
    {
     "name": "stdout",
     "output_type": "stream",
     "text": [
      "<class 'pandas.core.frame.DataFrame'>\n",
      "RangeIndex: 39807 entries, 0 to 39806\n",
      "Data columns (total 43 columns):\n",
      "booking_id                  39807 non-null int64\n",
      "inmate_name                 39807 non-null object\n",
      "booking_dt                  39807 non-null datetime64[ns]\n",
      "release_dt                  39807 non-null datetime64[ns]\n",
      "booking_charge_desc         39807 non-null object\n",
      "booking_charge_txt          3004 non-null object\n",
      "charge_release_dt           39807 non-null datetime64[ns]\n",
      "title_txt                   39807 non-null object\n",
      "dob                         39807 non-null object\n",
      "cause_num                   31584 non-null object\n",
      "jurisdiction_cd             39807 non-null object\n",
      "release_disposition_desc    39807 non-null object\n",
      "post_flg                    39807 non-null object\n",
      "gender_desc                 39807 non-null object\n",
      "race_desc                   39807 non-null object\n",
      "time_detained               39807 non-null float64\n",
      "amer_indian_alaskan         39807 non-null uint8\n",
      "asian_pacific_island        39807 non-null uint8\n",
      "black                       39807 non-null uint8\n",
      "hispanic                    39807 non-null uint8\n",
      "white                       39807 non-null uint8\n",
      "female                      39807 non-null uint8\n",
      "male                        39807 non-null uint8\n",
      "category                    39807 non-null object\n",
      "type                        39807 non-null object\n",
      "seriousness                 39807 non-null float64\n",
      "max_seriousness             39807 non-null float64\n",
      "max_charge_type             39807 non-null object\n",
      "max_charge_desc             39807 non-null object\n",
      "drug                        39807 non-null uint8\n",
      "other                       39807 non-null uint8\n",
      "property                    39807 non-null uint8\n",
      "public_order                39807 non-null uint8\n",
      "sex                         39807 non-null uint8\n",
      "violent                     39807 non-null uint8\n",
      "felony                      39807 non-null int64\n",
      "misdemeanor                 39807 non-null int64\n",
      "charge_count                39807 non-null int64\n",
      "charge_topcount             39807 non-null int64\n",
      "imm_hold                    39807 non-null int64\n",
      "release_to_imm              39807 non-null int64\n",
      "juris_imm                   39807 non-null int64\n",
      "charge_delta                39807 non-null float64\n",
      "dtypes: datetime64[ns](3), float64(4), int64(8), object(15), uint8(13)\n",
      "memory usage: 9.6+ MB\n"
     ]
    }
   ],
   "source": [
    "df.info()"
   ]
  },
  {
   "cell_type": "code",
   "execution_count": 246,
   "metadata": {
    "collapsed": true
   },
   "outputs": [],
   "source": [
    "df = df.drop_duplicates(subset=['booking_id'])"
   ]
  },
  {
   "cell_type": "code",
   "execution_count": 247,
   "metadata": {},
   "outputs": [
    {
     "name": "stdout",
     "output_type": "stream",
     "text": [
      "<class 'pandas.core.frame.DataFrame'>\n",
      "Int64Index: 17652 entries, 0 to 39806\n",
      "Data columns (total 43 columns):\n",
      "booking_id                  17652 non-null int64\n",
      "inmate_name                 17652 non-null object\n",
      "booking_dt                  17652 non-null datetime64[ns]\n",
      "release_dt                  17652 non-null datetime64[ns]\n",
      "booking_charge_desc         17652 non-null object\n",
      "booking_charge_txt          1515 non-null object\n",
      "charge_release_dt           17652 non-null datetime64[ns]\n",
      "title_txt                   17652 non-null object\n",
      "dob                         17652 non-null object\n",
      "cause_num                   13515 non-null object\n",
      "jurisdiction_cd             17652 non-null object\n",
      "release_disposition_desc    17652 non-null object\n",
      "post_flg                    17652 non-null object\n",
      "gender_desc                 17652 non-null object\n",
      "race_desc                   17652 non-null object\n",
      "time_detained               17652 non-null float64\n",
      "amer_indian_alaskan         17652 non-null uint8\n",
      "asian_pacific_island        17652 non-null uint8\n",
      "black                       17652 non-null uint8\n",
      "hispanic                    17652 non-null uint8\n",
      "white                       17652 non-null uint8\n",
      "female                      17652 non-null uint8\n",
      "male                        17652 non-null uint8\n",
      "category                    17652 non-null object\n",
      "type                        17652 non-null object\n",
      "seriousness                 17652 non-null float64\n",
      "max_seriousness             17652 non-null float64\n",
      "max_charge_type             17652 non-null object\n",
      "max_charge_desc             17652 non-null object\n",
      "drug                        17652 non-null uint8\n",
      "other                       17652 non-null uint8\n",
      "property                    17652 non-null uint8\n",
      "public_order                17652 non-null uint8\n",
      "sex                         17652 non-null uint8\n",
      "violent                     17652 non-null uint8\n",
      "felony                      17652 non-null int64\n",
      "misdemeanor                 17652 non-null int64\n",
      "charge_count                17652 non-null int64\n",
      "charge_topcount             17652 non-null int64\n",
      "imm_hold                    17652 non-null int64\n",
      "release_to_imm              17652 non-null int64\n",
      "juris_imm                   17652 non-null int64\n",
      "charge_delta                17652 non-null float64\n",
      "dtypes: datetime64[ns](3), float64(4), int64(8), object(15), uint8(13)\n",
      "memory usage: 4.4+ MB\n"
     ]
    }
   ],
   "source": [
    "df.info()"
   ]
  },
  {
   "cell_type": "code",
   "execution_count": 248,
   "metadata": {
    "collapsed": true
   },
   "outputs": [],
   "source": [
    "# Selecting to drop columns not used in regression analysis\n",
    "booking_cols = ['booking_id',\n",
    "                'inmate_name',\n",
    "                'time_detained',\n",
    "                'race_desc',\n",
    "                'amer_indian_alaskan',\n",
    "                'asian_pacific_island',\n",
    "                'black',\n",
    "                'hispanic',\n",
    "                'white',\n",
    "                'female',\n",
    "                'male',\n",
    "                'max_seriousness',\n",
    "                'max_charge_type',\n",
    "                'max_charge_desc',\n",
    "                'felony',\n",
    "                'misdemeanor',\n",
    "                'drug',\n",
    "                'property',\n",
    "                'public_order',\n",
    "                'sex',\n",
    "                'violent',\n",
    "                'other',\n",
    "                'charge_count',\n",
    "                'charge_topcount',\n",
    "                'imm_hold',\n",
    "                'release_to_imm'\n",
    "               ]"
   ]
  },
  {
   "cell_type": "code",
   "execution_count": 249,
   "metadata": {
    "collapsed": true
   },
   "outputs": [],
   "source": [
    "df = df[booking_cols]"
   ]
  },
  {
   "cell_type": "code",
   "execution_count": 250,
   "metadata": {
    "collapsed": true
   },
   "outputs": [],
   "source": [
    "df.set_index('booking_id',inplace=True)"
   ]
  },
  {
   "cell_type": "markdown",
   "metadata": {},
   "source": [
    "# More descriptive analysis"
   ]
  },
  {
   "cell_type": "code",
   "execution_count": 251,
   "metadata": {
    "collapsed": true,
    "scrolled": true
   },
   "outputs": [],
   "source": [
    "# Adding a column for log of time detained\n",
    "df.loc[:,'log_time_detained'] = np.log(df['time_detained'])"
   ]
  },
  {
   "cell_type": "markdown",
   "metadata": {},
   "source": [
    "Bookings with immigration holds have longer detention time. Using logged time makes this clearer."
   ]
  },
  {
   "cell_type": "code",
   "execution_count": 252,
   "metadata": {
    "collapsed": true
   },
   "outputs": [],
   "source": [
    "hold_order = ['No hold', 'Hold']"
   ]
  },
  {
   "cell_type": "code",
   "execution_count": 253,
   "metadata": {},
   "outputs": [
    {
     "data": {
      "text/plain": [
       "<matplotlib.text.Text at 0x11db16588>"
      ]
     },
     "execution_count": 253,
     "metadata": {},
     "output_type": "execute_result"
    },
    {
     "data": {
      "image/png": "[encoded data removed]",
      "text/plain": [
       "<matplotlib.figure.Figure at 0x123848978>"
      ]
     },
     "metadata": {},
     "output_type": "display_data"
    }
   ],
   "source": [
    "df['imm_hold_text'] = df['imm_hold'].replace({0: 'No hold', 1: 'Hold'})\n",
    "bplot1 = sns.boxplot(data=df, y='log_time_detained', x='imm_hold_text', order=hold_order)\n",
    "bplot1.set_xlabel('Imm hold?', fontsize=14)\n",
    "bplot1.set_ylabel('Log time detained', fontsize=14)"
   ]
  },
  {
   "cell_type": "markdown",
   "metadata": {},
   "source": [
    "A couple outliers with lots of charges in imm_hold category?"
   ]
  },
  {
   "cell_type": "code",
   "execution_count": 254,
   "metadata": {},
   "outputs": [
    {
     "data": {
      "text/plain": [
       "<matplotlib.text.Text at 0x11bda2080>"
      ]
     },
     "execution_count": 254,
     "metadata": {},
     "output_type": "execute_result"
    },
    {
     "data": {
      "image/png": "[encoded data removed]",
      "text/plain": [
       "<matplotlib.figure.Figure at 0x11b2eed68>"
      ]
     },
     "metadata": {},
     "output_type": "display_data"
    }
   ],
   "source": [
    "bplot2 = sns.boxplot(data=df, y='charge_topcount', x='imm_hold_text', order=hold_order)\n",
    "bplot2.set_xlabel('Imm hold?', fontsize=14)\n",
    "bplot2.set_ylabel('Charges', fontsize=14)"
   ]
  },
  {
   "cell_type": "code",
   "execution_count": 255,
   "metadata": {},
   "outputs": [
    {
     "data": {
      "text/plain": [
       "<matplotlib.text.Text at 0x11f01ae10>"
      ]
     },
     "execution_count": 255,
     "metadata": {},
     "output_type": "execute_result"
    },
    {
     "data": {
      "image/png": "[encoded data removed]",
      "text/plain": [
       "<matplotlib.figure.Figure at 0x1237f4860>"
      ]
     },
     "metadata": {},
     "output_type": "display_data"
    }
   ],
   "source": [
    "bplot2 = sns.violinplot(data=df, y='max_seriousness', x='imm_hold')\n",
    "bplot2.set_xlabel('Imm hold?', fontsize=14)\n",
    "bplot2.set_ylabel('Seriousness', fontsize=14)"
   ]
  },
  {
   "cell_type": "markdown",
   "metadata": {},
   "source": [
    "Felonies detained longer."
   ]
  },
  {
   "cell_type": "code",
   "execution_count": 256,
   "metadata": {},
   "outputs": [
    {
     "data": {
      "text/plain": [
       "<matplotlib.text.Text at 0x11f2c9dd8>"
      ]
     },
     "execution_count": 256,
     "metadata": {},
     "output_type": "execute_result"
    },
    {
     "data": {
      "image/png": "[encoded data removed]",
      "text/plain": [
       "<matplotlib.figure.Figure at 0x11be97828>"
      ]
     },
     "metadata": {},
     "output_type": "display_data"
    }
   ],
   "source": [
    "df['felony_text'] = df['felony'].replace({0: 'No felony', 1: 'Felony'})\n",
    "fel_order = ['No felony', 'Felony']\n",
    "bplot2 = sns.boxplot(data=df, y='log_time_detained', x='felony_text', hue='imm_hold_text', order=fel_order)\n",
    "bplot2.set_xlabel('Felony?', fontsize=14)\n",
    "bplot2.set_ylabel('Log time detained', fontsize=14)"
   ]
  },
  {
   "cell_type": "code",
   "execution_count": 257,
   "metadata": {},
   "outputs": [
    {
     "data": {
      "text/plain": [
       "<matplotlib.text.Text at 0x11f285ac8>"
      ]
     },
     "execution_count": 257,
     "metadata": {},
     "output_type": "execute_result"
    },
    {
     "data": {
      "image/png": "[encoded data removed]",
      "text/plain": [
       "<matplotlib.figure.Figure at 0x11f283e10>"
      ]
     },
     "metadata": {},
     "output_type": "display_data"
    }
   ],
   "source": [
    "d0 = df[df['release_to_imm'] == 0]['log_time_detained']\n",
    "d1 = df[df['release_to_imm'] == 1]['log_time_detained']\n",
    "bplot2 = sns.boxplot(data=[d0, d1])\n",
    "bplot2.set_xlabel('Released to immigration?', fontsize=14)\n",
    "bplot2.set_ylabel('Log time detained', fontsize=14)"
   ]
  },
  {
   "cell_type": "markdown",
   "metadata": {},
   "source": [
    "More serious charges generally detained longer. Lots of outliers for 0 seriousness, probably because it includes holds, community custody, etc."
   ]
  },
  {
   "cell_type": "code",
   "execution_count": 258,
   "metadata": {},
   "outputs": [
    {
     "data": {
      "image/png": "[encoded data removed]",
      "text/plain": [
       "<matplotlib.figure.Figure at 0x11a854dd8>"
      ]
     },
     "metadata": {},
     "output_type": "display_data"
    }
   ],
   "source": [
    "plt = sns.boxplot(data=df, x=\"max_seriousness\", y=\"log_time_detained\", hue='imm_hold')\n",
    "# plt.legend(bbox_to_anchor=(1.05, 1), loc=2, borderaxespad=0.)"
   ]
  },
  {
   "cell_type": "code",
   "execution_count": 259,
   "metadata": {},
   "outputs": [
    {
     "data": {
      "image/png": "[encoded data removed]",
      "text/plain": [
       "<matplotlib.figure.Figure at 0x11f027f28>"
      ]
     },
     "metadata": {},
     "output_type": "display_data"
    }
   ],
   "source": [
    "plt = sns.boxplot(data=df, x=\"charge_topcount\", y=\"log_time_detained\")\n",
    "# plt.legend(bbox_to_anchor=(1.05, 1), loc=2, borderaxespad=0.)"
   ]
  },
  {
   "cell_type": "code",
   "execution_count": 260,
   "metadata": {
    "collapsed": true
   },
   "outputs": [],
   "source": [
    "race_order = ['WHITE',\n",
    "         'BLACK',\n",
    "         'HISPANIC',\n",
    "         'ASIAN/PACIFIC ISLAND',\n",
    "         'AMER INDIAN/ALASKAN']"
   ]
  },
  {
   "cell_type": "markdown",
   "metadata": {},
   "source": [
    "Heavy `charge_count` bias for `BLACK` and `AMER INDIAN/ALASKAN`, other race categories roughly similar. Using topcounted charges emphasizes this."
   ]
  },
  {
   "cell_type": "code",
   "execution_count": 261,
   "metadata": {
    "scrolled": false
   },
   "outputs": [
    {
     "data": {
      "text/plain": [
       "<matplotlib.legend.Legend at 0x11e5e97b8>"
      ]
     },
     "execution_count": 261,
     "metadata": {},
     "output_type": "execute_result"
    },
    {
     "data": {
      "image/png": "[encoded data removed]",
      "text/plain": [
       "<matplotlib.figure.Figure at 0x11c8b6978>"
      ]
     },
     "metadata": {},
     "output_type": "display_data"
    }
   ],
   "source": [
    "plt = sns.boxplot(data=df, x=\"race_desc\", y=\"charge_count\", hue=\"race_desc\", dodge=False)\n",
    "plt.legend(bbox_to_anchor=(1.05, 1), loc=2, borderaxespad=0.)"
   ]
  },
  {
   "cell_type": "code",
   "execution_count": 262,
   "metadata": {},
   "outputs": [
    {
     "data": {
      "text/plain": [
       "<matplotlib.legend.Legend at 0x11e8207f0>"
      ]
     },
     "execution_count": 262,
     "metadata": {},
     "output_type": "execute_result"
    },
    {
     "data": {
      "image/png": "[encoded data removed]",
      "text/plain": [
       "<matplotlib.figure.Figure at 0x11e5424e0>"
      ]
     },
     "metadata": {},
     "output_type": "display_data"
    }
   ],
   "source": [
    "plt = sns.boxplot(data=df, x=\"race_desc\", y=\"charge_topcount\", hue=\"race_desc\", dodge=False)\n",
    "plt.legend(bbox_to_anchor=(1.05, 1), loc=2, borderaxespad=0.)"
   ]
  },
  {
   "cell_type": "markdown",
   "metadata": {},
   "source": [
    "Time in detention is roughly similar across race categories."
   ]
  },
  {
   "cell_type": "code",
   "execution_count": 263,
   "metadata": {
    "scrolled": false
   },
   "outputs": [
    {
     "data": {
      "text/plain": [
       "<matplotlib.legend.Legend at 0x11f0daf98>"
      ]
     },
     "execution_count": 263,
     "metadata": {},
     "output_type": "execute_result"
    },
    {
     "data": {
      "image/png": "[encoded data removed]",
      "text/plain": [
       "<matplotlib.figure.Figure at 0x11bde8080>"
      ]
     },
     "metadata": {},
     "output_type": "display_data"
    }
   ],
   "source": [
    "plt = sns.boxplot(data=df, x=\"race_desc\", y=\"log_time_detained\", hue=\"race_desc\", dodge=False)\n",
    "plt.legend(bbox_to_anchor=(1.05, 1), loc=2, borderaxespad=0.)"
   ]
  },
  {
   "cell_type": "code",
   "execution_count": 264,
   "metadata": {},
   "outputs": [
    {
     "data": {
      "text/plain": [
       "<matplotlib.legend.Legend at 0x11c8b6550>"
      ]
     },
     "execution_count": 264,
     "metadata": {},
     "output_type": "execute_result"
    },
    {
     "data": {
      "image/png": "[encoded data removed]",
      "text/plain": [
       "<matplotlib.figure.Figure at 0x11b2a9e80>"
      ]
     },
     "metadata": {},
     "output_type": "display_data"
    }
   ],
   "source": [
    "plt = sns.boxplot(data=df, x=\"max_charge_type\", y=\"log_time_detained\", hue=\"max_charge_type\", dodge=False)\n",
    "plt.legend(bbox_to_anchor=(1.05, 1), loc=2, borderaxespad=0.)"
   ]
  },
  {
   "cell_type": "code",
   "execution_count": 265,
   "metadata": {
    "collapsed": true
   },
   "outputs": [],
   "source": [
    "race_holds = df.groupby('race_desc')['imm_hold'].sum()"
   ]
  },
  {
   "cell_type": "code",
   "execution_count": 266,
   "metadata": {
    "collapsed": true
   },
   "outputs": [],
   "source": [
    "n = df['race_desc'].value_counts()"
   ]
  },
  {
   "cell_type": "code",
   "execution_count": 267,
   "metadata": {
    "collapsed": true
   },
   "outputs": [],
   "source": [
    "race_hold_df = pd.DataFrame([n, race_holds]).T"
   ]
  },
  {
   "cell_type": "code",
   "execution_count": 268,
   "metadata": {
    "collapsed": true
   },
   "outputs": [],
   "source": [
    "race_hold_df.columns = ['n', 'imm_hold']"
   ]
  },
  {
   "cell_type": "code",
   "execution_count": 269,
   "metadata": {
    "collapsed": true
   },
   "outputs": [],
   "source": [
    "race_hold_df['percent'] = race_hold_df['imm_hold']/race_hold_df['n'] *100"
   ]
  },
  {
   "cell_type": "code",
   "execution_count": 270,
   "metadata": {},
   "outputs": [
    {
     "data": {
      "text/html": [
       "<div>\n",
       "<style>\n",
       "    .dataframe thead tr:only-child th {\n",
       "        text-align: right;\n",
       "    }\n",
       "\n",
       "    .dataframe thead th {\n",
       "        text-align: left;\n",
       "    }\n",
       "\n",
       "    .dataframe tbody tr th {\n",
       "        vertical-align: top;\n",
       "    }\n",
       "</style>\n",
       "<table border=\"1\" class=\"dataframe\">\n",
       "  <thead>\n",
       "    <tr style=\"text-align: right;\">\n",
       "      <th></th>\n",
       "      <th>n</th>\n",
       "      <th>imm_hold</th>\n",
       "      <th>percent</th>\n",
       "    </tr>\n",
       "  </thead>\n",
       "  <tbody>\n",
       "    <tr>\n",
       "      <th>AMER INDIAN/ALASKAN</th>\n",
       "      <td>538</td>\n",
       "      <td>0</td>\n",
       "      <td>0.000000</td>\n",
       "    </tr>\n",
       "    <tr>\n",
       "      <th>ASIAN/PACIFIC ISLAND</th>\n",
       "      <td>1021</td>\n",
       "      <td>8</td>\n",
       "      <td>0.783546</td>\n",
       "    </tr>\n",
       "    <tr>\n",
       "      <th>BLACK</th>\n",
       "      <td>4236</td>\n",
       "      <td>3</td>\n",
       "      <td>0.070822</td>\n",
       "    </tr>\n",
       "    <tr>\n",
       "      <th>HISPANIC</th>\n",
       "      <td>1484</td>\n",
       "      <td>99</td>\n",
       "      <td>6.671159</td>\n",
       "    </tr>\n",
       "    <tr>\n",
       "      <th>WHITE</th>\n",
       "      <td>10373</td>\n",
       "      <td>5</td>\n",
       "      <td>0.048202</td>\n",
       "    </tr>\n",
       "  </tbody>\n",
       "</table>\n",
       "</div>"
      ],
      "text/plain": [
       "                          n  imm_hold   percent\n",
       "AMER INDIAN/ALASKAN     538         0  0.000000\n",
       "ASIAN/PACIFIC ISLAND   1021         8  0.783546\n",
       "BLACK                  4236         3  0.070822\n",
       "HISPANIC               1484        99  6.671159\n",
       "WHITE                 10373         5  0.048202"
      ]
     },
     "execution_count": 270,
     "metadata": {},
     "output_type": "execute_result"
    }
   ],
   "source": [
    "race_hold_df"
   ]
  },
  {
   "cell_type": "code",
   "execution_count": 271,
   "metadata": {
    "scrolled": true
   },
   "outputs": [
    {
     "data": {
      "text/plain": [
       "race_desc             imm_hold\n",
       "AMER INDIAN/ALASKAN   0             538\n",
       "ASIAN/PACIFIC ISLAND  0            1013\n",
       "                      1               8\n",
       "BLACK                 0            4233\n",
       "                      1               3\n",
       "HISPANIC              0            1385\n",
       "                      1              99\n",
       "WHITE                 0           10368\n",
       "                      1               5\n",
       "Name: imm_hold, dtype: int64"
      ]
     },
     "execution_count": 271,
     "metadata": {},
     "output_type": "execute_result"
    }
   ],
   "source": [
    "df.groupby('race_desc')['imm_hold'].value_counts()"
   ]
  },
  {
   "cell_type": "code",
   "execution_count": 272,
   "metadata": {
    "collapsed": true
   },
   "outputs": [],
   "source": [
    "sns.set(style=\"whitegrid\", color_codes=True)"
   ]
  },
  {
   "cell_type": "code",
   "execution_count": 273,
   "metadata": {},
   "outputs": [
    {
     "data": {
      "image/png": "[encoded data removed]",
      "text/plain": [
       "<matplotlib.figure.Figure at 0x11bde84e0>"
      ]
     },
     "metadata": {},
     "output_type": "display_data"
    }
   ],
   "source": [
    "# a4_dims = (11.7, 8.27)\n",
    "# fig, ax = plt.subplots(figsize=a4_dims)\n",
    "sns.stripplot(x=\"imm_hold\", y=\"log_time_detained\", hue=\"race_desc\", marker='o', data=df, jitter=True);\n",
    "sns.regplot(x=\"imm_hold\", y=\"log_time_detained\", truncate=True, marker='', data=df);"
   ]
  },
  {
   "cell_type": "code",
   "execution_count": 274,
   "metadata": {
    "scrolled": false
   },
   "outputs": [
    {
     "data": {
      "text/plain": [
       "<seaborn.axisgrid.FacetGrid at 0x11c8f5ba8>"
      ]
     },
     "execution_count": 274,
     "metadata": {},
     "output_type": "execute_result"
    },
    {
     "data": {
      "image/png": "[encoded data removed]",
      "text/plain": [
       "<matplotlib.figure.Figure at 0x11a849a58>"
      ]
     },
     "metadata": {},
     "output_type": "display_data"
    }
   ],
   "source": [
    "plt = sns.lmplot(x=\"imm_hold\", y=\"log_time_detained\", hue=\"race_desc\", truncate=True, markers='o', legend_out=False, x_jitter=0.05, data=df, size=7, aspect=1.25);\n",
    "plt.set(xticks=[0, 1])\n",
    "plt.despine()"
   ]
  },
  {
   "cell_type": "code",
   "execution_count": 275,
   "metadata": {
    "collapsed": true
   },
   "outputs": [],
   "source": [
    "hold = df['imm_hold'] == 1\n",
    "no_hold = df['imm_hold'] == 0\n",
    "release_to_imm = df['release_to_imm'] == 1\n",
    "no_release_to_imm = df['release_to_imm'] == 0"
   ]
  },
  {
   "cell_type": "code",
   "execution_count": 276,
   "metadata": {},
   "outputs": [
    {
     "data": {
      "text/html": [
       "<div>\n",
       "<style>\n",
       "    .dataframe thead tr:only-child th {\n",
       "        text-align: right;\n",
       "    }\n",
       "\n",
       "    .dataframe thead th {\n",
       "        text-align: left;\n",
       "    }\n",
       "\n",
       "    .dataframe tbody tr th {\n",
       "        vertical-align: top;\n",
       "    }\n",
       "</style>\n",
       "<table border=\"1\" class=\"dataframe\">\n",
       "  <thead>\n",
       "    <tr style=\"text-align: right;\">\n",
       "      <th></th>\n",
       "      <th>time_detained</th>\n",
       "      <th>amer_indian_alaskan</th>\n",
       "      <th>asian_pacific_island</th>\n",
       "      <th>black</th>\n",
       "      <th>hispanic</th>\n",
       "      <th>white</th>\n",
       "      <th>female</th>\n",
       "      <th>male</th>\n",
       "      <th>max_seriousness</th>\n",
       "      <th>felony</th>\n",
       "      <th>...</th>\n",
       "      <th>property</th>\n",
       "      <th>public_order</th>\n",
       "      <th>sex</th>\n",
       "      <th>violent</th>\n",
       "      <th>other</th>\n",
       "      <th>charge_count</th>\n",
       "      <th>charge_topcount</th>\n",
       "      <th>imm_hold</th>\n",
       "      <th>release_to_imm</th>\n",
       "      <th>log_time_detained</th>\n",
       "    </tr>\n",
       "  </thead>\n",
       "  <tbody>\n",
       "    <tr>\n",
       "      <th>count</th>\n",
       "      <td>115.000000</td>\n",
       "      <td>115.0</td>\n",
       "      <td>115.000000</td>\n",
       "      <td>115.000000</td>\n",
       "      <td>115.000000</td>\n",
       "      <td>115.000000</td>\n",
       "      <td>115.000000</td>\n",
       "      <td>115.000000</td>\n",
       "      <td>115.000000</td>\n",
       "      <td>115.000000</td>\n",
       "      <td>...</td>\n",
       "      <td>115.000000</td>\n",
       "      <td>115.000000</td>\n",
       "      <td>115.000000</td>\n",
       "      <td>115.000000</td>\n",
       "      <td>115.000000</td>\n",
       "      <td>115.000000</td>\n",
       "      <td>115.000000</td>\n",
       "      <td>115.0</td>\n",
       "      <td>115.000000</td>\n",
       "      <td>115.000000</td>\n",
       "    </tr>\n",
       "    <tr>\n",
       "      <th>mean</th>\n",
       "      <td>57.779825</td>\n",
       "      <td>0.0</td>\n",
       "      <td>0.069565</td>\n",
       "      <td>0.026087</td>\n",
       "      <td>0.860870</td>\n",
       "      <td>0.043478</td>\n",
       "      <td>0.034783</td>\n",
       "      <td>0.965217</td>\n",
       "      <td>4.017391</td>\n",
       "      <td>0.739130</td>\n",
       "      <td>...</td>\n",
       "      <td>0.156522</td>\n",
       "      <td>0.295652</td>\n",
       "      <td>0.069565</td>\n",
       "      <td>0.234783</td>\n",
       "      <td>0.052174</td>\n",
       "      <td>1.965217</td>\n",
       "      <td>1.965217</td>\n",
       "      <td>1.0</td>\n",
       "      <td>0.660870</td>\n",
       "      <td>2.807479</td>\n",
       "    </tr>\n",
       "    <tr>\n",
       "      <th>std</th>\n",
       "      <td>78.822765</td>\n",
       "      <td>0.0</td>\n",
       "      <td>0.255526</td>\n",
       "      <td>0.160092</td>\n",
       "      <td>0.347597</td>\n",
       "      <td>0.204824</td>\n",
       "      <td>0.184031</td>\n",
       "      <td>0.184031</td>\n",
       "      <td>1.311104</td>\n",
       "      <td>0.441031</td>\n",
       "      <td>...</td>\n",
       "      <td>0.364939</td>\n",
       "      <td>0.458332</td>\n",
       "      <td>0.255526</td>\n",
       "      <td>0.425718</td>\n",
       "      <td>0.223351</td>\n",
       "      <td>1.695869</td>\n",
       "      <td>1.695869</td>\n",
       "      <td>0.0</td>\n",
       "      <td>0.475486</td>\n",
       "      <td>1.890382</td>\n",
       "    </tr>\n",
       "    <tr>\n",
       "      <th>min</th>\n",
       "      <td>0.647222</td>\n",
       "      <td>0.0</td>\n",
       "      <td>0.000000</td>\n",
       "      <td>0.000000</td>\n",
       "      <td>0.000000</td>\n",
       "      <td>0.000000</td>\n",
       "      <td>0.000000</td>\n",
       "      <td>0.000000</td>\n",
       "      <td>0.000000</td>\n",
       "      <td>0.000000</td>\n",
       "      <td>...</td>\n",
       "      <td>0.000000</td>\n",
       "      <td>0.000000</td>\n",
       "      <td>0.000000</td>\n",
       "      <td>0.000000</td>\n",
       "      <td>0.000000</td>\n",
       "      <td>0.000000</td>\n",
       "      <td>0.000000</td>\n",
       "      <td>1.0</td>\n",
       "      <td>0.000000</td>\n",
       "      <td>-0.435066</td>\n",
       "    </tr>\n",
       "    <tr>\n",
       "      <th>25%</th>\n",
       "      <td>2.377083</td>\n",
       "      <td>0.0</td>\n",
       "      <td>0.000000</td>\n",
       "      <td>0.000000</td>\n",
       "      <td>1.000000</td>\n",
       "      <td>0.000000</td>\n",
       "      <td>0.000000</td>\n",
       "      <td>1.000000</td>\n",
       "      <td>3.000000</td>\n",
       "      <td>0.000000</td>\n",
       "      <td>...</td>\n",
       "      <td>0.000000</td>\n",
       "      <td>0.000000</td>\n",
       "      <td>0.000000</td>\n",
       "      <td>0.000000</td>\n",
       "      <td>0.000000</td>\n",
       "      <td>1.000000</td>\n",
       "      <td>1.000000</td>\n",
       "      <td>1.0</td>\n",
       "      <td>0.000000</td>\n",
       "      <td>0.865001</td>\n",
       "    </tr>\n",
       "    <tr>\n",
       "      <th>50%</th>\n",
       "      <td>24.320139</td>\n",
       "      <td>0.0</td>\n",
       "      <td>0.000000</td>\n",
       "      <td>0.000000</td>\n",
       "      <td>1.000000</td>\n",
       "      <td>0.000000</td>\n",
       "      <td>0.000000</td>\n",
       "      <td>1.000000</td>\n",
       "      <td>4.000000</td>\n",
       "      <td>1.000000</td>\n",
       "      <td>...</td>\n",
       "      <td>0.000000</td>\n",
       "      <td>0.000000</td>\n",
       "      <td>0.000000</td>\n",
       "      <td>0.000000</td>\n",
       "      <td>0.000000</td>\n",
       "      <td>1.000000</td>\n",
       "      <td>1.000000</td>\n",
       "      <td>1.0</td>\n",
       "      <td>1.000000</td>\n",
       "      <td>3.191305</td>\n",
       "    </tr>\n",
       "    <tr>\n",
       "      <th>75%</th>\n",
       "      <td>81.071875</td>\n",
       "      <td>0.0</td>\n",
       "      <td>0.000000</td>\n",
       "      <td>0.000000</td>\n",
       "      <td>1.000000</td>\n",
       "      <td>0.000000</td>\n",
       "      <td>0.000000</td>\n",
       "      <td>1.000000</td>\n",
       "      <td>5.000000</td>\n",
       "      <td>1.000000</td>\n",
       "      <td>...</td>\n",
       "      <td>0.000000</td>\n",
       "      <td>1.000000</td>\n",
       "      <td>0.000000</td>\n",
       "      <td>0.000000</td>\n",
       "      <td>0.000000</td>\n",
       "      <td>3.000000</td>\n",
       "      <td>3.000000</td>\n",
       "      <td>1.0</td>\n",
       "      <td>1.000000</td>\n",
       "      <td>4.395332</td>\n",
       "    </tr>\n",
       "    <tr>\n",
       "      <th>max</th>\n",
       "      <td>405.518056</td>\n",
       "      <td>0.0</td>\n",
       "      <td>1.000000</td>\n",
       "      <td>1.000000</td>\n",
       "      <td>1.000000</td>\n",
       "      <td>1.000000</td>\n",
       "      <td>1.000000</td>\n",
       "      <td>1.000000</td>\n",
       "      <td>6.000000</td>\n",
       "      <td>1.000000</td>\n",
       "      <td>...</td>\n",
       "      <td>1.000000</td>\n",
       "      <td>1.000000</td>\n",
       "      <td>1.000000</td>\n",
       "      <td>1.000000</td>\n",
       "      <td>1.000000</td>\n",
       "      <td>9.000000</td>\n",
       "      <td>9.000000</td>\n",
       "      <td>1.0</td>\n",
       "      <td>1.000000</td>\n",
       "      <td>6.005165</td>\n",
       "    </tr>\n",
       "  </tbody>\n",
       "</table>\n",
       "<p>8 rows × 22 columns</p>\n",
       "</div>"
      ],
      "text/plain": [
       "       time_detained  amer_indian_alaskan  asian_pacific_island       black  \\\n",
       "count     115.000000                115.0            115.000000  115.000000   \n",
       "mean       57.779825                  0.0              0.069565    0.026087   \n",
       "std        78.822765                  0.0              0.255526    0.160092   \n",
       "min         0.647222                  0.0              0.000000    0.000000   \n",
       "25%         2.377083                  0.0              0.000000    0.000000   \n",
       "50%        24.320139                  0.0              0.000000    0.000000   \n",
       "75%        81.071875                  0.0              0.000000    0.000000   \n",
       "max       405.518056                  0.0              1.000000    1.000000   \n",
       "\n",
       "         hispanic       white      female        male  max_seriousness  \\\n",
       "count  115.000000  115.000000  115.000000  115.000000       115.000000   \n",
       "mean     0.860870    0.043478    0.034783    0.965217         4.017391   \n",
       "std      0.347597    0.204824    0.184031    0.184031         1.311104   \n",
       "min      0.000000    0.000000    0.000000    0.000000         0.000000   \n",
       "25%      1.000000    0.000000    0.000000    1.000000         3.000000   \n",
       "50%      1.000000    0.000000    0.000000    1.000000         4.000000   \n",
       "75%      1.000000    0.000000    0.000000    1.000000         5.000000   \n",
       "max      1.000000    1.000000    1.000000    1.000000         6.000000   \n",
       "\n",
       "           felony        ...            property  public_order         sex  \\\n",
       "count  115.000000        ...          115.000000    115.000000  115.000000   \n",
       "mean     0.739130        ...            0.156522      0.295652    0.069565   \n",
       "std      0.441031        ...            0.364939      0.458332    0.255526   \n",
       "min      0.000000        ...            0.000000      0.000000    0.000000   \n",
       "25%      0.000000        ...            0.000000      0.000000    0.000000   \n",
       "50%      1.000000        ...            0.000000      0.000000    0.000000   \n",
       "75%      1.000000        ...            0.000000      1.000000    0.000000   \n",
       "max      1.000000        ...            1.000000      1.000000    1.000000   \n",
       "\n",
       "          violent       other  charge_count  charge_topcount  imm_hold  \\\n",
       "count  115.000000  115.000000    115.000000       115.000000     115.0   \n",
       "mean     0.234783    0.052174      1.965217         1.965217       1.0   \n",
       "std      0.425718    0.223351      1.695869         1.695869       0.0   \n",
       "min      0.000000    0.000000      0.000000         0.000000       1.0   \n",
       "25%      0.000000    0.000000      1.000000         1.000000       1.0   \n",
       "50%      0.000000    0.000000      1.000000         1.000000       1.0   \n",
       "75%      0.000000    0.000000      3.000000         3.000000       1.0   \n",
       "max      1.000000    1.000000      9.000000         9.000000       1.0   \n",
       "\n",
       "       release_to_imm  log_time_detained  \n",
       "count      115.000000         115.000000  \n",
       "mean         0.660870           2.807479  \n",
       "std          0.475486           1.890382  \n",
       "min          0.000000          -0.435066  \n",
       "25%          0.000000           0.865001  \n",
       "50%          1.000000           3.191305  \n",
       "75%          1.000000           4.395332  \n",
       "max          1.000000           6.005165  \n",
       "\n",
       "[8 rows x 22 columns]"
      ]
     },
     "execution_count": 276,
     "metadata": {},
     "output_type": "execute_result"
    }
   ],
   "source": [
    "df[hold].describe()"
   ]
  },
  {
   "cell_type": "code",
   "execution_count": 277,
   "metadata": {},
   "outputs": [
    {
     "data": {
      "text/html": [
       "<div>\n",
       "<style>\n",
       "    .dataframe thead tr:only-child th {\n",
       "        text-align: right;\n",
       "    }\n",
       "\n",
       "    .dataframe thead th {\n",
       "        text-align: left;\n",
       "    }\n",
       "\n",
       "    .dataframe tbody tr th {\n",
       "        vertical-align: top;\n",
       "    }\n",
       "</style>\n",
       "<table border=\"1\" class=\"dataframe\">\n",
       "  <thead>\n",
       "    <tr style=\"text-align: right;\">\n",
       "      <th></th>\n",
       "      <th>time_detained</th>\n",
       "      <th>amer_indian_alaskan</th>\n",
       "      <th>asian_pacific_island</th>\n",
       "      <th>black</th>\n",
       "      <th>hispanic</th>\n",
       "      <th>white</th>\n",
       "      <th>female</th>\n",
       "      <th>male</th>\n",
       "      <th>max_seriousness</th>\n",
       "      <th>felony</th>\n",
       "      <th>...</th>\n",
       "      <th>property</th>\n",
       "      <th>public_order</th>\n",
       "      <th>sex</th>\n",
       "      <th>violent</th>\n",
       "      <th>other</th>\n",
       "      <th>charge_count</th>\n",
       "      <th>charge_topcount</th>\n",
       "      <th>imm_hold</th>\n",
       "      <th>release_to_imm</th>\n",
       "      <th>log_time_detained</th>\n",
       "    </tr>\n",
       "  </thead>\n",
       "  <tbody>\n",
       "    <tr>\n",
       "      <th>count</th>\n",
       "      <td>17652.000000</td>\n",
       "      <td>17652.000000</td>\n",
       "      <td>17652.000000</td>\n",
       "      <td>17652.000000</td>\n",
       "      <td>17652.00000</td>\n",
       "      <td>17652.000000</td>\n",
       "      <td>17652.000000</td>\n",
       "      <td>17652.000000</td>\n",
       "      <td>17652.000000</td>\n",
       "      <td>17652.000000</td>\n",
       "      <td>...</td>\n",
       "      <td>17652.000000</td>\n",
       "      <td>17652.000000</td>\n",
       "      <td>17652.000000</td>\n",
       "      <td>17652.000000</td>\n",
       "      <td>17652.000000</td>\n",
       "      <td>17652.000000</td>\n",
       "      <td>17652.000000</td>\n",
       "      <td>17652.000000</td>\n",
       "      <td>17652.000000</td>\n",
       "      <td>17652.000000</td>\n",
       "    </tr>\n",
       "    <tr>\n",
       "      <th>mean</th>\n",
       "      <td>25.359933</td>\n",
       "      <td>0.030478</td>\n",
       "      <td>0.057840</td>\n",
       "      <td>0.239973</td>\n",
       "      <td>0.08407</td>\n",
       "      <td>0.587639</td>\n",
       "      <td>0.238330</td>\n",
       "      <td>0.761670</td>\n",
       "      <td>3.521187</td>\n",
       "      <td>0.612169</td>\n",
       "      <td>...</td>\n",
       "      <td>0.241672</td>\n",
       "      <td>0.272207</td>\n",
       "      <td>0.015862</td>\n",
       "      <td>0.240539</td>\n",
       "      <td>0.119533</td>\n",
       "      <td>1.789259</td>\n",
       "      <td>1.782801</td>\n",
       "      <td>0.006515</td>\n",
       "      <td>0.004362</td>\n",
       "      <td>1.345339</td>\n",
       "    </tr>\n",
       "    <tr>\n",
       "      <th>std</th>\n",
       "      <td>62.996963</td>\n",
       "      <td>0.171904</td>\n",
       "      <td>0.233448</td>\n",
       "      <td>0.427079</td>\n",
       "      <td>0.27750</td>\n",
       "      <td>0.492273</td>\n",
       "      <td>0.426074</td>\n",
       "      <td>0.426074</td>\n",
       "      <td>1.579590</td>\n",
       "      <td>0.487270</td>\n",
       "      <td>...</td>\n",
       "      <td>0.428109</td>\n",
       "      <td>0.445109</td>\n",
       "      <td>0.124946</td>\n",
       "      <td>0.427423</td>\n",
       "      <td>0.324424</td>\n",
       "      <td>1.682895</td>\n",
       "      <td>1.642091</td>\n",
       "      <td>0.080454</td>\n",
       "      <td>0.065904</td>\n",
       "      <td>2.142756</td>\n",
       "    </tr>\n",
       "    <tr>\n",
       "      <th>min</th>\n",
       "      <td>0.004861</td>\n",
       "      <td>0.000000</td>\n",
       "      <td>0.000000</td>\n",
       "      <td>0.000000</td>\n",
       "      <td>0.00000</td>\n",
       "      <td>0.000000</td>\n",
       "      <td>0.000000</td>\n",
       "      <td>0.000000</td>\n",
       "      <td>0.000000</td>\n",
       "      <td>0.000000</td>\n",
       "      <td>...</td>\n",
       "      <td>0.000000</td>\n",
       "      <td>0.000000</td>\n",
       "      <td>0.000000</td>\n",
       "      <td>0.000000</td>\n",
       "      <td>0.000000</td>\n",
       "      <td>0.000000</td>\n",
       "      <td>0.000000</td>\n",
       "      <td>0.000000</td>\n",
       "      <td>0.000000</td>\n",
       "      <td>-5.326488</td>\n",
       "    </tr>\n",
       "    <tr>\n",
       "      <th>25%</th>\n",
       "      <td>0.965972</td>\n",
       "      <td>0.000000</td>\n",
       "      <td>0.000000</td>\n",
       "      <td>0.000000</td>\n",
       "      <td>0.00000</td>\n",
       "      <td>0.000000</td>\n",
       "      <td>0.000000</td>\n",
       "      <td>1.000000</td>\n",
       "      <td>3.000000</td>\n",
       "      <td>0.000000</td>\n",
       "      <td>...</td>\n",
       "      <td>0.000000</td>\n",
       "      <td>0.000000</td>\n",
       "      <td>0.000000</td>\n",
       "      <td>0.000000</td>\n",
       "      <td>0.000000</td>\n",
       "      <td>1.000000</td>\n",
       "      <td>1.000000</td>\n",
       "      <td>0.000000</td>\n",
       "      <td>0.000000</td>\n",
       "      <td>-0.034620</td>\n",
       "    </tr>\n",
       "    <tr>\n",
       "      <th>50%</th>\n",
       "      <td>2.836111</td>\n",
       "      <td>0.000000</td>\n",
       "      <td>0.000000</td>\n",
       "      <td>0.000000</td>\n",
       "      <td>0.00000</td>\n",
       "      <td>1.000000</td>\n",
       "      <td>0.000000</td>\n",
       "      <td>1.000000</td>\n",
       "      <td>4.000000</td>\n",
       "      <td>1.000000</td>\n",
       "      <td>...</td>\n",
       "      <td>0.000000</td>\n",
       "      <td>0.000000</td>\n",
       "      <td>0.000000</td>\n",
       "      <td>0.000000</td>\n",
       "      <td>0.000000</td>\n",
       "      <td>1.000000</td>\n",
       "      <td>1.000000</td>\n",
       "      <td>0.000000</td>\n",
       "      <td>0.000000</td>\n",
       "      <td>1.042434</td>\n",
       "    </tr>\n",
       "    <tr>\n",
       "      <th>75%</th>\n",
       "      <td>20.833507</td>\n",
       "      <td>0.000000</td>\n",
       "      <td>0.000000</td>\n",
       "      <td>0.000000</td>\n",
       "      <td>0.00000</td>\n",
       "      <td>1.000000</td>\n",
       "      <td>0.000000</td>\n",
       "      <td>1.000000</td>\n",
       "      <td>5.000000</td>\n",
       "      <td>1.000000</td>\n",
       "      <td>...</td>\n",
       "      <td>0.000000</td>\n",
       "      <td>1.000000</td>\n",
       "      <td>0.000000</td>\n",
       "      <td>0.000000</td>\n",
       "      <td>0.000000</td>\n",
       "      <td>2.000000</td>\n",
       "      <td>2.000000</td>\n",
       "      <td>0.000000</td>\n",
       "      <td>0.000000</td>\n",
       "      <td>3.036563</td>\n",
       "    </tr>\n",
       "    <tr>\n",
       "      <th>max</th>\n",
       "      <td>1314.554167</td>\n",
       "      <td>1.000000</td>\n",
       "      <td>1.000000</td>\n",
       "      <td>1.000000</td>\n",
       "      <td>1.00000</td>\n",
       "      <td>1.000000</td>\n",
       "      <td>1.000000</td>\n",
       "      <td>1.000000</td>\n",
       "      <td>6.000000</td>\n",
       "      <td>1.000000</td>\n",
       "      <td>...</td>\n",
       "      <td>1.000000</td>\n",
       "      <td>1.000000</td>\n",
       "      <td>1.000000</td>\n",
       "      <td>1.000000</td>\n",
       "      <td>1.000000</td>\n",
       "      <td>21.000000</td>\n",
       "      <td>10.000000</td>\n",
       "      <td>1.000000</td>\n",
       "      <td>1.000000</td>\n",
       "      <td>7.181253</td>\n",
       "    </tr>\n",
       "  </tbody>\n",
       "</table>\n",
       "<p>8 rows × 22 columns</p>\n",
       "</div>"
      ],
      "text/plain": [
       "       time_detained  amer_indian_alaskan  asian_pacific_island         black  \\\n",
       "count   17652.000000         17652.000000          17652.000000  17652.000000   \n",
       "mean       25.359933             0.030478              0.057840      0.239973   \n",
       "std        62.996963             0.171904              0.233448      0.427079   \n",
       "min         0.004861             0.000000              0.000000      0.000000   \n",
       "25%         0.965972             0.000000              0.000000      0.000000   \n",
       "50%         2.836111             0.000000              0.000000      0.000000   \n",
       "75%        20.833507             0.000000              0.000000      0.000000   \n",
       "max      1314.554167             1.000000              1.000000      1.000000   \n",
       "\n",
       "          hispanic         white        female          male  max_seriousness  \\\n",
       "count  17652.00000  17652.000000  17652.000000  17652.000000     17652.000000   \n",
       "mean       0.08407      0.587639      0.238330      0.761670         3.521187   \n",
       "std        0.27750      0.492273      0.426074      0.426074         1.579590   \n",
       "min        0.00000      0.000000      0.000000      0.000000         0.000000   \n",
       "25%        0.00000      0.000000      0.000000      1.000000         3.000000   \n",
       "50%        0.00000      1.000000      0.000000      1.000000         4.000000   \n",
       "75%        0.00000      1.000000      0.000000      1.000000         5.000000   \n",
       "max        1.00000      1.000000      1.000000      1.000000         6.000000   \n",
       "\n",
       "             felony        ...              property  public_order  \\\n",
       "count  17652.000000        ...          17652.000000  17652.000000   \n",
       "mean       0.612169        ...              0.241672      0.272207   \n",
       "std        0.487270        ...              0.428109      0.445109   \n",
       "min        0.000000        ...              0.000000      0.000000   \n",
       "25%        0.000000        ...              0.000000      0.000000   \n",
       "50%        1.000000        ...              0.000000      0.000000   \n",
       "75%        1.000000        ...              0.000000      1.000000   \n",
       "max        1.000000        ...              1.000000      1.000000   \n",
       "\n",
       "                sex       violent         other  charge_count  \\\n",
       "count  17652.000000  17652.000000  17652.000000  17652.000000   \n",
       "mean       0.015862      0.240539      0.119533      1.789259   \n",
       "std        0.124946      0.427423      0.324424      1.682895   \n",
       "min        0.000000      0.000000      0.000000      0.000000   \n",
       "25%        0.000000      0.000000      0.000000      1.000000   \n",
       "50%        0.000000      0.000000      0.000000      1.000000   \n",
       "75%        0.000000      0.000000      0.000000      2.000000   \n",
       "max        1.000000      1.000000      1.000000     21.000000   \n",
       "\n",
       "       charge_topcount      imm_hold  release_to_imm  log_time_detained  \n",
       "count     17652.000000  17652.000000    17652.000000       17652.000000  \n",
       "mean          1.782801      0.006515        0.004362           1.345339  \n",
       "std           1.642091      0.080454        0.065904           2.142756  \n",
       "min           0.000000      0.000000        0.000000          -5.326488  \n",
       "25%           1.000000      0.000000        0.000000          -0.034620  \n",
       "50%           1.000000      0.000000        0.000000           1.042434  \n",
       "75%           2.000000      0.000000        0.000000           3.036563  \n",
       "max          10.000000      1.000000        1.000000           7.181253  \n",
       "\n",
       "[8 rows x 22 columns]"
      ]
     },
     "execution_count": 277,
     "metadata": {},
     "output_type": "execute_result"
    }
   ],
   "source": [
    "df.describe()"
   ]
  },
  {
   "cell_type": "code",
   "execution_count": 278,
   "metadata": {},
   "outputs": [
    {
     "data": {
      "text/plain": [
       "public_order    34\n",
       "violent         27\n",
       "drug            22\n",
       "property        18\n",
       "sex              8\n",
       "other            6\n",
       "Name: max_charge_type, dtype: int64"
      ]
     },
     "execution_count": 278,
     "metadata": {},
     "output_type": "execute_result"
    }
   ],
   "source": [
    "df[hold]['max_charge_type'].value_counts()"
   ]
  },
  {
   "cell_type": "code",
   "execution_count": 279,
   "metadata": {},
   "outputs": [
    {
     "data": {
      "text/plain": [
       "DWI                          15\n",
       "UPCS                         11\n",
       "UPCS W INTENT                 8\n",
       "POSSESS STOLEN VEHICLE        6\n",
       "DUI WITH PRIOR CONVICTION     5\n",
       "Name: max_charge_desc, dtype: int64"
      ]
     },
     "execution_count": 279,
     "metadata": {},
     "output_type": "execute_result"
    }
   ],
   "source": [
    "df[hold]['max_charge_desc'].value_counts().head()"
   ]
  },
  {
   "cell_type": "code",
   "execution_count": 280,
   "metadata": {},
   "outputs": [
    {
     "data": {
      "text/plain": [
       "1    73.913043\n",
       "0    26.086957\n",
       "Name: felony, dtype: float64"
      ]
     },
     "execution_count": 280,
     "metadata": {},
     "output_type": "execute_result"
    }
   ],
   "source": [
    "df[hold]['felony'].value_counts() / sum(hold) * 100"
   ]
  },
  {
   "cell_type": "code",
   "execution_count": 281,
   "metadata": {},
   "outputs": [
    {
     "data": {
      "text/plain": [
       "1    10721\n",
       "0     6816\n",
       "Name: felony, dtype: int64"
      ]
     },
     "execution_count": 281,
     "metadata": {},
     "output_type": "execute_result"
    }
   ],
   "source": [
    "df[~hold]['felony'].value_counts()"
   ]
  },
  {
   "cell_type": "code",
   "execution_count": 282,
   "metadata": {},
   "outputs": [
    {
     "data": {
      "text/plain": [
       "1    61.216859\n",
       "0    38.783141\n",
       "Name: felony, dtype: float64"
      ]
     },
     "execution_count": 282,
     "metadata": {},
     "output_type": "execute_result"
    }
   ],
   "source": [
    "df['felony'].value_counts() / len(df) * 100"
   ]
  },
  {
   "cell_type": "code",
   "execution_count": 283,
   "metadata": {},
   "outputs": [
    {
     "data": {
      "text/html": [
       "<div>\n",
       "<style>\n",
       "    .dataframe thead tr:only-child th {\n",
       "        text-align: right;\n",
       "    }\n",
       "\n",
       "    .dataframe thead th {\n",
       "        text-align: left;\n",
       "    }\n",
       "\n",
       "    .dataframe tbody tr th {\n",
       "        vertical-align: top;\n",
       "    }\n",
       "</style>\n",
       "<table border=\"1\" class=\"dataframe\">\n",
       "  <thead>\n",
       "    <tr style=\"text-align: right;\">\n",
       "      <th>imm_hold</th>\n",
       "      <th>0</th>\n",
       "      <th>1</th>\n",
       "      <th>All</th>\n",
       "    </tr>\n",
       "    <tr>\n",
       "      <th>felony</th>\n",
       "      <th></th>\n",
       "      <th></th>\n",
       "      <th></th>\n",
       "    </tr>\n",
       "  </thead>\n",
       "  <tbody>\n",
       "    <tr>\n",
       "      <th>0</th>\n",
       "      <td>38.866397</td>\n",
       "      <td>26.086957</td>\n",
       "      <td>38.783141</td>\n",
       "    </tr>\n",
       "    <tr>\n",
       "      <th>1</th>\n",
       "      <td>61.133603</td>\n",
       "      <td>73.913043</td>\n",
       "      <td>61.216859</td>\n",
       "    </tr>\n",
       "  </tbody>\n",
       "</table>\n",
       "</div>"
      ],
      "text/plain": [
       "imm_hold          0          1        All\n",
       "felony                                   \n",
       "0         38.866397  26.086957  38.783141\n",
       "1         61.133603  73.913043  61.216859"
      ]
     },
     "execution_count": 283,
     "metadata": {},
     "output_type": "execute_result"
    }
   ],
   "source": [
    "pd.crosstab(df.felony, df.imm_hold, margins=True, normalize='columns') * 100"
   ]
  },
  {
   "cell_type": "code",
   "execution_count": 284,
   "metadata": {},
   "outputs": [
    {
     "data": {
      "text/html": [
       "<div>\n",
       "<style>\n",
       "    .dataframe thead tr:only-child th {\n",
       "        text-align: right;\n",
       "    }\n",
       "\n",
       "    .dataframe thead th {\n",
       "        text-align: left;\n",
       "    }\n",
       "\n",
       "    .dataframe tbody tr th {\n",
       "        vertical-align: top;\n",
       "    }\n",
       "</style>\n",
       "<table border=\"1\" class=\"dataframe\">\n",
       "  <thead>\n",
       "    <tr style=\"text-align: right;\">\n",
       "      <th>imm_hold</th>\n",
       "      <th>0</th>\n",
       "      <th>1</th>\n",
       "    </tr>\n",
       "    <tr>\n",
       "      <th>felony</th>\n",
       "      <th></th>\n",
       "      <th></th>\n",
       "    </tr>\n",
       "  </thead>\n",
       "  <tbody>\n",
       "    <tr>\n",
       "      <th>0</th>\n",
       "      <td>6816</td>\n",
       "      <td>30</td>\n",
       "    </tr>\n",
       "    <tr>\n",
       "      <th>1</th>\n",
       "      <td>10721</td>\n",
       "      <td>85</td>\n",
       "    </tr>\n",
       "  </tbody>\n",
       "</table>\n",
       "</div>"
      ],
      "text/plain": [
       "imm_hold      0   1\n",
       "felony             \n",
       "0          6816  30\n",
       "1         10721  85"
      ]
     },
     "execution_count": 284,
     "metadata": {},
     "output_type": "execute_result"
    }
   ],
   "source": [
    "pd.crosstab(df.felony, df.imm_hold)"
   ]
  },
  {
   "cell_type": "markdown",
   "metadata": {},
   "source": [
    "Significant relationship between felony and presence of immigration hold"
   ]
  },
  {
   "cell_type": "code",
   "execution_count": 285,
   "metadata": {},
   "outputs": [
    {
     "data": {
      "text/plain": [
       "(7.3299779868669797,\n",
       " 0.0067813884427315885,\n",
       " 1,\n",
       " array([[  6801.39938817,     44.60061183],\n",
       "        [ 10735.60061183,     70.39938817]]))"
      ]
     },
     "execution_count": 285,
     "metadata": {},
     "output_type": "execute_result"
    }
   ],
   "source": [
    "scipystats.chi2_contingency(pd.crosstab(df.felony, df.imm_hold))"
   ]
  },
  {
   "cell_type": "code",
   "execution_count": 286,
   "metadata": {},
   "outputs": [
    {
     "data": {
      "text/plain": [
       "(12.766834322308034,\n",
       " 0.046891736755448714,\n",
       " 6,\n",
       " array([[  2.11413642e+03,   1.38635849e+01],\n",
       "        [  1.39087922e+01,   9.12077952e-02],\n",
       "        [  7.23257195e+02,   4.74280535e+00],\n",
       "        [  3.95009699e+03,   2.59030138e+01],\n",
       "        [  5.97879368e+03,   3.92063222e+01],\n",
       "        [  4.01566701e+03,   2.63329934e+01],\n",
       "        [  7.41139927e+02,   4.86007251e+00]]))"
      ]
     },
     "execution_count": 286,
     "metadata": {},
     "output_type": "execute_result"
    }
   ],
   "source": [
    "scipystats.chi2_contingency(pd.crosstab(df.max_seriousness, df.imm_hold))"
   ]
  },
  {
   "cell_type": "code",
   "execution_count": 287,
   "metadata": {},
   "outputs": [
    {
     "data": {
      "text/html": [
       "<div>\n",
       "<style>\n",
       "    .dataframe thead tr:only-child th {\n",
       "        text-align: right;\n",
       "    }\n",
       "\n",
       "    .dataframe thead th {\n",
       "        text-align: left;\n",
       "    }\n",
       "\n",
       "    .dataframe tbody tr th {\n",
       "        vertical-align: top;\n",
       "    }\n",
       "</style>\n",
       "<table border=\"1\" class=\"dataframe\">\n",
       "  <thead>\n",
       "    <tr style=\"text-align: right;\">\n",
       "      <th>felony</th>\n",
       "      <th>0</th>\n",
       "      <th>1</th>\n",
       "    </tr>\n",
       "    <tr>\n",
       "      <th>race_desc</th>\n",
       "      <th></th>\n",
       "      <th></th>\n",
       "    </tr>\n",
       "  </thead>\n",
       "  <tbody>\n",
       "    <tr>\n",
       "      <th>AMER INDIAN/ALASKAN</th>\n",
       "      <td>41.635688</td>\n",
       "      <td>58.364312</td>\n",
       "    </tr>\n",
       "    <tr>\n",
       "      <th>ASIAN/PACIFIC ISLAND</th>\n",
       "      <td>36.826641</td>\n",
       "      <td>63.173359</td>\n",
       "    </tr>\n",
       "    <tr>\n",
       "      <th>BLACK</th>\n",
       "      <td>37.865911</td>\n",
       "      <td>62.134089</td>\n",
       "    </tr>\n",
       "    <tr>\n",
       "      <th>HISPANIC</th>\n",
       "      <td>37.398922</td>\n",
       "      <td>62.601078</td>\n",
       "    </tr>\n",
       "    <tr>\n",
       "      <th>WHITE</th>\n",
       "      <td>39.400366</td>\n",
       "      <td>60.599634</td>\n",
       "    </tr>\n",
       "    <tr>\n",
       "      <th>All</th>\n",
       "      <td>38.783141</td>\n",
       "      <td>61.216859</td>\n",
       "    </tr>\n",
       "  </tbody>\n",
       "</table>\n",
       "</div>"
      ],
      "text/plain": [
       "felony                        0          1\n",
       "race_desc                                 \n",
       "AMER INDIAN/ALASKAN   41.635688  58.364312\n",
       "ASIAN/PACIFIC ISLAND  36.826641  63.173359\n",
       "BLACK                 37.865911  62.134089\n",
       "HISPANIC              37.398922  62.601078\n",
       "WHITE                 39.400366  60.599634\n",
       "All                   38.783141  61.216859"
      ]
     },
     "execution_count": 287,
     "metadata": {},
     "output_type": "execute_result"
    }
   ],
   "source": [
    "pd.crosstab(df.race_desc, df.felony, margins=True, normalize='index') * 100"
   ]
  },
  {
   "cell_type": "markdown",
   "metadata": {},
   "source": [
    "Insignificant relationship between felony and race"
   ]
  },
  {
   "cell_type": "code",
   "execution_count": 288,
   "metadata": {},
   "outputs": [
    {
     "data": {
      "text/plain": [
       "(7.8532300839048235,\n",
       " 0.097104953187627005,\n",
       " 4,\n",
       " array([[  208.65329708,   329.34670292],\n",
       "        [  395.97586676,   625.02413324],\n",
       "        [ 1642.85384092,  2593.14615908],\n",
       "        [  575.54180829,   908.45819171],\n",
       "        [ 4022.97518695,  6350.02481305]]))"
      ]
     },
     "execution_count": 288,
     "metadata": {},
     "output_type": "execute_result"
    }
   ],
   "source": [
    "scipystats.chi2_contingency(pd.crosstab(df.race_desc, df.felony))"
   ]
  },
  {
   "cell_type": "code",
   "execution_count": 289,
   "metadata": {},
   "outputs": [
    {
     "data": {
      "text/plain": [
       "4.0    42\n",
       "5.0    34\n",
       "3.0    22\n",
       "6.0     9\n",
       "0.0     6\n",
       "2.0     2\n",
       "Name: max_seriousness, dtype: int64"
      ]
     },
     "execution_count": 289,
     "metadata": {},
     "output_type": "execute_result"
    }
   ],
   "source": [
    "df[hold]['max_seriousness'].value_counts()"
   ]
  },
  {
   "cell_type": "code",
   "execution_count": 290,
   "metadata": {},
   "outputs": [
    {
     "data": {
      "text/plain": [
       "count    115.000000\n",
       "mean       1.965217\n",
       "std        1.695869\n",
       "min        0.000000\n",
       "25%        1.000000\n",
       "50%        1.000000\n",
       "75%        3.000000\n",
       "max        9.000000\n",
       "Name: charge_topcount, dtype: float64"
      ]
     },
     "execution_count": 290,
     "metadata": {},
     "output_type": "execute_result"
    }
   ],
   "source": [
    "df[hold]['charge_topcount'].describe()"
   ]
  },
  {
   "cell_type": "code",
   "execution_count": 291,
   "metadata": {},
   "outputs": [
    {
     "name": "stdout",
     "output_type": "stream",
     "text": [
      "race_desc\n",
      "ASIAN/PACIFIC ISLAND     6.956522\n",
      "BLACK                    2.608696\n",
      "HISPANIC                86.086957\n",
      "WHITE                    4.347826\n",
      "Name: race_desc, dtype: float64\n",
      "\n",
      "\n",
      "n = 17652\n"
     ]
    }
   ],
   "source": [
    "print(df[hold].groupby('race_desc')['race_desc'].count() / len(df[hold]) * 100)\n",
    "print('\\n')\n",
    "print(f'n = {len(hold)}')"
   ]
  },
  {
   "cell_type": "code",
   "execution_count": 292,
   "metadata": {},
   "outputs": [
    {
     "name": "stdout",
     "output_type": "stream",
     "text": [
      "race_desc\n",
      "AMER INDIAN/ALASKAN      3.047813\n",
      "ASIAN/PACIFIC ISLAND     5.784047\n",
      "BLACK                   23.997281\n",
      "HISPANIC                 8.406979\n",
      "WHITE                   58.763879\n",
      "Name: race_desc, dtype: float64\n",
      "\n",
      "\n",
      "n = 17652\n"
     ]
    }
   ],
   "source": [
    "print(df.groupby('race_desc')['race_desc'].count() / len(df) * 100)\n",
    "print('\\n')\n",
    "print(f'n = {len(df)}')"
   ]
  },
  {
   "cell_type": "code",
   "execution_count": 293,
   "metadata": {},
   "outputs": [
    {
     "name": "stdout",
     "output_type": "stream",
     "text": [
      "race_desc\n",
      "AMER INDIAN/ALASKAN      0\n",
      "ASIAN/PACIFIC ISLAND     3\n",
      "BLACK                    2\n",
      "HISPANIC                67\n",
      "WHITE                    5\n",
      "Name: release_to_imm, dtype: int64\n"
     ]
    }
   ],
   "source": [
    "# Race breakdown of cases released to immigration:\n",
    "print(df.groupby('race_desc')['release_to_imm'].sum())"
   ]
  },
  {
   "cell_type": "code",
   "execution_count": 294,
   "metadata": {},
   "outputs": [
    {
     "name": "stdout",
     "output_type": "stream",
     "text": [
      "66.0869565217\n",
      "\n",
      "\n",
      "n = 115\n"
     ]
    }
   ],
   "source": [
    "# Percent of bookings with immigration holds released to immigration\n",
    "print(sum(df[hold]['release_to_imm'] == 1) / len(df[hold]) * 100)\n",
    "print('\\n')\n",
    "print(f'n = {len(df[hold])}')"
   ]
  },
  {
   "cell_type": "code",
   "execution_count": 295,
   "metadata": {
    "collapsed": true
   },
   "outputs": [],
   "source": [
    "hispanic = df[df.hispanic == 1]"
   ]
  },
  {
   "cell_type": "code",
   "execution_count": 296,
   "metadata": {
    "collapsed": true
   },
   "outputs": [],
   "source": [
    "hispanic_with_hold = hispanic[hispanic.imm_hold == 1]\n",
    "hispanic_release_to_imm = hispanic[hispanic.release_to_imm == 1]"
   ]
  },
  {
   "cell_type": "markdown",
   "metadata": {},
   "source": [
    "Percents of hispanics with immigration holds; released to immigration:"
   ]
  },
  {
   "cell_type": "code",
   "execution_count": 297,
   "metadata": {
    "scrolled": true
   },
   "outputs": [
    {
     "name": "stdout",
     "output_type": "stream",
     "text": [
      "6.671159029649595\n",
      "4.514824797843666\n",
      "\n",
      "\n",
      "n=1484\n"
     ]
    }
   ],
   "source": [
    "print(len(hispanic_with_hold) / len(hispanic) * 100)\n",
    "print(len(hispanic_release_to_imm) / len(hispanic) * 100)\n",
    "print('\\n')\n",
    "print(f'n={len(hispanic)}')"
   ]
  },
  {
   "cell_type": "code",
   "execution_count": 298,
   "metadata": {},
   "outputs": [
    {
     "data": {
      "text/plain": [
       "imm_hold\n",
       "0    61.133603\n",
       "1    73.913043\n",
       "Name: felony, dtype: float64"
      ]
     },
     "execution_count": 298,
     "metadata": {},
     "output_type": "execute_result"
    }
   ],
   "source": [
    "df.groupby('imm_hold')['felony'].sum() / df.groupby('imm_hold')['felony'].count() * 100"
   ]
  },
  {
   "cell_type": "code",
   "execution_count": 299,
   "metadata": {},
   "outputs": [
    {
     "data": {
      "text/plain": [
       "imm_hold\n",
       "0    3.517934\n",
       "1    4.017391\n",
       "Name: max_seriousness, dtype: float64"
      ]
     },
     "execution_count": 299,
     "metadata": {},
     "output_type": "execute_result"
    }
   ],
   "source": [
    "df.groupby('imm_hold')['max_seriousness'].mean()"
   ]
  },
  {
   "cell_type": "code",
   "execution_count": 300,
   "metadata": {},
   "outputs": [
    {
     "data": {
      "text/plain": [
       "imm_hold\n",
       "0    1.781605\n",
       "1    1.965217\n",
       "Name: charge_topcount, dtype: float64"
      ]
     },
     "execution_count": 300,
     "metadata": {},
     "output_type": "execute_result"
    }
   ],
   "source": [
    "df.groupby('imm_hold')['charge_topcount'].mean()"
   ]
  },
  {
   "cell_type": "code",
   "execution_count": 301,
   "metadata": {
    "collapsed": true
   },
   "outputs": [],
   "source": [
    "hold_felony_mean_time = df[hold][df[hold]['felony'] == 1]['time_detained'].mean()\n",
    "hold_misdem_mean_time = df[hold][df[hold]['misdemeanor'] == 1]['time_detained'].mean()\n",
    "# hold_no_charge_mean_time = df[hold][df[hold]['no_charge'] == 1]['time_detained'].mean()\n",
    "no_hold_felony_mean_time = df[~hold][df[~hold]['felony'] == 1]['time_detained'].mean()\n",
    "no_hold_misdem_mean_time = df[~hold][df[~hold]['misdemeanor'] == 1]['time_detained'].mean()\n",
    "# no_hold_no_charge_mean_time = df[~hold][df[~hold]['no_charge'] == 1]['time_detained'].mean()"
   ]
  },
  {
   "cell_type": "code",
   "execution_count": 302,
   "metadata": {
    "collapsed": true
   },
   "outputs": [],
   "source": [
    "data = {'mean_time_detained': [\n",
    "no_hold_felony_mean_time,\n",
    "no_hold_misdem_mean_time,\n",
    "hold_felony_mean_time,\n",
    "hold_misdem_mean_time],\n",
    "       'charge_category': ['felony', 'misdemeanor', 'felony', 'misdemeanor'],\n",
    "       'hold': ['no_hold', 'no_hold', 'hold', 'hold']}"
   ]
  },
  {
   "cell_type": "code",
   "execution_count": 303,
   "metadata": {
    "collapsed": true
   },
   "outputs": [],
   "source": [
    "table = pd.DataFrame(data=data)"
   ]
  },
  {
   "cell_type": "code",
   "execution_count": 304,
   "metadata": {},
   "outputs": [
    {
     "data": {
      "text/html": [
       "<div>\n",
       "<style>\n",
       "    .dataframe thead tr:only-child th {\n",
       "        text-align: right;\n",
       "    }\n",
       "\n",
       "    .dataframe thead th {\n",
       "        text-align: left;\n",
       "    }\n",
       "\n",
       "    .dataframe tbody tr th {\n",
       "        vertical-align: top;\n",
       "    }\n",
       "</style>\n",
       "<table border=\"1\" class=\"dataframe\">\n",
       "  <thead>\n",
       "    <tr style=\"text-align: right;\">\n",
       "      <th></th>\n",
       "      <th>charge_category</th>\n",
       "      <th>hold</th>\n",
       "      <th>mean_time_detained</th>\n",
       "    </tr>\n",
       "  </thead>\n",
       "  <tbody>\n",
       "    <tr>\n",
       "      <th>0</th>\n",
       "      <td>felony</td>\n",
       "      <td>no_hold</td>\n",
       "      <td>35.554819</td>\n",
       "    </tr>\n",
       "    <tr>\n",
       "      <th>1</th>\n",
       "      <td>misdemeanor</td>\n",
       "      <td>no_hold</td>\n",
       "      <td>5.881032</td>\n",
       "    </tr>\n",
       "    <tr>\n",
       "      <th>2</th>\n",
       "      <td>felony</td>\n",
       "      <td>hold</td>\n",
       "      <td>72.261936</td>\n",
       "    </tr>\n",
       "    <tr>\n",
       "      <th>3</th>\n",
       "      <td>misdemeanor</td>\n",
       "      <td>hold</td>\n",
       "      <td>40.165278</td>\n",
       "    </tr>\n",
       "  </tbody>\n",
       "</table>\n",
       "</div>"
      ],
      "text/plain": [
       "  charge_category     hold  mean_time_detained\n",
       "0          felony  no_hold           35.554819\n",
       "1     misdemeanor  no_hold            5.881032\n",
       "2          felony     hold           72.261936\n",
       "3     misdemeanor     hold           40.165278"
      ]
     },
     "execution_count": 304,
     "metadata": {},
     "output_type": "execute_result"
    }
   ],
   "source": [
    "table"
   ]
  },
  {
   "cell_type": "code",
   "execution_count": 305,
   "metadata": {},
   "outputs": [
    {
     "data": {
      "image/png": "[encoded data removed]",
      "text/plain": [
       "<matplotlib.figure.Figure at 0x11bdf8b70>"
      ]
     },
     "metadata": {},
     "output_type": "display_data"
    }
   ],
   "source": [
    "ax = sns.barplot(x='hold', y='mean_time_detained', hue='charge_category', hue_order=['misdemeanor', 'felony'], data=table)"
   ]
  },
  {
   "cell_type": "code",
   "execution_count": 306,
   "metadata": {
    "collapsed": true
   },
   "outputs": [],
   "source": [
    "ttest = scipystats.ttest_ind(df[hold]['time_detained'], df[~hold]['time_detained'])"
   ]
  },
  {
   "cell_type": "code",
   "execution_count": 307,
   "metadata": {},
   "outputs": [
    {
     "data": {
      "text/plain": [
       "Ttest_indResult(statistic=5.54147464045605, pvalue=3.0422420381957485e-08)"
      ]
     },
     "execution_count": 307,
     "metadata": {},
     "output_type": "execute_result"
    }
   ],
   "source": [
    "ttest"
   ]
  },
  {
   "cell_type": "code",
   "execution_count": 308,
   "metadata": {},
   "outputs": [
    {
     "data": {
      "text/plain": [
       "3.0422420381957485e-08"
      ]
     },
     "execution_count": 308,
     "metadata": {},
     "output_type": "execute_result"
    }
   ],
   "source": [
    "ttest.pvalue"
   ]
  },
  {
   "cell_type": "markdown",
   "metadata": {},
   "source": [
    "# Regressions"
   ]
  },
  {
   "cell_type": "code",
   "execution_count": 311,
   "metadata": {},
   "outputs": [
    {
     "data": {
      "text/html": [
       "<table class=\"simpletable\">\n",
       "<caption>OLS Regression Results</caption>\n",
       "<tr>\n",
       "  <th>Dep. Variable:</th>    <td>log_time_detained</td> <th>  R-squared:         </th> <td>   0.316</td> \n",
       "</tr>\n",
       "<tr>\n",
       "  <th>Model:</th>                   <td>OLS</td>        <th>  Adj. R-squared:    </th> <td>   0.315</td> \n",
       "</tr>\n",
       "<tr>\n",
       "  <th>Method:</th>             <td>Least Squares</td>   <th>  F-statistic:       </th> <td>   580.7</td> \n",
       "</tr>\n",
       "<tr>\n",
       "  <th>Date:</th>             <td>Tue, 24 Jul 2018</td>  <th>  Prob (F-statistic):</th>  <td>  0.00</td>  \n",
       "</tr>\n",
       "<tr>\n",
       "  <th>Time:</th>                 <td>17:03:50</td>      <th>  Log-Likelihood:    </th> <td> -35153.</td> \n",
       "</tr>\n",
       "<tr>\n",
       "  <th>No. Observations:</th>      <td> 17652</td>       <th>  AIC:               </th> <td>7.034e+04</td>\n",
       "</tr>\n",
       "<tr>\n",
       "  <th>Df Residuals:</th>          <td> 17637</td>       <th>  BIC:               </th> <td>7.045e+04</td>\n",
       "</tr>\n",
       "<tr>\n",
       "  <th>Df Model:</th>              <td>    14</td>       <th>                     </th>     <td> </td>    \n",
       "</tr>\n",
       "<tr>\n",
       "  <th>Covariance Type:</th>      <td>nonrobust</td>     <th>                     </th>     <td> </td>    \n",
       "</tr>\n",
       "</table>\n",
       "<table class=\"simpletable\">\n",
       "<tr>\n",
       "            <td></td>              <th>coef</th>     <th>std err</th>      <th>t</th>      <th>P>|t|</th>  <th>[0.025</th>    <th>0.975]</th>  \n",
       "</tr>\n",
       "<tr>\n",
       "  <th>Intercept</th>            <td>   -1.9698</td> <td>    0.086</td> <td>  -22.883</td> <td> 0.000</td> <td>   -2.139</td> <td>   -1.801</td>\n",
       "</tr>\n",
       "<tr>\n",
       "  <th>imm_hold</th>             <td>    1.2331</td> <td>    0.171</td> <td>    7.227</td> <td> 0.000</td> <td>    0.899</td> <td>    1.568</td>\n",
       "</tr>\n",
       "<tr>\n",
       "  <th>charge_topcount</th>      <td>    0.5987</td> <td>    0.009</td> <td>   69.597</td> <td> 0.000</td> <td>    0.582</td> <td>    0.616</td>\n",
       "</tr>\n",
       "<tr>\n",
       "  <th>male</th>                 <td>    0.1454</td> <td>    0.032</td> <td>    4.574</td> <td> 0.000</td> <td>    0.083</td> <td>    0.208</td>\n",
       "</tr>\n",
       "<tr>\n",
       "  <th>black</th>                <td>    0.0980</td> <td>    0.033</td> <td>    3.008</td> <td> 0.003</td> <td>    0.034</td> <td>    0.162</td>\n",
       "</tr>\n",
       "<tr>\n",
       "  <th>hispanic</th>             <td>   -0.0693</td> <td>    0.051</td> <td>   -1.369</td> <td> 0.171</td> <td>   -0.168</td> <td>    0.030</td>\n",
       "</tr>\n",
       "<tr>\n",
       "  <th>amer_indian_alaskan</th>  <td>    0.3014</td> <td>    0.079</td> <td>    3.839</td> <td> 0.000</td> <td>    0.148</td> <td>    0.455</td>\n",
       "</tr>\n",
       "<tr>\n",
       "  <th>asian_pacific_island</th> <td>   -0.1005</td> <td>    0.058</td> <td>   -1.726</td> <td> 0.084</td> <td>   -0.215</td> <td>    0.014</td>\n",
       "</tr>\n",
       "<tr>\n",
       "  <th>max_seriousness</th>      <td>    0.5469</td> <td>    0.029</td> <td>   19.157</td> <td> 0.000</td> <td>    0.491</td> <td>    0.603</td>\n",
       "</tr>\n",
       "<tr>\n",
       "  <th>felony</th>               <td>   -0.1522</td> <td>    0.064</td> <td>   -2.387</td> <td> 0.017</td> <td>   -0.277</td> <td>   -0.027</td>\n",
       "</tr>\n",
       "<tr>\n",
       "  <th>drug</th>                 <td>    0.3052</td> <td>    0.057</td> <td>    5.389</td> <td> 0.000</td> <td>    0.194</td> <td>    0.416</td>\n",
       "</tr>\n",
       "<tr>\n",
       "  <th>sex</th>                  <td>    0.3142</td> <td>    0.114</td> <td>    2.768</td> <td> 0.006</td> <td>    0.092</td> <td>    0.537</td>\n",
       "</tr>\n",
       "<tr>\n",
       "  <th>property</th>             <td>   -0.1747</td> <td>    0.041</td> <td>   -4.221</td> <td> 0.000</td> <td>   -0.256</td> <td>   -0.094</td>\n",
       "</tr>\n",
       "<tr>\n",
       "  <th>violent</th>              <td>    0.2461</td> <td>    0.045</td> <td>    5.468</td> <td> 0.000</td> <td>    0.158</td> <td>    0.334</td>\n",
       "</tr>\n",
       "<tr>\n",
       "  <th>other</th>                <td>    1.8376</td> <td>    0.092</td> <td>   19.930</td> <td> 0.000</td> <td>    1.657</td> <td>    2.018</td>\n",
       "</tr>\n",
       "</table>\n",
       "<table class=\"simpletable\">\n",
       "<tr>\n",
       "  <th>Omnibus:</th>       <td>390.759</td> <th>  Durbin-Watson:     </th> <td>   1.690</td> \n",
       "</tr>\n",
       "<tr>\n",
       "  <th>Prob(Omnibus):</th> <td> 0.000</td>  <th>  Jarque-Bera (JB):  </th> <td> 477.991</td> \n",
       "</tr>\n",
       "<tr>\n",
       "  <th>Skew:</th>          <td>-0.302</td>  <th>  Prob(JB):          </th> <td>1.60e-104</td>\n",
       "</tr>\n",
       "<tr>\n",
       "  <th>Kurtosis:</th>      <td> 3.534</td>  <th>  Cond. No.          </th> <td>    58.4</td> \n",
       "</tr>\n",
       "</table>"
      ],
      "text/plain": [
       "<class 'statsmodels.iolib.summary.Summary'>\n",
       "\"\"\"\n",
       "                            OLS Regression Results                            \n",
       "==============================================================================\n",
       "Dep. Variable:      log_time_detained   R-squared:                       0.316\n",
       "Model:                            OLS   Adj. R-squared:                  0.315\n",
       "Method:                 Least Squares   F-statistic:                     580.7\n",
       "Date:                Tue, 24 Jul 2018   Prob (F-statistic):               0.00\n",
       "Time:                        17:03:50   Log-Likelihood:                -35153.\n",
       "No. Observations:               17652   AIC:                         7.034e+04\n",
       "Df Residuals:                   17637   BIC:                         7.045e+04\n",
       "Df Model:                          14                                         \n",
       "Covariance Type:            nonrobust                                         \n",
       "========================================================================================\n",
       "                           coef    std err          t      P>|t|      [0.025      0.975]\n",
       "----------------------------------------------------------------------------------------\n",
       "Intercept               -1.9698      0.086    -22.883      0.000      -2.139      -1.801\n",
       "imm_hold                 1.2331      0.171      7.227      0.000       0.899       1.568\n",
       "charge_topcount          0.5987      0.009     69.597      0.000       0.582       0.616\n",
       "male                     0.1454      0.032      4.574      0.000       0.083       0.208\n",
       "black                    0.0980      0.033      3.008      0.003       0.034       0.162\n",
       "hispanic                -0.0693      0.051     -1.369      0.171      -0.168       0.030\n",
       "amer_indian_alaskan      0.3014      0.079      3.839      0.000       0.148       0.455\n",
       "asian_pacific_island    -0.1005      0.058     -1.726      0.084      -0.215       0.014\n",
       "max_seriousness          0.5469      0.029     19.157      0.000       0.491       0.603\n",
       "felony                  -0.1522      0.064     -2.387      0.017      -0.277      -0.027\n",
       "drug                     0.3052      0.057      5.389      0.000       0.194       0.416\n",
       "sex                      0.3142      0.114      2.768      0.006       0.092       0.537\n",
       "property                -0.1747      0.041     -4.221      0.000      -0.256      -0.094\n",
       "violent                  0.2461      0.045      5.468      0.000       0.158       0.334\n",
       "other                    1.8376      0.092     19.930      0.000       1.657       2.018\n",
       "==============================================================================\n",
       "Omnibus:                      390.759   Durbin-Watson:                   1.690\n",
       "Prob(Omnibus):                  0.000   Jarque-Bera (JB):              477.991\n",
       "Skew:                          -0.302   Prob(JB):                    1.60e-104\n",
       "Kurtosis:                       3.534   Cond. No.                         58.4\n",
       "==============================================================================\n",
       "\n",
       "Warnings:\n",
       "[1] Standard Errors assume that the covariance matrix of the errors is correctly specified.\n",
       "\"\"\""
      ]
     },
     "execution_count": 311,
     "metadata": {},
     "output_type": "execute_result"
    }
   ],
   "source": [
    "# Using topcounted charge values\n",
    "formula = \"log_time_detained ~ imm_hold + charge_topcount + male + black + hispanic + amer_indian_alaskan + asian_pacific_island + max_seriousness + felony + drug + sex + property + violent + other\"\n",
    "reg = smf.ols(formula = formula, data = df).fit()\n",
    "reg.summary()"
   ]
  },
  {
   "cell_type": "code",
   "execution_count": 312,
   "metadata": {},
   "outputs": [
    {
     "data": {
      "text/html": [
       "<div>\n",
       "<style>\n",
       "    .dataframe thead tr:only-child th {\n",
       "        text-align: right;\n",
       "    }\n",
       "\n",
       "    .dataframe thead th {\n",
       "        text-align: left;\n",
       "    }\n",
       "\n",
       "    .dataframe tbody tr th {\n",
       "        vertical-align: top;\n",
       "    }\n",
       "</style>\n",
       "<table border=\"1\" class=\"dataframe\">\n",
       "  <thead>\n",
       "    <tr style=\"text-align: right;\">\n",
       "      <th></th>\n",
       "      <th>count</th>\n",
       "      <th>mean</th>\n",
       "      <th>std</th>\n",
       "      <th>min</th>\n",
       "      <th>25%</th>\n",
       "      <th>50%</th>\n",
       "      <th>75%</th>\n",
       "      <th>max</th>\n",
       "    </tr>\n",
       "  </thead>\n",
       "  <tbody>\n",
       "    <tr>\n",
       "      <th>time_detained</th>\n",
       "      <td>17652.0</td>\n",
       "      <td>25.359933</td>\n",
       "      <td>62.996963</td>\n",
       "      <td>0.004861</td>\n",
       "      <td>0.965972</td>\n",
       "      <td>2.836111</td>\n",
       "      <td>20.833507</td>\n",
       "      <td>1314.554167</td>\n",
       "    </tr>\n",
       "    <tr>\n",
       "      <th>amer_indian_alaskan</th>\n",
       "      <td>17652.0</td>\n",
       "      <td>0.030478</td>\n",
       "      <td>0.171904</td>\n",
       "      <td>0.000000</td>\n",
       "      <td>0.000000</td>\n",
       "      <td>0.000000</td>\n",
       "      <td>0.000000</td>\n",
       "      <td>1.000000</td>\n",
       "    </tr>\n",
       "    <tr>\n",
       "      <th>asian_pacific_island</th>\n",
       "      <td>17652.0</td>\n",
       "      <td>0.057840</td>\n",
       "      <td>0.233448</td>\n",
       "      <td>0.000000</td>\n",
       "      <td>0.000000</td>\n",
       "      <td>0.000000</td>\n",
       "      <td>0.000000</td>\n",
       "      <td>1.000000</td>\n",
       "    </tr>\n",
       "    <tr>\n",
       "      <th>black</th>\n",
       "      <td>17652.0</td>\n",
       "      <td>0.239973</td>\n",
       "      <td>0.427079</td>\n",
       "      <td>0.000000</td>\n",
       "      <td>0.000000</td>\n",
       "      <td>0.000000</td>\n",
       "      <td>0.000000</td>\n",
       "      <td>1.000000</td>\n",
       "    </tr>\n",
       "    <tr>\n",
       "      <th>hispanic</th>\n",
       "      <td>17652.0</td>\n",
       "      <td>0.084070</td>\n",
       "      <td>0.277500</td>\n",
       "      <td>0.000000</td>\n",
       "      <td>0.000000</td>\n",
       "      <td>0.000000</td>\n",
       "      <td>0.000000</td>\n",
       "      <td>1.000000</td>\n",
       "    </tr>\n",
       "    <tr>\n",
       "      <th>white</th>\n",
       "      <td>17652.0</td>\n",
       "      <td>0.587639</td>\n",
       "      <td>0.492273</td>\n",
       "      <td>0.000000</td>\n",
       "      <td>0.000000</td>\n",
       "      <td>1.000000</td>\n",
       "      <td>1.000000</td>\n",
       "      <td>1.000000</td>\n",
       "    </tr>\n",
       "    <tr>\n",
       "      <th>female</th>\n",
       "      <td>17652.0</td>\n",
       "      <td>0.238330</td>\n",
       "      <td>0.426074</td>\n",
       "      <td>0.000000</td>\n",
       "      <td>0.000000</td>\n",
       "      <td>0.000000</td>\n",
       "      <td>0.000000</td>\n",
       "      <td>1.000000</td>\n",
       "    </tr>\n",
       "    <tr>\n",
       "      <th>male</th>\n",
       "      <td>17652.0</td>\n",
       "      <td>0.761670</td>\n",
       "      <td>0.426074</td>\n",
       "      <td>0.000000</td>\n",
       "      <td>1.000000</td>\n",
       "      <td>1.000000</td>\n",
       "      <td>1.000000</td>\n",
       "      <td>1.000000</td>\n",
       "    </tr>\n",
       "    <tr>\n",
       "      <th>max_seriousness</th>\n",
       "      <td>17652.0</td>\n",
       "      <td>3.521187</td>\n",
       "      <td>1.579590</td>\n",
       "      <td>0.000000</td>\n",
       "      <td>3.000000</td>\n",
       "      <td>4.000000</td>\n",
       "      <td>5.000000</td>\n",
       "      <td>6.000000</td>\n",
       "    </tr>\n",
       "    <tr>\n",
       "      <th>felony</th>\n",
       "      <td>17652.0</td>\n",
       "      <td>0.612169</td>\n",
       "      <td>0.487270</td>\n",
       "      <td>0.000000</td>\n",
       "      <td>0.000000</td>\n",
       "      <td>1.000000</td>\n",
       "      <td>1.000000</td>\n",
       "      <td>1.000000</td>\n",
       "    </tr>\n",
       "    <tr>\n",
       "      <th>misdemeanor</th>\n",
       "      <td>17652.0</td>\n",
       "      <td>0.041242</td>\n",
       "      <td>0.198855</td>\n",
       "      <td>0.000000</td>\n",
       "      <td>0.000000</td>\n",
       "      <td>0.000000</td>\n",
       "      <td>0.000000</td>\n",
       "      <td>1.000000</td>\n",
       "    </tr>\n",
       "    <tr>\n",
       "      <th>drug</th>\n",
       "      <td>17652.0</td>\n",
       "      <td>0.110186</td>\n",
       "      <td>0.313130</td>\n",
       "      <td>0.000000</td>\n",
       "      <td>0.000000</td>\n",
       "      <td>0.000000</td>\n",
       "      <td>0.000000</td>\n",
       "      <td>1.000000</td>\n",
       "    </tr>\n",
       "    <tr>\n",
       "      <th>property</th>\n",
       "      <td>17652.0</td>\n",
       "      <td>0.241672</td>\n",
       "      <td>0.428109</td>\n",
       "      <td>0.000000</td>\n",
       "      <td>0.000000</td>\n",
       "      <td>0.000000</td>\n",
       "      <td>0.000000</td>\n",
       "      <td>1.000000</td>\n",
       "    </tr>\n",
       "    <tr>\n",
       "      <th>public_order</th>\n",
       "      <td>17652.0</td>\n",
       "      <td>0.272207</td>\n",
       "      <td>0.445109</td>\n",
       "      <td>0.000000</td>\n",
       "      <td>0.000000</td>\n",
       "      <td>0.000000</td>\n",
       "      <td>1.000000</td>\n",
       "      <td>1.000000</td>\n",
       "    </tr>\n",
       "    <tr>\n",
       "      <th>sex</th>\n",
       "      <td>17652.0</td>\n",
       "      <td>0.015862</td>\n",
       "      <td>0.124946</td>\n",
       "      <td>0.000000</td>\n",
       "      <td>0.000000</td>\n",
       "      <td>0.000000</td>\n",
       "      <td>0.000000</td>\n",
       "      <td>1.000000</td>\n",
       "    </tr>\n",
       "    <tr>\n",
       "      <th>violent</th>\n",
       "      <td>17652.0</td>\n",
       "      <td>0.240539</td>\n",
       "      <td>0.427423</td>\n",
       "      <td>0.000000</td>\n",
       "      <td>0.000000</td>\n",
       "      <td>0.000000</td>\n",
       "      <td>0.000000</td>\n",
       "      <td>1.000000</td>\n",
       "    </tr>\n",
       "    <tr>\n",
       "      <th>other</th>\n",
       "      <td>17652.0</td>\n",
       "      <td>0.119533</td>\n",
       "      <td>0.324424</td>\n",
       "      <td>0.000000</td>\n",
       "      <td>0.000000</td>\n",
       "      <td>0.000000</td>\n",
       "      <td>0.000000</td>\n",
       "      <td>1.000000</td>\n",
       "    </tr>\n",
       "    <tr>\n",
       "      <th>charge_count</th>\n",
       "      <td>17652.0</td>\n",
       "      <td>1.789259</td>\n",
       "      <td>1.682895</td>\n",
       "      <td>0.000000</td>\n",
       "      <td>1.000000</td>\n",
       "      <td>1.000000</td>\n",
       "      <td>2.000000</td>\n",
       "      <td>21.000000</td>\n",
       "    </tr>\n",
       "    <tr>\n",
       "      <th>charge_topcount</th>\n",
       "      <td>17652.0</td>\n",
       "      <td>1.782801</td>\n",
       "      <td>1.642091</td>\n",
       "      <td>0.000000</td>\n",
       "      <td>1.000000</td>\n",
       "      <td>1.000000</td>\n",
       "      <td>2.000000</td>\n",
       "      <td>10.000000</td>\n",
       "    </tr>\n",
       "    <tr>\n",
       "      <th>imm_hold</th>\n",
       "      <td>17652.0</td>\n",
       "      <td>0.006515</td>\n",
       "      <td>0.080454</td>\n",
       "      <td>0.000000</td>\n",
       "      <td>0.000000</td>\n",
       "      <td>0.000000</td>\n",
       "      <td>0.000000</td>\n",
       "      <td>1.000000</td>\n",
       "    </tr>\n",
       "    <tr>\n",
       "      <th>release_to_imm</th>\n",
       "      <td>17652.0</td>\n",
       "      <td>0.004362</td>\n",
       "      <td>0.065904</td>\n",
       "      <td>0.000000</td>\n",
       "      <td>0.000000</td>\n",
       "      <td>0.000000</td>\n",
       "      <td>0.000000</td>\n",
       "      <td>1.000000</td>\n",
       "    </tr>\n",
       "    <tr>\n",
       "      <th>log_time_detained</th>\n",
       "      <td>17652.0</td>\n",
       "      <td>1.345339</td>\n",
       "      <td>2.142756</td>\n",
       "      <td>-5.326488</td>\n",
       "      <td>-0.034620</td>\n",
       "      <td>1.042434</td>\n",
       "      <td>3.036563</td>\n",
       "      <td>7.181253</td>\n",
       "    </tr>\n",
       "  </tbody>\n",
       "</table>\n",
       "</div>"
      ],
      "text/plain": [
       "                        count       mean        std       min       25%  \\\n",
       "time_detained         17652.0  25.359933  62.996963  0.004861  0.965972   \n",
       "amer_indian_alaskan   17652.0   0.030478   0.171904  0.000000  0.000000   \n",
       "asian_pacific_island  17652.0   0.057840   0.233448  0.000000  0.000000   \n",
       "black                 17652.0   0.239973   0.427079  0.000000  0.000000   \n",
       "hispanic              17652.0   0.084070   0.277500  0.000000  0.000000   \n",
       "white                 17652.0   0.587639   0.492273  0.000000  0.000000   \n",
       "female                17652.0   0.238330   0.426074  0.000000  0.000000   \n",
       "male                  17652.0   0.761670   0.426074  0.000000  1.000000   \n",
       "max_seriousness       17652.0   3.521187   1.579590  0.000000  3.000000   \n",
       "felony                17652.0   0.612169   0.487270  0.000000  0.000000   \n",
       "misdemeanor           17652.0   0.041242   0.198855  0.000000  0.000000   \n",
       "drug                  17652.0   0.110186   0.313130  0.000000  0.000000   \n",
       "property              17652.0   0.241672   0.428109  0.000000  0.000000   \n",
       "public_order          17652.0   0.272207   0.445109  0.000000  0.000000   \n",
       "sex                   17652.0   0.015862   0.124946  0.000000  0.000000   \n",
       "violent               17652.0   0.240539   0.427423  0.000000  0.000000   \n",
       "other                 17652.0   0.119533   0.324424  0.000000  0.000000   \n",
       "charge_count          17652.0   1.789259   1.682895  0.000000  1.000000   \n",
       "charge_topcount       17652.0   1.782801   1.642091  0.000000  1.000000   \n",
       "imm_hold              17652.0   0.006515   0.080454  0.000000  0.000000   \n",
       "release_to_imm        17652.0   0.004362   0.065904  0.000000  0.000000   \n",
       "log_time_detained     17652.0   1.345339   2.142756 -5.326488 -0.034620   \n",
       "\n",
       "                           50%        75%          max  \n",
       "time_detained         2.836111  20.833507  1314.554167  \n",
       "amer_indian_alaskan   0.000000   0.000000     1.000000  \n",
       "asian_pacific_island  0.000000   0.000000     1.000000  \n",
       "black                 0.000000   0.000000     1.000000  \n",
       "hispanic              0.000000   0.000000     1.000000  \n",
       "white                 1.000000   1.000000     1.000000  \n",
       "female                0.000000   0.000000     1.000000  \n",
       "male                  1.000000   1.000000     1.000000  \n",
       "max_seriousness       4.000000   5.000000     6.000000  \n",
       "felony                1.000000   1.000000     1.000000  \n",
       "misdemeanor           0.000000   0.000000     1.000000  \n",
       "drug                  0.000000   0.000000     1.000000  \n",
       "property              0.000000   0.000000     1.000000  \n",
       "public_order          0.000000   1.000000     1.000000  \n",
       "sex                   0.000000   0.000000     1.000000  \n",
       "violent               0.000000   0.000000     1.000000  \n",
       "other                 0.000000   0.000000     1.000000  \n",
       "charge_count          1.000000   2.000000    21.000000  \n",
       "charge_topcount       1.000000   2.000000    10.000000  \n",
       "imm_hold              0.000000   0.000000     1.000000  \n",
       "release_to_imm        0.000000   0.000000     1.000000  \n",
       "log_time_detained     1.042434   3.036563     7.181253  "
      ]
     },
     "execution_count": 312,
     "metadata": {},
     "output_type": "execute_result"
    }
   ],
   "source": [
    "df.describe().T"
   ]
  },
  {
   "cell_type": "code",
   "execution_count": 313,
   "metadata": {},
   "outputs": [
    {
     "data": {
      "text/plain": [
       "Intercept              -1.969797\n",
       "imm_hold                1.233119\n",
       "charge_topcount         0.598679\n",
       "male                    0.145352\n",
       "black                   0.098015\n",
       "hispanic               -0.069252\n",
       "amer_indian_alaskan     0.301424\n",
       "asian_pacific_island   -0.100487\n",
       "max_seriousness         0.546947\n",
       "felony                 -0.152202\n",
       "drug                    0.305220\n",
       "sex                     0.314248\n",
       "property               -0.174673\n",
       "violent                 0.246134\n",
       "other                   1.837633\n",
       "dtype: float64"
      ]
     },
     "execution_count": 313,
     "metadata": {},
     "output_type": "execute_result"
    }
   ],
   "source": [
    "reg.params"
   ]
  },
  {
   "cell_type": "code",
   "execution_count": 314,
   "metadata": {},
   "outputs": [
    {
     "name": "stdout",
     "output_type": "stream",
     "text": [
      "8.416776921721542\n"
     ]
    }
   ],
   "source": [
    "# Does this work as a predictive equation? Reference categories: race = white, crime type = public order\n",
    "log_time_detained = (reg.params['Intercept'] + \n",
    "                    (reg.params['imm_hold'] * 1) + \n",
    "                    (reg.params['charge_topcount'] * 1.7) +\n",
    "                    (reg.params['male'] * 1) +\n",
    "                    (reg.params['black'] * 0) +\n",
    "                    (reg.params['hispanic'] * 1) +\n",
    "                    (reg.params['amer_indian_alaskan'] * 0) +\n",
    "                    (reg.params['asian_pacific_island'] * 0) +\n",
    "                    (reg.params['max_seriousness'] * 3.52) +\n",
    "                    (reg.params['felony'] * 1) +\n",
    "                    (reg.params['drug'] * 0) +\n",
    "                    (reg.params['sex'] * 0) +\n",
    "                    (reg.params['property'] * 0) +\n",
    "                    (reg.params['violent'] * 0) +\n",
    "                    (reg.params['other'] * 0))\n",
    "predicted_time_detained_0 = np.power(np.e, log_time_detained)\n",
    "print(f'{predicted_time_detained_0}')"
   ]
  },
  {
   "cell_type": "code",
   "execution_count": 316,
   "metadata": {},
   "outputs": [
    {
     "name": "stdout",
     "output_type": "stream",
     "text": [
      "2.452499152145784\n"
     ]
    }
   ],
   "source": [
    "# Does this work as a predictive equation? Reference categories: race = white, crime type = public order\n",
    "log_time_detained = (reg.params['Intercept'] + \n",
    "                    (reg.params['imm_hold'] * 0) + \n",
    "                    (reg.params['charge_topcount'] * 1.7) +\n",
    "                    (reg.params['male'] * 1) +\n",
    "                    (reg.params['black'] * 0) +\n",
    "                    (reg.params['hispanic'] * 1) +\n",
    "                    (reg.params['amer_indian_alaskan'] * 0) +\n",
    "                    (reg.params['asian_pacific_island'] * 0) +\n",
    "                    (reg.params['max_seriousness'] * 3.52) +\n",
    "                    (reg.params['felony'] * 1) +\n",
    "                    (reg.params['drug'] * 0) +\n",
    "                    (reg.params['sex'] * 0) +\n",
    "                    (reg.params['property'] * 0) +\n",
    "                    (reg.params['violent'] * 0) +\n",
    "                    (reg.params['other'] * 0))\n",
    "predicted_time_detained_1 = np.power(np.e, log_time_detained)\n",
    "print(f'{predicted_time_detained_1}')"
   ]
  },
  {
   "cell_type": "code",
   "execution_count": 317,
   "metadata": {},
   "outputs": [
    {
     "data": {
      "text/plain": [
       "3.4319183818503616"
      ]
     },
     "execution_count": 317,
     "metadata": {},
     "output_type": "execute_result"
    }
   ],
   "source": [
    "predicted_time_detained_0 / predicted_time_detained_1"
   ]
  },
  {
   "cell_type": "code",
   "execution_count": 318,
   "metadata": {},
   "outputs": [
    {
     "data": {
      "text/plain": [
       "5.9642777695757587"
      ]
     },
     "execution_count": 318,
     "metadata": {},
     "output_type": "execute_result"
    }
   ],
   "source": [
    "(predicted_time_detained_0 - predicted_time_detained_1)"
   ]
  },
  {
   "cell_type": "code",
   "execution_count": 319,
   "metadata": {},
   "outputs": [
    {
     "data": {
      "text/plain": [
       "Intercept               -86.051483\n",
       "imm_hold                243.191838\n",
       "charge_topcount          81.971258\n",
       "male                     15.644686\n",
       "black                    10.297967\n",
       "hispanic                 -6.690836\n",
       "amer_indian_alaskan      35.178208\n",
       "asian_pacific_island     -9.560308\n",
       "max_seriousness          72.796909\n",
       "felony                  -14.118525\n",
       "drug                     35.692288\n",
       "sex                      36.922858\n",
       "property                -16.026879\n",
       "violent                  27.907103\n",
       "other                   528.165030\n",
       "dtype: float64"
      ]
     },
     "execution_count": 319,
     "metadata": {},
     "output_type": "execute_result"
    }
   ],
   "source": [
    "(np.power(np.e, reg.params) - 1) * 100"
   ]
  },
  {
   "cell_type": "code",
   "execution_count": null,
   "metadata": {
    "collapsed": true
   },
   "outputs": [],
   "source": []
  },
  {
   "cell_type": "code",
   "execution_count": null,
   "metadata": {
    "collapsed": true
   },
   "outputs": [],
   "source": []
  },
  {
   "cell_type": "code",
   "execution_count": null,
   "metadata": {
    "collapsed": true
   },
   "outputs": [],
   "source": []
  },
  {
   "cell_type": "code",
   "execution_count": null,
   "metadata": {
    "collapsed": true
   },
   "outputs": [],
   "source": []
  },
  {
   "cell_type": "markdown",
   "metadata": {},
   "source": [
    "# Alternate way of setting up regression. Same results!"
   ]
  },
  {
   "cell_type": "code",
   "execution_count": null,
   "metadata": {
    "collapsed": true
   },
   "outputs": [],
   "source": [
    "from patsy import dmatrices"
   ]
  },
  {
   "cell_type": "code",
   "execution_count": null,
   "metadata": {
    "collapsed": true
   },
   "outputs": [],
   "source": [
    "formula = \"log_time_detained ~ imm_hold + charge_topcount + male + black + hispanic + amer_indian_alaskan + asian_pacific_island + max_seriousness + felony + drug + sex + property + violent + other\"\n",
    "y, X = dmatrices(formula, data=df, return_type='dataframe')"
   ]
  },
  {
   "cell_type": "code",
   "execution_count": null,
   "metadata": {
    "collapsed": true
   },
   "outputs": [],
   "source": [
    "y.head()"
   ]
  },
  {
   "cell_type": "code",
   "execution_count": null,
   "metadata": {
    "collapsed": true
   },
   "outputs": [],
   "source": [
    "X.head()"
   ]
  },
  {
   "cell_type": "code",
   "execution_count": null,
   "metadata": {
    "collapsed": true
   },
   "outputs": [],
   "source": [
    "mod = sm.OLS(y, X)    # Describe model"
   ]
  },
  {
   "cell_type": "code",
   "execution_count": null,
   "metadata": {
    "collapsed": true
   },
   "outputs": [],
   "source": [
    "res = mod.fit()       # Fit model"
   ]
  },
  {
   "cell_type": "code",
   "execution_count": null,
   "metadata": {
    "collapsed": true
   },
   "outputs": [],
   "source": [
    "res.summary()"
   ]
  },
  {
   "cell_type": "markdown",
   "metadata": {
    "collapsed": true
   },
   "source": [
    "# Correlation matrices\n",
    "\n",
    "Not sure if this is useful, but we do see correlations between `log_time_detained` and `imm_hold`; and `imm_hold` and `hispanic`."
   ]
  },
  {
   "cell_type": "code",
   "execution_count": null,
   "metadata": {
    "collapsed": true
   },
   "outputs": [],
   "source": [
    "from string import ascii_letters\n",
    "import matplotlib.pyplot as plt"
   ]
  },
  {
   "cell_type": "code",
   "execution_count": null,
   "metadata": {
    "collapsed": true
   },
   "outputs": [],
   "source": [
    "corr = df.corr()"
   ]
  },
  {
   "cell_type": "code",
   "execution_count": null,
   "metadata": {
    "collapsed": true
   },
   "outputs": [],
   "source": [
    "corr"
   ]
  },
  {
   "cell_type": "code",
   "execution_count": null,
   "metadata": {
    "collapsed": true,
    "scrolled": false
   },
   "outputs": [],
   "source": [
    "mask = np.zeros_like(corr, dtype=np.bool)\n",
    "mask[np.triu_indices_from(mask)] = True\n",
    "\n",
    "# Set up the matplotlib figure\n",
    "# f, ax = plt.subplots(figsize=(11, 9))\n",
    "\n",
    "# Generate a custom diverging colormap\n",
    "cmap = sns.diverging_palette(220, 10, as_cmap=True)\n",
    "\n",
    "# Draw the heatmap with the mask and correct aspect ratio\n",
    "sns.heatmap(corr, mask=mask, cmap=cmap, vmax=.3, center=0,\n",
    "            square=True, linewidths=.5, cbar_kws={\"shrink\": .5})"
   ]
  },
  {
   "cell_type": "markdown",
   "metadata": {},
   "source": [
    "# Hand coded bookings with holds"
   ]
  },
  {
   "cell_type": "code",
   "execution_count": null,
   "metadata": {
    "collapsed": true
   },
   "outputs": [],
   "source": [
    "handcoded = pd.read_csv('../frozen/handcoded_bookings_with_hold.csv')"
   ]
  },
  {
   "cell_type": "code",
   "execution_count": null,
   "metadata": {
    "collapsed": true
   },
   "outputs": [],
   "source": [
    "handcoded.columns = handcoded.columns.str.strip()"
   ]
  },
  {
   "cell_type": "code",
   "execution_count": null,
   "metadata": {
    "collapsed": true
   },
   "outputs": [],
   "source": [
    "handcoded['Date of Release'] = pd.to_datetime(handcoded['Date of Release'])"
   ]
  },
  {
   "cell_type": "code",
   "execution_count": null,
   "metadata": {
    "collapsed": true
   },
   "outputs": [],
   "source": [
    "len(handcoded)"
   ]
  },
  {
   "cell_type": "code",
   "execution_count": null,
   "metadata": {
    "collapsed": true
   },
   "outputs": [],
   "source": [
    "handcoded['Country of Origin'].value_counts()"
   ]
  },
  {
   "cell_type": "code",
   "execution_count": null,
   "metadata": {
    "collapsed": true
   },
   "outputs": [],
   "source": [
    "release_to = handcoded['Released to who?'].fillna('IMM')"
   ]
  },
  {
   "cell_type": "code",
   "execution_count": null,
   "metadata": {
    "collapsed": true
   },
   "outputs": [],
   "source": [
    "released = release_to != 'Not Released'"
   ]
  },
  {
   "cell_type": "code",
   "execution_count": null,
   "metadata": {
    "collapsed": true
   },
   "outputs": [],
   "source": [
    "release_to[released].value_counts() / len(release_to[released]) * 100"
   ]
  },
  {
   "cell_type": "code",
   "execution_count": null,
   "metadata": {
    "collapsed": true
   },
   "outputs": [],
   "source": [
    "len(release_to[released])"
   ]
  },
  {
   "cell_type": "code",
   "execution_count": null,
   "metadata": {
    "collapsed": true
   },
   "outputs": [],
   "source": [
    "handcoded_ids = set(handcoded['Booking ID'])"
   ]
  },
  {
   "cell_type": "code",
   "execution_count": null,
   "metadata": {
    "collapsed": true
   },
   "outputs": [],
   "source": [
    "len(handcoded_ids)"
   ]
  },
  {
   "cell_type": "code",
   "execution_count": null,
   "metadata": {
    "collapsed": true
   },
   "outputs": [],
   "source": [
    "all_ids = set(bookings_by_date['booking_id'])"
   ]
  },
  {
   "cell_type": "code",
   "execution_count": null,
   "metadata": {
    "collapsed": true
   },
   "outputs": [],
   "source": [
    "len(handcoded_ids.intersection(all_ids))"
   ]
  },
  {
   "cell_type": "code",
   "execution_count": null,
   "metadata": {
    "collapsed": true
   },
   "outputs": [],
   "source": [
    "diff_ids = handcoded_ids.difference(hold_ids)"
   ]
  },
  {
   "cell_type": "code",
   "execution_count": null,
   "metadata": {
    "collapsed": true
   },
   "outputs": [],
   "source": [
    "len(diff_ids)"
   ]
  },
  {
   "cell_type": "code",
   "execution_count": null,
   "metadata": {
    "collapsed": true
   },
   "outputs": [],
   "source": [
    "handcoded[handcoded['Booking ID'].isin(diff_ids)]['Date of Release']"
   ]
  },
  {
   "cell_type": "code",
   "execution_count": null,
   "metadata": {
    "collapsed": true
   },
   "outputs": [],
   "source": [
    "bookings_by_date[bookings_by_date['booking_id'].isin(diff_ids)]"
   ]
  },
  {
   "cell_type": "code",
   "execution_count": null,
   "metadata": {
    "collapsed": true
   },
   "outputs": [],
   "source": [
    "release_disp[release_disp['booking_id'].isin(handcoded_ids)].drop_duplicates(subset='booking_id')"
   ]
  },
  {
   "cell_type": "markdown",
   "metadata": {},
   "source": [
    "# Hispanic surname analysis\n",
    "\n",
    "Trying out one method to analyze ethnicity. Doesn't seem too accurate? The `ethnicolr` module has some other methods that use full name, might work better."
   ]
  },
  {
   "cell_type": "code",
   "execution_count": null,
   "metadata": {
    "collapsed": true
   },
   "outputs": [],
   "source": [
    "from ethnicolr import census_ln, pred_census_ln, pred_wiki_name"
   ]
  },
  {
   "cell_type": "code",
   "execution_count": null,
   "metadata": {
    "collapsed": true
   },
   "outputs": [],
   "source": [
    "hsa = bookings_by_date.copy()"
   ]
  },
  {
   "cell_type": "code",
   "execution_count": null,
   "metadata": {
    "collapsed": true
   },
   "outputs": [],
   "source": [
    "hsa['last'], hsa['first'] = hsa['inmate_name'].str.split(',', 1).str"
   ]
  },
  {
   "cell_type": "code",
   "execution_count": null,
   "metadata": {
    "collapsed": true
   },
   "outputs": [],
   "source": [
    "hsa = pred_census_ln(hsa, 'last', 2010)"
   ]
  },
  {
   "cell_type": "code",
   "execution_count": null,
   "metadata": {
    "collapsed": true,
    "scrolled": true
   },
   "outputs": [],
   "source": [
    "hsa['race_desc'].value_counts()"
   ]
  },
  {
   "cell_type": "code",
   "execution_count": null,
   "metadata": {
    "collapsed": true
   },
   "outputs": [],
   "source": [
    "hsa['race'].value_counts()"
   ]
  },
  {
   "cell_type": "markdown",
   "metadata": {},
   "source": [
    "## Experimenting with dummy variables"
   ]
  },
  {
   "cell_type": "code",
   "execution_count": null,
   "metadata": {
    "collapsed": true
   },
   "outputs": [],
   "source": [
    "release_disp_dummies = pd.get_dummies(merge['release_disposition_desc'])\n",
    "booking_charge_dummies = pd.get_dummies(merge['booking_charge_desc'])"
   ]
  },
  {
   "cell_type": "code",
   "execution_count": null,
   "metadata": {
    "collapsed": true
   },
   "outputs": [],
   "source": [
    "release_disp_dummies.columns = release_disp_dummies.columns.str.replace(' ', '_')\n",
    "release_disp_dummies.columns = release_disp_dummies.columns.str.replace('/', '_')\n",
    "release_disp_dummies.columns = release_disp_dummies.columns.str.lower()"
   ]
  },
  {
   "cell_type": "code",
   "execution_count": null,
   "metadata": {
    "collapsed": true
   },
   "outputs": [],
   "source": [
    "booking_charge_dummies.columns = booking_charge_dummies.columns.str.replace(' ', '_')\n",
    "booking_charge_dummies.columns = booking_charge_dummies.columns.str.replace('/', '_')\n",
    "booking_charge_dummies.columns = booking_charge_dummies.columns.str.lower()"
   ]
  },
  {
   "cell_type": "code",
   "execution_count": null,
   "metadata": {
    "collapsed": true
   },
   "outputs": [],
   "source": [
    "booking_ids = merge['booking_id']"
   ]
  },
  {
   "cell_type": "code",
   "execution_count": null,
   "metadata": {
    "collapsed": true
   },
   "outputs": [],
   "source": [
    "release_disp_dummies = pd.concat([booking_ids, release_disp_dummies], axis=1)\n",
    "booking_charge_dummies = pd.concat([booking_ids, booking_charge_dummies], axis=1)"
   ]
  },
  {
   "cell_type": "markdown",
   "metadata": {},
   "source": [
    "We can sum up dummies for each `booking id`, returning quantitative rather than categorical variables. Do we care about quantities here, since we're already calculating # of charges? We can change values > 1 to = 1, but is that reliable?"
   ]
  },
  {
   "cell_type": "code",
   "execution_count": null,
   "metadata": {
    "collapsed": true
   },
   "outputs": [],
   "source": [
    "release_disp_sums = release_disp_dummies.groupby('booking_id').sum()"
   ]
  },
  {
   "cell_type": "code",
   "execution_count": null,
   "metadata": {
    "collapsed": true
   },
   "outputs": [],
   "source": [
    "release_disp_sums[release_disp_sums.loc[:,:] > 1] = 1"
   ]
  },
  {
   "cell_type": "code",
   "execution_count": null,
   "metadata": {
    "collapsed": true
   },
   "outputs": [],
   "source": [
    "release_disp_cat = release_disp_sums.reset_index()"
   ]
  },
  {
   "cell_type": "code",
   "execution_count": null,
   "metadata": {
    "collapsed": true
   },
   "outputs": [],
   "source": [
    "booking_charge_sums = booking_charge_dummies.groupby('booking_id').sum()"
   ]
  },
  {
   "cell_type": "code",
   "execution_count": null,
   "metadata": {
    "collapsed": true
   },
   "outputs": [],
   "source": [
    "booking_charge_sums[booking_charge_sums.loc[:,:] > 1] = 1"
   ]
  },
  {
   "cell_type": "code",
   "execution_count": null,
   "metadata": {
    "collapsed": true
   },
   "outputs": [],
   "source": [
    "booking_charge_cat = booking_charge_sums.reset_index()"
   ]
  },
  {
   "cell_type": "markdown",
   "metadata": {},
   "source": [
    "Resulting merge is huge, maybe will be more useful once we categorize charges, release disps"
   ]
  },
  {
   "cell_type": "code",
   "execution_count": null,
   "metadata": {
    "collapsed": true
   },
   "outputs": [],
   "source": [
    "big_merge = pd.merge(merge, release_disp_cat, on='booking_id', how='left')"
   ]
  },
  {
   "cell_type": "code",
   "execution_count": null,
   "metadata": {
    "collapsed": true
   },
   "outputs": [],
   "source": [
    "big_merge = pd.merge(big_merge, booking_charge_cat, on='booking_id', how='left')"
   ]
  },
  {
   "cell_type": "code",
   "execution_count": null,
   "metadata": {
    "collapsed": true
   },
   "outputs": [],
   "source": []
  }
 ],
 "metadata": {
  "kernelspec": {
   "display_name": "Python 3",
   "language": "python",
   "name": "python3"
  },
  "language_info": {
   "codemirror_mode": {
    "name": "ipython",
    "version": 3
   },
   "file_extension": ".py",
   "mimetype": "text/x-python",
   "name": "python",
   "nbconvert_exporter": "python",
   "pygments_lexer": "ipython3",
   "version": "3.6.2"
  }
 },
 "nbformat": 4,
 "nbformat_minor": 2
}
