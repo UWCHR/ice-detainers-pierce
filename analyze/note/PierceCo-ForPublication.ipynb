{
 "cells": [
  {
   "cell_type": "markdown",
   "metadata": {},
   "source": [
    "# Pierce County Jail Records\n",
    "\n",
    "This notebook analyzes inmate booking and release records disclosed by Pierce County Corrections. The records include all inmates released from Pierce County Jail from October 1, 2016 to July 31, 2018."
   ]
  },
  {
   "cell_type": "markdown",
   "metadata": {},
   "source": [
    "## Prior data cleaning tasks\n",
    "\n",
    "### setup/\n",
    "- create unique booking_id_hash for each booking_id\n",
    "- merge booking, release disposition, and place of birth records\n",
    "- mask for immigration hold status, release to immigration\n",
    "- clean birthplace values and mask for birth in US\n",
    "- create unique hash_id for each record\n",
    "- predict race categories using ethnicolr module (FL census data)\n",
    "- identify disposition of last charge released for each booking\n",
    "\n",
    "### charges/\n",
    "- merge hand-coded charge type, category, and seriousness levels for each record\n",
    "- drop unknown charges\n",
    "- drop records with max charge type 'other' (no criminal charges?)\n",
    "    - we lose 16 cases of immgiration holds, including several where hold is only charge\n",
    "    - three cases with immigration holds have 'probat hold' as only other charge. ICE-probation link?\n",
    "    - this category includes lots of other olds, community custody jail. many have crime listed in booking charge txt but hard to know what this means?\n",
    "    - if we drop these, does this skew impact of our seriousness variable? since max charge type 'other' == max seriousness 0?\n",
    "- count number of charges with associated cause_num; topcount to maximum of 10 charges\n",
    "\n",
    "### bail/\n",
    "- merge records of bail payment\n",
    "- calculate total fine paid\n",
    "- drop personally-identifiable information (booking ID, name, date of birth)\n"
   ]
  },
  {
   "cell_type": "markdown",
   "metadata": {},
   "source": [
    "## Caveats\n",
    "\n",
    "- Charges were released to us as un-standardized descriptions; we searched for each charge in the WA RCW to assign charge type, category, and seriousness rank. This required independent research and may introduce errors. Where  seriousness is ambiguous we have \"rounded up\" to most serious possible charge.\n",
    "- Only analyzing cases marked explicitly as an immigration hold; 18 cases with miscellaneous holds may also be immigration holds. We analyzed impact of all holds on jail time and found it to be less significant than impact of immigration hold.\n",
    "- We only have records of bail paid, not bail set for each charge."
   ]
  },
  {
   "cell_type": "code",
   "execution_count": 1,
   "metadata": {},
   "outputs": [],
   "source": [
    "import sys\n",
    "import pandas as pd\n",
    "import numpy as np\n",
    "from datetime import datetime\n",
    "\n",
    "import itertools\n",
    "from itertools import chain, combinations\n",
    "\n",
    "import statsmodels.formula.api as smf\n",
    "import scipy.stats as scipystats\n",
    "import statsmodels.api as sm\n",
    "import statsmodels.stats.stattools as stools\n",
    "import statsmodels.stats as stats\n",
    "from statsmodels.graphics.regressionplots import *\n",
    "\n",
    "import matplotlib.pyplot as plt\n",
    "import matplotlib.mlab as mlab\n",
    "import seaborn as sns\n",
    "\n",
    "%matplotlib inline\n",
    "plt.rcParams['figure.figsize'] = (8, 6)\n",
    "\n",
    "import copy\n",
    "import math\n",
    "import time"
   ]
  },
  {
   "cell_type": "code",
   "execution_count": 2,
   "metadata": {},
   "outputs": [
    {
     "name": "stdout",
     "output_type": "stream",
     "text": [
      "0.23.4\n"
     ]
    }
   ],
   "source": [
    "print(pd.__version__)"
   ]
  },
  {
   "cell_type": "code",
   "execution_count": 3,
   "metadata": {},
   "outputs": [
    {
     "name": "stdout",
     "output_type": "stream",
     "text": [
      "3.7.1 (default, Dec 14 2018, 13:28:58) \n",
      "[Clang 4.0.1 (tags/RELEASE_401/final)]\n"
     ]
    }
   ],
   "source": [
    "print(sys.version)"
   ]
  },
  {
   "cell_type": "code",
   "execution_count": 4,
   "metadata": {},
   "outputs": [],
   "source": [
    "# pd.set_option('display.float_format', lambda x: '%.2f' % x)"
   ]
  },
  {
   "cell_type": "markdown",
   "metadata": {},
   "source": [
    "# Load data"
   ]
  },
  {
   "cell_type": "code",
   "execution_count": 5,
   "metadata": {},
   "outputs": [],
   "source": [
    "path = '../input/'"
   ]
  },
  {
   "cell_type": "code",
   "execution_count": 6,
   "metadata": {},
   "outputs": [],
   "source": [
    "df = pd.read_csv(f'{path}pierce.csv.gz', sep='|', compression='gzip', low_memory=False)"
   ]
  },
  {
   "cell_type": "code",
   "execution_count": 7,
   "metadata": {},
   "outputs": [
    {
     "data": {
      "text/html": [
       "<div>\n",
       "<style scoped>\n",
       "    .dataframe tbody tr th:only-of-type {\n",
       "        vertical-align: middle;\n",
       "    }\n",
       "\n",
       "    .dataframe tbody tr th {\n",
       "        vertical-align: top;\n",
       "    }\n",
       "\n",
       "    .dataframe thead th {\n",
       "        text-align: right;\n",
       "    }\n",
       "</style>\n",
       "<table border=\"1\" class=\"dataframe\">\n",
       "  <thead>\n",
       "    <tr style=\"text-align: right;\">\n",
       "      <th></th>\n",
       "      <th>booking_id</th>\n",
       "      <th>booking_dt</th>\n",
       "      <th>release_dt</th>\n",
       "      <th>booking_charge_desc</th>\n",
       "      <th>booking_charge_txt</th>\n",
       "      <th>charge_release_dt</th>\n",
       "      <th>title_txt</th>\n",
       "      <th>cause_num</th>\n",
       "      <th>jurisdiction_cd</th>\n",
       "      <th>release_disposition_desc</th>\n",
       "      <th>...</th>\n",
       "      <th>drug</th>\n",
       "      <th>other</th>\n",
       "      <th>property</th>\n",
       "      <th>public_order</th>\n",
       "      <th>sex</th>\n",
       "      <th>violent</th>\n",
       "      <th>felony</th>\n",
       "      <th>misdemeanor</th>\n",
       "      <th>total_fine</th>\n",
       "      <th>paid_bail</th>\n",
       "    </tr>\n",
       "  </thead>\n",
       "  <tbody>\n",
       "    <tr>\n",
       "      <th>0</th>\n",
       "      <td>0005bb13ca0607809ca8daba16db7724def2fd3d</td>\n",
       "      <td>2017-11-21 22:05:00</td>\n",
       "      <td>2017-11-22 16:00:00</td>\n",
       "      <td>FEL HARASS-DV, DV-THREATS/DEATH THRT</td>\n",
       "      <td>NaN</td>\n",
       "      <td>2017-11-22 20:00:00</td>\n",
       "      <td>Report Criteria: 10/01/2017 to 07/31/2018, Dis...</td>\n",
       "      <td>17-1-04484-1</td>\n",
       "      <td>SUP</td>\n",
       "      <td>PR</td>\n",
       "      <td>...</td>\n",
       "      <td>0</td>\n",
       "      <td>0</td>\n",
       "      <td>0</td>\n",
       "      <td>0</td>\n",
       "      <td>0</td>\n",
       "      <td>1</td>\n",
       "      <td>1</td>\n",
       "      <td>0</td>\n",
       "      <td>0.0</td>\n",
       "      <td>False</td>\n",
       "    </tr>\n",
       "    <tr>\n",
       "      <th>1</th>\n",
       "      <td>000604f6650702576e851852fe84984d6097b8bc</td>\n",
       "      <td>2017-12-02 18:26:00</td>\n",
       "      <td>2018-07-11 16:03:00</td>\n",
       "      <td>ASLT 3</td>\n",
       "      <td>NaN</td>\n",
       "      <td>2018-07-11 22:00:00</td>\n",
       "      <td>Report Criteria: 10/01/2017 to 07/31/2018, Dis...</td>\n",
       "      <td>17-1-04595-2</td>\n",
       "      <td>SUP</td>\n",
       "      <td>Time Served</td>\n",
       "      <td>...</td>\n",
       "      <td>0</td>\n",
       "      <td>0</td>\n",
       "      <td>0</td>\n",
       "      <td>0</td>\n",
       "      <td>0</td>\n",
       "      <td>1</td>\n",
       "      <td>1</td>\n",
       "      <td>0</td>\n",
       "      <td>0.0</td>\n",
       "      <td>False</td>\n",
       "    </tr>\n",
       "  </tbody>\n",
       "</table>\n",
       "<p>2 rows × 50 columns</p>\n",
       "</div>"
      ],
      "text/plain": [
       "                                 booking_id           booking_dt  \\\n",
       "0  0005bb13ca0607809ca8daba16db7724def2fd3d  2017-11-21 22:05:00   \n",
       "1  000604f6650702576e851852fe84984d6097b8bc  2017-12-02 18:26:00   \n",
       "\n",
       "            release_dt                   booking_charge_desc  \\\n",
       "0  2017-11-22 16:00:00  FEL HARASS-DV, DV-THREATS/DEATH THRT   \n",
       "1  2018-07-11 16:03:00                                ASLT 3   \n",
       "\n",
       "  booking_charge_txt    charge_release_dt  \\\n",
       "0                NaN  2017-11-22 20:00:00   \n",
       "1                NaN  2018-07-11 22:00:00   \n",
       "\n",
       "                                           title_txt     cause_num  \\\n",
       "0  Report Criteria: 10/01/2017 to 07/31/2018, Dis...  17-1-04484-1   \n",
       "1  Report Criteria: 10/01/2017 to 07/31/2018, Dis...  17-1-04595-2   \n",
       "\n",
       "  jurisdiction_cd release_disposition_desc    ...     drug other property  \\\n",
       "0             SUP                       PR    ...        0     0        0   \n",
       "1             SUP              Time Served    ...        0     0        0   \n",
       "\n",
       "  public_order  sex  violent  felony  misdemeanor  total_fine  paid_bail  \n",
       "0            0    0        1       1            0         0.0      False  \n",
       "1            0    0        1       1            0         0.0      False  \n",
       "\n",
       "[2 rows x 50 columns]"
      ]
     },
     "execution_count": 7,
     "metadata": {},
     "output_type": "execute_result"
    }
   ],
   "source": [
    "df.head(2)"
   ]
  },
  {
   "cell_type": "code",
   "execution_count": 8,
   "metadata": {},
   "outputs": [
    {
     "data": {
      "text/html": [
       "<div>\n",
       "<style scoped>\n",
       "    .dataframe tbody tr th:only-of-type {\n",
       "        vertical-align: middle;\n",
       "    }\n",
       "\n",
       "    .dataframe tbody tr th {\n",
       "        vertical-align: top;\n",
       "    }\n",
       "\n",
       "    .dataframe thead th {\n",
       "        text-align: right;\n",
       "    }\n",
       "</style>\n",
       "<table border=\"1\" class=\"dataframe\">\n",
       "  <thead>\n",
       "    <tr style=\"text-align: right;\">\n",
       "      <th></th>\n",
       "      <th>booking_id</th>\n",
       "      <th>booking_dt</th>\n",
       "      <th>release_dt</th>\n",
       "      <th>booking_charge_desc</th>\n",
       "      <th>booking_charge_txt</th>\n",
       "      <th>charge_release_dt</th>\n",
       "      <th>title_txt</th>\n",
       "      <th>cause_num</th>\n",
       "      <th>jurisdiction_cd</th>\n",
       "      <th>release_disposition_desc</th>\n",
       "      <th>...</th>\n",
       "      <th>drug</th>\n",
       "      <th>other</th>\n",
       "      <th>property</th>\n",
       "      <th>public_order</th>\n",
       "      <th>sex</th>\n",
       "      <th>violent</th>\n",
       "      <th>felony</th>\n",
       "      <th>misdemeanor</th>\n",
       "      <th>total_fine</th>\n",
       "      <th>paid_bail</th>\n",
       "    </tr>\n",
       "  </thead>\n",
       "  <tbody>\n",
       "    <tr>\n",
       "      <th>71008</th>\n",
       "      <td>fffc7feb8fb5516b10135b0930b5bc823aebbfb0</td>\n",
       "      <td>2017-03-02 16:34:00</td>\n",
       "      <td>2017-04-29 05:00:00</td>\n",
       "      <td>RECK ENDANGER</td>\n",
       "      <td>NaN</td>\n",
       "      <td>2017-04-29 05:00:00</td>\n",
       "      <td>Report Criteria: 10/01/2016 to 09/30/2017, Dis...</td>\n",
       "      <td>16-1-03631-9</td>\n",
       "      <td>SUP</td>\n",
       "      <td>Time Served</td>\n",
       "      <td>...</td>\n",
       "      <td>0</td>\n",
       "      <td>0</td>\n",
       "      <td>0</td>\n",
       "      <td>1</td>\n",
       "      <td>0</td>\n",
       "      <td>0</td>\n",
       "      <td>0</td>\n",
       "      <td>1</td>\n",
       "      <td>0.0</td>\n",
       "      <td>False</td>\n",
       "    </tr>\n",
       "    <tr>\n",
       "      <th>71009</th>\n",
       "      <td>fffc8064aa94fda4ec4226979f12acca416dc79a</td>\n",
       "      <td>2016-10-19 06:33:00</td>\n",
       "      <td>2016-10-20 18:49:00</td>\n",
       "      <td>ASSAULT 4 /DV</td>\n",
       "      <td>NaN</td>\n",
       "      <td>2016-10-20 22:00:00</td>\n",
       "      <td>Report Criteria: 10/01/2016 to 09/30/2017, Dis...</td>\n",
       "      <td>6ZC002680</td>\n",
       "      <td>PD1</td>\n",
       "      <td>Court Order</td>\n",
       "      <td>...</td>\n",
       "      <td>0</td>\n",
       "      <td>0</td>\n",
       "      <td>0</td>\n",
       "      <td>0</td>\n",
       "      <td>0</td>\n",
       "      <td>1</td>\n",
       "      <td>1</td>\n",
       "      <td>0</td>\n",
       "      <td>0.0</td>\n",
       "      <td>False</td>\n",
       "    </tr>\n",
       "  </tbody>\n",
       "</table>\n",
       "<p>2 rows × 50 columns</p>\n",
       "</div>"
      ],
      "text/plain": [
       "                                     booking_id           booking_dt  \\\n",
       "71008  fffc7feb8fb5516b10135b0930b5bc823aebbfb0  2017-03-02 16:34:00   \n",
       "71009  fffc8064aa94fda4ec4226979f12acca416dc79a  2016-10-19 06:33:00   \n",
       "\n",
       "                release_dt booking_charge_desc booking_charge_txt  \\\n",
       "71008  2017-04-29 05:00:00       RECK ENDANGER                NaN   \n",
       "71009  2016-10-20 18:49:00       ASSAULT 4 /DV                NaN   \n",
       "\n",
       "         charge_release_dt                                          title_txt  \\\n",
       "71008  2017-04-29 05:00:00  Report Criteria: 10/01/2016 to 09/30/2017, Dis...   \n",
       "71009  2016-10-20 22:00:00  Report Criteria: 10/01/2016 to 09/30/2017, Dis...   \n",
       "\n",
       "          cause_num jurisdiction_cd release_disposition_desc    ...     drug  \\\n",
       "71008  16-1-03631-9             SUP              Time Served    ...        0   \n",
       "71009     6ZC002680             PD1              Court Order    ...        0   \n",
       "\n",
       "      other property public_order  sex  violent  felony  misdemeanor  \\\n",
       "71008     0        0            1    0        0       0            1   \n",
       "71009     0        0            0    0        1       1            0   \n",
       "\n",
       "       total_fine  paid_bail  \n",
       "71008         0.0      False  \n",
       "71009         0.0      False  \n",
       "\n",
       "[2 rows x 50 columns]"
      ]
     },
     "execution_count": 8,
     "metadata": {},
     "output_type": "execute_result"
    }
   ],
   "source": [
    "df.tail(2)"
   ]
  },
  {
   "cell_type": "code",
   "execution_count": 9,
   "metadata": {},
   "outputs": [
    {
     "name": "stdout",
     "output_type": "stream",
     "text": [
      "<class 'pandas.core.frame.DataFrame'>\n",
      "RangeIndex: 71010 entries, 0 to 71009\n",
      "Data columns (total 50 columns):\n",
      "booking_id                  71010 non-null object\n",
      "booking_dt                  71010 non-null object\n",
      "release_dt                  71010 non-null object\n",
      "booking_charge_desc         71010 non-null object\n",
      "booking_charge_txt          4686 non-null object\n",
      "charge_release_dt           71010 non-null object\n",
      "title_txt                   71010 non-null object\n",
      "cause_num                   55200 non-null object\n",
      "jurisdiction_cd             71010 non-null object\n",
      "release_disposition_desc    71010 non-null object\n",
      "post_flg                    71010 non-null object\n",
      "gender_desc                 71010 non-null object\n",
      "race_desc                   71010 non-null object\n",
      "hash_id                     71010 non-null object\n",
      "amer_indian_alaskan         71010 non-null int64\n",
      "asian_pacific_island        71010 non-null int64\n",
      "black                       71010 non-null int64\n",
      "hispanic                    71010 non-null int64\n",
      "unknown                     71010 non-null int64\n",
      "white                       71010 non-null int64\n",
      "female                      71010 non-null int64\n",
      "male                        71010 non-null int64\n",
      "place_of_birth              70035 non-null object\n",
      "country_of_birth            70035 non-null object\n",
      "born_in_us                  71010 non-null bool\n",
      "time_detained               71010 non-null float64\n",
      "log_time_detained           71010 non-null float64\n",
      "admin_booking               71010 non-null int64\n",
      "release_to_imm              71010 non-null int64\n",
      "cancel_detainer             71010 non-null int64\n",
      "imm_hold                    71010 non-null int64\n",
      "final_release_disp          71010 non-null object\n",
      "charge_count                71010 non-null int64\n",
      "charge_topcount             71010 non-null int64\n",
      "category                    71010 non-null object\n",
      "type                        71010 non-null object\n",
      "seriousness                 71010 non-null float64\n",
      "max_seriousness             71010 non-null float64\n",
      "max_charge_type             71010 non-null object\n",
      "max_charge_desc             71010 non-null object\n",
      "drug                        71010 non-null int64\n",
      "other                       71010 non-null int64\n",
      "property                    71010 non-null int64\n",
      "public_order                71010 non-null int64\n",
      "sex                         71010 non-null int64\n",
      "violent                     71010 non-null int64\n",
      "felony                      71010 non-null int64\n",
      "misdemeanor                 71010 non-null int64\n",
      "total_fine                  71010 non-null float64\n",
      "paid_bail                   71010 non-null bool\n",
      "dtypes: bool(2), float64(5), int64(22), object(21)\n",
      "memory usage: 26.1+ MB\n"
     ]
    }
   ],
   "source": [
    "df.info()"
   ]
  },
  {
   "cell_type": "code",
   "execution_count": 10,
   "metadata": {},
   "outputs": [],
   "source": [
    "df['race_desc'] = df['race_desc'].str.lower()\n",
    "df['gender_desc'] = df['gender_desc'].str.lower()\n",
    "df['booking_dt'] = pd.to_datetime(df['booking_dt'])\n",
    "df['release_dt'] = pd.to_datetime(df['release_dt'])\n",
    "df['charge_release_dt'] = pd.to_datetime(df['charge_release_dt'])"
   ]
  },
  {
   "cell_type": "code",
   "execution_count": 11,
   "metadata": {},
   "outputs": [
    {
     "name": "stdout",
     "output_type": "stream",
     "text": [
      "71010 total records.\n",
      "29313 unique booking IDs.\n"
     ]
    }
   ],
   "source": [
    "total_records = len(df)\n",
    "unique_booking_ids = len(set(df.booking_id))\n",
    "print(f'{total_records} total records.')\n",
    "print(f'{unique_booking_ids} unique booking IDs.')"
   ]
  },
  {
   "cell_type": "markdown",
   "metadata": {},
   "source": [
    "### Top release dispositions:"
   ]
  },
  {
   "cell_type": "markdown",
   "metadata": {},
   "source": [
    "For cases with immigration holds:"
   ]
  },
  {
   "cell_type": "code",
   "execution_count": 12,
   "metadata": {},
   "outputs": [],
   "source": [
    "hold_mask = df['imm_hold'] == 1"
   ]
  },
  {
   "cell_type": "code",
   "execution_count": 13,
   "metadata": {},
   "outputs": [],
   "source": [
    "pr = df['release_disposition_desc'] == 'PR'"
   ]
  },
  {
   "cell_type": "code",
   "execution_count": 14,
   "metadata": {
    "scrolled": true
   },
   "outputs": [
    {
     "data": {
      "text/plain": [
       "Immigration               18.290855\n",
       "Dismissed                 13.193403\n",
       "WSI Chain                 13.043478\n",
       "Credit for Time Served     8.695652\n",
       "Mini-Chain                 7.196402\n",
       "Time Served                6.596702\n",
       "Court Order                5.097451\n",
       "NCF Final                  4.947526\n",
       "PR                         4.797601\n",
       "NCF, Pending Inv           3.598201\n",
       "Name: release_disposition_desc, dtype: float64"
      ]
     },
     "execution_count": 14,
     "metadata": {},
     "output_type": "execute_result"
    }
   ],
   "source": [
    "(df[hold_mask]['release_disposition_desc'].value_counts() / len(df[hold_mask]) * 100).head(10)"
   ]
  },
  {
   "cell_type": "markdown",
   "metadata": {},
   "source": [
    "For cases without immigration hold:"
   ]
  },
  {
   "cell_type": "code",
   "execution_count": 15,
   "metadata": {
    "scrolled": true
   },
   "outputs": [
    {
     "data": {
      "text/plain": [
       "Bail Bond      14.253017\n",
       "PR             11.065778\n",
       "Time Served     9.851727\n",
       "Dismissed       8.346246\n",
       "WSI Chain       7.906970\n",
       "Name: release_disposition_desc, dtype: float64"
      ]
     },
     "execution_count": 15,
     "metadata": {},
     "output_type": "execute_result"
    }
   ],
   "source": [
    "(df[~hold_mask]['release_disposition_desc'].value_counts() / len(df[~hold_mask]) * 100).head()"
   ]
  },
  {
   "cell_type": "code",
   "execution_count": 16,
   "metadata": {
    "scrolled": true
   },
   "outputs": [
    {
     "data": {
      "text/plain": [
       "0.047976011994003"
      ]
     },
     "execution_count": 16,
     "metadata": {},
     "output_type": "execute_result"
    }
   ],
   "source": [
    "sum(df.loc[hold_mask]['release_disposition_desc'] == 'PR') / len(df[hold_mask])"
   ]
  },
  {
   "cell_type": "code",
   "execution_count": 17,
   "metadata": {},
   "outputs": [
    {
     "data": {
      "text/plain": [
       "0.1106577768932232"
      ]
     },
     "execution_count": 17,
     "metadata": {},
     "output_type": "execute_result"
    }
   ],
   "source": [
    "sum(df.loc[~hold_mask]['release_disposition_desc'] == 'PR') / len(df[~hold_mask])"
   ]
  },
  {
   "cell_type": "markdown",
   "metadata": {},
   "source": [
    "# Drop duplicates"
   ]
  },
  {
   "cell_type": "markdown",
   "metadata": {},
   "source": [
    "Subsequent cell drops duplicate booking IDs so count = individual bookings, not charges. All variables we are analyzing have been masked at booking level so it doesn't matter which individual record we retain for each set of booking charges."
   ]
  },
  {
   "cell_type": "code",
   "execution_count": 18,
   "metadata": {},
   "outputs": [],
   "source": [
    "df_all = df.copy()\n",
    "df = df.drop_duplicates(subset=['booking_id'])\n",
    "assert len(df) == len(set(df_all['booking_id']))"
   ]
  },
  {
   "cell_type": "code",
   "execution_count": 19,
   "metadata": {
    "scrolled": true
   },
   "outputs": [
    {
     "name": "stdout",
     "output_type": "stream",
     "text": [
      "<class 'pandas.core.frame.DataFrame'>\n",
      "Int64Index: 29313 entries, 0 to 71009\n",
      "Data columns (total 50 columns):\n",
      "booking_id                  29313 non-null object\n",
      "booking_dt                  29313 non-null datetime64[ns]\n",
      "release_dt                  29313 non-null datetime64[ns]\n",
      "booking_charge_desc         29313 non-null object\n",
      "booking_charge_txt          1908 non-null object\n",
      "charge_release_dt           29313 non-null datetime64[ns]\n",
      "title_txt                   29313 non-null object\n",
      "cause_num                   21547 non-null object\n",
      "jurisdiction_cd             29313 non-null object\n",
      "release_disposition_desc    29313 non-null object\n",
      "post_flg                    29313 non-null object\n",
      "gender_desc                 29313 non-null object\n",
      "race_desc                   29313 non-null object\n",
      "hash_id                     29313 non-null object\n",
      "amer_indian_alaskan         29313 non-null int64\n",
      "asian_pacific_island        29313 non-null int64\n",
      "black                       29313 non-null int64\n",
      "hispanic                    29313 non-null int64\n",
      "unknown                     29313 non-null int64\n",
      "white                       29313 non-null int64\n",
      "female                      29313 non-null int64\n",
      "male                        29313 non-null int64\n",
      "place_of_birth              28888 non-null object\n",
      "country_of_birth            28888 non-null object\n",
      "born_in_us                  29313 non-null bool\n",
      "time_detained               29313 non-null float64\n",
      "log_time_detained           29313 non-null float64\n",
      "admin_booking               29313 non-null int64\n",
      "release_to_imm              29313 non-null int64\n",
      "cancel_detainer             29313 non-null int64\n",
      "imm_hold                    29313 non-null int64\n",
      "final_release_disp          29313 non-null object\n",
      "charge_count                29313 non-null int64\n",
      "charge_topcount             29313 non-null int64\n",
      "category                    29313 non-null object\n",
      "type                        29313 non-null object\n",
      "seriousness                 29313 non-null float64\n",
      "max_seriousness             29313 non-null float64\n",
      "max_charge_type             29313 non-null object\n",
      "max_charge_desc             29313 non-null object\n",
      "drug                        29313 non-null int64\n",
      "other                       29313 non-null int64\n",
      "property                    29313 non-null int64\n",
      "public_order                29313 non-null int64\n",
      "sex                         29313 non-null int64\n",
      "violent                     29313 non-null int64\n",
      "felony                      29313 non-null int64\n",
      "misdemeanor                 29313 non-null int64\n",
      "total_fine                  29313 non-null float64\n",
      "paid_bail                   29313 non-null bool\n",
      "dtypes: bool(2), datetime64[ns](3), float64(5), int64(22), object(18)\n",
      "memory usage: 11.0+ MB\n"
     ]
    }
   ],
   "source": [
    "df.info()"
   ]
  },
  {
   "cell_type": "code",
   "execution_count": 20,
   "metadata": {},
   "outputs": [],
   "source": [
    "df.set_index('booking_id',inplace=True)"
   ]
  },
  {
   "cell_type": "code",
   "execution_count": 21,
   "metadata": {},
   "outputs": [],
   "source": [
    "hold_mask = df['imm_hold'] == 1"
   ]
  },
  {
   "cell_type": "markdown",
   "metadata": {},
   "source": [
    "## General measures"
   ]
  },
  {
   "cell_type": "markdown",
   "metadata": {},
   "source": [
    "### Date ranges"
   ]
  },
  {
   "cell_type": "code",
   "execution_count": 22,
   "metadata": {},
   "outputs": [
    {
     "name": "stdout",
     "output_type": "stream",
     "text": [
      "Booking dates:\n",
      "count                   29313\n",
      "unique                  29174\n",
      "top       2016-10-05 18:23:00\n",
      "freq                        2\n",
      "first     2013-06-21 18:42:00\n",
      "last      2018-07-31 15:38:00\n",
      "Name: booking_dt, dtype: object\n",
      "\n",
      "Release dates:\n",
      "count                   29313\n",
      "unique                  15220\n",
      "top       2018-03-29 09:00:00\n",
      "freq                       26\n",
      "first     2016-10-01 01:00:00\n",
      "last      2018-07-31 21:55:00\n",
      "Name: release_dt, dtype: object\n"
     ]
    }
   ],
   "source": [
    "earliest_booking = df.booking_dt.min()\n",
    "latest_booking = df.booking_dt.max()\n",
    "earliest_release = df.release_dt.min()\n",
    "latest_release = df.release_dt.max()\n",
    "print(f'Booking dates:\\n{df.booking_dt.describe()}\\n\\nRelease dates:\\n{df.release_dt.describe()}')"
   ]
  },
  {
   "cell_type": "code",
   "execution_count": 23,
   "metadata": {},
   "outputs": [
    {
     "data": {
      "text/plain": [
       "'October 2016'"
      ]
     },
     "execution_count": 23,
     "metadata": {},
     "output_type": "execute_result"
    }
   ],
   "source": [
    "f'{earliest_release.month_name()} {earliest_release.year}'"
   ]
  },
  {
   "cell_type": "code",
   "execution_count": 24,
   "metadata": {},
   "outputs": [
    {
     "data": {
      "text/plain": [
       "'October'"
      ]
     },
     "execution_count": 24,
     "metadata": {},
     "output_type": "execute_result"
    }
   ],
   "source": [
    "earliest_release.month_name()"
   ]
  },
  {
   "cell_type": "code",
   "execution_count": 25,
   "metadata": {},
   "outputs": [
    {
     "data": {
      "text/plain": [
       "2013"
      ]
     },
     "execution_count": 25,
     "metadata": {},
     "output_type": "execute_result"
    }
   ],
   "source": [
    "earliest_booking.year"
   ]
  },
  {
   "cell_type": "markdown",
   "metadata": {},
   "source": [
    "### Demographics"
   ]
  },
  {
   "cell_type": "markdown",
   "metadata": {},
   "source": [
    "Demographics as reported by Pierce County corrections:"
   ]
  },
  {
   "cell_type": "code",
   "execution_count": 26,
   "metadata": {
    "scrolled": true
   },
   "outputs": [
    {
     "name": "stdout",
     "output_type": "stream",
     "text": [
      "Count of race categories:\n",
      "white                   16919\n",
      "black                    7110\n",
      "hispanic                 2540\n",
      "asian/pacific island     1790\n",
      "amer indian/alaskan       892\n",
      "unknown                    62\n",
      "Name: race_desc, dtype: int64\n",
      "\n",
      "Race categories as percent of total jail population:\n",
      "white                   57.718418\n",
      "black                   24.255450\n",
      "hispanic                 8.665097\n",
      "asian/pacific island     6.106506\n",
      "amer indian/alaskan      3.043018\n",
      "unknown                  0.211510\n",
      "Name: race_desc, dtype: float64\n"
     ]
    }
   ],
   "source": [
    "race_count = df['race_desc'].value_counts()\n",
    "race_percent = race_count/len(df)*100\n",
    "print(f'Count of race categories:\\n{race_count}\\n')\n",
    "print(f'Race categories as percent of total jail population:\\n{race_percent}')"
   ]
  },
  {
   "cell_type": "code",
   "execution_count": 27,
   "metadata": {},
   "outputs": [
    {
     "name": "stdout",
     "output_type": "stream",
     "text": [
      "Count of race categories with hold:\n",
      "hispanic                152\n",
      "asian/pacific island     18\n",
      "white                     9\n",
      "black                     8\n",
      "unknown                   1\n",
      "Name: race_desc, dtype: int64\n",
      "\n",
      "Race categories as percent of holds:\n",
      "hispanic                80.851064\n",
      "asian/pacific island     9.574468\n",
      "white                    4.787234\n",
      "black                    4.255319\n",
      "unknown                  0.531915\n",
      "Name: race_desc, dtype: float64\n"
     ]
    }
   ],
   "source": [
    "hold_race_count = df[hold_mask]['race_desc'].value_counts()\n",
    "hold_race_percent = hold_race_count/len(df[hold_mask])*100\n",
    "print(f'Count of race categories with hold:\\n{hold_race_count}\\n')\n",
    "print(f'Race categories as percent of holds:\\n{hold_race_percent}')"
   ]
  },
  {
   "cell_type": "code",
   "execution_count": 28,
   "metadata": {},
   "outputs": [
    {
     "data": {
      "text/plain": [
       "0.6413536656091153"
      ]
     },
     "execution_count": 28,
     "metadata": {},
     "output_type": "execute_result"
    }
   ],
   "source": [
    "len(df[hold_mask]) / len(df) * 100"
   ]
  },
  {
   "cell_type": "code",
   "execution_count": 29,
   "metadata": {},
   "outputs": [
    {
     "data": {
      "text/plain": [
       "80.85106382978722"
      ]
     },
     "execution_count": 29,
     "metadata": {},
     "output_type": "execute_result"
    }
   ],
   "source": [
    "float(hold_race_percent['hispanic'])"
   ]
  },
  {
   "cell_type": "markdown",
   "metadata": {},
   "source": [
    "### Gender:"
   ]
  },
  {
   "cell_type": "code",
   "execution_count": 30,
   "metadata": {},
   "outputs": [
    {
     "name": "stdout",
     "output_type": "stream",
     "text": [
      "Count of gender categories:\n",
      "male      22029\n",
      "female     7284\n",
      "Name: gender_desc, dtype: int64\n",
      "\n",
      "Gender categories as percent of total jail population:\n",
      "male      75.150957\n",
      "female    24.849043\n",
      "Name: gender_desc, dtype: float64\n"
     ]
    }
   ],
   "source": [
    "value_count = df['gender_desc'].value_counts()\n",
    "print(f'Count of gender categories:\\n{value_count}\\n')\n",
    "print(f'Gender categories as percent of total jail population:\\n{value_count/len(df)*100}')"
   ]
  },
  {
   "cell_type": "markdown",
   "metadata": {},
   "source": [
    "## Statistics on inmates with immigration holds"
   ]
  },
  {
   "cell_type": "code",
   "execution_count": 31,
   "metadata": {},
   "outputs": [
    {
     "data": {
      "text/html": [
       "<div>\n",
       "<style scoped>\n",
       "    .dataframe tbody tr th:only-of-type {\n",
       "        vertical-align: middle;\n",
       "    }\n",
       "\n",
       "    .dataframe tbody tr th {\n",
       "        vertical-align: top;\n",
       "    }\n",
       "\n",
       "    .dataframe thead th {\n",
       "        text-align: right;\n",
       "    }\n",
       "</style>\n",
       "<table border=\"1\" class=\"dataframe\">\n",
       "  <thead>\n",
       "    <tr style=\"text-align: right;\">\n",
       "      <th></th>\n",
       "      <th>N</th>\n",
       "      <th>Race category as % of total</th>\n",
       "      <th>Bookings with ICE detainers</th>\n",
       "      <th>ICE detainers as % of race category</th>\n",
       "    </tr>\n",
       "  </thead>\n",
       "  <tbody>\n",
       "    <tr>\n",
       "      <th>White</th>\n",
       "      <td>16919</td>\n",
       "      <td>57.718418</td>\n",
       "      <td>9</td>\n",
       "      <td>0.053195</td>\n",
       "    </tr>\n",
       "    <tr>\n",
       "      <th>Black</th>\n",
       "      <td>7110</td>\n",
       "      <td>24.255450</td>\n",
       "      <td>8</td>\n",
       "      <td>0.112518</td>\n",
       "    </tr>\n",
       "    <tr>\n",
       "      <th>Hispanic</th>\n",
       "      <td>2540</td>\n",
       "      <td>8.665097</td>\n",
       "      <td>152</td>\n",
       "      <td>5.984252</td>\n",
       "    </tr>\n",
       "    <tr>\n",
       "      <th>Asian/ Pacific Islander</th>\n",
       "      <td>1790</td>\n",
       "      <td>6.106506</td>\n",
       "      <td>18</td>\n",
       "      <td>1.005587</td>\n",
       "    </tr>\n",
       "    <tr>\n",
       "      <th>American Indian/ Alaskan Native</th>\n",
       "      <td>892</td>\n",
       "      <td>3.043018</td>\n",
       "      <td>0</td>\n",
       "      <td>0.000000</td>\n",
       "    </tr>\n",
       "    <tr>\n",
       "      <th>Unknown</th>\n",
       "      <td>62</td>\n",
       "      <td>0.211510</td>\n",
       "      <td>1</td>\n",
       "      <td>1.612903</td>\n",
       "    </tr>\n",
       "    <tr>\n",
       "      <th>Total</th>\n",
       "      <td>29313</td>\n",
       "      <td>100.000000</td>\n",
       "      <td>188</td>\n",
       "      <td>0.641354</td>\n",
       "    </tr>\n",
       "  </tbody>\n",
       "</table>\n",
       "</div>"
      ],
      "text/plain": [
       "                                     N  Race category as % of total  \\\n",
       "White                            16919                    57.718418   \n",
       "Black                             7110                    24.255450   \n",
       "Hispanic                          2540                     8.665097   \n",
       "Asian/ Pacific Islander           1790                     6.106506   \n",
       "American Indian/ Alaskan Native    892                     3.043018   \n",
       "Unknown                             62                     0.211510   \n",
       "Total                            29313                   100.000000   \n",
       "\n",
       "                                 Bookings with ICE detainers  \\\n",
       "White                                                      9   \n",
       "Black                                                      8   \n",
       "Hispanic                                                 152   \n",
       "Asian/ Pacific Islander                                   18   \n",
       "American Indian/ Alaskan Native                            0   \n",
       "Unknown                                                    1   \n",
       "Total                                                    188   \n",
       "\n",
       "                                 ICE detainers as % of race category  \n",
       "White                                                       0.053195  \n",
       "Black                                                       0.112518  \n",
       "Hispanic                                                    5.984252  \n",
       "Asian/ Pacific Islander                                     1.005587  \n",
       "American Indian/ Alaskan Native                             0.000000  \n",
       "Unknown                                                     1.612903  \n",
       "Total                                                       0.641354  "
      ]
     },
     "execution_count": 31,
     "metadata": {},
     "output_type": "execute_result"
    }
   ],
   "source": [
    "race_ice_holds = df.groupby('race_desc')['imm_hold'].sum()\n",
    "n = df['race_desc'].value_counts()\n",
    "race_percent = n / len(df) * 100\n",
    "race_hold_df = pd.DataFrame([n, race_percent, race_ice_holds]).T\n",
    "cols = ['N',\n",
    "        'Race category as % of total',\n",
    "        'Bookings with ICE detainers']\n",
    "race_hold_df.columns = cols\n",
    "race_hold_df.reset_index(inplace=True)\n",
    "race_hold_df = race_hold_df.append(race_hold_df.sum(numeric_only=True), ignore_index=True)\n",
    "index = ['White',\n",
    "         'Black',\n",
    "         'Hispanic',\n",
    "         'Asian/ Pacific Islander',\n",
    "         'American Indian/ Alaskan Native',\n",
    "         'Unknown',\n",
    "         'Total']\n",
    "race_hold_df['index'] = index\n",
    "race_hold_df = race_hold_df.set_index('index')\n",
    "race_hold_df.index.name = None\n",
    "int_cols = ['N',\n",
    "        'Bookings with ICE detainers']\n",
    "race_hold_df[int_cols] = race_hold_df[int_cols].astype(int)\n",
    "race_hold_df['ICE detainers as % of race category'] = race_hold_df['Bookings with ICE detainers']/race_hold_df['N'] * 100\n",
    "race_hold_df.to_csv('../output/race_hold_table.csv')\n",
    "race_hold_df"
   ]
  },
  {
   "cell_type": "code",
   "execution_count": 32,
   "metadata": {},
   "outputs": [],
   "source": [
    "holds_as_percent_of_race = race_hold_df['Bookings with ICE detainers']/race_hold_df['N'] * 100\n",
    "hispanic_holds_as_percent_of_race = format(holds_as_percent_of_race['Hispanic'], '.2f')\n",
    "hispanic_chance_of_hold = format(round(100 / holds_as_percent_of_race['Hispanic']), '.0f')"
   ]
  },
  {
   "cell_type": "code",
   "execution_count": 33,
   "metadata": {},
   "outputs": [
    {
     "data": {
      "text/plain": [
       "'17'"
      ]
     },
     "execution_count": 33,
     "metadata": {},
     "output_type": "execute_result"
    }
   ],
   "source": [
    "hispanic_chance_of_hold"
   ]
  },
  {
   "cell_type": "code",
   "execution_count": 65,
   "metadata": {},
   "outputs": [
    {
     "data": {
      "text/plain": [
       "0.026595744680851064"
      ]
     },
     "execution_count": 65,
     "metadata": {},
     "output_type": "execute_result"
    }
   ],
   "source": [
    "df[hold][\"born_in_us\"].mean()"
   ]
  },
  {
   "cell_type": "code",
   "execution_count": 66,
   "metadata": {},
   "outputs": [
    {
     "data": {
      "text/plain": [
       "0.9100085836909871"
      ]
     },
     "execution_count": 66,
     "metadata": {},
     "output_type": "execute_result"
    }
   ],
   "source": [
    "df[~hold][\"born_in_us\"].mean()"
   ]
  },
  {
   "cell_type": "code",
   "execution_count": 67,
   "metadata": {},
   "outputs": [],
   "source": [
    "foreign_born = df['born_in_us'] == False"
   ]
  },
  {
   "cell_type": "code",
   "execution_count": 73,
   "metadata": {},
   "outputs": [
    {
     "data": {
      "text/plain": [
       "0.06526390870185449"
      ]
     },
     "execution_count": 73,
     "metadata": {},
     "output_type": "execute_result"
    }
   ],
   "source": [
    "df[foreign_born]['imm_hold'].mean()"
   ]
  },
  {
   "cell_type": "code",
   "execution_count": 85,
   "metadata": {},
   "outputs": [],
   "source": [
    "tab = pd.crosstab(df.born_in_us, df.imm_hold)"
   ]
  },
  {
   "cell_type": "code",
   "execution_count": 92,
   "metadata": {},
   "outputs": [
    {
     "data": {
      "text/html": [
       "<div>\n",
       "<style scoped>\n",
       "    .dataframe tbody tr th:only-of-type {\n",
       "        vertical-align: middle;\n",
       "    }\n",
       "\n",
       "    .dataframe tbody tr th {\n",
       "        vertical-align: top;\n",
       "    }\n",
       "\n",
       "    .dataframe thead th {\n",
       "        text-align: right;\n",
       "    }\n",
       "</style>\n",
       "<table border=\"1\" class=\"dataframe\">\n",
       "  <thead>\n",
       "    <tr style=\"text-align: right;\">\n",
       "      <th>imm_hold</th>\n",
       "      <th>0</th>\n",
       "      <th>1</th>\n",
       "    </tr>\n",
       "    <tr>\n",
       "      <th>born_in_us</th>\n",
       "      <th></th>\n",
       "      <th></th>\n",
       "    </tr>\n",
       "  </thead>\n",
       "  <tbody>\n",
       "    <tr>\n",
       "      <th>False</th>\n",
       "      <td>2621</td>\n",
       "      <td>183</td>\n",
       "    </tr>\n",
       "    <tr>\n",
       "      <th>True</th>\n",
       "      <td>26504</td>\n",
       "      <td>5</td>\n",
       "    </tr>\n",
       "  </tbody>\n",
       "</table>\n",
       "</div>"
      ],
      "text/plain": [
       "imm_hold        0    1\n",
       "born_in_us            \n",
       "False        2621  183\n",
       "True        26504    5"
      ]
     },
     "execution_count": 92,
     "metadata": {},
     "output_type": "execute_result"
    }
   ],
   "source": [
    "tab"
   ]
  },
  {
   "cell_type": "code",
   "execution_count": 95,
   "metadata": {},
   "outputs": [],
   "source": [
    "# Percent of foreign born with hold\n",
    "hold_as_percent_foreign = tab.loc[False, 1] / sum(foreign_born) * 100"
   ]
  },
  {
   "cell_type": "code",
   "execution_count": 96,
   "metadata": {},
   "outputs": [
    {
     "data": {
      "text/plain": [
       "'15'"
      ]
     },
     "execution_count": 96,
     "metadata": {},
     "output_type": "execute_result"
    }
   ],
   "source": [
    "format(round(100 / hold_as_percent_foreign), '.0f')"
   ]
  },
  {
   "cell_type": "markdown",
   "metadata": {},
   "source": [
    "# Mean jail days by charge category, detainer status"
   ]
  },
  {
   "cell_type": "code",
   "execution_count": 34,
   "metadata": {
    "scrolled": true
   },
   "outputs": [],
   "source": [
    "df['imm_hold_text'] = df['imm_hold'].replace({0: 'No detainer', 1: 'Detainer'})"
   ]
  },
  {
   "cell_type": "code",
   "execution_count": 35,
   "metadata": {},
   "outputs": [],
   "source": [
    "df['felony_misdemeanor'] = df['max_seriousness'].replace({6: 'Felony',\n",
    "                              5: 'Felony',\n",
    "                              4: 'Felony',\n",
    "                              3: 'Misdemeanor',\n",
    "                              2: 'Misdemeanor',\n",
    "                              1: None,\n",
    "                              0: None})"
   ]
  },
  {
   "cell_type": "code",
   "execution_count": 36,
   "metadata": {},
   "outputs": [],
   "source": [
    "table = pd.pivot_table(df, values='time_detained', index='felony_misdemeanor',\n",
    "                       columns='imm_hold_text', aggfunc=np.mean)"
   ]
  },
  {
   "cell_type": "code",
   "execution_count": 37,
   "metadata": {},
   "outputs": [
    {
     "name": "stderr",
     "output_type": "stream",
     "text": [
      "/Users/philneff/anaconda3/lib/python3.7/site-packages/scipy/stats/stats.py:1713: FutureWarning: Using a non-tuple sequence for multidimensional indexing is deprecated; use `arr[tuple(seq)]` instead of `arr[seq]`. In the future this will be interpreted as an array index, `arr[np.array(seq)]`, which will result either in an error or a different result.\n",
      "  return np.add.reduce(sorted[indexer] * weights, axis=axis) / sumval\n"
     ]
    },
    {
     "data": {
      "image/png": "[encoded data removed]",
      "text/plain": [
       "<Figure size 432x288 with 1 Axes>"
      ]
     },
     "metadata": {
      "needs_background": "light"
     },
     "output_type": "display_data"
    }
   ],
   "source": [
    "def barplot(data):\n",
    "    \n",
    "    # Create the bar plot\n",
    "    ax = sns.barplot(\n",
    "        x='felony_misdemeanor',\n",
    "        y='time_detained',\n",
    "        hue='imm_hold_text',\n",
    "        hue_order=['Detainer', 'No detainer'],\n",
    "        data=df)\n",
    "    \n",
    "    ax.legend(loc=2, fontsize=14)\n",
    "    ax.set_title(\"Mean jail time for inmates by ICE detainer status\", fontsize=18)\n",
    "    ax.set_ylabel('Jail days', fontsize=14)\n",
    "    ax.tick_params(axis='y', labelsize=12)\n",
    "    ax.set_xlabel('Booking charge category', fontsize=14)\n",
    "    ax.tick_params(axis='x', labelsize=12)\n",
    "    ax.invert_xaxis()\n",
    "    plt.savefig('../output/MeanJailTime.png')\n",
    "    return plt, ax\n",
    "\n",
    "barplot(table);"
   ]
  },
  {
   "cell_type": "code",
   "execution_count": 38,
   "metadata": {},
   "outputs": [],
   "source": [
    "table['% increase'] = table['Detainer'] / table['No detainer'] * 100"
   ]
  },
  {
   "cell_type": "code",
   "execution_count": 39,
   "metadata": {},
   "outputs": [
    {
     "data": {
      "text/html": [
       "<div>\n",
       "<style scoped>\n",
       "    .dataframe tbody tr th:only-of-type {\n",
       "        vertical-align: middle;\n",
       "    }\n",
       "\n",
       "    .dataframe tbody tr th {\n",
       "        vertical-align: top;\n",
       "    }\n",
       "\n",
       "    .dataframe thead th {\n",
       "        text-align: right;\n",
       "    }\n",
       "</style>\n",
       "<table border=\"1\" class=\"dataframe\">\n",
       "  <thead>\n",
       "    <tr style=\"text-align: right;\">\n",
       "      <th>imm_hold_text</th>\n",
       "      <th>Detainer</th>\n",
       "      <th>No detainer</th>\n",
       "      <th>% increase</th>\n",
       "    </tr>\n",
       "    <tr>\n",
       "      <th>felony_misdemeanor</th>\n",
       "      <th></th>\n",
       "      <th></th>\n",
       "      <th></th>\n",
       "    </tr>\n",
       "  </thead>\n",
       "  <tbody>\n",
       "    <tr>\n",
       "      <th>Felony</th>\n",
       "      <td>86.874001</td>\n",
       "      <td>34.546182</td>\n",
       "      <td>251.472074</td>\n",
       "    </tr>\n",
       "    <tr>\n",
       "      <th>Misdemeanor</th>\n",
       "      <td>24.492290</td>\n",
       "      <td>10.077993</td>\n",
       "      <td>243.027463</td>\n",
       "    </tr>\n",
       "  </tbody>\n",
       "</table>\n",
       "</div>"
      ],
      "text/plain": [
       "imm_hold_text        Detainer  No detainer  % increase\n",
       "felony_misdemeanor                                    \n",
       "Felony              86.874001    34.546182  251.472074\n",
       "Misdemeanor         24.492290    10.077993  243.027463"
      ]
     },
     "execution_count": 39,
     "metadata": {},
     "output_type": "execute_result"
    }
   ],
   "source": [
    "table"
   ]
  },
  {
   "cell_type": "code",
   "execution_count": 40,
   "metadata": {},
   "outputs": [],
   "source": [
    "table.to_csv('../output/felony_misdemeanor.csv')"
   ]
  },
  {
   "cell_type": "code",
   "execution_count": 41,
   "metadata": {},
   "outputs": [],
   "source": [
    "hold = df['imm_hold'] == 1"
   ]
  },
  {
   "cell_type": "code",
   "execution_count": 42,
   "metadata": {},
   "outputs": [],
   "source": [
    "ttest = scipystats.ttest_ind(df[hold]['time_detained'], df[~hold]['time_detained'])"
   ]
  },
  {
   "cell_type": "code",
   "execution_count": 43,
   "metadata": {},
   "outputs": [
    {
     "data": {
      "text/plain": [
       "Ttest_indResult(statistic=9.860903681963814, pvalue=6.675606109161849e-23)"
      ]
     },
     "execution_count": 43,
     "metadata": {},
     "output_type": "execute_result"
    }
   ],
   "source": [
    "ttest"
   ]
  },
  {
   "cell_type": "code",
   "execution_count": 44,
   "metadata": {},
   "outputs": [
    {
     "data": {
      "text/plain": [
       "6.675606109161849e-23"
      ]
     },
     "execution_count": 44,
     "metadata": {},
     "output_type": "execute_result"
    }
   ],
   "source": [
    "ttest.pvalue"
   ]
  },
  {
   "cell_type": "code",
   "execution_count": 45,
   "metadata": {},
   "outputs": [
    {
     "data": {
      "text/plain": [
       "count    188.000000\n",
       "mean      73.618133\n",
       "std      108.849322\n",
       "min        0.720833\n",
       "25%        2.647049\n",
       "50%       34.767361\n",
       "75%      103.298090\n",
       "max      849.235417\n",
       "Name: time_detained, dtype: float64"
      ]
     },
     "execution_count": 45,
     "metadata": {},
     "output_type": "execute_result"
    }
   ],
   "source": [
    "df[hold]['time_detained'].describe()"
   ]
  },
  {
   "cell_type": "code",
   "execution_count": 46,
   "metadata": {},
   "outputs": [
    {
     "data": {
      "text/plain": [
       "count    29125.000000\n",
       "mean        26.855650\n",
       "std         64.433155\n",
       "min          0.002778\n",
       "25%          1.070833\n",
       "50%          3.154861\n",
       "75%         22.957639\n",
       "max       1314.554167\n",
       "Name: time_detained, dtype: float64"
      ]
     },
     "execution_count": 46,
     "metadata": {},
     "output_type": "execute_result"
    }
   ],
   "source": [
    "df[~hold]['time_detained'].describe()"
   ]
  },
  {
   "cell_type": "code",
   "execution_count": 47,
   "metadata": {},
   "outputs": [
    {
     "name": "stdout",
     "output_type": "stream",
     "text": [
      "Median time detained, with hold: 34.767361111111114\n",
      "Median time detained, no hold: 3.154861111111111\n"
     ]
    }
   ],
   "source": [
    "hold_median = df[hold]['time_detained'].median()\n",
    "no_hold_median = df[~hold]['time_detained'].median()\n",
    "print(f'Median time detained, with hold: {hold_median}')\n",
    "print(f'Median time detained, no hold: {no_hold_median}')"
   ]
  },
  {
   "cell_type": "code",
   "execution_count": 59,
   "metadata": {},
   "outputs": [
    {
     "name": "stdout",
     "output_type": "stream",
     "text": [
      "Average time detained, felony: 34.93115589772056\n",
      "Median time detained, felony: 4.052083333333333\n"
     ]
    }
   ],
   "source": [
    "felony = df['max_seriousness'] >= 4\n",
    "print(f\"Average time detained, felony: {df.loc[felony, 'time_detained'].mean()}\")\n",
    "print(f\"Median time detained, felony: {df.loc[felony, 'time_detained'].median()}\")"
   ]
  },
  {
   "cell_type": "code",
   "execution_count": 61,
   "metadata": {},
   "outputs": [
    {
     "name": "stdout",
     "output_type": "stream",
     "text": [
      "Average time detained, felony & hold: 86.87400056306306\n",
      "Median time detained, felony & hold: 44.552083333333336\n"
     ]
    }
   ],
   "source": [
    "hold_felony = (df['max_seriousness'] >= 4) & (df['imm_hold'] == 1)\n",
    "print(f\"Average time detained, felony & hold: {df.loc[hold_felony, 'time_detained'].mean()}\")\n",
    "print(f\"Median time detained, felony & hold: {df.loc[hold_felony, 'time_detained'].median()}\")"
   ]
  },
  {
   "cell_type": "markdown",
   "metadata": {},
   "source": [
    "## Bail"
   ]
  },
  {
   "cell_type": "code",
   "execution_count": 56,
   "metadata": {},
   "outputs": [
    {
     "data": {
      "text/html": [
       "<div>\n",
       "<style scoped>\n",
       "    .dataframe tbody tr th:only-of-type {\n",
       "        vertical-align: middle;\n",
       "    }\n",
       "\n",
       "    .dataframe tbody tr th {\n",
       "        vertical-align: top;\n",
       "    }\n",
       "\n",
       "    .dataframe thead th {\n",
       "        text-align: right;\n",
       "    }\n",
       "</style>\n",
       "<table border=\"1\" class=\"dataframe\">\n",
       "  <thead>\n",
       "    <tr style=\"text-align: right;\">\n",
       "      <th>imm_hold</th>\n",
       "      <th>0</th>\n",
       "      <th>1</th>\n",
       "    </tr>\n",
       "    <tr>\n",
       "      <th>paid_bail</th>\n",
       "      <th></th>\n",
       "      <th></th>\n",
       "    </tr>\n",
       "  </thead>\n",
       "  <tbody>\n",
       "    <tr>\n",
       "      <th>False</th>\n",
       "      <td>23363</td>\n",
       "      <td>185</td>\n",
       "    </tr>\n",
       "    <tr>\n",
       "      <th>True</th>\n",
       "      <td>5762</td>\n",
       "      <td>3</td>\n",
       "    </tr>\n",
       "  </tbody>\n",
       "</table>\n",
       "</div>"
      ],
      "text/plain": [
       "imm_hold       0    1\n",
       "paid_bail            \n",
       "False      23363  185\n",
       "True        5762    3"
      ]
     },
     "execution_count": 56,
     "metadata": {},
     "output_type": "execute_result"
    }
   ],
   "source": [
    "pd.crosstab(df.paid_bail, df.imm_hold)"
   ]
  },
  {
   "cell_type": "code",
   "execution_count": 57,
   "metadata": {},
   "outputs": [
    {
     "data": {
      "text/html": [
       "<div>\n",
       "<style scoped>\n",
       "    .dataframe tbody tr th:only-of-type {\n",
       "        vertical-align: middle;\n",
       "    }\n",
       "\n",
       "    .dataframe tbody tr th {\n",
       "        vertical-align: top;\n",
       "    }\n",
       "\n",
       "    .dataframe thead th {\n",
       "        text-align: right;\n",
       "    }\n",
       "</style>\n",
       "<table border=\"1\" class=\"dataframe\">\n",
       "  <thead>\n",
       "    <tr style=\"text-align: right;\">\n",
       "      <th>imm_hold</th>\n",
       "      <th>0</th>\n",
       "      <th>1</th>\n",
       "    </tr>\n",
       "    <tr>\n",
       "      <th>paid_bail</th>\n",
       "      <th></th>\n",
       "      <th></th>\n",
       "    </tr>\n",
       "  </thead>\n",
       "  <tbody>\n",
       "    <tr>\n",
       "      <th>False</th>\n",
       "      <td>80.216309</td>\n",
       "      <td>98.404255</td>\n",
       "    </tr>\n",
       "    <tr>\n",
       "      <th>True</th>\n",
       "      <td>19.783691</td>\n",
       "      <td>1.595745</td>\n",
       "    </tr>\n",
       "  </tbody>\n",
       "</table>\n",
       "</div>"
      ],
      "text/plain": [
       "imm_hold           0          1\n",
       "paid_bail                      \n",
       "False      80.216309  98.404255\n",
       "True       19.783691   1.595745"
      ]
     },
     "execution_count": 57,
     "metadata": {},
     "output_type": "execute_result"
    }
   ],
   "source": [
    "pd.crosstab(df.paid_bail, df.imm_hold, normalize='columns')*100"
   ]
  },
  {
   "cell_type": "code",
   "execution_count": 58,
   "metadata": {},
   "outputs": [
    {
     "data": {
      "text/plain": [
       "(37.96819163749581,\n",
       " 7.19074542276977e-10,\n",
       " 1,\n",
       " array([[23396.97403882,   151.02596118],\n",
       "        [ 5728.02596118,    36.97403882]]))"
      ]
     },
     "execution_count": 58,
     "metadata": {},
     "output_type": "execute_result"
    }
   ],
   "source": [
    "scipystats.chi2_contingency(pd.crosstab(df.paid_bail, df.imm_hold))"
   ]
  },
  {
   "cell_type": "code",
   "execution_count": 59,
   "metadata": {
    "collapsed": true
   },
   "outputs": [],
   "source": [
    "paid_bail = df['paid_bail'] == True"
   ]
  },
  {
   "cell_type": "markdown",
   "metadata": {},
   "source": [
    "# More descriptive analysis"
   ]
  },
  {
   "cell_type": "code",
   "execution_count": 60,
   "metadata": {},
   "outputs": [],
   "source": [
    "# uw = [\"#4b2e83\", \"#b7a57a\"]\n",
    "# sns.palplot(sns.color_palette(uw))"
   ]
  },
  {
   "cell_type": "markdown",
   "metadata": {},
   "source": [
    "Bookings with immigration holds have longer detention time. Using logged time makes this clearer."
   ]
  },
  {
   "cell_type": "code",
   "execution_count": 61,
   "metadata": {
    "collapsed": true
   },
   "outputs": [],
   "source": [
    "hold_order = ['No hold', 'Hold']"
   ]
  },
  {
   "cell_type": "code",
   "execution_count": 63,
   "metadata": {},
   "outputs": [
    {
     "data": {
      "image/png": "[encoded data removed]",
      "text/plain": [
       "<matplotlib.figure.Figure at 0x11b7e7cf8>"
      ]
     },
     "metadata": {},
     "output_type": "display_data"
    }
   ],
   "source": [
    "df['imm_hold_text'] = df['imm_hold'].replace({0: 'No hold', 1: 'Hold'})\n",
    "bplot1 = sns.boxplot(data=df, y='log_time_detained', x='imm_hold_text', order=hold_order)\n",
    "bplot1.set_xlabel('ICE hold?', fontsize=14)\n",
    "bplot1.set_ylabel('Log time detained', fontsize=14);"
   ]
  },
  {
   "cell_type": "markdown",
   "metadata": {},
   "source": [
    "# Regressions"
   ]
  },
  {
   "cell_type": "code",
   "execution_count": 64,
   "metadata": {
    "collapsed": true
   },
   "outputs": [],
   "source": [
    "pd.set_option('display.float_format', lambda x: '%.2f' % x)"
   ]
  },
  {
   "cell_type": "code",
   "execution_count": 65,
   "metadata": {
    "collapsed": true
   },
   "outputs": [],
   "source": [
    "data = df[['time_detained',\n",
    "           'log_time_detained',\n",
    "           'imm_hold',\n",
    "           'charge_topcount',\n",
    "           'male',\n",
    "           'female',\n",
    "           'white',\n",
    "           'black',\n",
    "           'hispanic',\n",
    "           'amer_indian_alaskan',\n",
    "           'asian_pacific_island',\n",
    "           'unknown',\n",
    "           'max_seriousness',\n",
    "           'public_order',\n",
    "           'felony',\n",
    "           'misdemeanor',\n",
    "           'drug',\n",
    "           'sex',\n",
    "           'property',\n",
    "           'violent']]"
   ]
  },
  {
   "cell_type": "code",
   "execution_count": 66,
   "metadata": {
    "collapsed": true
   },
   "outputs": [],
   "source": [
    "data.describe().T.to_csv('descriptive_stats.csv')"
   ]
  },
  {
   "cell_type": "code",
   "execution_count": 67,
   "metadata": {},
   "outputs": [
    {
     "data": {
      "text/html": [
       "<table class=\"simpletable\">\n",
       "<caption>OLS Regression Results</caption>\n",
       "<tr>\n",
       "  <th>Dep. Variable:</th>    <td>log_time_detained</td> <th>  R-squared:         </th> <td>   0.257</td> \n",
       "</tr>\n",
       "<tr>\n",
       "  <th>Model:</th>                   <td>OLS</td>        <th>  Adj. R-squared:    </th> <td>   0.257</td> \n",
       "</tr>\n",
       "<tr>\n",
       "  <th>Method:</th>             <td>Least Squares</td>   <th>  F-statistic:       </th> <td>1.016e+04</td>\n",
       "</tr>\n",
       "<tr>\n",
       "  <th>Date:</th>             <td>Fri, 28 Dec 2018</td>  <th>  Prob (F-statistic):</th>  <td>  0.00</td>  \n",
       "</tr>\n",
       "<tr>\n",
       "  <th>Time:</th>                 <td>16:39:21</td>      <th>  Log-Likelihood:    </th> <td> -60412.</td> \n",
       "</tr>\n",
       "<tr>\n",
       "  <th>No. Observations:</th>      <td> 29313</td>       <th>  AIC:               </th> <td>1.208e+05</td>\n",
       "</tr>\n",
       "<tr>\n",
       "  <th>Df Residuals:</th>          <td> 29311</td>       <th>  BIC:               </th> <td>1.208e+05</td>\n",
       "</tr>\n",
       "<tr>\n",
       "  <th>Df Model:</th>              <td>     1</td>       <th>                     </th>     <td> </td>    \n",
       "</tr>\n",
       "<tr>\n",
       "  <th>Covariance Type:</th>      <td>nonrobust</td>     <th>                     </th>     <td> </td>    \n",
       "</tr>\n",
       "</table>\n",
       "<table class=\"simpletable\">\n",
       "<tr>\n",
       "         <td></td>            <th>coef</th>     <th>std err</th>      <th>t</th>      <th>P>|t|</th>  <th>[0.025</th>    <th>0.975]</th>  \n",
       "</tr>\n",
       "<tr>\n",
       "  <th>Intercept</th>       <td>    0.1855</td> <td>    0.016</td> <td>   11.278</td> <td> 0.000</td> <td>    0.153</td> <td>    0.218</td>\n",
       "</tr>\n",
       "<tr>\n",
       "  <th>charge_topcount</th> <td>    0.6500</td> <td>    0.006</td> <td>  100.790</td> <td> 0.000</td> <td>    0.637</td> <td>    0.663</td>\n",
       "</tr>\n",
       "</table>\n",
       "<table class=\"simpletable\">\n",
       "<tr>\n",
       "  <th>Omnibus:</th>       <td>639.628</td> <th>  Durbin-Watson:     </th> <td>   1.999</td> \n",
       "</tr>\n",
       "<tr>\n",
       "  <th>Prob(Omnibus):</th> <td> 0.000</td>  <th>  Jarque-Bera (JB):  </th> <td> 738.347</td> \n",
       "</tr>\n",
       "<tr>\n",
       "  <th>Skew:</th>          <td>-0.320</td>  <th>  Prob(JB):          </th> <td>4.68e-161</td>\n",
       "</tr>\n",
       "<tr>\n",
       "  <th>Kurtosis:</th>      <td> 3.440</td>  <th>  Cond. No.          </th> <td>    4.12</td> \n",
       "</tr>\n",
       "</table>"
      ],
      "text/plain": [
       "<class 'statsmodels.iolib.summary.Summary'>\n",
       "\"\"\"\n",
       "                            OLS Regression Results                            \n",
       "==============================================================================\n",
       "Dep. Variable:      log_time_detained   R-squared:                       0.257\n",
       "Model:                            OLS   Adj. R-squared:                  0.257\n",
       "Method:                 Least Squares   F-statistic:                 1.016e+04\n",
       "Date:                Fri, 28 Dec 2018   Prob (F-statistic):               0.00\n",
       "Time:                        16:39:21   Log-Likelihood:                -60412.\n",
       "No. Observations:               29313   AIC:                         1.208e+05\n",
       "Df Residuals:                   29311   BIC:                         1.208e+05\n",
       "Df Model:                           1                                         \n",
       "Covariance Type:            nonrobust                                         \n",
       "===================================================================================\n",
       "                      coef    std err          t      P>|t|      [0.025      0.975]\n",
       "-----------------------------------------------------------------------------------\n",
       "Intercept           0.1855      0.016     11.278      0.000       0.153       0.218\n",
       "charge_topcount     0.6500      0.006    100.790      0.000       0.637       0.663\n",
       "==============================================================================\n",
       "Omnibus:                      639.628   Durbin-Watson:                   1.999\n",
       "Prob(Omnibus):                  0.000   Jarque-Bera (JB):              738.347\n",
       "Skew:                          -0.320   Prob(JB):                    4.68e-161\n",
       "Kurtosis:                       3.440   Cond. No.                         4.12\n",
       "==============================================================================\n",
       "\n",
       "Warnings:\n",
       "[1] Standard Errors assume that the covariance matrix of the errors is correctly specified.\n",
       "\"\"\""
      ]
     },
     "execution_count": 67,
     "metadata": {},
     "output_type": "execute_result"
    }
   ],
   "source": [
    "formula = \"log_time_detained ~ charge_topcount\"\n",
    "reg_no_detainer = smf.ols(formula = formula, data = df).fit()\n",
    "reg_no_detainer.summary()"
   ]
  },
  {
   "cell_type": "code",
   "execution_count": 68,
   "metadata": {},
   "outputs": [
    {
     "data": {
      "text/html": [
       "<table class=\"simpletable\">\n",
       "<caption>OLS Regression Results</caption>\n",
       "<tr>\n",
       "  <th>Dep. Variable:</th>    <td>log_time_detained</td> <th>  R-squared:         </th> <td>   0.301</td> \n",
       "</tr>\n",
       "<tr>\n",
       "  <th>Model:</th>                   <td>OLS</td>        <th>  Adj. R-squared:    </th> <td>   0.301</td> \n",
       "</tr>\n",
       "<tr>\n",
       "  <th>Method:</th>             <td>Least Squares</td>   <th>  F-statistic:       </th> <td>   6319.</td> \n",
       "</tr>\n",
       "<tr>\n",
       "  <th>Date:</th>             <td>Fri, 28 Dec 2018</td>  <th>  Prob (F-statistic):</th>  <td>  0.00</td>  \n",
       "</tr>\n",
       "<tr>\n",
       "  <th>Time:</th>                 <td>16:39:21</td>      <th>  Log-Likelihood:    </th> <td> -59519.</td> \n",
       "</tr>\n",
       "<tr>\n",
       "  <th>No. Observations:</th>      <td> 29313</td>       <th>  AIC:               </th> <td>1.190e+05</td>\n",
       "</tr>\n",
       "<tr>\n",
       "  <th>Df Residuals:</th>          <td> 29310</td>       <th>  BIC:               </th> <td>1.191e+05</td>\n",
       "</tr>\n",
       "<tr>\n",
       "  <th>Df Model:</th>              <td>     2</td>       <th>                     </th>     <td> </td>    \n",
       "</tr>\n",
       "<tr>\n",
       "  <th>Covariance Type:</th>      <td>nonrobust</td>     <th>                     </th>     <td> </td>    \n",
       "</tr>\n",
       "</table>\n",
       "<table class=\"simpletable\">\n",
       "<tr>\n",
       "         <td></td>            <th>coef</th>     <th>std err</th>      <th>t</th>      <th>P>|t|</th>  <th>[0.025</th>    <th>0.975]</th>  \n",
       "</tr>\n",
       "<tr>\n",
       "  <th>Intercept</th>       <td>   -1.6727</td> <td>    0.046</td> <td>  -36.243</td> <td> 0.000</td> <td>   -1.763</td> <td>   -1.582</td>\n",
       "</tr>\n",
       "<tr>\n",
       "  <th>charge_topcount</th> <td>    0.5873</td> <td>    0.006</td> <td>   91.422</td> <td> 0.000</td> <td>    0.575</td> <td>    0.600</td>\n",
       "</tr>\n",
       "<tr>\n",
       "  <th>max_seriousness</th> <td>    0.4964</td> <td>    0.012</td> <td>   42.908</td> <td> 0.000</td> <td>    0.474</td> <td>    0.519</td>\n",
       "</tr>\n",
       "</table>\n",
       "<table class=\"simpletable\">\n",
       "<tr>\n",
       "  <th>Omnibus:</th>       <td>650.646</td> <th>  Durbin-Watson:     </th> <td>   1.998</td> \n",
       "</tr>\n",
       "<tr>\n",
       "  <th>Prob(Omnibus):</th> <td> 0.000</td>  <th>  Jarque-Bera (JB):  </th> <td> 743.644</td> \n",
       "</tr>\n",
       "<tr>\n",
       "  <th>Skew:</th>          <td>-0.328</td>  <th>  Prob(JB):          </th> <td>3.31e-162</td>\n",
       "</tr>\n",
       "<tr>\n",
       "  <th>Kurtosis:</th>      <td> 3.423</td>  <th>  Cond. No.          </th> <td>    20.6</td> \n",
       "</tr>\n",
       "</table>"
      ],
      "text/plain": [
       "<class 'statsmodels.iolib.summary.Summary'>\n",
       "\"\"\"\n",
       "                            OLS Regression Results                            \n",
       "==============================================================================\n",
       "Dep. Variable:      log_time_detained   R-squared:                       0.301\n",
       "Model:                            OLS   Adj. R-squared:                  0.301\n",
       "Method:                 Least Squares   F-statistic:                     6319.\n",
       "Date:                Fri, 28 Dec 2018   Prob (F-statistic):               0.00\n",
       "Time:                        16:39:21   Log-Likelihood:                -59519.\n",
       "No. Observations:               29313   AIC:                         1.190e+05\n",
       "Df Residuals:                   29310   BIC:                         1.191e+05\n",
       "Df Model:                           2                                         \n",
       "Covariance Type:            nonrobust                                         \n",
       "===================================================================================\n",
       "                      coef    std err          t      P>|t|      [0.025      0.975]\n",
       "-----------------------------------------------------------------------------------\n",
       "Intercept          -1.6727      0.046    -36.243      0.000      -1.763      -1.582\n",
       "charge_topcount     0.5873      0.006     91.422      0.000       0.575       0.600\n",
       "max_seriousness     0.4964      0.012     42.908      0.000       0.474       0.519\n",
       "==============================================================================\n",
       "Omnibus:                      650.646   Durbin-Watson:                   1.998\n",
       "Prob(Omnibus):                  0.000   Jarque-Bera (JB):              743.644\n",
       "Skew:                          -0.328   Prob(JB):                    3.31e-162\n",
       "Kurtosis:                       3.423   Cond. No.                         20.6\n",
       "==============================================================================\n",
       "\n",
       "Warnings:\n",
       "[1] Standard Errors assume that the covariance matrix of the errors is correctly specified.\n",
       "\"\"\""
      ]
     },
     "execution_count": 68,
     "metadata": {},
     "output_type": "execute_result"
    }
   ],
   "source": [
    "formula = \"log_time_detained ~ charge_topcount + max_seriousness\"\n",
    "reg_no_detainer = smf.ols(formula = formula, data = df).fit()\n",
    "reg_no_detainer.summary()"
   ]
  },
  {
   "cell_type": "code",
   "execution_count": 69,
   "metadata": {},
   "outputs": [
    {
     "data": {
      "text/html": [
       "<table class=\"simpletable\">\n",
       "<caption>OLS Regression Results</caption>\n",
       "<tr>\n",
       "  <th>Dep. Variable:</th>    <td>log_time_detained</td> <th>  R-squared:         </th> <td>   0.315</td> \n",
       "</tr>\n",
       "<tr>\n",
       "  <th>Model:</th>                   <td>OLS</td>        <th>  Adj. R-squared:    </th> <td>   0.315</td> \n",
       "</tr>\n",
       "<tr>\n",
       "  <th>Method:</th>             <td>Least Squares</td>   <th>  F-statistic:       </th> <td>   1038.</td> \n",
       "</tr>\n",
       "<tr>\n",
       "  <th>Date:</th>             <td>Fri, 28 Dec 2018</td>  <th>  Prob (F-statistic):</th>  <td>  0.00</td>  \n",
       "</tr>\n",
       "<tr>\n",
       "  <th>Time:</th>                 <td>16:39:22</td>      <th>  Log-Likelihood:    </th> <td> -59220.</td> \n",
       "</tr>\n",
       "<tr>\n",
       "  <th>No. Observations:</th>      <td> 29313</td>       <th>  AIC:               </th> <td>1.185e+05</td>\n",
       "</tr>\n",
       "<tr>\n",
       "  <th>Df Residuals:</th>          <td> 29299</td>       <th>  BIC:               </th> <td>1.186e+05</td>\n",
       "</tr>\n",
       "<tr>\n",
       "  <th>Df Model:</th>              <td>    13</td>       <th>                     </th>     <td> </td>    \n",
       "</tr>\n",
       "<tr>\n",
       "  <th>Covariance Type:</th>      <td>nonrobust</td>     <th>                     </th>     <td> </td>    \n",
       "</tr>\n",
       "</table>\n",
       "<table class=\"simpletable\">\n",
       "<tr>\n",
       "            <td></td>              <th>coef</th>     <th>std err</th>      <th>t</th>      <th>P>|t|</th>  <th>[0.025</th>    <th>0.975]</th>  \n",
       "</tr>\n",
       "<tr>\n",
       "  <th>Intercept</th>            <td>   -1.9139</td> <td>    0.050</td> <td>  -37.985</td> <td> 0.000</td> <td>   -2.013</td> <td>   -1.815</td>\n",
       "</tr>\n",
       "<tr>\n",
       "  <th>imm_hold</th>             <td>    1.3162</td> <td>    0.137</td> <td>    9.624</td> <td> 0.000</td> <td>    1.048</td> <td>    1.584</td>\n",
       "</tr>\n",
       "<tr>\n",
       "  <th>max_seriousness</th>      <td>    0.4731</td> <td>    0.013</td> <td>   36.114</td> <td> 0.000</td> <td>    0.447</td> <td>    0.499</td>\n",
       "</tr>\n",
       "<tr>\n",
       "  <th>charge_topcount</th>      <td>    0.5865</td> <td>    0.006</td> <td>   91.167</td> <td> 0.000</td> <td>    0.574</td> <td>    0.599</td>\n",
       "</tr>\n",
       "<tr>\n",
       "  <th>drug</th>                 <td>    0.3036</td> <td>    0.037</td> <td>    8.311</td> <td> 0.000</td> <td>    0.232</td> <td>    0.375</td>\n",
       "</tr>\n",
       "<tr>\n",
       "  <th>sex</th>                  <td>    0.5044</td> <td>    0.086</td> <td>    5.885</td> <td> 0.000</td> <td>    0.336</td> <td>    0.672</td>\n",
       "</tr>\n",
       "<tr>\n",
       "  <th>property</th>             <td>   -0.1588</td> <td>    0.031</td> <td>   -5.197</td> <td> 0.000</td> <td>   -0.219</td> <td>   -0.099</td>\n",
       "</tr>\n",
       "<tr>\n",
       "  <th>violent</th>              <td>    0.1898</td> <td>    0.031</td> <td>    6.168</td> <td> 0.000</td> <td>    0.129</td> <td>    0.250</td>\n",
       "</tr>\n",
       "<tr>\n",
       "  <th>male</th>                 <td>    0.3190</td> <td>    0.025</td> <td>   12.778</td> <td> 0.000</td> <td>    0.270</td> <td>    0.368</td>\n",
       "</tr>\n",
       "<tr>\n",
       "  <th>black</th>                <td>    0.1268</td> <td>    0.026</td> <td>    4.887</td> <td> 0.000</td> <td>    0.076</td> <td>    0.178</td>\n",
       "</tr>\n",
       "<tr>\n",
       "  <th>hispanic</th>             <td>   -0.0843</td> <td>    0.040</td> <td>   -2.120</td> <td> 0.034</td> <td>   -0.162</td> <td>   -0.006</td>\n",
       "</tr>\n",
       "<tr>\n",
       "  <th>amer_indian_alaskan</th>  <td>    0.3499</td> <td>    0.063</td> <td>    5.572</td> <td> 0.000</td> <td>    0.227</td> <td>    0.473</td>\n",
       "</tr>\n",
       "<tr>\n",
       "  <th>asian_pacific_island</th> <td>   -0.0248</td> <td>    0.045</td> <td>   -0.546</td> <td> 0.585</td> <td>   -0.114</td> <td>    0.064</td>\n",
       "</tr>\n",
       "<tr>\n",
       "  <th>unknown</th>              <td>   -0.4300</td> <td>    0.232</td> <td>   -1.851</td> <td> 0.064</td> <td>   -0.885</td> <td>    0.025</td>\n",
       "</tr>\n",
       "</table>\n",
       "<table class=\"simpletable\">\n",
       "<tr>\n",
       "  <th>Omnibus:</th>       <td>678.167</td> <th>  Durbin-Watson:     </th> <td>   2.003</td> \n",
       "</tr>\n",
       "<tr>\n",
       "  <th>Prob(Omnibus):</th> <td> 0.000</td>  <th>  Jarque-Bera (JB):  </th> <td> 773.140</td> \n",
       "</tr>\n",
       "<tr>\n",
       "  <th>Skew:</th>          <td>-0.338</td>  <th>  Prob(JB):          </th> <td>1.30e-168</td>\n",
       "</tr>\n",
       "<tr>\n",
       "  <th>Kurtosis:</th>      <td> 3.420</td>  <th>  Cond. No.          </th> <td>    104.</td> \n",
       "</tr>\n",
       "</table>"
      ],
      "text/plain": [
       "<class 'statsmodels.iolib.summary.Summary'>\n",
       "\"\"\"\n",
       "                            OLS Regression Results                            \n",
       "==============================================================================\n",
       "Dep. Variable:      log_time_detained   R-squared:                       0.315\n",
       "Model:                            OLS   Adj. R-squared:                  0.315\n",
       "Method:                 Least Squares   F-statistic:                     1038.\n",
       "Date:                Fri, 28 Dec 2018   Prob (F-statistic):               0.00\n",
       "Time:                        16:39:22   Log-Likelihood:                -59220.\n",
       "No. Observations:               29313   AIC:                         1.185e+05\n",
       "Df Residuals:                   29299   BIC:                         1.186e+05\n",
       "Df Model:                          13                                         \n",
       "Covariance Type:            nonrobust                                         \n",
       "========================================================================================\n",
       "                           coef    std err          t      P>|t|      [0.025      0.975]\n",
       "----------------------------------------------------------------------------------------\n",
       "Intercept               -1.9139      0.050    -37.985      0.000      -2.013      -1.815\n",
       "imm_hold                 1.3162      0.137      9.624      0.000       1.048       1.584\n",
       "max_seriousness          0.4731      0.013     36.114      0.000       0.447       0.499\n",
       "charge_topcount          0.5865      0.006     91.167      0.000       0.574       0.599\n",
       "drug                     0.3036      0.037      8.311      0.000       0.232       0.375\n",
       "sex                      0.5044      0.086      5.885      0.000       0.336       0.672\n",
       "property                -0.1588      0.031     -5.197      0.000      -0.219      -0.099\n",
       "violent                  0.1898      0.031      6.168      0.000       0.129       0.250\n",
       "male                     0.3190      0.025     12.778      0.000       0.270       0.368\n",
       "black                    0.1268      0.026      4.887      0.000       0.076       0.178\n",
       "hispanic                -0.0843      0.040     -2.120      0.034      -0.162      -0.006\n",
       "amer_indian_alaskan      0.3499      0.063      5.572      0.000       0.227       0.473\n",
       "asian_pacific_island    -0.0248      0.045     -0.546      0.585      -0.114       0.064\n",
       "unknown                 -0.4300      0.232     -1.851      0.064      -0.885       0.025\n",
       "==============================================================================\n",
       "Omnibus:                      678.167   Durbin-Watson:                   2.003\n",
       "Prob(Omnibus):                  0.000   Jarque-Bera (JB):              773.140\n",
       "Skew:                          -0.338   Prob(JB):                    1.30e-168\n",
       "Kurtosis:                       3.420   Cond. No.                         104.\n",
       "==============================================================================\n",
       "\n",
       "Warnings:\n",
       "[1] Standard Errors assume that the covariance matrix of the errors is correctly specified.\n",
       "\"\"\""
      ]
     },
     "execution_count": 69,
     "metadata": {},
     "output_type": "execute_result"
    }
   ],
   "source": [
    "formula = \"log_time_detained ~ imm_hold + max_seriousness + charge_topcount + drug + sex + property + violent + male + black + hispanic + amer_indian_alaskan + asian_pacific_island + unknown\"\n",
    "reg = smf.ols(formula = formula, data = df).fit()\n",
    "reg.summary()"
   ]
  },
  {
   "cell_type": "code",
   "execution_count": 70,
   "metadata": {
    "collapsed": true
   },
   "outputs": [],
   "source": [
    "params = reg.params\n",
    "params.name = 'coef'"
   ]
  },
  {
   "cell_type": "code",
   "execution_count": 71,
   "metadata": {
    "collapsed": true
   },
   "outputs": [],
   "source": [
    "std_err = reg.bse\n",
    "std_err.name = 'std err'"
   ]
  },
  {
   "cell_type": "code",
   "execution_count": 72,
   "metadata": {
    "collapsed": true
   },
   "outputs": [],
   "source": [
    "t_vals = reg.tvalues\n",
    "t_vals.name = 't'"
   ]
  },
  {
   "cell_type": "code",
   "execution_count": 73,
   "metadata": {
    "collapsed": true
   },
   "outputs": [],
   "source": [
    "p_vals = reg.pvalues\n",
    "p_vals.name = 'P>|t|'"
   ]
  },
  {
   "cell_type": "code",
   "execution_count": 74,
   "metadata": {
    "collapsed": true
   },
   "outputs": [],
   "source": [
    "conf_int = reg.conf_int()\n",
    "conf_int.columns = ['.025','.975']"
   ]
  },
  {
   "cell_type": "code",
   "execution_count": 75,
   "metadata": {
    "collapsed": true
   },
   "outputs": [],
   "source": [
    "def join(row):\n",
    "    ''' given a row, return the concat of 0 and 1 values '''\n",
    "    codes = [getattr(row, '.025'), getattr(row, '.975')]\n",
    "    joined = ', '.join([\"% 0.2f\" % f for f in codes]) \n",
    "    return f'({joined})'"
   ]
  },
  {
   "cell_type": "code",
   "execution_count": 76,
   "metadata": {
    "collapsed": true
   },
   "outputs": [],
   "source": [
    "conf_int = conf_int.apply(join, axis=1)\n",
    "conf_int.name = '95% CI'"
   ]
  },
  {
   "cell_type": "code",
   "execution_count": 77,
   "metadata": {
    "collapsed": true
   },
   "outputs": [],
   "source": [
    "coef_interpret = (np.power(np.e, reg.params) - 1)\n",
    "coef_interpret.name = 'Impact'"
   ]
  },
  {
   "cell_type": "code",
   "execution_count": 78,
   "metadata": {
    "collapsed": true
   },
   "outputs": [],
   "source": [
    "imm_hold_impact = coef_interpret['imm_hold']"
   ]
  },
  {
   "cell_type": "code",
   "execution_count": 79,
   "metadata": {},
   "outputs": [
    {
     "data": {
      "text/plain": [
       "'273'"
      ]
     },
     "execution_count": 79,
     "metadata": {},
     "output_type": "execute_result"
    }
   ],
   "source": [
    "format((imm_hold_impact*100), '.0f')"
   ]
  },
  {
   "cell_type": "code",
   "execution_count": 80,
   "metadata": {
    "collapsed": true
   },
   "outputs": [],
   "source": [
    "cols = [params, std_err, t_vals, p_vals, conf_int, coef_interpret]"
   ]
  },
  {
   "cell_type": "code",
   "execution_count": 81,
   "metadata": {
    "collapsed": true
   },
   "outputs": [],
   "source": [
    "conf_int_interpret = (np.power(np.e, reg.conf_int()) - 1)\n",
    "conf_int_interpret.columns = ['0.025', '0.975']"
   ]
  },
  {
   "cell_type": "code",
   "execution_count": 82,
   "metadata": {},
   "outputs": [
    {
     "data": {
      "text/html": [
       "<div>\n",
       "<style scoped>\n",
       "    .dataframe tbody tr th:only-of-type {\n",
       "        vertical-align: middle;\n",
       "    }\n",
       "\n",
       "    .dataframe tbody tr th {\n",
       "        vertical-align: top;\n",
       "    }\n",
       "\n",
       "    .dataframe thead th {\n",
       "        text-align: right;\n",
       "    }\n",
       "</style>\n",
       "<table border=\"1\" class=\"dataframe\">\n",
       "  <thead>\n",
       "    <tr style=\"text-align: right;\">\n",
       "      <th></th>\n",
       "      <th>0.025</th>\n",
       "      <th>0.975</th>\n",
       "    </tr>\n",
       "  </thead>\n",
       "  <tbody>\n",
       "    <tr>\n",
       "      <th>Intercept</th>\n",
       "      <td>-0.87</td>\n",
       "      <td>-0.84</td>\n",
       "    </tr>\n",
       "    <tr>\n",
       "      <th>imm_hold</th>\n",
       "      <td>1.85</td>\n",
       "      <td>3.88</td>\n",
       "    </tr>\n",
       "    <tr>\n",
       "      <th>max_seriousness</th>\n",
       "      <td>0.56</td>\n",
       "      <td>0.65</td>\n",
       "    </tr>\n",
       "    <tr>\n",
       "      <th>charge_topcount</th>\n",
       "      <td>0.78</td>\n",
       "      <td>0.82</td>\n",
       "    </tr>\n",
       "    <tr>\n",
       "      <th>drug</th>\n",
       "      <td>0.26</td>\n",
       "      <td>0.46</td>\n",
       "    </tr>\n",
       "    <tr>\n",
       "      <th>sex</th>\n",
       "      <td>0.40</td>\n",
       "      <td>0.96</td>\n",
       "    </tr>\n",
       "    <tr>\n",
       "      <th>property</th>\n",
       "      <td>-0.20</td>\n",
       "      <td>-0.09</td>\n",
       "    </tr>\n",
       "    <tr>\n",
       "      <th>violent</th>\n",
       "      <td>0.14</td>\n",
       "      <td>0.28</td>\n",
       "    </tr>\n",
       "    <tr>\n",
       "      <th>male</th>\n",
       "      <td>0.31</td>\n",
       "      <td>0.44</td>\n",
       "    </tr>\n",
       "    <tr>\n",
       "      <th>black</th>\n",
       "      <td>0.08</td>\n",
       "      <td>0.19</td>\n",
       "    </tr>\n",
       "    <tr>\n",
       "      <th>hispanic</th>\n",
       "      <td>-0.15</td>\n",
       "      <td>-0.01</td>\n",
       "    </tr>\n",
       "    <tr>\n",
       "      <th>amer_indian_alaskan</th>\n",
       "      <td>0.25</td>\n",
       "      <td>0.60</td>\n",
       "    </tr>\n",
       "    <tr>\n",
       "      <th>asian_pacific_island</th>\n",
       "      <td>-0.11</td>\n",
       "      <td>0.07</td>\n",
       "    </tr>\n",
       "    <tr>\n",
       "      <th>unknown</th>\n",
       "      <td>-0.59</td>\n",
       "      <td>0.03</td>\n",
       "    </tr>\n",
       "  </tbody>\n",
       "</table>\n",
       "</div>"
      ],
      "text/plain": [
       "                      0.025  0.975\n",
       "Intercept             -0.87  -0.84\n",
       "imm_hold               1.85   3.88\n",
       "max_seriousness        0.56   0.65\n",
       "charge_topcount        0.78   0.82\n",
       "drug                   0.26   0.46\n",
       "sex                    0.40   0.96\n",
       "property              -0.20  -0.09\n",
       "violent                0.14   0.28\n",
       "male                   0.31   0.44\n",
       "black                  0.08   0.19\n",
       "hispanic              -0.15  -0.01\n",
       "amer_indian_alaskan    0.25   0.60\n",
       "asian_pacific_island  -0.11   0.07\n",
       "unknown               -0.59   0.03"
      ]
     },
     "execution_count": 82,
     "metadata": {},
     "output_type": "execute_result"
    }
   ],
   "source": [
    "conf_int_interpret"
   ]
  },
  {
   "cell_type": "code",
   "execution_count": 83,
   "metadata": {
    "collapsed": true
   },
   "outputs": [],
   "source": [
    "index = ['Intercept',\n",
    "         'ICE detainer',\n",
    "         'Seriousness rank',\n",
    "         'Number of charges',\n",
    "         'Drug offense',\n",
    "         'Sex offense',\n",
    "         'Property offense',\n",
    "         'Violent offense',\n",
    "#          'Other offense',\n",
    "         'Male',\n",
    "         'Black',\n",
    "         'Hispanic',\n",
    "         'American Indian / Alaska Native',\n",
    "         'Asian / Pacific Islander',\n",
    "         'Unknown race'\n",
    "        ]"
   ]
  },
  {
   "cell_type": "code",
   "execution_count": 84,
   "metadata": {
    "collapsed": true
   },
   "outputs": [],
   "source": [
    "summary = pd.concat(cols, axis=1)"
   ]
  },
  {
   "cell_type": "code",
   "execution_count": 85,
   "metadata": {
    "collapsed": true
   },
   "outputs": [],
   "source": [
    "summary['index'] = index\n",
    "summary.set_index('index', inplace=True)"
   ]
  },
  {
   "cell_type": "code",
   "execution_count": 86,
   "metadata": {},
   "outputs": [
    {
     "data": {
      "text/html": [
       "<div>\n",
       "<style scoped>\n",
       "    .dataframe tbody tr th:only-of-type {\n",
       "        vertical-align: middle;\n",
       "    }\n",
       "\n",
       "    .dataframe tbody tr th {\n",
       "        vertical-align: top;\n",
       "    }\n",
       "\n",
       "    .dataframe thead th {\n",
       "        text-align: right;\n",
       "    }\n",
       "</style>\n",
       "<table border=\"1\" class=\"dataframe\">\n",
       "  <thead>\n",
       "    <tr style=\"text-align: right;\">\n",
       "      <th></th>\n",
       "      <th>coef</th>\n",
       "      <th>std err</th>\n",
       "      <th>t</th>\n",
       "      <th>P&gt;|t|</th>\n",
       "      <th>95% CI</th>\n",
       "      <th>Impact</th>\n",
       "    </tr>\n",
       "    <tr>\n",
       "      <th>index</th>\n",
       "      <th></th>\n",
       "      <th></th>\n",
       "      <th></th>\n",
       "      <th></th>\n",
       "      <th></th>\n",
       "      <th></th>\n",
       "    </tr>\n",
       "  </thead>\n",
       "  <tbody>\n",
       "    <tr>\n",
       "      <th>Intercept</th>\n",
       "      <td>-1.91</td>\n",
       "      <td>0.05</td>\n",
       "      <td>-37.99</td>\n",
       "      <td>0.00</td>\n",
       "      <td>(-2.01, -1.82)</td>\n",
       "      <td>-0.85</td>\n",
       "    </tr>\n",
       "    <tr>\n",
       "      <th>ICE detainer</th>\n",
       "      <td>1.32</td>\n",
       "      <td>0.14</td>\n",
       "      <td>9.62</td>\n",
       "      <td>0.00</td>\n",
       "      <td>( 1.05,  1.58)</td>\n",
       "      <td>2.73</td>\n",
       "    </tr>\n",
       "    <tr>\n",
       "      <th>Seriousness rank</th>\n",
       "      <td>0.47</td>\n",
       "      <td>0.01</td>\n",
       "      <td>36.11</td>\n",
       "      <td>0.00</td>\n",
       "      <td>( 0.45,  0.50)</td>\n",
       "      <td>0.61</td>\n",
       "    </tr>\n",
       "    <tr>\n",
       "      <th>Number of charges</th>\n",
       "      <td>0.59</td>\n",
       "      <td>0.01</td>\n",
       "      <td>91.17</td>\n",
       "      <td>0.00</td>\n",
       "      <td>( 0.57,  0.60)</td>\n",
       "      <td>0.80</td>\n",
       "    </tr>\n",
       "    <tr>\n",
       "      <th>Drug offense</th>\n",
       "      <td>0.30</td>\n",
       "      <td>0.04</td>\n",
       "      <td>8.31</td>\n",
       "      <td>0.00</td>\n",
       "      <td>( 0.23,  0.38)</td>\n",
       "      <td>0.35</td>\n",
       "    </tr>\n",
       "    <tr>\n",
       "      <th>Sex offense</th>\n",
       "      <td>0.50</td>\n",
       "      <td>0.09</td>\n",
       "      <td>5.88</td>\n",
       "      <td>0.00</td>\n",
       "      <td>( 0.34,  0.67)</td>\n",
       "      <td>0.66</td>\n",
       "    </tr>\n",
       "    <tr>\n",
       "      <th>Property offense</th>\n",
       "      <td>-0.16</td>\n",
       "      <td>0.03</td>\n",
       "      <td>-5.20</td>\n",
       "      <td>0.00</td>\n",
       "      <td>(-0.22, -0.10)</td>\n",
       "      <td>-0.15</td>\n",
       "    </tr>\n",
       "    <tr>\n",
       "      <th>Violent offense</th>\n",
       "      <td>0.19</td>\n",
       "      <td>0.03</td>\n",
       "      <td>6.17</td>\n",
       "      <td>0.00</td>\n",
       "      <td>( 0.13,  0.25)</td>\n",
       "      <td>0.21</td>\n",
       "    </tr>\n",
       "    <tr>\n",
       "      <th>Male</th>\n",
       "      <td>0.32</td>\n",
       "      <td>0.02</td>\n",
       "      <td>12.78</td>\n",
       "      <td>0.00</td>\n",
       "      <td>( 0.27,  0.37)</td>\n",
       "      <td>0.38</td>\n",
       "    </tr>\n",
       "    <tr>\n",
       "      <th>Black</th>\n",
       "      <td>0.13</td>\n",
       "      <td>0.03</td>\n",
       "      <td>4.89</td>\n",
       "      <td>0.00</td>\n",
       "      <td>( 0.08,  0.18)</td>\n",
       "      <td>0.14</td>\n",
       "    </tr>\n",
       "    <tr>\n",
       "      <th>Hispanic</th>\n",
       "      <td>-0.08</td>\n",
       "      <td>0.04</td>\n",
       "      <td>-2.12</td>\n",
       "      <td>0.03</td>\n",
       "      <td>(-0.16, -0.01)</td>\n",
       "      <td>-0.08</td>\n",
       "    </tr>\n",
       "    <tr>\n",
       "      <th>American Indian / Alaska Native</th>\n",
       "      <td>0.35</td>\n",
       "      <td>0.06</td>\n",
       "      <td>5.57</td>\n",
       "      <td>0.00</td>\n",
       "      <td>( 0.23,  0.47)</td>\n",
       "      <td>0.42</td>\n",
       "    </tr>\n",
       "    <tr>\n",
       "      <th>Asian / Pacific Islander</th>\n",
       "      <td>-0.02</td>\n",
       "      <td>0.05</td>\n",
       "      <td>-0.55</td>\n",
       "      <td>0.58</td>\n",
       "      <td>(-0.11,  0.06)</td>\n",
       "      <td>-0.02</td>\n",
       "    </tr>\n",
       "    <tr>\n",
       "      <th>Unknown race</th>\n",
       "      <td>-0.43</td>\n",
       "      <td>0.23</td>\n",
       "      <td>-1.85</td>\n",
       "      <td>0.06</td>\n",
       "      <td>(-0.89,  0.03)</td>\n",
       "      <td>-0.35</td>\n",
       "    </tr>\n",
       "  </tbody>\n",
       "</table>\n",
       "</div>"
      ],
      "text/plain": [
       "                                 coef  std err      t  P>|t|          95% CI  \\\n",
       "index                                                                          \n",
       "Intercept                       -1.91     0.05 -37.99   0.00  (-2.01, -1.82)   \n",
       "ICE detainer                     1.32     0.14   9.62   0.00  ( 1.05,  1.58)   \n",
       "Seriousness rank                 0.47     0.01  36.11   0.00  ( 0.45,  0.50)   \n",
       "Number of charges                0.59     0.01  91.17   0.00  ( 0.57,  0.60)   \n",
       "Drug offense                     0.30     0.04   8.31   0.00  ( 0.23,  0.38)   \n",
       "Sex offense                      0.50     0.09   5.88   0.00  ( 0.34,  0.67)   \n",
       "Property offense                -0.16     0.03  -5.20   0.00  (-0.22, -0.10)   \n",
       "Violent offense                  0.19     0.03   6.17   0.00  ( 0.13,  0.25)   \n",
       "Male                             0.32     0.02  12.78   0.00  ( 0.27,  0.37)   \n",
       "Black                            0.13     0.03   4.89   0.00  ( 0.08,  0.18)   \n",
       "Hispanic                        -0.08     0.04  -2.12   0.03  (-0.16, -0.01)   \n",
       "American Indian / Alaska Native  0.35     0.06   5.57   0.00  ( 0.23,  0.47)   \n",
       "Asian / Pacific Islander        -0.02     0.05  -0.55   0.58  (-0.11,  0.06)   \n",
       "Unknown race                    -0.43     0.23  -1.85   0.06  (-0.89,  0.03)   \n",
       "\n",
       "                                 Impact  \n",
       "index                                    \n",
       "Intercept                         -0.85  \n",
       "ICE detainer                       2.73  \n",
       "Seriousness rank                   0.61  \n",
       "Number of charges                  0.80  \n",
       "Drug offense                       0.35  \n",
       "Sex offense                        0.66  \n",
       "Property offense                  -0.15  \n",
       "Violent offense                    0.21  \n",
       "Male                               0.38  \n",
       "Black                              0.14  \n",
       "Hispanic                          -0.08  \n",
       "American Indian / Alaska Native    0.42  \n",
       "Asian / Pacific Islander          -0.02  \n",
       "Unknown race                      -0.35  "
      ]
     },
     "execution_count": 86,
     "metadata": {},
     "output_type": "execute_result"
    }
   ],
   "source": [
    "summary"
   ]
  },
  {
   "cell_type": "code",
   "execution_count": 87,
   "metadata": {
    "collapsed": true
   },
   "outputs": [],
   "source": [
    "summary.to_csv('../output/regression_summary.csv')\n"
   ]
  },
  {
   "cell_type": "markdown",
   "metadata": {},
   "source": [
    "# Simple calculation of extra cost"
   ]
  },
  {
   "cell_type": "code",
   "execution_count": 88,
   "metadata": {
    "collapsed": true
   },
   "outputs": [],
   "source": [
    "cost_per_day = 126"
   ]
  },
  {
   "cell_type": "code",
   "execution_count": 89,
   "metadata": {
    "collapsed": true
   },
   "outputs": [],
   "source": [
    "df = df.copy()\n",
    "df.loc[:,'approx_cost'] = df['time_detained'] * 126"
   ]
  },
  {
   "cell_type": "code",
   "execution_count": 90,
   "metadata": {
    "collapsed": true
   },
   "outputs": [],
   "source": [
    "non_detainer_mean_time = df[df['imm_hold'] == 0]['time_detained'].mean()\n",
    "non_detainer_avg_cost =  non_detainer_mean_time * 126\n",
    "detainer_mean_time = df[df['imm_hold'] == 1]['time_detained'].mean()\n",
    "detainer_avg_cost =  detainer_mean_time * 126"
   ]
  },
  {
   "cell_type": "code",
   "execution_count": 91,
   "metadata": {},
   "outputs": [
    {
     "data": {
      "text/plain": [
       "46.76248348413124"
      ]
     },
     "execution_count": 91,
     "metadata": {},
     "output_type": "execute_result"
    }
   ],
   "source": [
    "diff = detainer_mean_time - non_detainer_mean_time\n",
    "diff"
   ]
  },
  {
   "cell_type": "code",
   "execution_count": 92,
   "metadata": {},
   "outputs": [
    {
     "data": {
      "text/plain": [
       "3383.8118549356327"
      ]
     },
     "execution_count": 92,
     "metadata": {},
     "output_type": "execute_result"
    }
   ],
   "source": [
    "non_detainer_avg_cost"
   ]
  },
  {
   "cell_type": "code",
   "execution_count": 93,
   "metadata": {},
   "outputs": [
    {
     "data": {
      "text/plain": [
       "9275.884773936168"
      ]
     },
     "execution_count": 93,
     "metadata": {},
     "output_type": "execute_result"
    }
   ],
   "source": [
    "detainer_avg_cost"
   ]
  },
  {
   "cell_type": "code",
   "execution_count": 94,
   "metadata": {
    "collapsed": true
   },
   "outputs": [],
   "source": [
    "extra_cost_per_detainer = detainer_avg_cost - non_detainer_avg_cost"
   ]
  },
  {
   "cell_type": "code",
   "execution_count": 95,
   "metadata": {},
   "outputs": [
    {
     "data": {
      "text/plain": [
       "5892.072919000535"
      ]
     },
     "execution_count": 95,
     "metadata": {},
     "output_type": "execute_result"
    }
   ],
   "source": [
    "extra_cost_per_detainer"
   ]
  },
  {
   "cell_type": "code",
   "execution_count": 96,
   "metadata": {
    "collapsed": true,
    "scrolled": true
   },
   "outputs": [],
   "source": [
    "total_extra_cost = extra_cost_per_detainer * len(df[df['imm_hold'] == 1])"
   ]
  },
  {
   "cell_type": "code",
   "execution_count": 97,
   "metadata": {},
   "outputs": [
    {
     "data": {
      "text/plain": [
       "1107709.7087721005"
      ]
     },
     "execution_count": 97,
     "metadata": {},
     "output_type": "execute_result"
    }
   ],
   "source": [
    "total_extra_cost"
   ]
  },
  {
   "cell_type": "markdown",
   "metadata": {},
   "source": [
    "# Predictions"
   ]
  },
  {
   "cell_type": "code",
   "execution_count": 98,
   "metadata": {},
   "outputs": [
    {
     "name": "stdout",
     "output_type": "stream",
     "text": [
      "4.000500523717074\n"
     ]
    }
   ],
   "source": [
    "log_time_detained = (reg.params['Intercept'] + \n",
    "                    (reg.params['imm_hold'] * 0) + \n",
    "                    (reg.params['charge_topcount'] * 2) +\n",
    "                    (reg.params['male'] * 1) +\n",
    "                    (reg.params['black'] * 0) +\n",
    "                    (reg.params['hispanic'] * 1) +\n",
    "                    (reg.params['amer_indian_alaskan'] * 0) +\n",
    "                    (reg.params['asian_pacific_island'] * 0) +\n",
    "#                     (reg.params['unknown'] * 0) +\n",
    "                    (reg.params['max_seriousness'] * 4) +\n",
    "#                     (reg.params['felony'] * 1) +\n",
    "                    (reg.params['drug'] * 0) +\n",
    "                    (reg.params['sex'] * 0) +\n",
    "                    (reg.params['property'] * 0) +\n",
    "                    (reg.params['violent'] * 0))\n",
    "predicted_time_detained_0 = np.power(np.e, log_time_detained)\n",
    "print(f'{predicted_time_detained_0}')"
   ]
  },
  {
   "cell_type": "code",
   "execution_count": 99,
   "metadata": {},
   "outputs": [
    {
     "name": "stdout",
     "output_type": "stream",
     "text": [
      "2.8091175954841203\n"
     ]
    }
   ],
   "source": [
    "log_time_detained = (reg.conf_int()[0]['Intercept'] + \n",
    "                    (reg.conf_int()[0]['imm_hold'] * 0) + \n",
    "                    (reg.conf_int()[0]['charge_topcount'] * 2) +\n",
    "                    (reg.conf_int()[0]['male'] * 1) +\n",
    "                    (reg.conf_int()[0]['black'] * 0) +\n",
    "                    (reg.conf_int()[0]['hispanic'] * 1) +\n",
    "                    (reg.conf_int()[0]['amer_indian_alaskan'] * 0) +\n",
    "                    (reg.conf_int()[0]['asian_pacific_island'] * 0) +\n",
    "#                     (reg.conf_int()[0]['unknown'] * 0) +\n",
    "                    (reg.conf_int()[0]['max_seriousness'] * 4) +\n",
    "#                     (reg.conf_int()[0]['felony'] * 1) +\n",
    "                    (reg.conf_int()[0]['drug'] * 0) +\n",
    "                    (reg.conf_int()[0]['sex'] * 0) +\n",
    "                    (reg.conf_int()[0]['property'] * 0) +\n",
    "                    (reg.conf_int()[0]['violent'] * 0))\n",
    "lower_predicted_time_detained_0 = np.power(np.e, log_time_detained)\n",
    "print(f'{lower_predicted_time_detained_0}')"
   ]
  },
  {
   "cell_type": "code",
   "execution_count": 100,
   "metadata": {},
   "outputs": [
    {
     "name": "stdout",
     "output_type": "stream",
     "text": [
      "5.697164286033553\n"
     ]
    }
   ],
   "source": [
    "log_time_detained = (reg.conf_int()[1]['Intercept'] + \n",
    "                    (reg.conf_int()[1]['imm_hold'] * 0) + \n",
    "                    (reg.conf_int()[1]['charge_topcount'] * 2) +\n",
    "                    (reg.conf_int()[1]['male'] * 1) +\n",
    "                    (reg.conf_int()[1]['black'] * 0) +\n",
    "                    (reg.conf_int()[1]['hispanic'] * 1) +\n",
    "                    (reg.conf_int()[1]['amer_indian_alaskan'] * 0) +\n",
    "                    (reg.conf_int()[1]['asian_pacific_island'] * 0) +\n",
    "#                     (reg.conf_int()[1]['unknown'] * 0) +\n",
    "                    (reg.conf_int()[1]['max_seriousness'] * 4) +\n",
    "#                     (reg.conf_int()[1]['felony'] * 1) +\n",
    "                    (reg.conf_int()[1]['drug'] * 0) +\n",
    "                    (reg.conf_int()[1]['sex'] * 0) +\n",
    "                    (reg.conf_int()[1]['property'] * 0) +\n",
    "                    (reg.conf_int()[1]['violent'] * 0))\n",
    "higher_predicted_time_detained_0 = np.power(np.e, log_time_detained)\n",
    "print(f'{higher_predicted_time_detained_0}')"
   ]
  },
  {
   "cell_type": "code",
   "execution_count": 101,
   "metadata": {},
   "outputs": [
    {
     "name": "stdout",
     "output_type": "stream",
     "text": [
      "14.918509271235822\n"
     ]
    }
   ],
   "source": [
    "log_time_detained = (reg.params['Intercept'] + \n",
    "                    (reg.params['imm_hold'] * 1) + \n",
    "                    (reg.params['charge_topcount'] * 2) +\n",
    "                    (reg.params['male'] * 1) +\n",
    "                    (reg.params['black'] * 0) +\n",
    "                    (reg.params['hispanic'] * 1) +\n",
    "                    (reg.params['amer_indian_alaskan'] * 0) +\n",
    "                    (reg.params['asian_pacific_island'] * 0) +\n",
    "#                     (reg.params['unknown'] * 0) +\n",
    "                    (reg.params['max_seriousness'] * 4) +\n",
    "#                     (reg.params['felony'] * 1) +\n",
    "                    (reg.params['drug'] * 0) +\n",
    "                    (reg.params['sex'] * 0) +\n",
    "                    (reg.params['property'] * 0) +\n",
    "                    (reg.params['violent'] * 0))\n",
    "predicted_time_detained_1 = np.power(np.e, log_time_detained)\n",
    "print(f'{predicted_time_detained_1}')"
   ]
  },
  {
   "cell_type": "code",
   "execution_count": 102,
   "metadata": {},
   "outputs": [
    {
     "name": "stdout",
     "output_type": "stream",
     "text": [
      "8.012451138453468\n"
     ]
    }
   ],
   "source": [
    "log_time_detained = (reg.conf_int()[0]['Intercept'] + \n",
    "                    (reg.conf_int()[0]['imm_hold'] * 1) + \n",
    "                    (reg.conf_int()[0]['charge_topcount'] * 2) +\n",
    "                    (reg.conf_int()[0]['male'] * 1) +\n",
    "                    (reg.conf_int()[0]['black'] * 0) +\n",
    "                    (reg.conf_int()[0]['hispanic'] * 1) +\n",
    "                    (reg.conf_int()[0]['amer_indian_alaskan'] * 0) +\n",
    "                    (reg.conf_int()[0]['asian_pacific_island'] * 0) +\n",
    "#                     (reg.conf_int()[0]['unknown'] * 0) +\n",
    "                    (reg.conf_int()[0]['max_seriousness'] * 4) +\n",
    "#                     (reg.conf_int()[0]['felony'] * 1) +\n",
    "                    (reg.conf_int()[0]['drug'] * 0) +\n",
    "                    (reg.conf_int()[0]['sex'] * 0) +\n",
    "                    (reg.conf_int()[0]['property'] * 0) +\n",
    "                    (reg.conf_int()[0]['violent'] * 0))\n",
    "lower_predicted_time_detained_1 = np.power(np.e, log_time_detained)\n",
    "print(f'{lower_predicted_time_detained_1}')"
   ]
  },
  {
   "cell_type": "code",
   "execution_count": 103,
   "metadata": {},
   "outputs": [
    {
     "name": "stdout",
     "output_type": "stream",
     "text": [
      "27.777007938036203\n"
     ]
    }
   ],
   "source": [
    "log_time_detained = (reg.conf_int()[1]['Intercept'] + \n",
    "                    (reg.conf_int()[1]['imm_hold'] * 1) + \n",
    "                    (reg.conf_int()[1]['charge_topcount'] * 2) +\n",
    "                    (reg.conf_int()[1]['male'] * 1) +\n",
    "                    (reg.conf_int()[1]['black'] * 0) +\n",
    "                    (reg.conf_int()[1]['hispanic'] * 1) +\n",
    "                    (reg.conf_int()[1]['amer_indian_alaskan'] * 0) +\n",
    "                    (reg.conf_int()[1]['asian_pacific_island'] * 0) +\n",
    "#                     (reg.conf_int()[1]['unknown'] * 0) +\n",
    "                    (reg.conf_int()[1]['max_seriousness'] * 4) +\n",
    "#                     (reg.conf_int()[1]['felony'] * 1) +\n",
    "                    (reg.conf_int()[1]['drug'] * 0) +\n",
    "                    (reg.conf_int()[1]['sex'] * 0) +\n",
    "                    (reg.conf_int()[1]['property'] * 0) +\n",
    "                    (reg.conf_int()[1]['violent'] * 0))\n",
    "higher_predicted_time_detained_1 = np.power(np.e, log_time_detained)\n",
    "print(f'{higher_predicted_time_detained_1}')"
   ]
  },
  {
   "cell_type": "code",
   "execution_count": 104,
   "metadata": {},
   "outputs": [
    {
     "name": "stdout",
     "output_type": "stream",
     "text": [
      "Predicted time multiple: 3.7291606844671166      (2.852301787342089,      4.875584860020765)\n"
     ]
    }
   ],
   "source": [
    "print(f'Predicted time multiple: {predicted_time_detained_1 / predicted_time_detained_0}\\\n",
    "      ({lower_predicted_time_detained_1 / lower_predicted_time_detained_0}, \\\n",
    "     {higher_predicted_time_detained_1 / higher_predicted_time_detained_0})')"
   ]
  },
  {
   "cell_type": "code",
   "execution_count": 105,
   "metadata": {},
   "outputs": [
    {
     "name": "stdout",
     "output_type": "stream",
     "text": [
      "10.918008747518748\n",
      "5.2033335429693475\n",
      "22.07984365200265\n"
     ]
    }
   ],
   "source": [
    "print(predicted_time_detained_1 - predicted_time_detained_0)\n",
    "print(lower_predicted_time_detained_1 - lower_predicted_time_detained_0)\n",
    "print(higher_predicted_time_detained_1 - higher_predicted_time_detained_0)"
   ]
  },
  {
   "cell_type": "markdown",
   "metadata": {},
   "source": [
    "# Correlation matrix"
   ]
  },
  {
   "cell_type": "code",
   "execution_count": 106,
   "metadata": {},
   "outputs": [
    {
     "data": {
      "text/plain": [
       "<matplotlib.axes._subplots.AxesSubplot at 0x11bb9f518>"
      ]
     },
     "execution_count": 106,
     "metadata": {},
     "output_type": "execute_result"
    },
    {
     "data": {
      "image/png": "[encoded data removed]",
      "text/plain": [
       "<matplotlib.figure.Figure at 0x11bae22b0>"
      ]
     },
     "metadata": {},
     "output_type": "display_data"
    }
   ],
   "source": [
    "from string import ascii_letters\n",
    "import matplotlib.pyplot as plt\n",
    "\n",
    "corr = data.corr()\n",
    "\n",
    "corr\n",
    "\n",
    "mask = np.zeros_like(corr, dtype=np.bool)\n",
    "mask[np.triu_indices_from(mask)] = True\n",
    "\n",
    "# Set up the matplotlib figure\n",
    "f, ax = plt.subplots(figsize=(11, 9))\n",
    "\n",
    "# Generate a custom diverging colormap\n",
    "cmap = sns.diverging_palette(220, 10, as_cmap=True)\n",
    "\n",
    "# Draw the heatmap with the mask and correct aspect ratio\n",
    "sns.heatmap(corr, mask=mask, cmap=cmap, vmax=.3, center=0,\n",
    "            square=True, linewidths=.5, cbar_kws={\"shrink\": .5})"
   ]
  },
  {
   "cell_type": "code",
   "execution_count": 107,
   "metadata": {},
   "outputs": [
    {
     "data": {
      "text/plain": [
       "3.188194444444445"
      ]
     },
     "execution_count": 107,
     "metadata": {},
     "output_type": "execute_result"
    }
   ],
   "source": [
    "df['time_detained'].median()"
   ]
  },
  {
   "cell_type": "code",
   "execution_count": 108,
   "metadata": {},
   "outputs": [
    {
     "data": {
      "text/plain": [
       "4.0"
      ]
     },
     "execution_count": 108,
     "metadata": {},
     "output_type": "execute_result"
    }
   ],
   "source": [
    "df['max_seriousness'].median()"
   ]
  },
  {
   "cell_type": "code",
   "execution_count": 109,
   "metadata": {},
   "outputs": [
    {
     "data": {
      "text/plain": [
       "3.981339337495309"
      ]
     },
     "execution_count": 109,
     "metadata": {},
     "output_type": "execute_result"
    }
   ],
   "source": [
    "df['max_seriousness'].mean()"
   ]
  },
  {
   "cell_type": "code",
   "execution_count": null,
   "metadata": {
    "collapsed": true
   },
   "outputs": [],
   "source": []
  },
  {
   "cell_type": "code",
   "execution_count": null,
   "metadata": {
    "collapsed": true
   },
   "outputs": [],
   "source": []
  },
  {
   "cell_type": "code",
   "execution_count": null,
   "metadata": {
    "collapsed": true
   },
   "outputs": [],
   "source": []
  }
 ],
 "metadata": {
  "kernelspec": {
   "display_name": "Python 3",
   "language": "python",
   "name": "python3"
  },
  "language_info": {
   "codemirror_mode": {
    "name": "ipython",
    "version": 3
   },
   "file_extension": ".py",
   "mimetype": "text/x-python",
   "name": "python",
   "nbconvert_exporter": "python",
   "pygments_lexer": "ipython3",
   "version": "3.7.1"
  }
 },
 "nbformat": 4,
 "nbformat_minor": 2
}
