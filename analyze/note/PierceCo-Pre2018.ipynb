{
 "cells": [
  {
   "cell_type": "code",
   "execution_count": 604,
   "metadata": {
    "collapsed": true
   },
   "outputs": [],
   "source": [
    "import pandas as pd\n",
    "import numpy as np\n",
    "from datetime import datetime\n",
    "\n",
    "import itertools\n",
    "from itertools import chain, combinations\n",
    "import statsmodels.formula.api as smf\n",
    "import scipy.stats as scipystats\n",
    "import statsmodels.api as sm\n",
    "import statsmodels.stats.stattools as stools\n",
    "import statsmodels.stats as stats\n",
    "from statsmodels.graphics.regressionplots import *\n",
    "import matplotlib.pyplot as plt\n",
    "import matplotlib.mlab as mlab\n",
    "import seaborn as sns\n",
    "import copy\n",
    "import math\n",
    "import time\n",
    "\n",
    "%matplotlib inline\n",
    "plt.rcParams['figure.figsize'] = (8, 6)"
   ]
  },
  {
   "cell_type": "markdown",
   "metadata": {},
   "source": [
    "# Load data"
   ]
  },
  {
   "cell_type": "code",
   "execution_count": 605,
   "metadata": {
    "collapsed": true
   },
   "outputs": [],
   "source": [
    "path = '../input/'"
   ]
  },
  {
   "cell_type": "code",
   "execution_count": 606,
   "metadata": {
    "collapsed": true
   },
   "outputs": [],
   "source": [
    "df = pd.read_csv(f'{path}pierce.csv.gz', sep='|', compression='gzip')"
   ]
  },
  {
   "cell_type": "code",
   "execution_count": 607,
   "metadata": {},
   "outputs": [
    {
     "name": "stdout",
     "output_type": "stream",
     "text": [
      "<class 'pandas.core.frame.DataFrame'>\n",
      "RangeIndex: 40475 entries, 0 to 40474\n",
      "Data columns (total 51 columns):\n",
      "booking_id                  40475 non-null int64\n",
      "inmate_name                 40475 non-null object\n",
      "booking_dt                  40475 non-null object\n",
      "release_dt                  40475 non-null object\n",
      "booking_charge_desc         40475 non-null object\n",
      "booking_charge_txt          3055 non-null object\n",
      "charge_release_dt           40475 non-null object\n",
      "title_txt                   40475 non-null object\n",
      "dob                         40475 non-null object\n",
      "cause_num                   32209 non-null object\n",
      "jurisdiction_cd             40475 non-null object\n",
      "release_disposition_desc    40475 non-null object\n",
      "post_flg                    40475 non-null object\n",
      "hash_id                     40475 non-null object\n",
      "gender_desc                 40475 non-null object\n",
      "race_desc                   40475 non-null object\n",
      "amer_indian_alaskan         40475 non-null int64\n",
      "asian_pacific_island        40475 non-null int64\n",
      "black                       40475 non-null int64\n",
      "hispanic                    40475 non-null int64\n",
      "white                       40475 non-null int64\n",
      "female                      40475 non-null int64\n",
      "male                        40475 non-null int64\n",
      "place_of_birth              40036 non-null object\n",
      "time_detained               40475 non-null float64\n",
      "log_time_detained           40475 non-null float64\n",
      "category                    40475 non-null object\n",
      "type                        40475 non-null object\n",
      "seriousness                 40475 non-null float64\n",
      "max_seriousness             40475 non-null float64\n",
      "max_charge_type             40475 non-null object\n",
      "max_charge_desc             40475 non-null object\n",
      "drug                        40475 non-null int64\n",
      "other                       40475 non-null int64\n",
      "property                    40475 non-null int64\n",
      "public_order                40475 non-null int64\n",
      "sex                         40475 non-null int64\n",
      "violent                     40475 non-null int64\n",
      "felony                      40475 non-null int64\n",
      "misdemeanor                 40475 non-null int64\n",
      "charge_count                40475 non-null int64\n",
      "charge_topcount             40475 non-null int64\n",
      "bail_receipt_id             6992 non-null float64\n",
      "bail_receipt_dt             6992 non-null object\n",
      "bail_fund_type_cd           6992 non-null object\n",
      "bail_fund_type_desc         6992 non-null object\n",
      "fine_amt                    6992 non-null float64\n",
      "start_receipt_id            6992 non-null float64\n",
      "end_receipt_id              6992 non-null float64\n",
      "disbursed_status            6992 non-null object\n",
      "disbursed_dt                6992 non-null object\n",
      "dtypes: float64(8), int64(18), object(25)\n",
      "memory usage: 15.7+ MB\n"
     ]
    }
   ],
   "source": [
    "df.info()"
   ]
  },
  {
   "cell_type": "code",
   "execution_count": 608,
   "metadata": {
    "collapsed": true
   },
   "outputs": [],
   "source": [
    "df['booking_dt'] = pd.to_datetime(df['booking_dt'])\n",
    "df['release_dt'] = pd.to_datetime(df['release_dt'])"
   ]
  },
  {
   "cell_type": "code",
   "execution_count": 1,
   "metadata": {},
   "outputs": [
    {
     "ename": "NameError",
     "evalue": "name 'df' is not defined",
     "output_type": "error",
     "traceback": [
      "\u001b[0;31m---------------------------------------------------------------------------\u001b[0m",
      "\u001b[0;31mNameError\u001b[0m                                 Traceback (most recent call last)",
      "\u001b[0;32m<ipython-input-1-c08fcf8c2849>\u001b[0m in \u001b[0;36m<module>\u001b[0;34m()\u001b[0m\n\u001b[0;32m----> 1\u001b[0;31m \u001b[0mdf\u001b[0m\u001b[0;34m[\u001b[0m\u001b[0;34m'release_dt'\u001b[0m\u001b[0;34m]\u001b[0m\u001b[0;34m.\u001b[0m\u001b[0mdescribe\u001b[0m\u001b[0;34m(\u001b[0m\u001b[0;34m)\u001b[0m\u001b[0;34m\u001b[0m\u001b[0m\n\u001b[0m",
      "\u001b[0;31mNameError\u001b[0m: name 'df' is not defined"
     ]
    }
   ],
   "source": [
    "df['release_dt'].max()"
   ]
  },
  {
   "cell_type": "code",
   "execution_count": 610,
   "metadata": {
    "collapsed": true
   },
   "outputs": [],
   "source": [
    "race_cols = ['amer_indian_alaskan',\n",
    "             'asian_pacific_island',\n",
    "             'black',\n",
    "             'hispanic',\n",
    "             'white']\n",
    "gender_cols = ['female', 'male']"
   ]
  },
  {
   "cell_type": "markdown",
   "metadata": {},
   "source": [
    "Race and gender percentages (dropping duplicate booking IDs)"
   ]
  },
  {
   "cell_type": "code",
   "execution_count": 611,
   "metadata": {
    "scrolled": true
   },
   "outputs": [
    {
     "data": {
      "text/plain": [
       "amer_indian_alaskan      3.047813\n",
       "asian_pacific_island     5.784047\n",
       "black                   23.997281\n",
       "hispanic                 8.406979\n",
       "white                   58.763879\n",
       "dtype: float64"
      ]
     },
     "execution_count": 611,
     "metadata": {},
     "output_type": "execute_result"
    }
   ],
   "source": [
    "df.drop_duplicates(subset='booking_id')[race_cols].sum()/len(df.drop_duplicates(subset='booking_id'))*100"
   ]
  },
  {
   "cell_type": "code",
   "execution_count": 612,
   "metadata": {},
   "outputs": [
    {
     "data": {
      "text/plain": [
       "female    23.832993\n",
       "male      76.167007\n",
       "dtype: float64"
      ]
     },
     "execution_count": 612,
     "metadata": {},
     "output_type": "execute_result"
    }
   ],
   "source": [
    "df.drop_duplicates(subset='booking_id')[gender_cols].sum()/len(df.drop_duplicates(subset='booking_id'))*100"
   ]
  },
  {
   "cell_type": "code",
   "execution_count": 613,
   "metadata": {},
   "outputs": [
    {
     "data": {
      "image/png": "[encoded data removed]",
      "text/plain": [
       "<matplotlib.figure.Figure at 0x12687fef0>"
      ]
     },
     "metadata": {},
     "output_type": "display_data"
    }
   ],
   "source": [
    "data = df.drop_duplicates(subset='booking_id')['max_seriousness']\n",
    "num_bins = 6\n",
    "# the histogram of the data\n",
    "n, bins, patches = plt.hist(data.dropna(), num_bins, facecolor='blue', alpha=0.5)\n",
    " \n",
    "plt.plot()\n",
    "plt.xlabel('Seriousness')\n",
    "plt.xticks(np.arange(0, 7, step=1))\n",
    "plt.ylabel('Count')\n",
    "plt.title('Seriousness')\n",
    " \n",
    "# Tweak spacing to prevent clipping of ylabel\n",
    "plt.subplots_adjust(left=0.15) \n",
    "plt.show()"
   ]
  },
  {
   "cell_type": "code",
   "execution_count": 614,
   "metadata": {},
   "outputs": [
    {
     "data": {
      "image/png": "[encoded data removed]",
      "text/plain": [
       "<matplotlib.figure.Figure at 0x12687fe48>"
      ]
     },
     "metadata": {},
     "output_type": "display_data"
    }
   ],
   "source": [
    "data = df.drop_duplicates(subset='booking_id')['charge_count']\n",
    "num_bins = 22\n",
    "# the histogram of the data\n",
    "n, bins, patches = plt.hist(data, num_bins, facecolor='blue', alpha=0.5)\n",
    " \n",
    "plt.plot()\n",
    "plt.xlabel('Charges')\n",
    "plt.xticks(np.arange(0, 22, step=1))\n",
    "plt.ylabel('Count')\n",
    "plt.title('Raw charge counts (max charge == 21)')\n",
    " \n",
    "# Tweak spacing to prevent clipping of ylabel\n",
    "plt.subplots_adjust(left=0.15) \n",
    "plt.show()"
   ]
  },
  {
   "cell_type": "code",
   "execution_count": 615,
   "metadata": {},
   "outputs": [
    {
     "data": {
      "image/png": "[encoded data removed]",
      "text/plain": [
       "<matplotlib.figure.Figure at 0x13db8a320>"
      ]
     },
     "metadata": {},
     "output_type": "display_data"
    }
   ],
   "source": [
    "data = df.drop_duplicates(subset='booking_id')['charge_topcount']\n",
    "num_bins = 10\n",
    "# the histogram of the data\n",
    "n, bins, patches = plt.hist(data, num_bins, facecolor='blue', alpha=0.5)\n",
    " \n",
    "# add a 'best fit' line\n",
    "plt.plot()\n",
    "plt.xlabel('Charges')\n",
    "plt.xticks(np.arange(0, 11, step=1))\n",
    "plt.ylabel('Count')\n",
    "plt.title('Topcounted charges (max charge == 10)')\n",
    " \n",
    "# Tweak spacing to prevent clipping of ylabel\n",
    "plt.subplots_adjust(left=0.15)\n",
    "plt.show()"
   ]
  },
  {
   "cell_type": "markdown",
   "metadata": {},
   "source": [
    "## Basic masking for immigration holds, release to immigration"
   ]
  },
  {
   "cell_type": "markdown",
   "metadata": {},
   "source": [
    "Doing some basic masking and birds-eye view calculations of average time detained for different subsets of data:"
   ]
  },
  {
   "cell_type": "code",
   "execution_count": 616,
   "metadata": {
    "collapsed": true
   },
   "outputs": [],
   "source": [
    "# Booking IDs of people released to immigration\n",
    "release_imm_ids = set(df[df['release_disposition_desc'] == \"Immigration\"]['booking_id'])"
   ]
  },
  {
   "cell_type": "code",
   "execution_count": 617,
   "metadata": {
    "collapsed": true
   },
   "outputs": [],
   "source": [
    "# Release jurisdiction == IMM. What does this mean?\n",
    "juris_imm_ids = set(df[df['jurisdiction_cd'] == \"IMM\"]['booking_id'])"
   ]
  },
  {
   "cell_type": "code",
   "execution_count": 618,
   "metadata": {
    "collapsed": true
   },
   "outputs": [],
   "source": [
    "# Immigration hold IDs\n",
    "hold_ids = set(df[df['booking_charge_desc'] == 'HOLD IMMIGRAT']['booking_id'])"
   ]
  },
  {
   "cell_type": "code",
   "execution_count": 619,
   "metadata": {
    "collapsed": true
   },
   "outputs": [],
   "source": [
    "# Booking IDs of people with canceled detainers\n",
    "cancel_detainer_ids = set(df[df['release_disposition_desc'] == 'Cancel Detainer']['booking_id'])"
   ]
  },
  {
   "cell_type": "code",
   "execution_count": 620,
   "metadata": {
    "collapsed": true
   },
   "outputs": [],
   "source": [
    "hold = df[df['booking_id'].isin(hold_ids)]\n",
    "no_hold = df[~df['booking_id'].isin(hold_ids)]\n",
    "release_imm = df[df['booking_id'].isin(release_imm_ids)]\n",
    "no_release_imm = df[~df['booking_id'].isin(release_imm_ids)]\n",
    "juris_imm = df[df['booking_id'].isin(juris_imm_ids)]"
   ]
  },
  {
   "cell_type": "code",
   "execution_count": 621,
   "metadata": {
    "collapsed": true
   },
   "outputs": [],
   "source": [
    "hold_release_imm = hold[hold['booking_id'].isin(release_imm_ids)]\n",
    "hold_no_release_imm = hold[~hold['booking_id'].isin(release_imm_ids)]"
   ]
  },
  {
   "cell_type": "code",
   "execution_count": 622,
   "metadata": {
    "collapsed": true
   },
   "outputs": [],
   "source": [
    "hold = hold.sort_values(by=['booking_id'])\n",
    "release_imm = release_imm.sort_values(by=['booking_id'])"
   ]
  },
  {
   "cell_type": "code",
   "execution_count": 623,
   "metadata": {
    "collapsed": true
   },
   "outputs": [],
   "source": [
    "#hold.to_csv('subsets/bookings_with_imm_hold.csv', index=False)\n",
    "#release_imm.to_csv('../output/released_to_imm.csv', index=False)"
   ]
  },
  {
   "cell_type": "code",
   "execution_count": 624,
   "metadata": {
    "scrolled": false
   },
   "outputs": [
    {
     "data": {
      "text/plain": [
       "5"
      ]
     },
     "execution_count": 624,
     "metadata": {},
     "output_type": "execute_result"
    }
   ],
   "source": [
    "# Cases with hold with \"Cancel Detainer\" release disp\n",
    "len(hold_ids.intersection(cancel_detainer_ids))"
   ]
  },
  {
   "cell_type": "code",
   "execution_count": 625,
   "metadata": {},
   "outputs": [
    {
     "data": {
      "text/plain": [
       "76"
      ]
     },
     "execution_count": 625,
     "metadata": {},
     "output_type": "execute_result"
    }
   ],
   "source": [
    "# Cases with holds released to immigration\n",
    "len(hold_ids.intersection(release_imm_ids))"
   ]
  },
  {
   "cell_type": "code",
   "execution_count": 626,
   "metadata": {},
   "outputs": [
    {
     "data": {
      "text/plain": [
       "111"
      ]
     },
     "execution_count": 626,
     "metadata": {},
     "output_type": "execute_result"
    }
   ],
   "source": [
    "# Cases with holds release jurisdiction == IMM\n",
    "len(hold_ids.intersection(juris_imm_ids))"
   ]
  },
  {
   "cell_type": "code",
   "execution_count": 627,
   "metadata": {},
   "outputs": [
    {
     "data": {
      "text/plain": [
       "5"
      ]
     },
     "execution_count": 627,
     "metadata": {},
     "output_type": "execute_result"
    }
   ],
   "source": [
    "# Canceled detainers release jurisdiction == IMM\n",
    "len(juris_imm_ids.intersection(cancel_detainer_ids))"
   ]
  },
  {
   "cell_type": "code",
   "execution_count": 628,
   "metadata": {},
   "outputs": [
    {
     "data": {
      "text/plain": [
       "Immigration               20.365535\n",
       "WSI Chain                 14.360313\n",
       "Dismissed                 13.838120\n",
       "Credit for Time Served     9.399478\n",
       "Time Served                6.266319\n",
       "Name: release_disposition_desc, dtype: float64"
      ]
     },
     "execution_count": 628,
     "metadata": {},
     "output_type": "execute_result"
    }
   ],
   "source": [
    "(hold['release_disposition_desc'].value_counts() / len(hold) * 100).head()"
   ]
  },
  {
   "cell_type": "code",
   "execution_count": 629,
   "metadata": {},
   "outputs": [
    {
     "data": {
      "text/plain": [
       "Bail Bond      14.566497\n",
       "PR             10.785194\n",
       "Time Served     9.737604\n",
       "WSI Chain       7.794572\n",
       "Dismissed       7.764641\n",
       "Name: release_disposition_desc, dtype: float64"
      ]
     },
     "execution_count": 629,
     "metadata": {},
     "output_type": "execute_result"
    }
   ],
   "source": [
    "(no_hold['release_disposition_desc'].value_counts() / len(no_hold) * 100).head()"
   ]
  },
  {
   "cell_type": "markdown",
   "metadata": {},
   "source": [
    "## Simple masking for immigration holds and release to immigration"
   ]
  },
  {
   "cell_type": "code",
   "execution_count": 630,
   "metadata": {
    "collapsed": true
   },
   "outputs": [],
   "source": [
    "hold_mask = df['booking_id'].isin(hold_ids)\n",
    "release_imm_mask = df['booking_id'].isin(release_imm_ids)\n",
    "juris_imm_mask = df['booking_id'].isin(juris_imm_ids)\n",
    "cancel_detainer_mask = df['booking_id'].isin(cancel_detainer_ids)"
   ]
  },
  {
   "cell_type": "code",
   "execution_count": 631,
   "metadata": {
    "collapsed": true,
    "scrolled": true
   },
   "outputs": [],
   "source": [
    "df['imm_hold'] = 0\n",
    "df.loc[hold_mask, 'imm_hold'] = 1"
   ]
  },
  {
   "cell_type": "code",
   "execution_count": 632,
   "metadata": {
    "collapsed": true
   },
   "outputs": [],
   "source": [
    "df['release_to_imm'] = 0\n",
    "df.loc[release_imm_mask, 'release_to_imm'] = 1"
   ]
  },
  {
   "cell_type": "code",
   "execution_count": 633,
   "metadata": {
    "collapsed": true
   },
   "outputs": [],
   "source": [
    "df['juris_imm'] = 0\n",
    "df.loc[release_imm_mask, 'juris_imm'] = 1"
   ]
  },
  {
   "cell_type": "code",
   "execution_count": 634,
   "metadata": {
    "collapsed": true
   },
   "outputs": [],
   "source": [
    "df['cancel_detainer'] = 0\n",
    "df.loc[cancel_detainer_mask, 'cancel_detainer'] = 1"
   ]
  },
  {
   "cell_type": "markdown",
   "metadata": {},
   "source": [
    "# Cleaning and masking birthplace"
   ]
  },
  {
   "cell_type": "code",
   "execution_count": 635,
   "metadata": {
    "collapsed": true
   },
   "outputs": [],
   "source": [
    " df['place_of_birth'] = df['place_of_birth'].str.strip()"
   ]
  },
  {
   "cell_type": "code",
   "execution_count": 636,
   "metadata": {
    "collapsed": true
   },
   "outputs": [],
   "source": [
    "country = pd.read_csv('../hand/birthplace.csv')"
   ]
  },
  {
   "cell_type": "code",
   "execution_count": 637,
   "metadata": {
    "collapsed": true
   },
   "outputs": [],
   "source": [
    "df = pd.merge(df, country, on='place_of_birth', how='left')"
   ]
  },
  {
   "cell_type": "code",
   "execution_count": 638,
   "metadata": {
    "collapsed": true
   },
   "outputs": [],
   "source": [
    "df.loc[:,'born_in_us'] = df['country_of_birth'] == 'UNITED STATES OF AMERICA'"
   ]
  },
  {
   "cell_type": "code",
   "execution_count": 639,
   "metadata": {},
   "outputs": [
    {
     "data": {
      "text/html": [
       "<div>\n",
       "<style scoped>\n",
       "    .dataframe tbody tr th:only-of-type {\n",
       "        vertical-align: middle;\n",
       "    }\n",
       "\n",
       "    .dataframe tbody tr th {\n",
       "        vertical-align: top;\n",
       "    }\n",
       "\n",
       "    .dataframe thead th {\n",
       "        text-align: right;\n",
       "    }\n",
       "</style>\n",
       "<table border=\"1\" class=\"dataframe\">\n",
       "  <thead>\n",
       "    <tr style=\"text-align: right;\">\n",
       "      <th></th>\n",
       "      <th>country_of_birth</th>\n",
       "      <th>born_in_us</th>\n",
       "    </tr>\n",
       "  </thead>\n",
       "  <tbody>\n",
       "    <tr>\n",
       "      <th>0</th>\n",
       "      <td>UNITED STATES OF AMERICA</td>\n",
       "      <td>True</td>\n",
       "    </tr>\n",
       "    <tr>\n",
       "      <th>1</th>\n",
       "      <td>UNITED STATES OF AMERICA</td>\n",
       "      <td>True</td>\n",
       "    </tr>\n",
       "    <tr>\n",
       "      <th>2</th>\n",
       "      <td>UNITED STATES OF AMERICA</td>\n",
       "      <td>True</td>\n",
       "    </tr>\n",
       "    <tr>\n",
       "      <th>3</th>\n",
       "      <td>UNITED STATES OF AMERICA</td>\n",
       "      <td>True</td>\n",
       "    </tr>\n",
       "    <tr>\n",
       "      <th>4</th>\n",
       "      <td>UNITED STATES OF AMERICA</td>\n",
       "      <td>True</td>\n",
       "    </tr>\n",
       "    <tr>\n",
       "      <th>5</th>\n",
       "      <td>UNITED STATES OF AMERICA</td>\n",
       "      <td>True</td>\n",
       "    </tr>\n",
       "    <tr>\n",
       "      <th>6</th>\n",
       "      <td>UNITED STATES OF AMERICA</td>\n",
       "      <td>True</td>\n",
       "    </tr>\n",
       "    <tr>\n",
       "      <th>7</th>\n",
       "      <td>UNITED STATES OF AMERICA</td>\n",
       "      <td>True</td>\n",
       "    </tr>\n",
       "    <tr>\n",
       "      <th>8</th>\n",
       "      <td>UNITED STATES OF AMERICA</td>\n",
       "      <td>True</td>\n",
       "    </tr>\n",
       "    <tr>\n",
       "      <th>9</th>\n",
       "      <td>UNITED STATES OF AMERICA</td>\n",
       "      <td>True</td>\n",
       "    </tr>\n",
       "    <tr>\n",
       "      <th>10</th>\n",
       "      <td>UNITED STATES OF AMERICA</td>\n",
       "      <td>True</td>\n",
       "    </tr>\n",
       "    <tr>\n",
       "      <th>11</th>\n",
       "      <td>UNITED STATES OF AMERICA</td>\n",
       "      <td>True</td>\n",
       "    </tr>\n",
       "    <tr>\n",
       "      <th>12</th>\n",
       "      <td>UNITED STATES OF AMERICA</td>\n",
       "      <td>True</td>\n",
       "    </tr>\n",
       "    <tr>\n",
       "      <th>13</th>\n",
       "      <td>UNITED STATES OF AMERICA</td>\n",
       "      <td>True</td>\n",
       "    </tr>\n",
       "    <tr>\n",
       "      <th>14</th>\n",
       "      <td>UNITED STATES OF AMERICA</td>\n",
       "      <td>True</td>\n",
       "    </tr>\n",
       "    <tr>\n",
       "      <th>15</th>\n",
       "      <td>UNITED STATES OF AMERICA</td>\n",
       "      <td>True</td>\n",
       "    </tr>\n",
       "    <tr>\n",
       "      <th>16</th>\n",
       "      <td>UNITED STATES OF AMERICA</td>\n",
       "      <td>True</td>\n",
       "    </tr>\n",
       "    <tr>\n",
       "      <th>17</th>\n",
       "      <td>UNITED STATES OF AMERICA</td>\n",
       "      <td>True</td>\n",
       "    </tr>\n",
       "    <tr>\n",
       "      <th>18</th>\n",
       "      <td>UNITED STATES OF AMERICA</td>\n",
       "      <td>True</td>\n",
       "    </tr>\n",
       "    <tr>\n",
       "      <th>19</th>\n",
       "      <td>UNITED STATES OF AMERICA</td>\n",
       "      <td>True</td>\n",
       "    </tr>\n",
       "    <tr>\n",
       "      <th>20</th>\n",
       "      <td>UNITED STATES OF AMERICA</td>\n",
       "      <td>True</td>\n",
       "    </tr>\n",
       "    <tr>\n",
       "      <th>21</th>\n",
       "      <td>UNITED STATES OF AMERICA</td>\n",
       "      <td>True</td>\n",
       "    </tr>\n",
       "    <tr>\n",
       "      <th>22</th>\n",
       "      <td>UNITED STATES OF AMERICA</td>\n",
       "      <td>True</td>\n",
       "    </tr>\n",
       "    <tr>\n",
       "      <th>23</th>\n",
       "      <td>UNITED STATES OF AMERICA</td>\n",
       "      <td>True</td>\n",
       "    </tr>\n",
       "    <tr>\n",
       "      <th>24</th>\n",
       "      <td>DOMINICA</td>\n",
       "      <td>False</td>\n",
       "    </tr>\n",
       "    <tr>\n",
       "      <th>25</th>\n",
       "      <td>DOMINICA</td>\n",
       "      <td>False</td>\n",
       "    </tr>\n",
       "    <tr>\n",
       "      <th>26</th>\n",
       "      <td>MEXICO</td>\n",
       "      <td>False</td>\n",
       "    </tr>\n",
       "    <tr>\n",
       "      <th>27</th>\n",
       "      <td>MEXICO</td>\n",
       "      <td>False</td>\n",
       "    </tr>\n",
       "    <tr>\n",
       "      <th>28</th>\n",
       "      <td>UNKNOWN</td>\n",
       "      <td>False</td>\n",
       "    </tr>\n",
       "    <tr>\n",
       "      <th>29</th>\n",
       "      <td>UNKNOWN</td>\n",
       "      <td>False</td>\n",
       "    </tr>\n",
       "    <tr>\n",
       "      <th>...</th>\n",
       "      <td>...</td>\n",
       "      <td>...</td>\n",
       "    </tr>\n",
       "    <tr>\n",
       "      <th>40445</th>\n",
       "      <td>UNITED STATES OF AMERICA</td>\n",
       "      <td>True</td>\n",
       "    </tr>\n",
       "    <tr>\n",
       "      <th>40446</th>\n",
       "      <td>UNITED STATES OF AMERICA</td>\n",
       "      <td>True</td>\n",
       "    </tr>\n",
       "    <tr>\n",
       "      <th>40447</th>\n",
       "      <td>UNITED STATES OF AMERICA</td>\n",
       "      <td>True</td>\n",
       "    </tr>\n",
       "    <tr>\n",
       "      <th>40448</th>\n",
       "      <td>UNITED STATES OF AMERICA</td>\n",
       "      <td>True</td>\n",
       "    </tr>\n",
       "    <tr>\n",
       "      <th>40449</th>\n",
       "      <td>UNITED STATES OF AMERICA</td>\n",
       "      <td>True</td>\n",
       "    </tr>\n",
       "    <tr>\n",
       "      <th>40450</th>\n",
       "      <td>UNITED STATES OF AMERICA</td>\n",
       "      <td>True</td>\n",
       "    </tr>\n",
       "    <tr>\n",
       "      <th>40451</th>\n",
       "      <td>UNITED STATES OF AMERICA</td>\n",
       "      <td>True</td>\n",
       "    </tr>\n",
       "    <tr>\n",
       "      <th>40452</th>\n",
       "      <td>UNITED STATES OF AMERICA</td>\n",
       "      <td>True</td>\n",
       "    </tr>\n",
       "    <tr>\n",
       "      <th>40453</th>\n",
       "      <td>UNITED STATES OF AMERICA</td>\n",
       "      <td>True</td>\n",
       "    </tr>\n",
       "    <tr>\n",
       "      <th>40454</th>\n",
       "      <td>UNITED STATES OF AMERICA</td>\n",
       "      <td>True</td>\n",
       "    </tr>\n",
       "    <tr>\n",
       "      <th>40455</th>\n",
       "      <td>UNITED STATES OF AMERICA</td>\n",
       "      <td>True</td>\n",
       "    </tr>\n",
       "    <tr>\n",
       "      <th>40456</th>\n",
       "      <td>UNITED STATES OF AMERICA</td>\n",
       "      <td>True</td>\n",
       "    </tr>\n",
       "    <tr>\n",
       "      <th>40457</th>\n",
       "      <td>UNITED STATES OF AMERICA</td>\n",
       "      <td>True</td>\n",
       "    </tr>\n",
       "    <tr>\n",
       "      <th>40458</th>\n",
       "      <td>UNITED STATES OF AMERICA</td>\n",
       "      <td>True</td>\n",
       "    </tr>\n",
       "    <tr>\n",
       "      <th>40459</th>\n",
       "      <td>MEXICO</td>\n",
       "      <td>False</td>\n",
       "    </tr>\n",
       "    <tr>\n",
       "      <th>40460</th>\n",
       "      <td>UNITED STATES OF AMERICA</td>\n",
       "      <td>True</td>\n",
       "    </tr>\n",
       "    <tr>\n",
       "      <th>40461</th>\n",
       "      <td>UNITED STATES OF AMERICA</td>\n",
       "      <td>True</td>\n",
       "    </tr>\n",
       "    <tr>\n",
       "      <th>40462</th>\n",
       "      <td>UNITED STATES OF AMERICA</td>\n",
       "      <td>True</td>\n",
       "    </tr>\n",
       "    <tr>\n",
       "      <th>40463</th>\n",
       "      <td>UNITED STATES OF AMERICA</td>\n",
       "      <td>True</td>\n",
       "    </tr>\n",
       "    <tr>\n",
       "      <th>40464</th>\n",
       "      <td>UNITED STATES OF AMERICA</td>\n",
       "      <td>True</td>\n",
       "    </tr>\n",
       "    <tr>\n",
       "      <th>40465</th>\n",
       "      <td>UNITED STATES OF AMERICA</td>\n",
       "      <td>True</td>\n",
       "    </tr>\n",
       "    <tr>\n",
       "      <th>40466</th>\n",
       "      <td>UNITED STATES OF AMERICA</td>\n",
       "      <td>True</td>\n",
       "    </tr>\n",
       "    <tr>\n",
       "      <th>40467</th>\n",
       "      <td>UNITED STATES OF AMERICA</td>\n",
       "      <td>True</td>\n",
       "    </tr>\n",
       "    <tr>\n",
       "      <th>40468</th>\n",
       "      <td>UNITED STATES OF AMERICA</td>\n",
       "      <td>True</td>\n",
       "    </tr>\n",
       "    <tr>\n",
       "      <th>40469</th>\n",
       "      <td>NaN</td>\n",
       "      <td>False</td>\n",
       "    </tr>\n",
       "    <tr>\n",
       "      <th>40470</th>\n",
       "      <td>NaN</td>\n",
       "      <td>False</td>\n",
       "    </tr>\n",
       "    <tr>\n",
       "      <th>40471</th>\n",
       "      <td>NaN</td>\n",
       "      <td>False</td>\n",
       "    </tr>\n",
       "    <tr>\n",
       "      <th>40472</th>\n",
       "      <td>NaN</td>\n",
       "      <td>False</td>\n",
       "    </tr>\n",
       "    <tr>\n",
       "      <th>40473</th>\n",
       "      <td>NaN</td>\n",
       "      <td>False</td>\n",
       "    </tr>\n",
       "    <tr>\n",
       "      <th>40474</th>\n",
       "      <td>NaN</td>\n",
       "      <td>False</td>\n",
       "    </tr>\n",
       "  </tbody>\n",
       "</table>\n",
       "<p>40475 rows × 2 columns</p>\n",
       "</div>"
      ],
      "text/plain": [
       "               country_of_birth  born_in_us\n",
       "0      UNITED STATES OF AMERICA        True\n",
       "1      UNITED STATES OF AMERICA        True\n",
       "2      UNITED STATES OF AMERICA        True\n",
       "3      UNITED STATES OF AMERICA        True\n",
       "4      UNITED STATES OF AMERICA        True\n",
       "5      UNITED STATES OF AMERICA        True\n",
       "6      UNITED STATES OF AMERICA        True\n",
       "7      UNITED STATES OF AMERICA        True\n",
       "8      UNITED STATES OF AMERICA        True\n",
       "9      UNITED STATES OF AMERICA        True\n",
       "10     UNITED STATES OF AMERICA        True\n",
       "11     UNITED STATES OF AMERICA        True\n",
       "12     UNITED STATES OF AMERICA        True\n",
       "13     UNITED STATES OF AMERICA        True\n",
       "14     UNITED STATES OF AMERICA        True\n",
       "15     UNITED STATES OF AMERICA        True\n",
       "16     UNITED STATES OF AMERICA        True\n",
       "17     UNITED STATES OF AMERICA        True\n",
       "18     UNITED STATES OF AMERICA        True\n",
       "19     UNITED STATES OF AMERICA        True\n",
       "20     UNITED STATES OF AMERICA        True\n",
       "21     UNITED STATES OF AMERICA        True\n",
       "22     UNITED STATES OF AMERICA        True\n",
       "23     UNITED STATES OF AMERICA        True\n",
       "24                     DOMINICA       False\n",
       "25                     DOMINICA       False\n",
       "26                       MEXICO       False\n",
       "27                       MEXICO       False\n",
       "28                      UNKNOWN       False\n",
       "29                      UNKNOWN       False\n",
       "...                         ...         ...\n",
       "40445  UNITED STATES OF AMERICA        True\n",
       "40446  UNITED STATES OF AMERICA        True\n",
       "40447  UNITED STATES OF AMERICA        True\n",
       "40448  UNITED STATES OF AMERICA        True\n",
       "40449  UNITED STATES OF AMERICA        True\n",
       "40450  UNITED STATES OF AMERICA        True\n",
       "40451  UNITED STATES OF AMERICA        True\n",
       "40452  UNITED STATES OF AMERICA        True\n",
       "40453  UNITED STATES OF AMERICA        True\n",
       "40454  UNITED STATES OF AMERICA        True\n",
       "40455  UNITED STATES OF AMERICA        True\n",
       "40456  UNITED STATES OF AMERICA        True\n",
       "40457  UNITED STATES OF AMERICA        True\n",
       "40458  UNITED STATES OF AMERICA        True\n",
       "40459                    MEXICO       False\n",
       "40460  UNITED STATES OF AMERICA        True\n",
       "40461  UNITED STATES OF AMERICA        True\n",
       "40462  UNITED STATES OF AMERICA        True\n",
       "40463  UNITED STATES OF AMERICA        True\n",
       "40464  UNITED STATES OF AMERICA        True\n",
       "40465  UNITED STATES OF AMERICA        True\n",
       "40466  UNITED STATES OF AMERICA        True\n",
       "40467  UNITED STATES OF AMERICA        True\n",
       "40468  UNITED STATES OF AMERICA        True\n",
       "40469                       NaN       False\n",
       "40470                       NaN       False\n",
       "40471                       NaN       False\n",
       "40472                       NaN       False\n",
       "40473                       NaN       False\n",
       "40474                       NaN       False\n",
       "\n",
       "[40475 rows x 2 columns]"
      ]
     },
     "execution_count": 639,
     "metadata": {},
     "output_type": "execute_result"
    }
   ],
   "source": [
    "df[['country_of_birth', 'born_in_us']]"
   ]
  },
  {
   "cell_type": "code",
   "execution_count": 640,
   "metadata": {
    "collapsed": true
   },
   "outputs": [],
   "source": [
    "hold = df[df['imm_hold'] == True]"
   ]
  },
  {
   "cell_type": "code",
   "execution_count": 641,
   "metadata": {},
   "outputs": [
    {
     "data": {
      "text/plain": [
       "MEXICO                            295\n",
       "THAILAND                           22\n",
       "GUATEMALA                          13\n",
       "RUSSIA                              7\n",
       "EL SALVADOR                         7\n",
       "CAMBODIA                            6\n",
       "SCOTLAND                            4\n",
       "UNKNOWN                             4\n",
       "HONDURAS                            4\n",
       "PHILIPPINES                         3\n",
       "FEDERATED STATES OF MICRONESIA      2\n",
       "KENYA                               2\n",
       "VENEZUELA                           2\n",
       "UNITED STATES OF AMERICA            2\n",
       "CUBA                                2\n",
       "Name: country_of_birth, dtype: int64"
      ]
     },
     "execution_count": 641,
     "metadata": {},
     "output_type": "execute_result"
    }
   ],
   "source": [
    "hold['country_of_birth'].value_counts()"
   ]
  },
  {
   "cell_type": "code",
   "execution_count": 642,
   "metadata": {},
   "outputs": [
    {
     "data": {
      "text/html": [
       "<div>\n",
       "<style scoped>\n",
       "    .dataframe tbody tr th:only-of-type {\n",
       "        vertical-align: middle;\n",
       "    }\n",
       "\n",
       "    .dataframe tbody tr th {\n",
       "        vertical-align: top;\n",
       "    }\n",
       "\n",
       "    .dataframe thead th {\n",
       "        text-align: right;\n",
       "    }\n",
       "</style>\n",
       "<table border=\"1\" class=\"dataframe\">\n",
       "  <thead>\n",
       "    <tr style=\"text-align: right;\">\n",
       "      <th></th>\n",
       "      <th>booking_id</th>\n",
       "      <th>inmate_name</th>\n",
       "      <th>booking_dt</th>\n",
       "      <th>release_dt</th>\n",
       "      <th>booking_charge_desc</th>\n",
       "      <th>booking_charge_txt</th>\n",
       "      <th>charge_release_dt</th>\n",
       "      <th>title_txt</th>\n",
       "      <th>dob</th>\n",
       "      <th>cause_num</th>\n",
       "      <th>...</th>\n",
       "      <th>start_receipt_id</th>\n",
       "      <th>end_receipt_id</th>\n",
       "      <th>disbursed_status</th>\n",
       "      <th>disbursed_dt</th>\n",
       "      <th>imm_hold</th>\n",
       "      <th>release_to_imm</th>\n",
       "      <th>juris_imm</th>\n",
       "      <th>cancel_detainer</th>\n",
       "      <th>country_of_birth</th>\n",
       "      <th>born_in_us</th>\n",
       "    </tr>\n",
       "  </thead>\n",
       "  <tbody>\n",
       "    <tr>\n",
       "      <th>23224</th>\n",
       "      <td>2017086013</td>\n",
       "      <td>ABRAHAM, KAYODE</td>\n",
       "      <td>2017-03-27 09:05:00</td>\n",
       "      <td>2017-04-21 12:51:00</td>\n",
       "      <td>UPCS W INTENT</td>\n",
       "      <td>DRUG COURT</td>\n",
       "      <td>2017-04-21 13:00:00</td>\n",
       "      <td>Report Criteria: 10/01/2016 to 09/30/2017, Dis...</td>\n",
       "      <td>1975-07-11 00:00:00.0</td>\n",
       "      <td>16-1-01123-5</td>\n",
       "      <td>...</td>\n",
       "      <td>NaN</td>\n",
       "      <td>NaN</td>\n",
       "      <td>NaN</td>\n",
       "      <td>NaN</td>\n",
       "      <td>1</td>\n",
       "      <td>1</td>\n",
       "      <td>1</td>\n",
       "      <td>0</td>\n",
       "      <td>UNITED STATES OF AMERICA</td>\n",
       "      <td>True</td>\n",
       "    </tr>\n",
       "    <tr>\n",
       "      <th>23225</th>\n",
       "      <td>2017086013</td>\n",
       "      <td>ABRAHAM, KAYODE</td>\n",
       "      <td>2017-03-27 09:05:00</td>\n",
       "      <td>2017-04-21 12:51:00</td>\n",
       "      <td>HOLD IMMIGRAT</td>\n",
       "      <td>NaN</td>\n",
       "      <td>2017-04-21 13:00:00</td>\n",
       "      <td>Report Criteria: 10/01/2016 to 09/30/2017, Dis...</td>\n",
       "      <td>1975-07-11 00:00:00.0</td>\n",
       "      <td>NaN</td>\n",
       "      <td>...</td>\n",
       "      <td>NaN</td>\n",
       "      <td>NaN</td>\n",
       "      <td>NaN</td>\n",
       "      <td>NaN</td>\n",
       "      <td>1</td>\n",
       "      <td>1</td>\n",
       "      <td>1</td>\n",
       "      <td>0</td>\n",
       "      <td>UNITED STATES OF AMERICA</td>\n",
       "      <td>True</td>\n",
       "    </tr>\n",
       "  </tbody>\n",
       "</table>\n",
       "<p>2 rows × 57 columns</p>\n",
       "</div>"
      ],
      "text/plain": [
       "       booking_id       inmate_name          booking_dt          release_dt  \\\n",
       "23224  2017086013  ABRAHAM, KAYODE  2017-03-27 09:05:00 2017-04-21 12:51:00   \n",
       "23225  2017086013  ABRAHAM, KAYODE  2017-03-27 09:05:00 2017-04-21 12:51:00   \n",
       "\n",
       "      booking_charge_desc booking_charge_txt    charge_release_dt  \\\n",
       "23224       UPCS W INTENT         DRUG COURT  2017-04-21 13:00:00   \n",
       "23225       HOLD IMMIGRAT                NaN  2017-04-21 13:00:00   \n",
       "\n",
       "                                               title_txt  \\\n",
       "23224  Report Criteria: 10/01/2016 to 09/30/2017, Dis...   \n",
       "23225  Report Criteria: 10/01/2016 to 09/30/2017, Dis...   \n",
       "\n",
       "                         dob     cause_num     ...     start_receipt_id  \\\n",
       "23224  1975-07-11 00:00:00.0  16-1-01123-5     ...                  NaN   \n",
       "23225  1975-07-11 00:00:00.0           NaN     ...                  NaN   \n",
       "\n",
       "      end_receipt_id disbursed_status disbursed_dt imm_hold release_to_imm  \\\n",
       "23224            NaN              NaN          NaN        1              1   \n",
       "23225            NaN              NaN          NaN        1              1   \n",
       "\n",
       "       juris_imm  cancel_detainer          country_of_birth  born_in_us  \n",
       "23224          1                0  UNITED STATES OF AMERICA        True  \n",
       "23225          1                0  UNITED STATES OF AMERICA        True  \n",
       "\n",
       "[2 rows x 57 columns]"
      ]
     },
     "execution_count": 642,
     "metadata": {},
     "output_type": "execute_result"
    }
   ],
   "source": [
    "hold[hold['country_of_birth'] == 'UNITED STATES OF AMERICA']"
   ]
  },
  {
   "cell_type": "markdown",
   "metadata": {},
   "source": [
    "# Bail"
   ]
  },
  {
   "cell_type": "code",
   "execution_count": 643,
   "metadata": {
    "collapsed": true
   },
   "outputs": [],
   "source": [
    "g = df.groupby(['booking_id', 'bail_receipt_id'])"
   ]
  },
  {
   "cell_type": "code",
   "execution_count": 644,
   "metadata": {
    "collapsed": true
   },
   "outputs": [],
   "source": [
    "total_fine = g.agg(lambda x: x.drop_duplicates('bail_receipt_id', keep='first').fine_amt.sum())"
   ]
  },
  {
   "cell_type": "code",
   "execution_count": 645,
   "metadata": {
    "collapsed": true
   },
   "outputs": [],
   "source": [
    "t = total_fine.to_frame('total').reset_index().set_index('booking_id')"
   ]
  },
  {
   "cell_type": "code",
   "execution_count": 646,
   "metadata": {
    "collapsed": true
   },
   "outputs": [],
   "source": [
    "t = t.groupby('booking_id')['total'].sum()"
   ]
  },
  {
   "cell_type": "code",
   "execution_count": 647,
   "metadata": {
    "collapsed": true
   },
   "outputs": [],
   "source": [
    "df.set_index('booking_id', inplace=True)"
   ]
  },
  {
   "cell_type": "code",
   "execution_count": 648,
   "metadata": {},
   "outputs": [
    {
     "name": "stderr",
     "output_type": "stream",
     "text": [
      "/Users/philneff/anaconda3/lib/python3.6/site-packages/ipykernel_launcher.py:4: RuntimeWarning: divide by zero encountered in log\n",
      "  after removing the cwd from sys.path.\n"
     ]
    }
   ],
   "source": [
    "# I think this sums unique bail receipts for each booking id\n",
    "# Why so few total records with paid bail?\n",
    "df['total_fine'] = t\n",
    "df['log_total_fine'] = np.log(t)"
   ]
  },
  {
   "cell_type": "code",
   "execution_count": 649,
   "metadata": {},
   "outputs": [
    {
     "data": {
      "text/html": [
       "<div>\n",
       "<style scoped>\n",
       "    .dataframe tbody tr th:only-of-type {\n",
       "        vertical-align: middle;\n",
       "    }\n",
       "\n",
       "    .dataframe tbody tr th {\n",
       "        vertical-align: top;\n",
       "    }\n",
       "\n",
       "    .dataframe thead th {\n",
       "        text-align: right;\n",
       "    }\n",
       "</style>\n",
       "<table border=\"1\" class=\"dataframe\">\n",
       "  <thead>\n",
       "    <tr style=\"text-align: right;\">\n",
       "      <th></th>\n",
       "      <th>inmate_name</th>\n",
       "      <th>booking_dt</th>\n",
       "      <th>release_dt</th>\n",
       "      <th>booking_charge_desc</th>\n",
       "      <th>booking_charge_txt</th>\n",
       "      <th>charge_release_dt</th>\n",
       "      <th>title_txt</th>\n",
       "      <th>dob</th>\n",
       "      <th>cause_num</th>\n",
       "      <th>jurisdiction_cd</th>\n",
       "      <th>...</th>\n",
       "      <th>disbursed_status</th>\n",
       "      <th>disbursed_dt</th>\n",
       "      <th>imm_hold</th>\n",
       "      <th>release_to_imm</th>\n",
       "      <th>juris_imm</th>\n",
       "      <th>cancel_detainer</th>\n",
       "      <th>country_of_birth</th>\n",
       "      <th>born_in_us</th>\n",
       "      <th>total_fine</th>\n",
       "      <th>log_total_fine</th>\n",
       "    </tr>\n",
       "    <tr>\n",
       "      <th>booking_id</th>\n",
       "      <th></th>\n",
       "      <th></th>\n",
       "      <th></th>\n",
       "      <th></th>\n",
       "      <th></th>\n",
       "      <th></th>\n",
       "      <th></th>\n",
       "      <th></th>\n",
       "      <th></th>\n",
       "      <th></th>\n",
       "      <th></th>\n",
       "      <th></th>\n",
       "      <th></th>\n",
       "      <th></th>\n",
       "      <th></th>\n",
       "      <th></th>\n",
       "      <th></th>\n",
       "      <th></th>\n",
       "      <th></th>\n",
       "      <th></th>\n",
       "      <th></th>\n",
       "    </tr>\n",
       "  </thead>\n",
       "  <tbody>\n",
       "    <tr>\n",
       "      <th>2017269033</th>\n",
       "      <td>BEESON, JAMES RAY</td>\n",
       "      <td>2017-09-26 14:02:00</td>\n",
       "      <td>2017-09-30 22:10:00</td>\n",
       "      <td>UPCS</td>\n",
       "      <td>NaN</td>\n",
       "      <td>2017-09-30 22:00:00</td>\n",
       "      <td>Report Criteria: 10/01/2016 to 09/30/2017, Dis...</td>\n",
       "      <td>1977-08-23 00:00:00.0</td>\n",
       "      <td>17-1-02679-6</td>\n",
       "      <td>SUP</td>\n",
       "      <td>...</td>\n",
       "      <td>D</td>\n",
       "      <td>2017-10-02 08:47:22.766</td>\n",
       "      <td>0</td>\n",
       "      <td>0</td>\n",
       "      <td>0</td>\n",
       "      <td>0</td>\n",
       "      <td>UNITED STATES OF AMERICA</td>\n",
       "      <td>True</td>\n",
       "      <td>6700.0</td>\n",
       "      <td>8.809863</td>\n",
       "    </tr>\n",
       "    <tr>\n",
       "      <th>2017269033</th>\n",
       "      <td>BEESON, JAMES RAY</td>\n",
       "      <td>2017-09-26 14:02:00</td>\n",
       "      <td>2017-09-30 22:10:00</td>\n",
       "      <td>DWLS/DWLR</td>\n",
       "      <td>NaN</td>\n",
       "      <td>2017-09-30 22:00:00</td>\n",
       "      <td>Report Criteria: 10/01/2016 to 09/30/2017, Dis...</td>\n",
       "      <td>1977-08-23 00:00:00.0</td>\n",
       "      <td>6Z0210304</td>\n",
       "      <td>FEDM</td>\n",
       "      <td>...</td>\n",
       "      <td>D</td>\n",
       "      <td>2017-10-02 08:47:22.766</td>\n",
       "      <td>0</td>\n",
       "      <td>0</td>\n",
       "      <td>0</td>\n",
       "      <td>0</td>\n",
       "      <td>UNITED STATES OF AMERICA</td>\n",
       "      <td>True</td>\n",
       "      <td>6700.0</td>\n",
       "      <td>8.809863</td>\n",
       "    </tr>\n",
       "    <tr>\n",
       "      <th>2017269033</th>\n",
       "      <td>BEESON, JAMES RAY</td>\n",
       "      <td>2017-09-26 14:02:00</td>\n",
       "      <td>2017-09-30 22:10:00</td>\n",
       "      <td>DWLS/DWLR</td>\n",
       "      <td>NaN</td>\n",
       "      <td>2017-09-30 22:00:00</td>\n",
       "      <td>Report Criteria: 10/01/2016 to 09/30/2017, Dis...</td>\n",
       "      <td>1977-08-23 00:00:00.0</td>\n",
       "      <td>6Z0210304</td>\n",
       "      <td>FEDM</td>\n",
       "      <td>...</td>\n",
       "      <td>D</td>\n",
       "      <td>2017-10-02 08:47:28.55</td>\n",
       "      <td>0</td>\n",
       "      <td>0</td>\n",
       "      <td>0</td>\n",
       "      <td>0</td>\n",
       "      <td>UNITED STATES OF AMERICA</td>\n",
       "      <td>True</td>\n",
       "      <td>6700.0</td>\n",
       "      <td>8.809863</td>\n",
       "    </tr>\n",
       "    <tr>\n",
       "      <th>2017269033</th>\n",
       "      <td>BEESON, JAMES RAY</td>\n",
       "      <td>2017-09-26 14:02:00</td>\n",
       "      <td>2017-09-30 22:10:00</td>\n",
       "      <td>DWLS/DWLR</td>\n",
       "      <td>NaN</td>\n",
       "      <td>2017-09-30 22:00:00</td>\n",
       "      <td>Report Criteria: 10/01/2016 to 09/30/2017, Dis...</td>\n",
       "      <td>1977-08-23 00:00:00.0</td>\n",
       "      <td>17-1-02679-6</td>\n",
       "      <td>SUP</td>\n",
       "      <td>...</td>\n",
       "      <td>D</td>\n",
       "      <td>2017-10-02 08:47:22.766</td>\n",
       "      <td>0</td>\n",
       "      <td>0</td>\n",
       "      <td>0</td>\n",
       "      <td>0</td>\n",
       "      <td>UNITED STATES OF AMERICA</td>\n",
       "      <td>True</td>\n",
       "      <td>6700.0</td>\n",
       "      <td>8.809863</td>\n",
       "    </tr>\n",
       "    <tr>\n",
       "      <th>2017269033</th>\n",
       "      <td>BEESON, JAMES RAY</td>\n",
       "      <td>2017-09-26 14:02:00</td>\n",
       "      <td>2017-09-30 22:10:00</td>\n",
       "      <td>DWLS/DWLR</td>\n",
       "      <td>NaN</td>\n",
       "      <td>2017-09-30 22:00:00</td>\n",
       "      <td>Report Criteria: 10/01/2016 to 09/30/2017, Dis...</td>\n",
       "      <td>1977-08-23 00:00:00.0</td>\n",
       "      <td>17-1-02679-6</td>\n",
       "      <td>SUP</td>\n",
       "      <td>...</td>\n",
       "      <td>D</td>\n",
       "      <td>2017-10-02 08:47:28.55</td>\n",
       "      <td>0</td>\n",
       "      <td>0</td>\n",
       "      <td>0</td>\n",
       "      <td>0</td>\n",
       "      <td>UNITED STATES OF AMERICA</td>\n",
       "      <td>True</td>\n",
       "      <td>6700.0</td>\n",
       "      <td>8.809863</td>\n",
       "    </tr>\n",
       "  </tbody>\n",
       "</table>\n",
       "<p>5 rows × 58 columns</p>\n",
       "</div>"
      ],
      "text/plain": [
       "                  inmate_name          booking_dt          release_dt  \\\n",
       "booking_id                                                              \n",
       "2017269033  BEESON, JAMES RAY 2017-09-26 14:02:00 2017-09-30 22:10:00   \n",
       "2017269033  BEESON, JAMES RAY 2017-09-26 14:02:00 2017-09-30 22:10:00   \n",
       "2017269033  BEESON, JAMES RAY 2017-09-26 14:02:00 2017-09-30 22:10:00   \n",
       "2017269033  BEESON, JAMES RAY 2017-09-26 14:02:00 2017-09-30 22:10:00   \n",
       "2017269033  BEESON, JAMES RAY 2017-09-26 14:02:00 2017-09-30 22:10:00   \n",
       "\n",
       "           booking_charge_desc booking_charge_txt    charge_release_dt  \\\n",
       "booking_id                                                               \n",
       "2017269033                UPCS                NaN  2017-09-30 22:00:00   \n",
       "2017269033           DWLS/DWLR                NaN  2017-09-30 22:00:00   \n",
       "2017269033           DWLS/DWLR                NaN  2017-09-30 22:00:00   \n",
       "2017269033           DWLS/DWLR                NaN  2017-09-30 22:00:00   \n",
       "2017269033           DWLS/DWLR                NaN  2017-09-30 22:00:00   \n",
       "\n",
       "                                                    title_txt  \\\n",
       "booking_id                                                      \n",
       "2017269033  Report Criteria: 10/01/2016 to 09/30/2017, Dis...   \n",
       "2017269033  Report Criteria: 10/01/2016 to 09/30/2017, Dis...   \n",
       "2017269033  Report Criteria: 10/01/2016 to 09/30/2017, Dis...   \n",
       "2017269033  Report Criteria: 10/01/2016 to 09/30/2017, Dis...   \n",
       "2017269033  Report Criteria: 10/01/2016 to 09/30/2017, Dis...   \n",
       "\n",
       "                              dob     cause_num jurisdiction_cd  \\\n",
       "booking_id                                                        \n",
       "2017269033  1977-08-23 00:00:00.0  17-1-02679-6             SUP   \n",
       "2017269033  1977-08-23 00:00:00.0     6Z0210304            FEDM   \n",
       "2017269033  1977-08-23 00:00:00.0     6Z0210304            FEDM   \n",
       "2017269033  1977-08-23 00:00:00.0  17-1-02679-6             SUP   \n",
       "2017269033  1977-08-23 00:00:00.0  17-1-02679-6             SUP   \n",
       "\n",
       "                 ...       disbursed_status             disbursed_dt imm_hold  \\\n",
       "booking_id       ...                                                            \n",
       "2017269033       ...                      D  2017-10-02 08:47:22.766        0   \n",
       "2017269033       ...                      D  2017-10-02 08:47:22.766        0   \n",
       "2017269033       ...                      D   2017-10-02 08:47:28.55        0   \n",
       "2017269033       ...                      D  2017-10-02 08:47:22.766        0   \n",
       "2017269033       ...                      D   2017-10-02 08:47:28.55        0   \n",
       "\n",
       "           release_to_imm juris_imm  cancel_detainer  \\\n",
       "booking_id                                             \n",
       "2017269033              0         0                0   \n",
       "2017269033              0         0                0   \n",
       "2017269033              0         0                0   \n",
       "2017269033              0         0                0   \n",
       "2017269033              0         0                0   \n",
       "\n",
       "                    country_of_birth  born_in_us  total_fine  log_total_fine  \n",
       "booking_id                                                                    \n",
       "2017269033  UNITED STATES OF AMERICA        True      6700.0        8.809863  \n",
       "2017269033  UNITED STATES OF AMERICA        True      6700.0        8.809863  \n",
       "2017269033  UNITED STATES OF AMERICA        True      6700.0        8.809863  \n",
       "2017269033  UNITED STATES OF AMERICA        True      6700.0        8.809863  \n",
       "2017269033  UNITED STATES OF AMERICA        True      6700.0        8.809863  \n",
       "\n",
       "[5 rows x 58 columns]"
      ]
     },
     "execution_count": 649,
     "metadata": {},
     "output_type": "execute_result"
    }
   ],
   "source": [
    "df.loc[2017269033]"
   ]
  },
  {
   "cell_type": "code",
   "execution_count": 650,
   "metadata": {
    "collapsed": true
   },
   "outputs": [],
   "source": [
    "df.reset_index(inplace=True)"
   ]
  },
  {
   "cell_type": "code",
   "execution_count": 651,
   "metadata": {
    "collapsed": true
   },
   "outputs": [],
   "source": [
    "df.loc[:,'paid_bail'] = df['total_fine'] > 0"
   ]
  },
  {
   "cell_type": "code",
   "execution_count": 652,
   "metadata": {
    "collapsed": true
   },
   "outputs": [],
   "source": [
    "hold = df[df['imm_hold'] == True]"
   ]
  },
  {
   "cell_type": "code",
   "execution_count": 653,
   "metadata": {},
   "outputs": [
    {
     "data": {
      "text/html": [
       "<div>\n",
       "<style scoped>\n",
       "    .dataframe tbody tr th:only-of-type {\n",
       "        vertical-align: middle;\n",
       "    }\n",
       "\n",
       "    .dataframe tbody tr th {\n",
       "        vertical-align: top;\n",
       "    }\n",
       "\n",
       "    .dataframe thead th {\n",
       "        text-align: right;\n",
       "    }\n",
       "</style>\n",
       "<table border=\"1\" class=\"dataframe\">\n",
       "  <thead>\n",
       "    <tr style=\"text-align: right;\">\n",
       "      <th></th>\n",
       "      <th>booking_id</th>\n",
       "      <th>inmate_name</th>\n",
       "      <th>booking_dt</th>\n",
       "      <th>release_dt</th>\n",
       "      <th>booking_charge_desc</th>\n",
       "      <th>booking_charge_txt</th>\n",
       "      <th>charge_release_dt</th>\n",
       "      <th>title_txt</th>\n",
       "      <th>dob</th>\n",
       "      <th>cause_num</th>\n",
       "      <th>...</th>\n",
       "      <th>disbursed_dt</th>\n",
       "      <th>imm_hold</th>\n",
       "      <th>release_to_imm</th>\n",
       "      <th>juris_imm</th>\n",
       "      <th>cancel_detainer</th>\n",
       "      <th>country_of_birth</th>\n",
       "      <th>born_in_us</th>\n",
       "      <th>total_fine</th>\n",
       "      <th>log_total_fine</th>\n",
       "      <th>paid_bail</th>\n",
       "    </tr>\n",
       "  </thead>\n",
       "  <tbody>\n",
       "    <tr>\n",
       "      <th>10474</th>\n",
       "      <td>2016333026</td>\n",
       "      <td>ZAVALA URRIETA, JAIME</td>\n",
       "      <td>2016-11-28 09:49:00</td>\n",
       "      <td>2017-01-12 20:10:00</td>\n",
       "      <td>DWI</td>\n",
       "      <td>NaN</td>\n",
       "      <td>2017-01-12 14:41:00</td>\n",
       "      <td>Report Criteria: 10/01/2016 to 09/30/2017, Dis...</td>\n",
       "      <td>1983-06-24 00:00:00.0</td>\n",
       "      <td>XYC005103</td>\n",
       "      <td>...</td>\n",
       "      <td>NaN</td>\n",
       "      <td>1</td>\n",
       "      <td>1</td>\n",
       "      <td>1</td>\n",
       "      <td>0</td>\n",
       "      <td>MEXICO</td>\n",
       "      <td>False</td>\n",
       "      <td>1082.0</td>\n",
       "      <td>6.986566</td>\n",
       "      <td>True</td>\n",
       "    </tr>\n",
       "    <tr>\n",
       "      <th>10475</th>\n",
       "      <td>2016333026</td>\n",
       "      <td>ZAVALA URRIETA, JAIME</td>\n",
       "      <td>2016-11-28 09:49:00</td>\n",
       "      <td>2017-01-12 20:10:00</td>\n",
       "      <td>HOLD IMMIGRAT</td>\n",
       "      <td>NaN</td>\n",
       "      <td>2017-01-12 20:00:00</td>\n",
       "      <td>Report Criteria: 10/01/2016 to 09/30/2017, Dis...</td>\n",
       "      <td>1983-06-24 00:00:00.0</td>\n",
       "      <td>NaN</td>\n",
       "      <td>...</td>\n",
       "      <td>NaN</td>\n",
       "      <td>1</td>\n",
       "      <td>1</td>\n",
       "      <td>1</td>\n",
       "      <td>0</td>\n",
       "      <td>MEXICO</td>\n",
       "      <td>False</td>\n",
       "      <td>1082.0</td>\n",
       "      <td>6.986566</td>\n",
       "      <td>True</td>\n",
       "    </tr>\n",
       "    <tr>\n",
       "      <th>10476</th>\n",
       "      <td>2016333026</td>\n",
       "      <td>ZAVALA URRIETA, JAIME</td>\n",
       "      <td>2016-11-28 09:49:00</td>\n",
       "      <td>2017-01-12 20:10:00</td>\n",
       "      <td>NON-SUPPORT</td>\n",
       "      <td>NaN</td>\n",
       "      <td>2017-01-12 22:00:00</td>\n",
       "      <td>Report Criteria: 10/01/2016 to 09/30/2017, Dis...</td>\n",
       "      <td>1983-06-24 00:00:00.0</td>\n",
       "      <td>133031859</td>\n",
       "      <td>...</td>\n",
       "      <td>2017-01-13 08:50:46.026</td>\n",
       "      <td>1</td>\n",
       "      <td>1</td>\n",
       "      <td>1</td>\n",
       "      <td>0</td>\n",
       "      <td>MEXICO</td>\n",
       "      <td>False</td>\n",
       "      <td>1082.0</td>\n",
       "      <td>6.986566</td>\n",
       "      <td>True</td>\n",
       "    </tr>\n",
       "    <tr>\n",
       "      <th>22487</th>\n",
       "      <td>2017079033</td>\n",
       "      <td>ZAVALA URRIETA, JAIME</td>\n",
       "      <td>2017-03-20 13:50:00</td>\n",
       "      <td>2017-03-21 17:35:00</td>\n",
       "      <td>HOLD IMMIGRAT</td>\n",
       "      <td>NaN</td>\n",
       "      <td>2017-03-21 22:00:00</td>\n",
       "      <td>Report Criteria: 10/01/2016 to 09/30/2017, Dis...</td>\n",
       "      <td>1983-06-24 00:00:00.0</td>\n",
       "      <td>NaN</td>\n",
       "      <td>...</td>\n",
       "      <td>NaN</td>\n",
       "      <td>1</td>\n",
       "      <td>0</td>\n",
       "      <td>0</td>\n",
       "      <td>1</td>\n",
       "      <td>MEXICO</td>\n",
       "      <td>False</td>\n",
       "      <td>500.0</td>\n",
       "      <td>6.214608</td>\n",
       "      <td>True</td>\n",
       "    </tr>\n",
       "    <tr>\n",
       "      <th>22488</th>\n",
       "      <td>2017079033</td>\n",
       "      <td>ZAVALA URRIETA, JAIME</td>\n",
       "      <td>2017-03-20 13:50:00</td>\n",
       "      <td>2017-03-21 17:35:00</td>\n",
       "      <td>MAL MISCH 3 /DV</td>\n",
       "      <td>NaN</td>\n",
       "      <td>2017-03-21 22:00:00</td>\n",
       "      <td>Report Criteria: 10/01/2016 to 09/30/2017, Dis...</td>\n",
       "      <td>1983-06-24 00:00:00.0</td>\n",
       "      <td>D00048498</td>\n",
       "      <td>...</td>\n",
       "      <td>2017-03-22 08:36:07.553</td>\n",
       "      <td>1</td>\n",
       "      <td>0</td>\n",
       "      <td>0</td>\n",
       "      <td>1</td>\n",
       "      <td>MEXICO</td>\n",
       "      <td>False</td>\n",
       "      <td>500.0</td>\n",
       "      <td>6.214608</td>\n",
       "      <td>True</td>\n",
       "    </tr>\n",
       "    <tr>\n",
       "      <th>22489</th>\n",
       "      <td>2017079033</td>\n",
       "      <td>ZAVALA URRIETA, JAIME</td>\n",
       "      <td>2017-03-20 13:50:00</td>\n",
       "      <td>2017-03-21 17:35:00</td>\n",
       "      <td>CIVIL CNTMPT OF CRT</td>\n",
       "      <td>NaN</td>\n",
       "      <td>2017-03-21 22:00:00</td>\n",
       "      <td>Report Criteria: 10/01/2016 to 09/30/2017, Dis...</td>\n",
       "      <td>1983-06-24 00:00:00.0</td>\n",
       "      <td>133031859</td>\n",
       "      <td>...</td>\n",
       "      <td>NaN</td>\n",
       "      <td>1</td>\n",
       "      <td>0</td>\n",
       "      <td>0</td>\n",
       "      <td>1</td>\n",
       "      <td>MEXICO</td>\n",
       "      <td>False</td>\n",
       "      <td>500.0</td>\n",
       "      <td>6.214608</td>\n",
       "      <td>True</td>\n",
       "    </tr>\n",
       "    <tr>\n",
       "      <th>25242</th>\n",
       "      <td>2017106004</td>\n",
       "      <td>ROSAS BEJAR, RAMON DONATO</td>\n",
       "      <td>2017-04-16 01:51:00</td>\n",
       "      <td>2017-04-27 16:40:00</td>\n",
       "      <td>HARASS  /DV</td>\n",
       "      <td>NaN</td>\n",
       "      <td>2017-04-27 21:00:00</td>\n",
       "      <td>Report Criteria: 10/01/2016 to 09/30/2017, Dis...</td>\n",
       "      <td>1986-03-25 00:00:00.0</td>\n",
       "      <td>D48974</td>\n",
       "      <td>...</td>\n",
       "      <td>2017-04-28 08:39:48.196</td>\n",
       "      <td>1</td>\n",
       "      <td>0</td>\n",
       "      <td>0</td>\n",
       "      <td>1</td>\n",
       "      <td>MEXICO</td>\n",
       "      <td>False</td>\n",
       "      <td>1000.0</td>\n",
       "      <td>6.907755</td>\n",
       "      <td>True</td>\n",
       "    </tr>\n",
       "    <tr>\n",
       "      <th>25243</th>\n",
       "      <td>2017106004</td>\n",
       "      <td>ROSAS BEJAR, RAMON DONATO</td>\n",
       "      <td>2017-04-16 01:51:00</td>\n",
       "      <td>2017-04-27 16:40:00</td>\n",
       "      <td>FEL HARASS-DV, DV-THREATS/DEATH THRT</td>\n",
       "      <td>NaN</td>\n",
       "      <td>2017-04-17 22:00:00</td>\n",
       "      <td>Report Criteria: 10/01/2016 to 09/30/2017, Dis...</td>\n",
       "      <td>1986-03-25 00:00:00.0</td>\n",
       "      <td>NaN</td>\n",
       "      <td>...</td>\n",
       "      <td>NaN</td>\n",
       "      <td>1</td>\n",
       "      <td>0</td>\n",
       "      <td>0</td>\n",
       "      <td>1</td>\n",
       "      <td>MEXICO</td>\n",
       "      <td>False</td>\n",
       "      <td>1000.0</td>\n",
       "      <td>6.907755</td>\n",
       "      <td>True</td>\n",
       "    </tr>\n",
       "    <tr>\n",
       "      <th>25244</th>\n",
       "      <td>2017106004</td>\n",
       "      <td>ROSAS BEJAR, RAMON DONATO</td>\n",
       "      <td>2017-04-16 01:51:00</td>\n",
       "      <td>2017-04-27 16:40:00</td>\n",
       "      <td>HOLD IMMIGRAT</td>\n",
       "      <td>NaN</td>\n",
       "      <td>2017-04-25 21:00:00</td>\n",
       "      <td>Report Criteria: 10/01/2016 to 09/30/2017, Dis...</td>\n",
       "      <td>1986-03-25 00:00:00.0</td>\n",
       "      <td>NaN</td>\n",
       "      <td>...</td>\n",
       "      <td>NaN</td>\n",
       "      <td>1</td>\n",
       "      <td>0</td>\n",
       "      <td>0</td>\n",
       "      <td>1</td>\n",
       "      <td>MEXICO</td>\n",
       "      <td>False</td>\n",
       "      <td>1000.0</td>\n",
       "      <td>6.907755</td>\n",
       "      <td>True</td>\n",
       "    </tr>\n",
       "    <tr>\n",
       "      <th>25245</th>\n",
       "      <td>2017106004</td>\n",
       "      <td>ROSAS BEJAR, RAMON DONATO</td>\n",
       "      <td>2017-04-16 01:51:00</td>\n",
       "      <td>2017-04-27 16:40:00</td>\n",
       "      <td>INTIM W/WPN /DV</td>\n",
       "      <td>NaN</td>\n",
       "      <td>2017-04-27 21:00:00</td>\n",
       "      <td>Report Criteria: 10/01/2016 to 09/30/2017, Dis...</td>\n",
       "      <td>1986-03-25 00:00:00.0</td>\n",
       "      <td>D48974</td>\n",
       "      <td>...</td>\n",
       "      <td>2017-04-28 08:39:48.196</td>\n",
       "      <td>1</td>\n",
       "      <td>0</td>\n",
       "      <td>0</td>\n",
       "      <td>1</td>\n",
       "      <td>MEXICO</td>\n",
       "      <td>False</td>\n",
       "      <td>1000.0</td>\n",
       "      <td>6.907755</td>\n",
       "      <td>True</td>\n",
       "    </tr>\n",
       "  </tbody>\n",
       "</table>\n",
       "<p>10 rows × 60 columns</p>\n",
       "</div>"
      ],
      "text/plain": [
       "       booking_id                inmate_name          booking_dt  \\\n",
       "10474  2016333026     ZAVALA URRIETA, JAIME  2016-11-28 09:49:00   \n",
       "10475  2016333026     ZAVALA URRIETA, JAIME  2016-11-28 09:49:00   \n",
       "10476  2016333026     ZAVALA URRIETA, JAIME  2016-11-28 09:49:00   \n",
       "22487  2017079033     ZAVALA URRIETA, JAIME  2017-03-20 13:50:00   \n",
       "22488  2017079033     ZAVALA URRIETA, JAIME  2017-03-20 13:50:00   \n",
       "22489  2017079033     ZAVALA URRIETA, JAIME  2017-03-20 13:50:00   \n",
       "25242  2017106004  ROSAS BEJAR, RAMON DONATO 2017-04-16 01:51:00   \n",
       "25243  2017106004  ROSAS BEJAR, RAMON DONATO 2017-04-16 01:51:00   \n",
       "25244  2017106004  ROSAS BEJAR, RAMON DONATO 2017-04-16 01:51:00   \n",
       "25245  2017106004  ROSAS BEJAR, RAMON DONATO 2017-04-16 01:51:00   \n",
       "\n",
       "               release_dt                   booking_charge_desc  \\\n",
       "10474 2017-01-12 20:10:00                                   DWI   \n",
       "10475 2017-01-12 20:10:00                         HOLD IMMIGRAT   \n",
       "10476 2017-01-12 20:10:00                           NON-SUPPORT   \n",
       "22487 2017-03-21 17:35:00                         HOLD IMMIGRAT   \n",
       "22488 2017-03-21 17:35:00                       MAL MISCH 3 /DV   \n",
       "22489 2017-03-21 17:35:00                   CIVIL CNTMPT OF CRT   \n",
       "25242 2017-04-27 16:40:00                           HARASS  /DV   \n",
       "25243 2017-04-27 16:40:00  FEL HARASS-DV, DV-THREATS/DEATH THRT   \n",
       "25244 2017-04-27 16:40:00                         HOLD IMMIGRAT   \n",
       "25245 2017-04-27 16:40:00                       INTIM W/WPN /DV   \n",
       "\n",
       "      booking_charge_txt    charge_release_dt  \\\n",
       "10474                NaN  2017-01-12 14:41:00   \n",
       "10475                NaN  2017-01-12 20:00:00   \n",
       "10476                NaN  2017-01-12 22:00:00   \n",
       "22487                NaN  2017-03-21 22:00:00   \n",
       "22488                NaN  2017-03-21 22:00:00   \n",
       "22489                NaN  2017-03-21 22:00:00   \n",
       "25242                NaN  2017-04-27 21:00:00   \n",
       "25243                NaN  2017-04-17 22:00:00   \n",
       "25244                NaN  2017-04-25 21:00:00   \n",
       "25245                NaN  2017-04-27 21:00:00   \n",
       "\n",
       "                                               title_txt  \\\n",
       "10474  Report Criteria: 10/01/2016 to 09/30/2017, Dis...   \n",
       "10475  Report Criteria: 10/01/2016 to 09/30/2017, Dis...   \n",
       "10476  Report Criteria: 10/01/2016 to 09/30/2017, Dis...   \n",
       "22487  Report Criteria: 10/01/2016 to 09/30/2017, Dis...   \n",
       "22488  Report Criteria: 10/01/2016 to 09/30/2017, Dis...   \n",
       "22489  Report Criteria: 10/01/2016 to 09/30/2017, Dis...   \n",
       "25242  Report Criteria: 10/01/2016 to 09/30/2017, Dis...   \n",
       "25243  Report Criteria: 10/01/2016 to 09/30/2017, Dis...   \n",
       "25244  Report Criteria: 10/01/2016 to 09/30/2017, Dis...   \n",
       "25245  Report Criteria: 10/01/2016 to 09/30/2017, Dis...   \n",
       "\n",
       "                         dob  cause_num    ...                 disbursed_dt  \\\n",
       "10474  1983-06-24 00:00:00.0  XYC005103    ...                          NaN   \n",
       "10475  1983-06-24 00:00:00.0        NaN    ...                          NaN   \n",
       "10476  1983-06-24 00:00:00.0  133031859    ...      2017-01-13 08:50:46.026   \n",
       "22487  1983-06-24 00:00:00.0        NaN    ...                          NaN   \n",
       "22488  1983-06-24 00:00:00.0  D00048498    ...      2017-03-22 08:36:07.553   \n",
       "22489  1983-06-24 00:00:00.0  133031859    ...                          NaN   \n",
       "25242  1986-03-25 00:00:00.0     D48974    ...      2017-04-28 08:39:48.196   \n",
       "25243  1986-03-25 00:00:00.0        NaN    ...                          NaN   \n",
       "25244  1986-03-25 00:00:00.0        NaN    ...                          NaN   \n",
       "25245  1986-03-25 00:00:00.0     D48974    ...      2017-04-28 08:39:48.196   \n",
       "\n",
       "      imm_hold release_to_imm juris_imm cancel_detainer country_of_birth  \\\n",
       "10474        1              1         1               0           MEXICO   \n",
       "10475        1              1         1               0           MEXICO   \n",
       "10476        1              1         1               0           MEXICO   \n",
       "22487        1              0         0               1           MEXICO   \n",
       "22488        1              0         0               1           MEXICO   \n",
       "22489        1              0         0               1           MEXICO   \n",
       "25242        1              0         0               1           MEXICO   \n",
       "25243        1              0         0               1           MEXICO   \n",
       "25244        1              0         0               1           MEXICO   \n",
       "25245        1              0         0               1           MEXICO   \n",
       "\n",
       "       born_in_us  total_fine  log_total_fine  paid_bail  \n",
       "10474       False      1082.0        6.986566       True  \n",
       "10475       False      1082.0        6.986566       True  \n",
       "10476       False      1082.0        6.986566       True  \n",
       "22487       False       500.0        6.214608       True  \n",
       "22488       False       500.0        6.214608       True  \n",
       "22489       False       500.0        6.214608       True  \n",
       "25242       False      1000.0        6.907755       True  \n",
       "25243       False      1000.0        6.907755       True  \n",
       "25244       False      1000.0        6.907755       True  \n",
       "25245       False      1000.0        6.907755       True  \n",
       "\n",
       "[10 rows x 60 columns]"
      ]
     },
     "execution_count": 653,
     "metadata": {},
     "output_type": "execute_result"
    }
   ],
   "source": [
    "hold[hold['paid_bail'] == True]"
   ]
  },
  {
   "cell_type": "code",
   "execution_count": null,
   "metadata": {
    "collapsed": true
   },
   "outputs": [],
   "source": []
  },
  {
   "cell_type": "code",
   "execution_count": null,
   "metadata": {
    "collapsed": true
   },
   "outputs": [],
   "source": []
  },
  {
   "cell_type": "markdown",
   "metadata": {},
   "source": [
    "# Drop duplicates"
   ]
  },
  {
   "cell_type": "markdown",
   "metadata": {},
   "source": [
    "Subsequent cell drops duplicate booking IDs so count = individual bookings, not charges. Mask any variables that we want to analyze further."
   ]
  },
  {
   "cell_type": "code",
   "execution_count": 654,
   "metadata": {},
   "outputs": [
    {
     "name": "stdout",
     "output_type": "stream",
     "text": [
      "<class 'pandas.core.frame.DataFrame'>\n",
      "RangeIndex: 40475 entries, 0 to 40474\n",
      "Data columns (total 60 columns):\n",
      "booking_id                  40475 non-null int64\n",
      "inmate_name                 40475 non-null object\n",
      "booking_dt                  40475 non-null datetime64[ns]\n",
      "release_dt                  40475 non-null datetime64[ns]\n",
      "booking_charge_desc         40475 non-null object\n",
      "booking_charge_txt          3055 non-null object\n",
      "charge_release_dt           40475 non-null object\n",
      "title_txt                   40475 non-null object\n",
      "dob                         40475 non-null object\n",
      "cause_num                   32209 non-null object\n",
      "jurisdiction_cd             40475 non-null object\n",
      "release_disposition_desc    40475 non-null object\n",
      "post_flg                    40475 non-null object\n",
      "hash_id                     40475 non-null object\n",
      "gender_desc                 40475 non-null object\n",
      "race_desc                   40475 non-null object\n",
      "amer_indian_alaskan         40475 non-null int64\n",
      "asian_pacific_island        40475 non-null int64\n",
      "black                       40475 non-null int64\n",
      "hispanic                    40475 non-null int64\n",
      "white                       40475 non-null int64\n",
      "female                      40475 non-null int64\n",
      "male                        40475 non-null int64\n",
      "place_of_birth              40036 non-null object\n",
      "time_detained               40475 non-null float64\n",
      "log_time_detained           40475 non-null float64\n",
      "category                    40475 non-null object\n",
      "type                        40475 non-null object\n",
      "seriousness                 40475 non-null float64\n",
      "max_seriousness             40475 non-null float64\n",
      "max_charge_type             40475 non-null object\n",
      "max_charge_desc             40475 non-null object\n",
      "drug                        40475 non-null int64\n",
      "other                       40475 non-null int64\n",
      "property                    40475 non-null int64\n",
      "public_order                40475 non-null int64\n",
      "sex                         40475 non-null int64\n",
      "violent                     40475 non-null int64\n",
      "felony                      40475 non-null int64\n",
      "misdemeanor                 40475 non-null int64\n",
      "charge_count                40475 non-null int64\n",
      "charge_topcount             40475 non-null int64\n",
      "bail_receipt_id             6992 non-null float64\n",
      "bail_receipt_dt             6992 non-null object\n",
      "bail_fund_type_cd           6992 non-null object\n",
      "bail_fund_type_desc         6992 non-null object\n",
      "fine_amt                    6992 non-null float64\n",
      "start_receipt_id            6992 non-null float64\n",
      "end_receipt_id              6992 non-null float64\n",
      "disbursed_status            6992 non-null object\n",
      "disbursed_dt                6992 non-null object\n",
      "imm_hold                    40475 non-null int64\n",
      "release_to_imm              40475 non-null int64\n",
      "juris_imm                   40475 non-null int64\n",
      "cancel_detainer             40475 non-null int64\n",
      "country_of_birth            40031 non-null object\n",
      "born_in_us                  40475 non-null bool\n",
      "total_fine                  8596 non-null float64\n",
      "log_total_fine              8596 non-null float64\n",
      "paid_bail                   40475 non-null bool\n",
      "dtypes: bool(2), datetime64[ns](2), float64(10), int64(22), object(24)\n",
      "memory usage: 18.0+ MB\n"
     ]
    }
   ],
   "source": [
    "df.info()"
   ]
  },
  {
   "cell_type": "code",
   "execution_count": 655,
   "metadata": {
    "collapsed": true
   },
   "outputs": [],
   "source": [
    "df = df.drop_duplicates(subset=['booking_id'])"
   ]
  },
  {
   "cell_type": "code",
   "execution_count": 656,
   "metadata": {},
   "outputs": [
    {
     "name": "stdout",
     "output_type": "stream",
     "text": [
      "<class 'pandas.core.frame.DataFrame'>\n",
      "Int64Index: 17652 entries, 0 to 40474\n",
      "Data columns (total 60 columns):\n",
      "booking_id                  17652 non-null int64\n",
      "inmate_name                 17652 non-null object\n",
      "booking_dt                  17652 non-null datetime64[ns]\n",
      "release_dt                  17652 non-null datetime64[ns]\n",
      "booking_charge_desc         17652 non-null object\n",
      "booking_charge_txt          1506 non-null object\n",
      "charge_release_dt           17652 non-null object\n",
      "title_txt                   17652 non-null object\n",
      "dob                         17652 non-null object\n",
      "cause_num                   13512 non-null object\n",
      "jurisdiction_cd             17652 non-null object\n",
      "release_disposition_desc    17652 non-null object\n",
      "post_flg                    17652 non-null object\n",
      "hash_id                     17652 non-null object\n",
      "gender_desc                 17652 non-null object\n",
      "race_desc                   17652 non-null object\n",
      "amer_indian_alaskan         17652 non-null int64\n",
      "asian_pacific_island        17652 non-null int64\n",
      "black                       17652 non-null int64\n",
      "hispanic                    17652 non-null int64\n",
      "white                       17652 non-null int64\n",
      "female                      17652 non-null int64\n",
      "male                        17652 non-null int64\n",
      "place_of_birth              17462 non-null object\n",
      "time_detained               17652 non-null float64\n",
      "log_time_detained           17652 non-null float64\n",
      "category                    17652 non-null object\n",
      "type                        17652 non-null object\n",
      "seriousness                 17652 non-null float64\n",
      "max_seriousness             17652 non-null float64\n",
      "max_charge_type             17652 non-null object\n",
      "max_charge_desc             17652 non-null object\n",
      "drug                        17652 non-null int64\n",
      "other                       17652 non-null int64\n",
      "property                    17652 non-null int64\n",
      "public_order                17652 non-null int64\n",
      "sex                         17652 non-null int64\n",
      "violent                     17652 non-null int64\n",
      "felony                      17652 non-null int64\n",
      "misdemeanor                 17652 non-null int64\n",
      "charge_count                17652 non-null int64\n",
      "charge_topcount             17652 non-null int64\n",
      "bail_receipt_id             3083 non-null float64\n",
      "bail_receipt_dt             3083 non-null object\n",
      "bail_fund_type_cd           3083 non-null object\n",
      "bail_fund_type_desc         3083 non-null object\n",
      "fine_amt                    3083 non-null float64\n",
      "start_receipt_id            3083 non-null float64\n",
      "end_receipt_id              3083 non-null float64\n",
      "disbursed_status            3083 non-null object\n",
      "disbursed_dt                3083 non-null object\n",
      "imm_hold                    17652 non-null int64\n",
      "release_to_imm              17652 non-null int64\n",
      "juris_imm                   17652 non-null int64\n",
      "cancel_detainer             17652 non-null int64\n",
      "country_of_birth            17457 non-null object\n",
      "born_in_us                  17652 non-null bool\n",
      "total_fine                  3511 non-null float64\n",
      "log_total_fine              3511 non-null float64\n",
      "paid_bail                   17652 non-null bool\n",
      "dtypes: bool(2), datetime64[ns](2), float64(10), int64(22), object(24)\n",
      "memory usage: 8.0+ MB\n"
     ]
    }
   ],
   "source": [
    "df.info()"
   ]
  },
  {
   "cell_type": "code",
   "execution_count": 657,
   "metadata": {
    "collapsed": true
   },
   "outputs": [],
   "source": [
    "df.set_index('booking_id',inplace=True)"
   ]
  },
  {
   "cell_type": "markdown",
   "metadata": {},
   "source": [
    "# More descriptive analysis"
   ]
  },
  {
   "cell_type": "markdown",
   "metadata": {},
   "source": [
    "Bookings with immigration holds have longer detention time. Using logged time makes this clearer."
   ]
  },
  {
   "cell_type": "code",
   "execution_count": 658,
   "metadata": {
    "collapsed": true
   },
   "outputs": [],
   "source": [
    "hold_order = ['No hold', 'Hold']"
   ]
  },
  {
   "cell_type": "code",
   "execution_count": 659,
   "metadata": {},
   "outputs": [
    {
     "name": "stderr",
     "output_type": "stream",
     "text": [
      "/Users/philneff/anaconda3/lib/python3.6/site-packages/ipykernel_launcher.py:1: SettingWithCopyWarning: \n",
      "A value is trying to be set on a copy of a slice from a DataFrame.\n",
      "Try using .loc[row_indexer,col_indexer] = value instead\n",
      "\n",
      "See the caveats in the documentation: http://pandas.pydata.org/pandas-docs/stable/indexing.html#indexing-view-versus-copy\n",
      "  \"\"\"Entry point for launching an IPython kernel.\n"
     ]
    },
    {
     "data": {
      "text/plain": [
       "<matplotlib.text.Text at 0x11c173c88>"
      ]
     },
     "execution_count": 659,
     "metadata": {},
     "output_type": "execute_result"
    },
    {
     "data": {
      "image/png": "[encoded data removed]",
      "text/plain": [
       "<matplotlib.figure.Figure at 0x11c178048>"
      ]
     },
     "metadata": {},
     "output_type": "display_data"
    }
   ],
   "source": [
    "df['imm_hold_text'] = df['imm_hold'].replace({0: 'No hold', 1: 'Hold'})\n",
    "bplot1 = sns.boxplot(data=df, y='log_time_detained', x='imm_hold_text', order=hold_order)\n",
    "bplot1.set_xlabel('Imm hold?', fontsize=14)\n",
    "bplot1.set_ylabel('Log time detained', fontsize=14)"
   ]
  },
  {
   "cell_type": "markdown",
   "metadata": {},
   "source": [
    "A couple outliers with lots of charges in imm_hold category?"
   ]
  },
  {
   "cell_type": "code",
   "execution_count": 660,
   "metadata": {},
   "outputs": [
    {
     "data": {
      "text/plain": [
       "<matplotlib.text.Text at 0x1394db240>"
      ]
     },
     "execution_count": 660,
     "metadata": {},
     "output_type": "execute_result"
    },
    {
     "data": {
      "image/png": "[encoded data removed]",
      "text/plain": [
       "<matplotlib.figure.Figure at 0x132d544e0>"
      ]
     },
     "metadata": {},
     "output_type": "display_data"
    }
   ],
   "source": [
    "bplot2 = sns.boxplot(data=df, y='charge_topcount', x='imm_hold_text', order=hold_order)\n",
    "bplot2.set_xlabel('Imm hold?', fontsize=14)\n",
    "bplot2.set_ylabel('Charges', fontsize=14)"
   ]
  },
  {
   "cell_type": "code",
   "execution_count": 661,
   "metadata": {},
   "outputs": [
    {
     "data": {
      "text/plain": [
       "<matplotlib.text.Text at 0x12687f3c8>"
      ]
     },
     "execution_count": 661,
     "metadata": {},
     "output_type": "execute_result"
    },
    {
     "data": {
      "image/png": "[encoded data removed]",
      "text/plain": [
       "<matplotlib.figure.Figure at 0x1381d0a58>"
      ]
     },
     "metadata": {},
     "output_type": "display_data"
    }
   ],
   "source": [
    "bplot2 = sns.violinplot(data=df, y='max_seriousness', x='imm_hold')\n",
    "bplot2.set_xlabel('Imm hold?', fontsize=14)\n",
    "bplot2.set_ylabel('Seriousness', fontsize=14)"
   ]
  },
  {
   "cell_type": "markdown",
   "metadata": {},
   "source": [
    "Felonies detained longer."
   ]
  },
  {
   "cell_type": "code",
   "execution_count": 662,
   "metadata": {},
   "outputs": [
    {
     "name": "stderr",
     "output_type": "stream",
     "text": [
      "/Users/philneff/anaconda3/lib/python3.6/site-packages/ipykernel_launcher.py:1: SettingWithCopyWarning: \n",
      "A value is trying to be set on a copy of a slice from a DataFrame.\n",
      "Try using .loc[row_indexer,col_indexer] = value instead\n",
      "\n",
      "See the caveats in the documentation: http://pandas.pydata.org/pandas-docs/stable/indexing.html#indexing-view-versus-copy\n",
      "  \"\"\"Entry point for launching an IPython kernel.\n"
     ]
    },
    {
     "data": {
      "text/plain": [
       "<matplotlib.text.Text at 0x1232a1588>"
      ]
     },
     "execution_count": 662,
     "metadata": {},
     "output_type": "execute_result"
    },
    {
     "data": {
      "image/png": "[encoded data removed]",
      "text/plain": [
       "<matplotlib.figure.Figure at 0x1309b8be0>"
      ]
     },
     "metadata": {},
     "output_type": "display_data"
    }
   ],
   "source": [
    "df['felony_text'] = df['felony'].replace({0: 'No felony', 1: 'Felony'})\n",
    "fel_order = ['No felony', 'Felony']\n",
    "bplot2 = sns.boxplot(data=df, y='log_time_detained', x='felony_text', hue='imm_hold_text', order=fel_order)\n",
    "bplot2.set_xlabel('Felony?', fontsize=14)\n",
    "bplot2.set_ylabel('Log time detained', fontsize=14)"
   ]
  },
  {
   "cell_type": "code",
   "execution_count": 663,
   "metadata": {},
   "outputs": [
    {
     "data": {
      "text/plain": [
       "<matplotlib.text.Text at 0x137e3c828>"
      ]
     },
     "execution_count": 663,
     "metadata": {},
     "output_type": "execute_result"
    },
    {
     "data": {
      "image/png": "[encoded data removed]",
      "text/plain": [
       "<matplotlib.figure.Figure at 0x134be4da0>"
      ]
     },
     "metadata": {},
     "output_type": "display_data"
    }
   ],
   "source": [
    "d0 = df[df['release_to_imm'] == 0]['log_time_detained']\n",
    "d1 = df[df['release_to_imm'] == 1]['log_time_detained']\n",
    "bplot2 = sns.boxplot(data=[d0, d1])\n",
    "bplot2.set_xlabel('Released to immigration?', fontsize=14)\n",
    "bplot2.set_ylabel('Log time detained', fontsize=14)"
   ]
  },
  {
   "cell_type": "markdown",
   "metadata": {},
   "source": [
    "More serious charges generally detained longer. Lots of outliers for 0 seriousness, probably because it includes holds, community custody, etc."
   ]
  },
  {
   "cell_type": "code",
   "execution_count": 664,
   "metadata": {},
   "outputs": [
    {
     "data": {
      "image/png": "[encoded data removed]",
      "text/plain": [
       "<matplotlib.figure.Figure at 0x1413b9ef0>"
      ]
     },
     "metadata": {},
     "output_type": "display_data"
    }
   ],
   "source": [
    "plt = sns.boxplot(data=df, x=\"max_seriousness\", y=\"log_time_detained\", hue='imm_hold')\n",
    "# plt.legend(bbox_to_anchor=(1.05, 1), loc=2, borderaxespad=0.)"
   ]
  },
  {
   "cell_type": "code",
   "execution_count": 665,
   "metadata": {},
   "outputs": [
    {
     "data": {
      "image/png": "[encoded data removed]",
      "text/plain": [
       "<matplotlib.figure.Figure at 0x1392595f8>"
      ]
     },
     "metadata": {},
     "output_type": "display_data"
    }
   ],
   "source": [
    "plt = sns.boxplot(data=df, x=\"charge_topcount\", y=\"log_time_detained\")\n",
    "# plt.legend(bbox_to_anchor=(1.05, 1), loc=2, borderaxespad=0.)"
   ]
  },
  {
   "cell_type": "code",
   "execution_count": 666,
   "metadata": {
    "collapsed": true
   },
   "outputs": [],
   "source": [
    "race_order = ['WHITE',\n",
    "         'BLACK',\n",
    "         'HISPANIC',\n",
    "         'ASIAN/PACIFIC ISLAND',\n",
    "         'AMER INDIAN/ALASKAN']"
   ]
  },
  {
   "cell_type": "markdown",
   "metadata": {},
   "source": [
    "Heavy `charge_count` bias for `BLACK` and `AMER INDIAN/ALASKAN`, other race categories roughly similar. Using topcounted charges emphasizes this."
   ]
  },
  {
   "cell_type": "code",
   "execution_count": 667,
   "metadata": {
    "scrolled": false
   },
   "outputs": [
    {
     "data": {
      "text/plain": [
       "<matplotlib.legend.Legend at 0x137b56860>"
      ]
     },
     "execution_count": 667,
     "metadata": {},
     "output_type": "execute_result"
    },
    {
     "data": {
      "image/png": "[encoded data removed]",
      "text/plain": [
       "<matplotlib.figure.Figure at 0x1363316d8>"
      ]
     },
     "metadata": {},
     "output_type": "display_data"
    }
   ],
   "source": [
    "plt = sns.boxplot(data=df, x=\"race_desc\", y=\"charge_count\", hue=\"race_desc\", dodge=False)\n",
    "plt.legend(bbox_to_anchor=(1.05, 1), loc=2, borderaxespad=0.)"
   ]
  },
  {
   "cell_type": "code",
   "execution_count": 668,
   "metadata": {},
   "outputs": [
    {
     "data": {
      "text/plain": [
       "<matplotlib.legend.Legend at 0x138238940>"
      ]
     },
     "execution_count": 668,
     "metadata": {},
     "output_type": "execute_result"
    },
    {
     "data": {
      "image/png": "[encoded data removed]",
      "text/plain": [
       "<matplotlib.figure.Figure at 0x137e7b080>"
      ]
     },
     "metadata": {},
     "output_type": "display_data"
    }
   ],
   "source": [
    "plt = sns.boxplot(data=df, x=\"race_desc\", y=\"charge_topcount\", hue=\"race_desc\", dodge=False)\n",
    "plt.legend(bbox_to_anchor=(1.05, 1), loc=2, borderaxespad=0.)"
   ]
  },
  {
   "cell_type": "markdown",
   "metadata": {},
   "source": [
    "Time in detention is roughly similar across race categories."
   ]
  },
  {
   "cell_type": "code",
   "execution_count": 669,
   "metadata": {
    "scrolled": false
   },
   "outputs": [
    {
     "data": {
      "text/plain": [
       "<matplotlib.legend.Legend at 0x1386ded30>"
      ]
     },
     "execution_count": 669,
     "metadata": {},
     "output_type": "execute_result"
    },
    {
     "data": {
      "image/png": "[encoded data removed]",
      "text/plain": [
       "<matplotlib.figure.Figure at 0x13825e7f0>"
      ]
     },
     "metadata": {},
     "output_type": "display_data"
    }
   ],
   "source": [
    "plt = sns.boxplot(data=df, x=\"race_desc\", y=\"log_time_detained\", hue=\"race_desc\", dodge=False)\n",
    "plt.legend(bbox_to_anchor=(1.05, 1), loc=2, borderaxespad=0.)"
   ]
  },
  {
   "cell_type": "code",
   "execution_count": 670,
   "metadata": {},
   "outputs": [
    {
     "data": {
      "text/plain": [
       "<matplotlib.legend.Legend at 0x139748898>"
      ]
     },
     "execution_count": 670,
     "metadata": {},
     "output_type": "execute_result"
    },
    {
     "data": {
      "image/png": "[encoded data removed]",
      "text/plain": [
       "<matplotlib.figure.Figure at 0x134be4c50>"
      ]
     },
     "metadata": {},
     "output_type": "display_data"
    }
   ],
   "source": [
    "plt = sns.boxplot(data=df, x=\"max_charge_type\", y=\"log_time_detained\", hue=\"max_charge_type\", dodge=False)\n",
    "plt.legend(bbox_to_anchor=(1.05, 1), loc=2, borderaxespad=0.)"
   ]
  },
  {
   "cell_type": "code",
   "execution_count": 671,
   "metadata": {},
   "outputs": [
    {
     "data": {
      "text/plain": [
       "<matplotlib.text.Text at 0x139b47a90>"
      ]
     },
     "execution_count": 671,
     "metadata": {},
     "output_type": "execute_result"
    },
    {
     "data": {
      "image/png": "[encoded data removed]",
      "text/plain": [
       "<matplotlib.figure.Figure at 0x132d27320>"
      ]
     },
     "metadata": {},
     "output_type": "display_data"
    }
   ],
   "source": [
    "bplot1 = sns.boxplot(data=df, y='log_time_detained', x='born_in_us')\n",
    "bplot1.set_xlabel('Born in US?', fontsize=14)\n",
    "bplot1.set_ylabel('Log time detained', fontsize=14)"
   ]
  },
  {
   "cell_type": "code",
   "execution_count": 672,
   "metadata": {},
   "outputs": [
    {
     "data": {
      "text/plain": [
       "<matplotlib.text.Text at 0x139e3fb00>"
      ]
     },
     "execution_count": 672,
     "metadata": {},
     "output_type": "execute_result"
    },
    {
     "data": {
      "image/png": "[encoded data removed]",
      "text/plain": [
       "<matplotlib.figure.Figure at 0x134ba40f0>"
      ]
     },
     "metadata": {},
     "output_type": "display_data"
    }
   ],
   "source": [
    "bplot1 = sns.boxplot(data=df, y='log_total_fine', x='born_in_us')\n",
    "bplot1.set_xlabel('Born in US?', fontsize=14)\n",
    "bplot1.set_ylabel('Log of Total fine', fontsize=14)"
   ]
  },
  {
   "cell_type": "code",
   "execution_count": 673,
   "metadata": {},
   "outputs": [
    {
     "data": {
      "text/plain": [
       "<matplotlib.text.Text at 0x13a3915c0>"
      ]
     },
     "execution_count": 673,
     "metadata": {},
     "output_type": "execute_result"
    },
    {
     "data": {
      "image/png": "[encoded data removed]",
      "text/plain": [
       "<matplotlib.figure.Figure at 0x13826b128>"
      ]
     },
     "metadata": {},
     "output_type": "display_data"
    }
   ],
   "source": [
    "bplot1 = sns.boxplot(data=df, y='log_total_fine', x='imm_hold_text')\n",
    "bplot1.set_xlabel('Born in US?', fontsize=14)\n",
    "bplot1.set_ylabel('Log of Total fine', fontsize=14)"
   ]
  },
  {
   "cell_type": "markdown",
   "metadata": {},
   "source": [
    "# Basic stats on hold demographics"
   ]
  },
  {
   "cell_type": "code",
   "execution_count": 674,
   "metadata": {
    "collapsed": true
   },
   "outputs": [],
   "source": [
    "race_holds = df.groupby('race_desc')['imm_hold'].sum()"
   ]
  },
  {
   "cell_type": "code",
   "execution_count": 675,
   "metadata": {
    "collapsed": true
   },
   "outputs": [],
   "source": [
    "n = df['race_desc'].value_counts()"
   ]
  },
  {
   "cell_type": "code",
   "execution_count": 676,
   "metadata": {
    "collapsed": true
   },
   "outputs": [],
   "source": [
    "race_hold_df = pd.DataFrame([n, race_holds]).T"
   ]
  },
  {
   "cell_type": "code",
   "execution_count": 677,
   "metadata": {
    "collapsed": true
   },
   "outputs": [],
   "source": [
    "race_hold_df.columns = ['n', 'imm_hold']"
   ]
  },
  {
   "cell_type": "code",
   "execution_count": 678,
   "metadata": {
    "collapsed": true
   },
   "outputs": [],
   "source": [
    "race_hold_df['percent'] = race_hold_df['imm_hold']/race_hold_df['n'] *100"
   ]
  },
  {
   "cell_type": "code",
   "execution_count": 679,
   "metadata": {},
   "outputs": [
    {
     "data": {
      "text/html": [
       "<div>\n",
       "<style scoped>\n",
       "    .dataframe tbody tr th:only-of-type {\n",
       "        vertical-align: middle;\n",
       "    }\n",
       "\n",
       "    .dataframe tbody tr th {\n",
       "        vertical-align: top;\n",
       "    }\n",
       "\n",
       "    .dataframe thead th {\n",
       "        text-align: right;\n",
       "    }\n",
       "</style>\n",
       "<table border=\"1\" class=\"dataframe\">\n",
       "  <thead>\n",
       "    <tr style=\"text-align: right;\">\n",
       "      <th></th>\n",
       "      <th>n</th>\n",
       "      <th>imm_hold</th>\n",
       "      <th>percent</th>\n",
       "    </tr>\n",
       "  </thead>\n",
       "  <tbody>\n",
       "    <tr>\n",
       "      <th>WHITE</th>\n",
       "      <td>10373</td>\n",
       "      <td>5</td>\n",
       "      <td>0.048202</td>\n",
       "    </tr>\n",
       "    <tr>\n",
       "      <th>BLACK</th>\n",
       "      <td>4236</td>\n",
       "      <td>3</td>\n",
       "      <td>0.070822</td>\n",
       "    </tr>\n",
       "    <tr>\n",
       "      <th>HISPANIC</th>\n",
       "      <td>1484</td>\n",
       "      <td>99</td>\n",
       "      <td>6.671159</td>\n",
       "    </tr>\n",
       "    <tr>\n",
       "      <th>ASIAN/PACIFIC ISLAND</th>\n",
       "      <td>1021</td>\n",
       "      <td>8</td>\n",
       "      <td>0.783546</td>\n",
       "    </tr>\n",
       "    <tr>\n",
       "      <th>AMER INDIAN/ALASKAN</th>\n",
       "      <td>538</td>\n",
       "      <td>0</td>\n",
       "      <td>0.000000</td>\n",
       "    </tr>\n",
       "  </tbody>\n",
       "</table>\n",
       "</div>"
      ],
      "text/plain": [
       "                          n  imm_hold   percent\n",
       "WHITE                 10373         5  0.048202\n",
       "BLACK                  4236         3  0.070822\n",
       "HISPANIC               1484        99  6.671159\n",
       "ASIAN/PACIFIC ISLAND   1021         8  0.783546\n",
       "AMER INDIAN/ALASKAN     538         0  0.000000"
      ]
     },
     "execution_count": 679,
     "metadata": {},
     "output_type": "execute_result"
    }
   ],
   "source": [
    "race_hold_df"
   ]
  },
  {
   "cell_type": "code",
   "execution_count": 680,
   "metadata": {
    "scrolled": true
   },
   "outputs": [
    {
     "data": {
      "text/plain": [
       "race_desc             imm_hold\n",
       "AMER INDIAN/ALASKAN   0             538\n",
       "ASIAN/PACIFIC ISLAND  0            1013\n",
       "                      1               8\n",
       "BLACK                 0            4233\n",
       "                      1               3\n",
       "HISPANIC              0            1385\n",
       "                      1              99\n",
       "WHITE                 0           10368\n",
       "                      1               5\n",
       "Name: imm_hold, dtype: int64"
      ]
     },
     "execution_count": 680,
     "metadata": {},
     "output_type": "execute_result"
    }
   ],
   "source": [
    "df.groupby('race_desc')['imm_hold'].value_counts()"
   ]
  },
  {
   "cell_type": "code",
   "execution_count": 681,
   "metadata": {
    "collapsed": true
   },
   "outputs": [],
   "source": [
    "sns.set(style=\"whitegrid\", color_codes=True)"
   ]
  },
  {
   "cell_type": "code",
   "execution_count": 682,
   "metadata": {},
   "outputs": [
    {
     "data": {
      "image/png": "[encoded data removed]",
      "text/plain": [
       "<matplotlib.figure.Figure at 0x139b6e080>"
      ]
     },
     "metadata": {},
     "output_type": "display_data"
    }
   ],
   "source": [
    "# a4_dims = (11.7, 8.27)\n",
    "# fig, ax = plt.subplots(figsize=a4_dims)\n",
    "sns.stripplot(x=\"imm_hold\", y=\"log_time_detained\", hue=\"race_desc\", marker='o', data=df, jitter=True);\n",
    "sns.regplot(x=\"imm_hold\", y=\"log_time_detained\", truncate=True, marker='', data=df);"
   ]
  },
  {
   "cell_type": "code",
   "execution_count": 683,
   "metadata": {
    "scrolled": false
   },
   "outputs": [
    {
     "data": {
      "text/plain": [
       "<seaborn.axisgrid.FacetGrid at 0x13ad7e080>"
      ]
     },
     "execution_count": 683,
     "metadata": {},
     "output_type": "execute_result"
    },
    {
     "data": {
      "image/png": "[encoded data removed]",
      "text/plain": [
       "<matplotlib.figure.Figure at 0x13ad7e5f8>"
      ]
     },
     "metadata": {},
     "output_type": "display_data"
    }
   ],
   "source": [
    "plt = sns.lmplot(x=\"imm_hold\", y=\"log_time_detained\", hue=\"race_desc\", truncate=True, markers='o', legend_out=False, x_jitter=0.05, data=df, size=7, aspect=1.25);\n",
    "plt.set(xticks=[0, 1])\n",
    "plt.despine()"
   ]
  },
  {
   "cell_type": "code",
   "execution_count": 684,
   "metadata": {
    "collapsed": true
   },
   "outputs": [],
   "source": [
    "hold = df['imm_hold'] == 1\n",
    "no_hold = df['imm_hold'] == 0\n",
    "release_to_imm = df['release_to_imm'] == 1\n",
    "no_release_to_imm = df['release_to_imm'] == 0"
   ]
  },
  {
   "cell_type": "code",
   "execution_count": 685,
   "metadata": {},
   "outputs": [
    {
     "data": {
      "text/html": [
       "<div>\n",
       "<style scoped>\n",
       "    .dataframe tbody tr th:only-of-type {\n",
       "        vertical-align: middle;\n",
       "    }\n",
       "\n",
       "    .dataframe tbody tr th {\n",
       "        vertical-align: top;\n",
       "    }\n",
       "\n",
       "    .dataframe thead th {\n",
       "        text-align: right;\n",
       "    }\n",
       "</style>\n",
       "<table border=\"1\" class=\"dataframe\">\n",
       "  <thead>\n",
       "    <tr style=\"text-align: right;\">\n",
       "      <th></th>\n",
       "      <th>amer_indian_alaskan</th>\n",
       "      <th>asian_pacific_island</th>\n",
       "      <th>black</th>\n",
       "      <th>hispanic</th>\n",
       "      <th>white</th>\n",
       "      <th>female</th>\n",
       "      <th>male</th>\n",
       "      <th>time_detained</th>\n",
       "      <th>log_time_detained</th>\n",
       "      <th>seriousness</th>\n",
       "      <th>...</th>\n",
       "      <th>bail_receipt_id</th>\n",
       "      <th>fine_amt</th>\n",
       "      <th>start_receipt_id</th>\n",
       "      <th>end_receipt_id</th>\n",
       "      <th>imm_hold</th>\n",
       "      <th>release_to_imm</th>\n",
       "      <th>juris_imm</th>\n",
       "      <th>cancel_detainer</th>\n",
       "      <th>total_fine</th>\n",
       "      <th>log_total_fine</th>\n",
       "    </tr>\n",
       "  </thead>\n",
       "  <tbody>\n",
       "    <tr>\n",
       "      <th>count</th>\n",
       "      <td>115.0</td>\n",
       "      <td>115.000000</td>\n",
       "      <td>115.000000</td>\n",
       "      <td>115.000000</td>\n",
       "      <td>115.000000</td>\n",
       "      <td>115.000000</td>\n",
       "      <td>115.000000</td>\n",
       "      <td>115.000000</td>\n",
       "      <td>115.000000</td>\n",
       "      <td>115.000000</td>\n",
       "      <td>...</td>\n",
       "      <td>1.0</td>\n",
       "      <td>1.0</td>\n",
       "      <td>1.0</td>\n",
       "      <td>1.0</td>\n",
       "      <td>115.0</td>\n",
       "      <td>115.000000</td>\n",
       "      <td>115.000000</td>\n",
       "      <td>115.000000</td>\n",
       "      <td>3.000000</td>\n",
       "      <td>3.000000</td>\n",
       "    </tr>\n",
       "    <tr>\n",
       "      <th>mean</th>\n",
       "      <td>0.0</td>\n",
       "      <td>0.069565</td>\n",
       "      <td>0.026087</td>\n",
       "      <td>0.860870</td>\n",
       "      <td>0.043478</td>\n",
       "      <td>0.034783</td>\n",
       "      <td>0.965217</td>\n",
       "      <td>57.779825</td>\n",
       "      <td>2.807479</td>\n",
       "      <td>2.373913</td>\n",
       "      <td>...</td>\n",
       "      <td>101451.0</td>\n",
       "      <td>1000.0</td>\n",
       "      <td>0.0</td>\n",
       "      <td>106273.0</td>\n",
       "      <td>1.0</td>\n",
       "      <td>0.660870</td>\n",
       "      <td>0.660870</td>\n",
       "      <td>0.043478</td>\n",
       "      <td>860.666667</td>\n",
       "      <td>6.702977</td>\n",
       "    </tr>\n",
       "    <tr>\n",
       "      <th>std</th>\n",
       "      <td>0.0</td>\n",
       "      <td>0.255526</td>\n",
       "      <td>0.160092</td>\n",
       "      <td>0.347597</td>\n",
       "      <td>0.204824</td>\n",
       "      <td>0.184031</td>\n",
       "      <td>0.184031</td>\n",
       "      <td>78.822765</td>\n",
       "      <td>1.890382</td>\n",
       "      <td>1.889309</td>\n",
       "      <td>...</td>\n",
       "      <td>NaN</td>\n",
       "      <td>NaN</td>\n",
       "      <td>NaN</td>\n",
       "      <td>NaN</td>\n",
       "      <td>0.0</td>\n",
       "      <td>0.475486</td>\n",
       "      <td>0.475486</td>\n",
       "      <td>0.204824</td>\n",
       "      <td>315.025925</td>\n",
       "      <td>0.424771</td>\n",
       "    </tr>\n",
       "    <tr>\n",
       "      <th>min</th>\n",
       "      <td>0.0</td>\n",
       "      <td>0.000000</td>\n",
       "      <td>0.000000</td>\n",
       "      <td>0.000000</td>\n",
       "      <td>0.000000</td>\n",
       "      <td>0.000000</td>\n",
       "      <td>0.000000</td>\n",
       "      <td>0.647222</td>\n",
       "      <td>-0.435066</td>\n",
       "      <td>0.000000</td>\n",
       "      <td>...</td>\n",
       "      <td>101451.0</td>\n",
       "      <td>1000.0</td>\n",
       "      <td>0.0</td>\n",
       "      <td>106273.0</td>\n",
       "      <td>1.0</td>\n",
       "      <td>0.000000</td>\n",
       "      <td>0.000000</td>\n",
       "      <td>0.000000</td>\n",
       "      <td>500.000000</td>\n",
       "      <td>6.214608</td>\n",
       "    </tr>\n",
       "    <tr>\n",
       "      <th>25%</th>\n",
       "      <td>0.0</td>\n",
       "      <td>0.000000</td>\n",
       "      <td>0.000000</td>\n",
       "      <td>1.000000</td>\n",
       "      <td>0.000000</td>\n",
       "      <td>0.000000</td>\n",
       "      <td>1.000000</td>\n",
       "      <td>2.377083</td>\n",
       "      <td>0.865001</td>\n",
       "      <td>0.000000</td>\n",
       "      <td>...</td>\n",
       "      <td>101451.0</td>\n",
       "      <td>1000.0</td>\n",
       "      <td>0.0</td>\n",
       "      <td>106273.0</td>\n",
       "      <td>1.0</td>\n",
       "      <td>0.000000</td>\n",
       "      <td>0.000000</td>\n",
       "      <td>0.000000</td>\n",
       "      <td>750.000000</td>\n",
       "      <td>6.561182</td>\n",
       "    </tr>\n",
       "    <tr>\n",
       "      <th>50%</th>\n",
       "      <td>0.0</td>\n",
       "      <td>0.000000</td>\n",
       "      <td>0.000000</td>\n",
       "      <td>1.000000</td>\n",
       "      <td>0.000000</td>\n",
       "      <td>0.000000</td>\n",
       "      <td>1.000000</td>\n",
       "      <td>24.320139</td>\n",
       "      <td>3.191305</td>\n",
       "      <td>3.000000</td>\n",
       "      <td>...</td>\n",
       "      <td>101451.0</td>\n",
       "      <td>1000.0</td>\n",
       "      <td>0.0</td>\n",
       "      <td>106273.0</td>\n",
       "      <td>1.0</td>\n",
       "      <td>1.000000</td>\n",
       "      <td>1.000000</td>\n",
       "      <td>0.000000</td>\n",
       "      <td>1000.000000</td>\n",
       "      <td>6.907755</td>\n",
       "    </tr>\n",
       "    <tr>\n",
       "      <th>75%</th>\n",
       "      <td>0.0</td>\n",
       "      <td>0.000000</td>\n",
       "      <td>0.000000</td>\n",
       "      <td>1.000000</td>\n",
       "      <td>0.000000</td>\n",
       "      <td>0.000000</td>\n",
       "      <td>1.000000</td>\n",
       "      <td>81.071875</td>\n",
       "      <td>4.395332</td>\n",
       "      <td>4.000000</td>\n",
       "      <td>...</td>\n",
       "      <td>101451.0</td>\n",
       "      <td>1000.0</td>\n",
       "      <td>0.0</td>\n",
       "      <td>106273.0</td>\n",
       "      <td>1.0</td>\n",
       "      <td>1.000000</td>\n",
       "      <td>1.000000</td>\n",
       "      <td>0.000000</td>\n",
       "      <td>1041.000000</td>\n",
       "      <td>6.947161</td>\n",
       "    </tr>\n",
       "    <tr>\n",
       "      <th>max</th>\n",
       "      <td>0.0</td>\n",
       "      <td>1.000000</td>\n",
       "      <td>1.000000</td>\n",
       "      <td>1.000000</td>\n",
       "      <td>1.000000</td>\n",
       "      <td>1.000000</td>\n",
       "      <td>1.000000</td>\n",
       "      <td>405.518056</td>\n",
       "      <td>6.005165</td>\n",
       "      <td>6.000000</td>\n",
       "      <td>...</td>\n",
       "      <td>101451.0</td>\n",
       "      <td>1000.0</td>\n",
       "      <td>0.0</td>\n",
       "      <td>106273.0</td>\n",
       "      <td>1.0</td>\n",
       "      <td>1.000000</td>\n",
       "      <td>1.000000</td>\n",
       "      <td>1.000000</td>\n",
       "      <td>1082.000000</td>\n",
       "      <td>6.986566</td>\n",
       "    </tr>\n",
       "  </tbody>\n",
       "</table>\n",
       "<p>8 rows × 31 columns</p>\n",
       "</div>"
      ],
      "text/plain": [
       "       amer_indian_alaskan  asian_pacific_island       black    hispanic  \\\n",
       "count                115.0            115.000000  115.000000  115.000000   \n",
       "mean                   0.0              0.069565    0.026087    0.860870   \n",
       "std                    0.0              0.255526    0.160092    0.347597   \n",
       "min                    0.0              0.000000    0.000000    0.000000   \n",
       "25%                    0.0              0.000000    0.000000    1.000000   \n",
       "50%                    0.0              0.000000    0.000000    1.000000   \n",
       "75%                    0.0              0.000000    0.000000    1.000000   \n",
       "max                    0.0              1.000000    1.000000    1.000000   \n",
       "\n",
       "            white      female        male  time_detained  log_time_detained  \\\n",
       "count  115.000000  115.000000  115.000000     115.000000         115.000000   \n",
       "mean     0.043478    0.034783    0.965217      57.779825           2.807479   \n",
       "std      0.204824    0.184031    0.184031      78.822765           1.890382   \n",
       "min      0.000000    0.000000    0.000000       0.647222          -0.435066   \n",
       "25%      0.000000    0.000000    1.000000       2.377083           0.865001   \n",
       "50%      0.000000    0.000000    1.000000      24.320139           3.191305   \n",
       "75%      0.000000    0.000000    1.000000      81.071875           4.395332   \n",
       "max      1.000000    1.000000    1.000000     405.518056           6.005165   \n",
       "\n",
       "       seriousness       ...        bail_receipt_id  fine_amt  \\\n",
       "count   115.000000       ...                    1.0       1.0   \n",
       "mean      2.373913       ...               101451.0    1000.0   \n",
       "std       1.889309       ...                    NaN       NaN   \n",
       "min       0.000000       ...               101451.0    1000.0   \n",
       "25%       0.000000       ...               101451.0    1000.0   \n",
       "50%       3.000000       ...               101451.0    1000.0   \n",
       "75%       4.000000       ...               101451.0    1000.0   \n",
       "max       6.000000       ...               101451.0    1000.0   \n",
       "\n",
       "       start_receipt_id  end_receipt_id  imm_hold  release_to_imm   juris_imm  \\\n",
       "count               1.0             1.0     115.0      115.000000  115.000000   \n",
       "mean                0.0        106273.0       1.0        0.660870    0.660870   \n",
       "std                 NaN             NaN       0.0        0.475486    0.475486   \n",
       "min                 0.0        106273.0       1.0        0.000000    0.000000   \n",
       "25%                 0.0        106273.0       1.0        0.000000    0.000000   \n",
       "50%                 0.0        106273.0       1.0        1.000000    1.000000   \n",
       "75%                 0.0        106273.0       1.0        1.000000    1.000000   \n",
       "max                 0.0        106273.0       1.0        1.000000    1.000000   \n",
       "\n",
       "       cancel_detainer   total_fine  log_total_fine  \n",
       "count       115.000000     3.000000        3.000000  \n",
       "mean          0.043478   860.666667        6.702977  \n",
       "std           0.204824   315.025925        0.424771  \n",
       "min           0.000000   500.000000        6.214608  \n",
       "25%           0.000000   750.000000        6.561182  \n",
       "50%           0.000000  1000.000000        6.907755  \n",
       "75%           0.000000  1041.000000        6.947161  \n",
       "max           1.000000  1082.000000        6.986566  \n",
       "\n",
       "[8 rows x 31 columns]"
      ]
     },
     "execution_count": 685,
     "metadata": {},
     "output_type": "execute_result"
    }
   ],
   "source": [
    "df[hold].describe()"
   ]
  },
  {
   "cell_type": "code",
   "execution_count": 686,
   "metadata": {},
   "outputs": [
    {
     "data": {
      "text/html": [
       "<div>\n",
       "<style scoped>\n",
       "    .dataframe tbody tr th:only-of-type {\n",
       "        vertical-align: middle;\n",
       "    }\n",
       "\n",
       "    .dataframe tbody tr th {\n",
       "        vertical-align: top;\n",
       "    }\n",
       "\n",
       "    .dataframe thead th {\n",
       "        text-align: right;\n",
       "    }\n",
       "</style>\n",
       "<table border=\"1\" class=\"dataframe\">\n",
       "  <thead>\n",
       "    <tr style=\"text-align: right;\">\n",
       "      <th></th>\n",
       "      <th>amer_indian_alaskan</th>\n",
       "      <th>asian_pacific_island</th>\n",
       "      <th>black</th>\n",
       "      <th>hispanic</th>\n",
       "      <th>white</th>\n",
       "      <th>female</th>\n",
       "      <th>male</th>\n",
       "      <th>time_detained</th>\n",
       "      <th>log_time_detained</th>\n",
       "      <th>seriousness</th>\n",
       "      <th>...</th>\n",
       "      <th>bail_receipt_id</th>\n",
       "      <th>fine_amt</th>\n",
       "      <th>start_receipt_id</th>\n",
       "      <th>end_receipt_id</th>\n",
       "      <th>imm_hold</th>\n",
       "      <th>release_to_imm</th>\n",
       "      <th>juris_imm</th>\n",
       "      <th>cancel_detainer</th>\n",
       "      <th>total_fine</th>\n",
       "      <th>log_total_fine</th>\n",
       "    </tr>\n",
       "  </thead>\n",
       "  <tbody>\n",
       "    <tr>\n",
       "      <th>count</th>\n",
       "      <td>17652.000000</td>\n",
       "      <td>17652.000000</td>\n",
       "      <td>17652.000000</td>\n",
       "      <td>17652.00000</td>\n",
       "      <td>17652.000000</td>\n",
       "      <td>17652.000000</td>\n",
       "      <td>17652.000000</td>\n",
       "      <td>17652.000000</td>\n",
       "      <td>17652.000000</td>\n",
       "      <td>17652.000000</td>\n",
       "      <td>...</td>\n",
       "      <td>3083.000000</td>\n",
       "      <td>3083.000000</td>\n",
       "      <td>3083.0</td>\n",
       "      <td>3083.0</td>\n",
       "      <td>17652.000000</td>\n",
       "      <td>17652.000000</td>\n",
       "      <td>17652.000000</td>\n",
       "      <td>17652.000000</td>\n",
       "      <td>3511.000000</td>\n",
       "      <td>3511.000000</td>\n",
       "    </tr>\n",
       "    <tr>\n",
       "      <th>mean</th>\n",
       "      <td>0.030478</td>\n",
       "      <td>0.057840</td>\n",
       "      <td>0.239973</td>\n",
       "      <td>0.08407</td>\n",
       "      <td>0.587639</td>\n",
       "      <td>0.238330</td>\n",
       "      <td>0.761670</td>\n",
       "      <td>25.359933</td>\n",
       "      <td>1.345339</td>\n",
       "      <td>2.992635</td>\n",
       "      <td>...</td>\n",
       "      <td>101222.879987</td>\n",
       "      <td>7471.743107</td>\n",
       "      <td>0.0</td>\n",
       "      <td>106273.0</td>\n",
       "      <td>0.006515</td>\n",
       "      <td>0.004362</td>\n",
       "      <td>0.004362</td>\n",
       "      <td>0.023850</td>\n",
       "      <td>8187.050222</td>\n",
       "      <td>-inf</td>\n",
       "    </tr>\n",
       "    <tr>\n",
       "      <th>std</th>\n",
       "      <td>0.171904</td>\n",
       "      <td>0.233448</td>\n",
       "      <td>0.427079</td>\n",
       "      <td>0.27750</td>\n",
       "      <td>0.492273</td>\n",
       "      <td>0.426074</td>\n",
       "      <td>0.426074</td>\n",
       "      <td>62.996963</td>\n",
       "      <td>2.142756</td>\n",
       "      <td>1.616985</td>\n",
       "      <td>...</td>\n",
       "      <td>1152.314160</td>\n",
       "      <td>18246.374576</td>\n",
       "      <td>0.0</td>\n",
       "      <td>0.0</td>\n",
       "      <td>0.080454</td>\n",
       "      <td>0.065904</td>\n",
       "      <td>0.065904</td>\n",
       "      <td>0.152586</td>\n",
       "      <td>18953.682051</td>\n",
       "      <td>NaN</td>\n",
       "    </tr>\n",
       "    <tr>\n",
       "      <th>min</th>\n",
       "      <td>0.000000</td>\n",
       "      <td>0.000000</td>\n",
       "      <td>0.000000</td>\n",
       "      <td>0.00000</td>\n",
       "      <td>0.000000</td>\n",
       "      <td>0.000000</td>\n",
       "      <td>0.000000</td>\n",
       "      <td>0.004861</td>\n",
       "      <td>-5.326488</td>\n",
       "      <td>0.000000</td>\n",
       "      <td>...</td>\n",
       "      <td>99232.000000</td>\n",
       "      <td>0.000000</td>\n",
       "      <td>0.0</td>\n",
       "      <td>106273.0</td>\n",
       "      <td>0.000000</td>\n",
       "      <td>0.000000</td>\n",
       "      <td>0.000000</td>\n",
       "      <td>0.000000</td>\n",
       "      <td>0.000000</td>\n",
       "      <td>-inf</td>\n",
       "    </tr>\n",
       "    <tr>\n",
       "      <th>25%</th>\n",
       "      <td>0.000000</td>\n",
       "      <td>0.000000</td>\n",
       "      <td>0.000000</td>\n",
       "      <td>0.00000</td>\n",
       "      <td>0.000000</td>\n",
       "      <td>0.000000</td>\n",
       "      <td>1.000000</td>\n",
       "      <td>0.965972</td>\n",
       "      <td>-0.034620</td>\n",
       "      <td>2.000000</td>\n",
       "      <td>...</td>\n",
       "      <td>100211.500000</td>\n",
       "      <td>1000.000000</td>\n",
       "      <td>0.0</td>\n",
       "      <td>106273.0</td>\n",
       "      <td>0.000000</td>\n",
       "      <td>0.000000</td>\n",
       "      <td>0.000000</td>\n",
       "      <td>0.000000</td>\n",
       "      <td>1000.000000</td>\n",
       "      <td>6.907755</td>\n",
       "    </tr>\n",
       "    <tr>\n",
       "      <th>50%</th>\n",
       "      <td>0.000000</td>\n",
       "      <td>0.000000</td>\n",
       "      <td>0.000000</td>\n",
       "      <td>0.00000</td>\n",
       "      <td>1.000000</td>\n",
       "      <td>0.000000</td>\n",
       "      <td>1.000000</td>\n",
       "      <td>2.836111</td>\n",
       "      <td>1.042434</td>\n",
       "      <td>3.000000</td>\n",
       "      <td>...</td>\n",
       "      <td>101250.000000</td>\n",
       "      <td>1000.000000</td>\n",
       "      <td>0.0</td>\n",
       "      <td>106273.0</td>\n",
       "      <td>0.000000</td>\n",
       "      <td>0.000000</td>\n",
       "      <td>0.000000</td>\n",
       "      <td>0.000000</td>\n",
       "      <td>2000.000000</td>\n",
       "      <td>7.600902</td>\n",
       "    </tr>\n",
       "    <tr>\n",
       "      <th>75%</th>\n",
       "      <td>0.000000</td>\n",
       "      <td>0.000000</td>\n",
       "      <td>0.000000</td>\n",
       "      <td>0.00000</td>\n",
       "      <td>1.000000</td>\n",
       "      <td>0.000000</td>\n",
       "      <td>1.000000</td>\n",
       "      <td>20.833507</td>\n",
       "      <td>3.036563</td>\n",
       "      <td>4.000000</td>\n",
       "      <td>...</td>\n",
       "      <td>102218.000000</td>\n",
       "      <td>5000.000000</td>\n",
       "      <td>0.0</td>\n",
       "      <td>106273.0</td>\n",
       "      <td>0.000000</td>\n",
       "      <td>0.000000</td>\n",
       "      <td>0.000000</td>\n",
       "      <td>0.000000</td>\n",
       "      <td>7500.000000</td>\n",
       "      <td>8.922658</td>\n",
       "    </tr>\n",
       "    <tr>\n",
       "      <th>max</th>\n",
       "      <td>1.000000</td>\n",
       "      <td>1.000000</td>\n",
       "      <td>1.000000</td>\n",
       "      <td>1.00000</td>\n",
       "      <td>1.000000</td>\n",
       "      <td>1.000000</td>\n",
       "      <td>1.000000</td>\n",
       "      <td>1314.554167</td>\n",
       "      <td>7.181253</td>\n",
       "      <td>6.000000</td>\n",
       "      <td>...</td>\n",
       "      <td>103211.000000</td>\n",
       "      <td>250000.000000</td>\n",
       "      <td>0.0</td>\n",
       "      <td>106273.0</td>\n",
       "      <td>1.000000</td>\n",
       "      <td>1.000000</td>\n",
       "      <td>1.000000</td>\n",
       "      <td>1.000000</td>\n",
       "      <td>250000.000000</td>\n",
       "      <td>12.429216</td>\n",
       "    </tr>\n",
       "  </tbody>\n",
       "</table>\n",
       "<p>8 rows × 31 columns</p>\n",
       "</div>"
      ],
      "text/plain": [
       "       amer_indian_alaskan  asian_pacific_island         black     hispanic  \\\n",
       "count         17652.000000          17652.000000  17652.000000  17652.00000   \n",
       "mean              0.030478              0.057840      0.239973      0.08407   \n",
       "std               0.171904              0.233448      0.427079      0.27750   \n",
       "min               0.000000              0.000000      0.000000      0.00000   \n",
       "25%               0.000000              0.000000      0.000000      0.00000   \n",
       "50%               0.000000              0.000000      0.000000      0.00000   \n",
       "75%               0.000000              0.000000      0.000000      0.00000   \n",
       "max               1.000000              1.000000      1.000000      1.00000   \n",
       "\n",
       "              white        female          male  time_detained  \\\n",
       "count  17652.000000  17652.000000  17652.000000   17652.000000   \n",
       "mean       0.587639      0.238330      0.761670      25.359933   \n",
       "std        0.492273      0.426074      0.426074      62.996963   \n",
       "min        0.000000      0.000000      0.000000       0.004861   \n",
       "25%        0.000000      0.000000      1.000000       0.965972   \n",
       "50%        1.000000      0.000000      1.000000       2.836111   \n",
       "75%        1.000000      0.000000      1.000000      20.833507   \n",
       "max        1.000000      1.000000      1.000000    1314.554167   \n",
       "\n",
       "       log_time_detained   seriousness       ...        bail_receipt_id  \\\n",
       "count       17652.000000  17652.000000       ...            3083.000000   \n",
       "mean            1.345339      2.992635       ...          101222.879987   \n",
       "std             2.142756      1.616985       ...            1152.314160   \n",
       "min            -5.326488      0.000000       ...           99232.000000   \n",
       "25%            -0.034620      2.000000       ...          100211.500000   \n",
       "50%             1.042434      3.000000       ...          101250.000000   \n",
       "75%             3.036563      4.000000       ...          102218.000000   \n",
       "max             7.181253      6.000000       ...          103211.000000   \n",
       "\n",
       "            fine_amt  start_receipt_id  end_receipt_id      imm_hold  \\\n",
       "count    3083.000000            3083.0          3083.0  17652.000000   \n",
       "mean     7471.743107               0.0        106273.0      0.006515   \n",
       "std     18246.374576               0.0             0.0      0.080454   \n",
       "min         0.000000               0.0        106273.0      0.000000   \n",
       "25%      1000.000000               0.0        106273.0      0.000000   \n",
       "50%      1000.000000               0.0        106273.0      0.000000   \n",
       "75%      5000.000000               0.0        106273.0      0.000000   \n",
       "max    250000.000000               0.0        106273.0      1.000000   \n",
       "\n",
       "       release_to_imm     juris_imm  cancel_detainer     total_fine  \\\n",
       "count    17652.000000  17652.000000     17652.000000    3511.000000   \n",
       "mean         0.004362      0.004362         0.023850    8187.050222   \n",
       "std          0.065904      0.065904         0.152586   18953.682051   \n",
       "min          0.000000      0.000000         0.000000       0.000000   \n",
       "25%          0.000000      0.000000         0.000000    1000.000000   \n",
       "50%          0.000000      0.000000         0.000000    2000.000000   \n",
       "75%          0.000000      0.000000         0.000000    7500.000000   \n",
       "max          1.000000      1.000000         1.000000  250000.000000   \n",
       "\n",
       "       log_total_fine  \n",
       "count     3511.000000  \n",
       "mean             -inf  \n",
       "std               NaN  \n",
       "min              -inf  \n",
       "25%          6.907755  \n",
       "50%          7.600902  \n",
       "75%          8.922658  \n",
       "max         12.429216  \n",
       "\n",
       "[8 rows x 31 columns]"
      ]
     },
     "execution_count": 686,
     "metadata": {},
     "output_type": "execute_result"
    }
   ],
   "source": [
    "df.describe()"
   ]
  },
  {
   "cell_type": "code",
   "execution_count": 687,
   "metadata": {},
   "outputs": [
    {
     "data": {
      "text/plain": [
       "public_order    35\n",
       "violent         27\n",
       "drug            22\n",
       "property        17\n",
       "sex              8\n",
       "other            6\n",
       "Name: max_charge_type, dtype: int64"
      ]
     },
     "execution_count": 687,
     "metadata": {},
     "output_type": "execute_result"
    }
   ],
   "source": [
    "df[hold]['max_charge_type'].value_counts()"
   ]
  },
  {
   "cell_type": "code",
   "execution_count": 688,
   "metadata": {},
   "outputs": [
    {
     "data": {
      "text/plain": [
       "DWI                       15\n",
       "UPCS                      11\n",
       "UPCS W INTENT              8\n",
       "POSSESS STOLEN VEHICLE     6\n",
       "ASSAULT 4 /DV              5\n",
       "Name: max_charge_desc, dtype: int64"
      ]
     },
     "execution_count": 688,
     "metadata": {},
     "output_type": "execute_result"
    }
   ],
   "source": [
    "df[hold]['max_charge_desc'].value_counts().head()"
   ]
  },
  {
   "cell_type": "markdown",
   "metadata": {},
   "source": [
    "# Correlation of felony with hold category"
   ]
  },
  {
   "cell_type": "code",
   "execution_count": 689,
   "metadata": {},
   "outputs": [
    {
     "data": {
      "text/plain": [
       "1    73.913043\n",
       "0    26.086957\n",
       "Name: felony, dtype: float64"
      ]
     },
     "execution_count": 689,
     "metadata": {},
     "output_type": "execute_result"
    }
   ],
   "source": [
    "df[hold]['felony'].value_counts() / sum(hold) * 100"
   ]
  },
  {
   "cell_type": "code",
   "execution_count": 690,
   "metadata": {},
   "outputs": [
    {
     "data": {
      "text/plain": [
       "1    10721\n",
       "0     6816\n",
       "Name: felony, dtype: int64"
      ]
     },
     "execution_count": 690,
     "metadata": {},
     "output_type": "execute_result"
    }
   ],
   "source": [
    "df[~hold]['felony'].value_counts()"
   ]
  },
  {
   "cell_type": "code",
   "execution_count": 691,
   "metadata": {},
   "outputs": [
    {
     "data": {
      "text/plain": [
       "1    61.216859\n",
       "0    38.783141\n",
       "Name: felony, dtype: float64"
      ]
     },
     "execution_count": 691,
     "metadata": {},
     "output_type": "execute_result"
    }
   ],
   "source": [
    "df['felony'].value_counts() / len(df) * 100"
   ]
  },
  {
   "cell_type": "code",
   "execution_count": 692,
   "metadata": {},
   "outputs": [
    {
     "data": {
      "text/html": [
       "<div>\n",
       "<style scoped>\n",
       "    .dataframe tbody tr th:only-of-type {\n",
       "        vertical-align: middle;\n",
       "    }\n",
       "\n",
       "    .dataframe tbody tr th {\n",
       "        vertical-align: top;\n",
       "    }\n",
       "\n",
       "    .dataframe thead th {\n",
       "        text-align: right;\n",
       "    }\n",
       "</style>\n",
       "<table border=\"1\" class=\"dataframe\">\n",
       "  <thead>\n",
       "    <tr style=\"text-align: right;\">\n",
       "      <th>imm_hold</th>\n",
       "      <th>0</th>\n",
       "      <th>1</th>\n",
       "      <th>All</th>\n",
       "    </tr>\n",
       "    <tr>\n",
       "      <th>felony</th>\n",
       "      <th></th>\n",
       "      <th></th>\n",
       "      <th></th>\n",
       "    </tr>\n",
       "  </thead>\n",
       "  <tbody>\n",
       "    <tr>\n",
       "      <th>0</th>\n",
       "      <td>38.866397</td>\n",
       "      <td>26.086957</td>\n",
       "      <td>38.783141</td>\n",
       "    </tr>\n",
       "    <tr>\n",
       "      <th>1</th>\n",
       "      <td>61.133603</td>\n",
       "      <td>73.913043</td>\n",
       "      <td>61.216859</td>\n",
       "    </tr>\n",
       "  </tbody>\n",
       "</table>\n",
       "</div>"
      ],
      "text/plain": [
       "imm_hold          0          1        All\n",
       "felony                                   \n",
       "0         38.866397  26.086957  38.783141\n",
       "1         61.133603  73.913043  61.216859"
      ]
     },
     "execution_count": 692,
     "metadata": {},
     "output_type": "execute_result"
    }
   ],
   "source": [
    "pd.crosstab(df.felony, df.imm_hold, margins=True, normalize='columns') * 100"
   ]
  },
  {
   "cell_type": "code",
   "execution_count": 693,
   "metadata": {},
   "outputs": [
    {
     "data": {
      "text/html": [
       "<div>\n",
       "<style scoped>\n",
       "    .dataframe tbody tr th:only-of-type {\n",
       "        vertical-align: middle;\n",
       "    }\n",
       "\n",
       "    .dataframe tbody tr th {\n",
       "        vertical-align: top;\n",
       "    }\n",
       "\n",
       "    .dataframe thead th {\n",
       "        text-align: right;\n",
       "    }\n",
       "</style>\n",
       "<table border=\"1\" class=\"dataframe\">\n",
       "  <thead>\n",
       "    <tr style=\"text-align: right;\">\n",
       "      <th>imm_hold</th>\n",
       "      <th>0</th>\n",
       "      <th>1</th>\n",
       "    </tr>\n",
       "    <tr>\n",
       "      <th>felony</th>\n",
       "      <th></th>\n",
       "      <th></th>\n",
       "    </tr>\n",
       "  </thead>\n",
       "  <tbody>\n",
       "    <tr>\n",
       "      <th>0</th>\n",
       "      <td>6816</td>\n",
       "      <td>30</td>\n",
       "    </tr>\n",
       "    <tr>\n",
       "      <th>1</th>\n",
       "      <td>10721</td>\n",
       "      <td>85</td>\n",
       "    </tr>\n",
       "  </tbody>\n",
       "</table>\n",
       "</div>"
      ],
      "text/plain": [
       "imm_hold      0   1\n",
       "felony             \n",
       "0          6816  30\n",
       "1         10721  85"
      ]
     },
     "execution_count": 693,
     "metadata": {},
     "output_type": "execute_result"
    }
   ],
   "source": [
    "pd.crosstab(df.felony, df.imm_hold)"
   ]
  },
  {
   "cell_type": "markdown",
   "metadata": {},
   "source": [
    "Significant relationship between felony and presence of immigration hold"
   ]
  },
  {
   "cell_type": "code",
   "execution_count": 694,
   "metadata": {},
   "outputs": [
    {
     "data": {
      "text/plain": [
       "(7.3299779868669797,\n",
       " 0.0067813884427315885,\n",
       " 1,\n",
       " array([[  6801.39938817,     44.60061183],\n",
       "        [ 10735.60061183,     70.39938817]]))"
      ]
     },
     "execution_count": 694,
     "metadata": {},
     "output_type": "execute_result"
    }
   ],
   "source": [
    "scipystats.chi2_contingency(pd.crosstab(df.felony, df.imm_hold))"
   ]
  },
  {
   "cell_type": "code",
   "execution_count": 695,
   "metadata": {},
   "outputs": [
    {
     "data": {
      "text/plain": [
       "(12.766834322308034,\n",
       " 0.046891736755448714,\n",
       " 6,\n",
       " array([[  2.11413642e+03,   1.38635849e+01],\n",
       "        [  1.39087922e+01,   9.12077952e-02],\n",
       "        [  7.23257195e+02,   4.74280535e+00],\n",
       "        [  3.95009699e+03,   2.59030138e+01],\n",
       "        [  5.97879368e+03,   3.92063222e+01],\n",
       "        [  4.01566701e+03,   2.63329934e+01],\n",
       "        [  7.41139927e+02,   4.86007251e+00]]))"
      ]
     },
     "execution_count": 695,
     "metadata": {},
     "output_type": "execute_result"
    }
   ],
   "source": [
    "scipystats.chi2_contingency(pd.crosstab(df.max_seriousness, df.imm_hold))"
   ]
  },
  {
   "cell_type": "code",
   "execution_count": 696,
   "metadata": {},
   "outputs": [
    {
     "data": {
      "text/html": [
       "<div>\n",
       "<style scoped>\n",
       "    .dataframe tbody tr th:only-of-type {\n",
       "        vertical-align: middle;\n",
       "    }\n",
       "\n",
       "    .dataframe tbody tr th {\n",
       "        vertical-align: top;\n",
       "    }\n",
       "\n",
       "    .dataframe thead th {\n",
       "        text-align: right;\n",
       "    }\n",
       "</style>\n",
       "<table border=\"1\" class=\"dataframe\">\n",
       "  <thead>\n",
       "    <tr style=\"text-align: right;\">\n",
       "      <th>felony</th>\n",
       "      <th>0</th>\n",
       "      <th>1</th>\n",
       "    </tr>\n",
       "    <tr>\n",
       "      <th>race_desc</th>\n",
       "      <th></th>\n",
       "      <th></th>\n",
       "    </tr>\n",
       "  </thead>\n",
       "  <tbody>\n",
       "    <tr>\n",
       "      <th>AMER INDIAN/ALASKAN</th>\n",
       "      <td>41.635688</td>\n",
       "      <td>58.364312</td>\n",
       "    </tr>\n",
       "    <tr>\n",
       "      <th>ASIAN/PACIFIC ISLAND</th>\n",
       "      <td>36.826641</td>\n",
       "      <td>63.173359</td>\n",
       "    </tr>\n",
       "    <tr>\n",
       "      <th>BLACK</th>\n",
       "      <td>37.865911</td>\n",
       "      <td>62.134089</td>\n",
       "    </tr>\n",
       "    <tr>\n",
       "      <th>HISPANIC</th>\n",
       "      <td>37.398922</td>\n",
       "      <td>62.601078</td>\n",
       "    </tr>\n",
       "    <tr>\n",
       "      <th>WHITE</th>\n",
       "      <td>39.400366</td>\n",
       "      <td>60.599634</td>\n",
       "    </tr>\n",
       "    <tr>\n",
       "      <th>All</th>\n",
       "      <td>38.783141</td>\n",
       "      <td>61.216859</td>\n",
       "    </tr>\n",
       "  </tbody>\n",
       "</table>\n",
       "</div>"
      ],
      "text/plain": [
       "felony                        0          1\n",
       "race_desc                                 \n",
       "AMER INDIAN/ALASKAN   41.635688  58.364312\n",
       "ASIAN/PACIFIC ISLAND  36.826641  63.173359\n",
       "BLACK                 37.865911  62.134089\n",
       "HISPANIC              37.398922  62.601078\n",
       "WHITE                 39.400366  60.599634\n",
       "All                   38.783141  61.216859"
      ]
     },
     "execution_count": 696,
     "metadata": {},
     "output_type": "execute_result"
    }
   ],
   "source": [
    "pd.crosstab(df.race_desc, df.felony, margins=True, normalize='index') * 100"
   ]
  },
  {
   "cell_type": "markdown",
   "metadata": {},
   "source": [
    "Insignificant relationship between felony and race"
   ]
  },
  {
   "cell_type": "code",
   "execution_count": 697,
   "metadata": {},
   "outputs": [
    {
     "data": {
      "text/plain": [
       "(7.8532300839048235,\n",
       " 0.097104953187627005,\n",
       " 4,\n",
       " array([[  208.65329708,   329.34670292],\n",
       "        [  395.97586676,   625.02413324],\n",
       "        [ 1642.85384092,  2593.14615908],\n",
       "        [  575.54180829,   908.45819171],\n",
       "        [ 4022.97518695,  6350.02481305]]))"
      ]
     },
     "execution_count": 697,
     "metadata": {},
     "output_type": "execute_result"
    }
   ],
   "source": [
    "scipystats.chi2_contingency(pd.crosstab(df.race_desc, df.felony))"
   ]
  },
  {
   "cell_type": "code",
   "execution_count": 698,
   "metadata": {},
   "outputs": [
    {
     "data": {
      "text/plain": [
       "4.0    42\n",
       "5.0    34\n",
       "3.0    22\n",
       "6.0     9\n",
       "0.0     6\n",
       "2.0     2\n",
       "Name: max_seriousness, dtype: int64"
      ]
     },
     "execution_count": 698,
     "metadata": {},
     "output_type": "execute_result"
    }
   ],
   "source": [
    "df[hold]['max_seriousness'].value_counts()"
   ]
  },
  {
   "cell_type": "code",
   "execution_count": 699,
   "metadata": {},
   "outputs": [
    {
     "data": {
      "text/plain": [
       "count    115.000000\n",
       "mean       1.965217\n",
       "std        1.695869\n",
       "min        0.000000\n",
       "25%        1.000000\n",
       "50%        1.000000\n",
       "75%        3.000000\n",
       "max        9.000000\n",
       "Name: charge_topcount, dtype: float64"
      ]
     },
     "execution_count": 699,
     "metadata": {},
     "output_type": "execute_result"
    }
   ],
   "source": [
    "df[hold]['charge_topcount'].describe()"
   ]
  },
  {
   "cell_type": "code",
   "execution_count": 700,
   "metadata": {},
   "outputs": [
    {
     "name": "stdout",
     "output_type": "stream",
     "text": [
      "race_desc\n",
      "ASIAN/PACIFIC ISLAND     6.956522\n",
      "BLACK                    2.608696\n",
      "HISPANIC                86.086957\n",
      "WHITE                    4.347826\n",
      "Name: race_desc, dtype: float64\n",
      "\n",
      "\n",
      "n = 17652\n"
     ]
    }
   ],
   "source": [
    "print(df[hold].groupby('race_desc')['race_desc'].count() / len(df[hold]) * 100)\n",
    "print('\\n')\n",
    "print(f'n = {len(hold)}')"
   ]
  },
  {
   "cell_type": "code",
   "execution_count": 701,
   "metadata": {},
   "outputs": [
    {
     "name": "stdout",
     "output_type": "stream",
     "text": [
      "race_desc\n",
      "AMER INDIAN/ALASKAN      3.047813\n",
      "ASIAN/PACIFIC ISLAND     5.784047\n",
      "BLACK                   23.997281\n",
      "HISPANIC                 8.406979\n",
      "WHITE                   58.763879\n",
      "Name: race_desc, dtype: float64\n",
      "\n",
      "\n",
      "n = 17652\n"
     ]
    }
   ],
   "source": [
    "print(df.groupby('race_desc')['race_desc'].count() / len(df) * 100)\n",
    "print('\\n')\n",
    "print(f'n = {len(df)}')"
   ]
  },
  {
   "cell_type": "code",
   "execution_count": 702,
   "metadata": {},
   "outputs": [
    {
     "name": "stdout",
     "output_type": "stream",
     "text": [
      "race_desc\n",
      "AMER INDIAN/ALASKAN      0\n",
      "ASIAN/PACIFIC ISLAND     3\n",
      "BLACK                    2\n",
      "HISPANIC                67\n",
      "WHITE                    5\n",
      "Name: release_to_imm, dtype: int64\n"
     ]
    }
   ],
   "source": [
    "# Race breakdown of cases released to immigration:\n",
    "print(df.groupby('race_desc')['release_to_imm'].sum())"
   ]
  },
  {
   "cell_type": "code",
   "execution_count": 703,
   "metadata": {},
   "outputs": [
    {
     "name": "stdout",
     "output_type": "stream",
     "text": [
      "66.08695652173913\n",
      "\n",
      "\n",
      "n = 115\n"
     ]
    }
   ],
   "source": [
    "# Percent of bookings with immigration holds released to immigration\n",
    "print(sum(df[hold]['release_to_imm'] == 1) / len(df[hold]) * 100)\n",
    "print('\\n')\n",
    "print(f'n = {len(df[hold])}')"
   ]
  },
  {
   "cell_type": "code",
   "execution_count": 704,
   "metadata": {
    "collapsed": true
   },
   "outputs": [],
   "source": [
    "hispanic = df[df.hispanic == 1]"
   ]
  },
  {
   "cell_type": "code",
   "execution_count": 705,
   "metadata": {
    "collapsed": true
   },
   "outputs": [],
   "source": [
    "hispanic_with_hold = hispanic[hispanic.imm_hold == 1]\n",
    "hispanic_release_to_imm = hispanic[hispanic.release_to_imm == 1]"
   ]
  },
  {
   "cell_type": "markdown",
   "metadata": {},
   "source": [
    "Percents of hispanics with immigration holds; released to immigration:"
   ]
  },
  {
   "cell_type": "code",
   "execution_count": 706,
   "metadata": {
    "scrolled": true
   },
   "outputs": [
    {
     "name": "stdout",
     "output_type": "stream",
     "text": [
      "6.671159029649595\n",
      "4.514824797843666\n",
      "\n",
      "\n",
      "n=1484\n"
     ]
    }
   ],
   "source": [
    "print(len(hispanic_with_hold) / len(hispanic) * 100)\n",
    "print(len(hispanic_release_to_imm) / len(hispanic) * 100)\n",
    "print('\\n')\n",
    "print(f'n={len(hispanic)}')"
   ]
  },
  {
   "cell_type": "code",
   "execution_count": 707,
   "metadata": {},
   "outputs": [
    {
     "data": {
      "text/plain": [
       "imm_hold\n",
       "0    61.133603\n",
       "1    73.913043\n",
       "Name: felony, dtype: float64"
      ]
     },
     "execution_count": 707,
     "metadata": {},
     "output_type": "execute_result"
    }
   ],
   "source": [
    "df.groupby('imm_hold')['felony'].sum() / df.groupby('imm_hold')['felony'].count() * 100"
   ]
  },
  {
   "cell_type": "code",
   "execution_count": 708,
   "metadata": {},
   "outputs": [
    {
     "data": {
      "text/plain": [
       "imm_hold\n",
       "0    3.517934\n",
       "1    4.017391\n",
       "Name: max_seriousness, dtype: float64"
      ]
     },
     "execution_count": 708,
     "metadata": {},
     "output_type": "execute_result"
    }
   ],
   "source": [
    "df.groupby('imm_hold')['max_seriousness'].mean()"
   ]
  },
  {
   "cell_type": "code",
   "execution_count": 709,
   "metadata": {},
   "outputs": [
    {
     "data": {
      "text/plain": [
       "imm_hold\n",
       "0    1.781605\n",
       "1    1.965217\n",
       "Name: charge_topcount, dtype: float64"
      ]
     },
     "execution_count": 709,
     "metadata": {},
     "output_type": "execute_result"
    }
   ],
   "source": [
    "df.groupby('imm_hold')['charge_topcount'].mean()"
   ]
  },
  {
   "cell_type": "code",
   "execution_count": 710,
   "metadata": {
    "collapsed": true
   },
   "outputs": [],
   "source": [
    "hold_felony_mean_time = df[hold][df[hold]['felony'] == 1]['time_detained'].mean()\n",
    "hold_misdem_mean_time = df[hold][df[hold]['misdemeanor'] == 1]['time_detained'].mean()\n",
    "# hold_no_charge_mean_time = df[hold][df[hold]['no_charge'] == 1]['time_detained'].mean()\n",
    "no_hold_felony_mean_time = df[~hold][df[~hold]['felony'] == 1]['time_detained'].mean()\n",
    "no_hold_misdem_mean_time = df[~hold][df[~hold]['misdemeanor'] == 1]['time_detained'].mean()\n",
    "# no_hold_no_charge_mean_time = df[~hold][df[~hold]['no_charge'] == 1]['time_detained'].mean()"
   ]
  },
  {
   "cell_type": "code",
   "execution_count": 711,
   "metadata": {
    "collapsed": true
   },
   "outputs": [],
   "source": [
    "data = {'mean_time_detained': [\n",
    "no_hold_felony_mean_time,\n",
    "no_hold_misdem_mean_time,\n",
    "hold_felony_mean_time,\n",
    "hold_misdem_mean_time],\n",
    "       'charge_category': ['felony', 'misdemeanor', 'felony', 'misdemeanor'],\n",
    "       'hold': ['no_hold', 'no_hold', 'hold', 'hold']}"
   ]
  },
  {
   "cell_type": "code",
   "execution_count": 712,
   "metadata": {
    "collapsed": true
   },
   "outputs": [],
   "source": [
    "table = pd.DataFrame(data=data)"
   ]
  },
  {
   "cell_type": "code",
   "execution_count": 713,
   "metadata": {},
   "outputs": [
    {
     "data": {
      "text/html": [
       "<div>\n",
       "<style scoped>\n",
       "    .dataframe tbody tr th:only-of-type {\n",
       "        vertical-align: middle;\n",
       "    }\n",
       "\n",
       "    .dataframe tbody tr th {\n",
       "        vertical-align: top;\n",
       "    }\n",
       "\n",
       "    .dataframe thead th {\n",
       "        text-align: right;\n",
       "    }\n",
       "</style>\n",
       "<table border=\"1\" class=\"dataframe\">\n",
       "  <thead>\n",
       "    <tr style=\"text-align: right;\">\n",
       "      <th></th>\n",
       "      <th>mean_time_detained</th>\n",
       "      <th>charge_category</th>\n",
       "      <th>hold</th>\n",
       "    </tr>\n",
       "  </thead>\n",
       "  <tbody>\n",
       "    <tr>\n",
       "      <th>0</th>\n",
       "      <td>35.554819</td>\n",
       "      <td>felony</td>\n",
       "      <td>no_hold</td>\n",
       "    </tr>\n",
       "    <tr>\n",
       "      <th>1</th>\n",
       "      <td>5.881032</td>\n",
       "      <td>misdemeanor</td>\n",
       "      <td>no_hold</td>\n",
       "    </tr>\n",
       "    <tr>\n",
       "      <th>2</th>\n",
       "      <td>72.261936</td>\n",
       "      <td>felony</td>\n",
       "      <td>hold</td>\n",
       "    </tr>\n",
       "    <tr>\n",
       "      <th>3</th>\n",
       "      <td>40.165278</td>\n",
       "      <td>misdemeanor</td>\n",
       "      <td>hold</td>\n",
       "    </tr>\n",
       "  </tbody>\n",
       "</table>\n",
       "</div>"
      ],
      "text/plain": [
       "   mean_time_detained charge_category     hold\n",
       "0           35.554819          felony  no_hold\n",
       "1            5.881032     misdemeanor  no_hold\n",
       "2           72.261936          felony     hold\n",
       "3           40.165278     misdemeanor     hold"
      ]
     },
     "execution_count": 713,
     "metadata": {},
     "output_type": "execute_result"
    }
   ],
   "source": [
    "table"
   ]
  },
  {
   "cell_type": "code",
   "execution_count": 714,
   "metadata": {},
   "outputs": [
    {
     "data": {
      "image/png": "[encoded data removed]",
      "text/plain": [
       "<matplotlib.figure.Figure at 0x133d61c50>"
      ]
     },
     "metadata": {},
     "output_type": "display_data"
    }
   ],
   "source": [
    "ax = sns.barplot(x='hold', y='mean_time_detained', hue='charge_category', hue_order=['misdemeanor', 'felony'], data=table)"
   ]
  },
  {
   "cell_type": "code",
   "execution_count": 715,
   "metadata": {
    "collapsed": true
   },
   "outputs": [],
   "source": [
    "ttest = scipystats.ttest_ind(df[hold]['time_detained'], df[~hold]['time_detained'])"
   ]
  },
  {
   "cell_type": "code",
   "execution_count": 716,
   "metadata": {},
   "outputs": [
    {
     "data": {
      "text/plain": [
       "Ttest_indResult(statistic=5.5414746404560491, pvalue=3.0422420381957703e-08)"
      ]
     },
     "execution_count": 716,
     "metadata": {},
     "output_type": "execute_result"
    }
   ],
   "source": [
    "ttest"
   ]
  },
  {
   "cell_type": "code",
   "execution_count": 717,
   "metadata": {},
   "outputs": [
    {
     "data": {
      "text/plain": [
       "3.0422420381957703e-08"
      ]
     },
     "execution_count": 717,
     "metadata": {},
     "output_type": "execute_result"
    }
   ],
   "source": [
    "ttest.pvalue"
   ]
  },
  {
   "cell_type": "markdown",
   "metadata": {},
   "source": [
    "# Regressions"
   ]
  },
  {
   "cell_type": "code",
   "execution_count": 718,
   "metadata": {},
   "outputs": [
    {
     "data": {
      "text/html": [
       "<table class=\"simpletable\">\n",
       "<caption>OLS Regression Results</caption>\n",
       "<tr>\n",
       "  <th>Dep. Variable:</th>    <td>log_time_detained</td> <th>  R-squared:         </th> <td>   0.316</td> \n",
       "</tr>\n",
       "<tr>\n",
       "  <th>Model:</th>                   <td>OLS</td>        <th>  Adj. R-squared:    </th> <td>   0.315</td> \n",
       "</tr>\n",
       "<tr>\n",
       "  <th>Method:</th>             <td>Least Squares</td>   <th>  F-statistic:       </th> <td>   580.9</td> \n",
       "</tr>\n",
       "<tr>\n",
       "  <th>Date:</th>             <td>Mon, 20 Aug 2018</td>  <th>  Prob (F-statistic):</th>  <td>  0.00</td>  \n",
       "</tr>\n",
       "<tr>\n",
       "  <th>Time:</th>                 <td>17:34:39</td>      <th>  Log-Likelihood:    </th> <td> -35152.</td> \n",
       "</tr>\n",
       "<tr>\n",
       "  <th>No. Observations:</th>      <td> 17652</td>       <th>  AIC:               </th> <td>7.033e+04</td>\n",
       "</tr>\n",
       "<tr>\n",
       "  <th>Df Residuals:</th>          <td> 17637</td>       <th>  BIC:               </th> <td>7.045e+04</td>\n",
       "</tr>\n",
       "<tr>\n",
       "  <th>Df Model:</th>              <td>    14</td>       <th>                     </th>     <td> </td>    \n",
       "</tr>\n",
       "<tr>\n",
       "  <th>Covariance Type:</th>      <td>nonrobust</td>     <th>                     </th>     <td> </td>    \n",
       "</tr>\n",
       "</table>\n",
       "<table class=\"simpletable\">\n",
       "<tr>\n",
       "            <td></td>              <th>coef</th>     <th>std err</th>      <th>t</th>      <th>P>|t|</th>  <th>[0.025</th>    <th>0.975]</th>  \n",
       "</tr>\n",
       "<tr>\n",
       "  <th>Intercept</th>            <td>   -1.9658</td> <td>    0.086</td> <td>  -22.816</td> <td> 0.000</td> <td>   -2.135</td> <td>   -1.797</td>\n",
       "</tr>\n",
       "<tr>\n",
       "  <th>imm_hold</th>             <td>    1.2302</td> <td>    0.171</td> <td>    7.210</td> <td> 0.000</td> <td>    0.896</td> <td>    1.565</td>\n",
       "</tr>\n",
       "<tr>\n",
       "  <th>charge_topcount</th>      <td>    0.5989</td> <td>    0.009</td> <td>   69.627</td> <td> 0.000</td> <td>    0.582</td> <td>    0.616</td>\n",
       "</tr>\n",
       "<tr>\n",
       "  <th>male</th>                 <td>    0.1449</td> <td>    0.032</td> <td>    4.559</td> <td> 0.000</td> <td>    0.083</td> <td>    0.207</td>\n",
       "</tr>\n",
       "<tr>\n",
       "  <th>black</th>                <td>    0.0991</td> <td>    0.033</td> <td>    3.041</td> <td> 0.002</td> <td>    0.035</td> <td>    0.163</td>\n",
       "</tr>\n",
       "<tr>\n",
       "  <th>hispanic</th>             <td>   -0.0685</td> <td>    0.051</td> <td>   -1.353</td> <td> 0.176</td> <td>   -0.168</td> <td>    0.031</td>\n",
       "</tr>\n",
       "<tr>\n",
       "  <th>amer_indian_alaskan</th>  <td>    0.3007</td> <td>    0.079</td> <td>    3.829</td> <td> 0.000</td> <td>    0.147</td> <td>    0.455</td>\n",
       "</tr>\n",
       "<tr>\n",
       "  <th>asian_pacific_island</th> <td>   -0.1007</td> <td>    0.058</td> <td>   -1.729</td> <td> 0.084</td> <td>   -0.215</td> <td>    0.013</td>\n",
       "</tr>\n",
       "<tr>\n",
       "  <th>max_seriousness</th>      <td>    0.5454</td> <td>    0.029</td> <td>   19.090</td> <td> 0.000</td> <td>    0.489</td> <td>    0.601</td>\n",
       "</tr>\n",
       "<tr>\n",
       "  <th>felony</th>               <td>   -0.1484</td> <td>    0.064</td> <td>   -2.330</td> <td> 0.020</td> <td>   -0.273</td> <td>   -0.024</td>\n",
       "</tr>\n",
       "<tr>\n",
       "  <th>drug</th>                 <td>    0.3004</td> <td>    0.057</td> <td>    5.310</td> <td> 0.000</td> <td>    0.190</td> <td>    0.411</td>\n",
       "</tr>\n",
       "<tr>\n",
       "  <th>sex</th>                  <td>    0.3398</td> <td>    0.113</td> <td>    3.002</td> <td> 0.003</td> <td>    0.118</td> <td>    0.562</td>\n",
       "</tr>\n",
       "<tr>\n",
       "  <th>property</th>             <td>   -0.1770</td> <td>    0.041</td> <td>   -4.276</td> <td> 0.000</td> <td>   -0.258</td> <td>   -0.096</td>\n",
       "</tr>\n",
       "<tr>\n",
       "  <th>violent</th>              <td>    0.2460</td> <td>    0.045</td> <td>    5.475</td> <td> 0.000</td> <td>    0.158</td> <td>    0.334</td>\n",
       "</tr>\n",
       "<tr>\n",
       "  <th>other</th>                <td>    1.8335</td> <td>    0.092</td> <td>   19.876</td> <td> 0.000</td> <td>    1.653</td> <td>    2.014</td>\n",
       "</tr>\n",
       "</table>\n",
       "<table class=\"simpletable\">\n",
       "<tr>\n",
       "  <th>Omnibus:</th>       <td>393.089</td> <th>  Durbin-Watson:     </th> <td>   1.691</td> \n",
       "</tr>\n",
       "<tr>\n",
       "  <th>Prob(Omnibus):</th> <td> 0.000</td>  <th>  Jarque-Bera (JB):  </th> <td> 481.010</td> \n",
       "</tr>\n",
       "<tr>\n",
       "  <th>Skew:</th>          <td>-0.303</td>  <th>  Prob(JB):          </th> <td>3.55e-105</td>\n",
       "</tr>\n",
       "<tr>\n",
       "  <th>Kurtosis:</th>      <td> 3.535</td>  <th>  Cond. No.          </th> <td>    58.4</td> \n",
       "</tr>\n",
       "</table>"
      ],
      "text/plain": [
       "<class 'statsmodels.iolib.summary.Summary'>\n",
       "\"\"\"\n",
       "                            OLS Regression Results                            \n",
       "==============================================================================\n",
       "Dep. Variable:      log_time_detained   R-squared:                       0.316\n",
       "Model:                            OLS   Adj. R-squared:                  0.315\n",
       "Method:                 Least Squares   F-statistic:                     580.9\n",
       "Date:                Mon, 20 Aug 2018   Prob (F-statistic):               0.00\n",
       "Time:                        17:34:39   Log-Likelihood:                -35152.\n",
       "No. Observations:               17652   AIC:                         7.033e+04\n",
       "Df Residuals:                   17637   BIC:                         7.045e+04\n",
       "Df Model:                          14                                         \n",
       "Covariance Type:            nonrobust                                         \n",
       "========================================================================================\n",
       "                           coef    std err          t      P>|t|      [0.025      0.975]\n",
       "----------------------------------------------------------------------------------------\n",
       "Intercept               -1.9658      0.086    -22.816      0.000      -2.135      -1.797\n",
       "imm_hold                 1.2302      0.171      7.210      0.000       0.896       1.565\n",
       "charge_topcount          0.5989      0.009     69.627      0.000       0.582       0.616\n",
       "male                     0.1449      0.032      4.559      0.000       0.083       0.207\n",
       "black                    0.0991      0.033      3.041      0.002       0.035       0.163\n",
       "hispanic                -0.0685      0.051     -1.353      0.176      -0.168       0.031\n",
       "amer_indian_alaskan      0.3007      0.079      3.829      0.000       0.147       0.455\n",
       "asian_pacific_island    -0.1007      0.058     -1.729      0.084      -0.215       0.013\n",
       "max_seriousness          0.5454      0.029     19.090      0.000       0.489       0.601\n",
       "felony                  -0.1484      0.064     -2.330      0.020      -0.273      -0.024\n",
       "drug                     0.3004      0.057      5.310      0.000       0.190       0.411\n",
       "sex                      0.3398      0.113      3.002      0.003       0.118       0.562\n",
       "property                -0.1770      0.041     -4.276      0.000      -0.258      -0.096\n",
       "violent                  0.2460      0.045      5.475      0.000       0.158       0.334\n",
       "other                    1.8335      0.092     19.876      0.000       1.653       2.014\n",
       "==============================================================================\n",
       "Omnibus:                      393.089   Durbin-Watson:                   1.691\n",
       "Prob(Omnibus):                  0.000   Jarque-Bera (JB):              481.010\n",
       "Skew:                          -0.303   Prob(JB):                    3.55e-105\n",
       "Kurtosis:                       3.535   Cond. No.                         58.4\n",
       "==============================================================================\n",
       "\n",
       "Warnings:\n",
       "[1] Standard Errors assume that the covariance matrix of the errors is correctly specified.\n",
       "\"\"\""
      ]
     },
     "execution_count": 718,
     "metadata": {},
     "output_type": "execute_result"
    }
   ],
   "source": [
    "# Using topcounted charge values\n",
    "formula = \"log_time_detained ~ imm_hold + charge_topcount + male + black + hispanic + amer_indian_alaskan + asian_pacific_island + max_seriousness + felony + drug + sex + property + violent + other\"\n",
    "reg = smf.ols(formula = formula, data = df).fit()\n",
    "reg.summary()"
   ]
  },
  {
   "cell_type": "code",
   "execution_count": 719,
   "metadata": {},
   "outputs": [
    {
     "data": {
      "text/html": [
       "<div>\n",
       "<style scoped>\n",
       "    .dataframe tbody tr th:only-of-type {\n",
       "        vertical-align: middle;\n",
       "    }\n",
       "\n",
       "    .dataframe tbody tr th {\n",
       "        vertical-align: top;\n",
       "    }\n",
       "\n",
       "    .dataframe thead th {\n",
       "        text-align: right;\n",
       "    }\n",
       "</style>\n",
       "<table border=\"1\" class=\"dataframe\">\n",
       "  <thead>\n",
       "    <tr style=\"text-align: right;\">\n",
       "      <th></th>\n",
       "      <th>count</th>\n",
       "      <th>mean</th>\n",
       "      <th>std</th>\n",
       "      <th>min</th>\n",
       "      <th>25%</th>\n",
       "      <th>50%</th>\n",
       "      <th>75%</th>\n",
       "      <th>max</th>\n",
       "    </tr>\n",
       "  </thead>\n",
       "  <tbody>\n",
       "    <tr>\n",
       "      <th>amer_indian_alaskan</th>\n",
       "      <td>17652.0</td>\n",
       "      <td>3.047813e-02</td>\n",
       "      <td>0.171904</td>\n",
       "      <td>0.000000e+00</td>\n",
       "      <td>0.000000</td>\n",
       "      <td>0.000000</td>\n",
       "      <td>0.000000</td>\n",
       "      <td>1.000000</td>\n",
       "    </tr>\n",
       "    <tr>\n",
       "      <th>asian_pacific_island</th>\n",
       "      <td>17652.0</td>\n",
       "      <td>5.784047e-02</td>\n",
       "      <td>0.233448</td>\n",
       "      <td>0.000000e+00</td>\n",
       "      <td>0.000000</td>\n",
       "      <td>0.000000</td>\n",
       "      <td>0.000000</td>\n",
       "      <td>1.000000</td>\n",
       "    </tr>\n",
       "    <tr>\n",
       "      <th>black</th>\n",
       "      <td>17652.0</td>\n",
       "      <td>2.399728e-01</td>\n",
       "      <td>0.427079</td>\n",
       "      <td>0.000000e+00</td>\n",
       "      <td>0.000000</td>\n",
       "      <td>0.000000</td>\n",
       "      <td>0.000000</td>\n",
       "      <td>1.000000</td>\n",
       "    </tr>\n",
       "    <tr>\n",
       "      <th>hispanic</th>\n",
       "      <td>17652.0</td>\n",
       "      <td>8.406979e-02</td>\n",
       "      <td>0.277500</td>\n",
       "      <td>0.000000e+00</td>\n",
       "      <td>0.000000</td>\n",
       "      <td>0.000000</td>\n",
       "      <td>0.000000</td>\n",
       "      <td>1.000000</td>\n",
       "    </tr>\n",
       "    <tr>\n",
       "      <th>white</th>\n",
       "      <td>17652.0</td>\n",
       "      <td>5.876388e-01</td>\n",
       "      <td>0.492273</td>\n",
       "      <td>0.000000e+00</td>\n",
       "      <td>0.000000</td>\n",
       "      <td>1.000000</td>\n",
       "      <td>1.000000</td>\n",
       "      <td>1.000000</td>\n",
       "    </tr>\n",
       "    <tr>\n",
       "      <th>female</th>\n",
       "      <td>17652.0</td>\n",
       "      <td>2.383299e-01</td>\n",
       "      <td>0.426074</td>\n",
       "      <td>0.000000e+00</td>\n",
       "      <td>0.000000</td>\n",
       "      <td>0.000000</td>\n",
       "      <td>0.000000</td>\n",
       "      <td>1.000000</td>\n",
       "    </tr>\n",
       "    <tr>\n",
       "      <th>male</th>\n",
       "      <td>17652.0</td>\n",
       "      <td>7.616701e-01</td>\n",
       "      <td>0.426074</td>\n",
       "      <td>0.000000e+00</td>\n",
       "      <td>1.000000</td>\n",
       "      <td>1.000000</td>\n",
       "      <td>1.000000</td>\n",
       "      <td>1.000000</td>\n",
       "    </tr>\n",
       "    <tr>\n",
       "      <th>time_detained</th>\n",
       "      <td>17652.0</td>\n",
       "      <td>2.535993e+01</td>\n",
       "      <td>62.996963</td>\n",
       "      <td>4.861111e-03</td>\n",
       "      <td>0.965972</td>\n",
       "      <td>2.836111</td>\n",
       "      <td>20.833507</td>\n",
       "      <td>1314.554167</td>\n",
       "    </tr>\n",
       "    <tr>\n",
       "      <th>log_time_detained</th>\n",
       "      <td>17652.0</td>\n",
       "      <td>1.345339e+00</td>\n",
       "      <td>2.142756</td>\n",
       "      <td>-5.326488e+00</td>\n",
       "      <td>-0.034620</td>\n",
       "      <td>1.042434</td>\n",
       "      <td>3.036563</td>\n",
       "      <td>7.181253</td>\n",
       "    </tr>\n",
       "    <tr>\n",
       "      <th>seriousness</th>\n",
       "      <td>17652.0</td>\n",
       "      <td>2.992635e+00</td>\n",
       "      <td>1.616985</td>\n",
       "      <td>0.000000e+00</td>\n",
       "      <td>2.000000</td>\n",
       "      <td>3.000000</td>\n",
       "      <td>4.000000</td>\n",
       "      <td>6.000000</td>\n",
       "    </tr>\n",
       "    <tr>\n",
       "      <th>max_seriousness</th>\n",
       "      <td>17652.0</td>\n",
       "      <td>3.521187e+00</td>\n",
       "      <td>1.579590</td>\n",
       "      <td>0.000000e+00</td>\n",
       "      <td>3.000000</td>\n",
       "      <td>4.000000</td>\n",
       "      <td>5.000000</td>\n",
       "      <td>6.000000</td>\n",
       "    </tr>\n",
       "    <tr>\n",
       "      <th>drug</th>\n",
       "      <td>17652.0</td>\n",
       "      <td>1.100725e-01</td>\n",
       "      <td>0.312989</td>\n",
       "      <td>0.000000e+00</td>\n",
       "      <td>0.000000</td>\n",
       "      <td>0.000000</td>\n",
       "      <td>0.000000</td>\n",
       "      <td>1.000000</td>\n",
       "    </tr>\n",
       "    <tr>\n",
       "      <th>other</th>\n",
       "      <td>17652.0</td>\n",
       "      <td>1.195332e-01</td>\n",
       "      <td>0.324424</td>\n",
       "      <td>0.000000e+00</td>\n",
       "      <td>0.000000</td>\n",
       "      <td>0.000000</td>\n",
       "      <td>0.000000</td>\n",
       "      <td>1.000000</td>\n",
       "    </tr>\n",
       "    <tr>\n",
       "      <th>property</th>\n",
       "      <td>17652.0</td>\n",
       "      <td>2.409925e-01</td>\n",
       "      <td>0.427698</td>\n",
       "      <td>0.000000e+00</td>\n",
       "      <td>0.000000</td>\n",
       "      <td>0.000000</td>\n",
       "      <td>0.000000</td>\n",
       "      <td>1.000000</td>\n",
       "    </tr>\n",
       "    <tr>\n",
       "      <th>public_order</th>\n",
       "      <td>17652.0</td>\n",
       "      <td>2.728869e-01</td>\n",
       "      <td>0.445456</td>\n",
       "      <td>0.000000e+00</td>\n",
       "      <td>0.000000</td>\n",
       "      <td>0.000000</td>\n",
       "      <td>1.000000</td>\n",
       "      <td>1.000000</td>\n",
       "    </tr>\n",
       "    <tr>\n",
       "      <th>sex</th>\n",
       "      <td>17652.0</td>\n",
       "      <td>1.597553e-02</td>\n",
       "      <td>0.125384</td>\n",
       "      <td>0.000000e+00</td>\n",
       "      <td>0.000000</td>\n",
       "      <td>0.000000</td>\n",
       "      <td>0.000000</td>\n",
       "      <td>1.000000</td>\n",
       "    </tr>\n",
       "    <tr>\n",
       "      <th>violent</th>\n",
       "      <td>17652.0</td>\n",
       "      <td>2.405393e-01</td>\n",
       "      <td>0.427423</td>\n",
       "      <td>0.000000e+00</td>\n",
       "      <td>0.000000</td>\n",
       "      <td>0.000000</td>\n",
       "      <td>0.000000</td>\n",
       "      <td>1.000000</td>\n",
       "    </tr>\n",
       "    <tr>\n",
       "      <th>felony</th>\n",
       "      <td>17652.0</td>\n",
       "      <td>6.121686e-01</td>\n",
       "      <td>0.487270</td>\n",
       "      <td>0.000000e+00</td>\n",
       "      <td>0.000000</td>\n",
       "      <td>1.000000</td>\n",
       "      <td>1.000000</td>\n",
       "      <td>1.000000</td>\n",
       "    </tr>\n",
       "    <tr>\n",
       "      <th>misdemeanor</th>\n",
       "      <td>17652.0</td>\n",
       "      <td>4.124179e-02</td>\n",
       "      <td>0.198855</td>\n",
       "      <td>0.000000e+00</td>\n",
       "      <td>0.000000</td>\n",
       "      <td>0.000000</td>\n",
       "      <td>0.000000</td>\n",
       "      <td>1.000000</td>\n",
       "    </tr>\n",
       "    <tr>\n",
       "      <th>charge_count</th>\n",
       "      <td>17652.0</td>\n",
       "      <td>1.789259e+00</td>\n",
       "      <td>1.682895</td>\n",
       "      <td>0.000000e+00</td>\n",
       "      <td>1.000000</td>\n",
       "      <td>1.000000</td>\n",
       "      <td>2.000000</td>\n",
       "      <td>21.000000</td>\n",
       "    </tr>\n",
       "    <tr>\n",
       "      <th>charge_topcount</th>\n",
       "      <td>17652.0</td>\n",
       "      <td>1.782801e+00</td>\n",
       "      <td>1.642091</td>\n",
       "      <td>0.000000e+00</td>\n",
       "      <td>1.000000</td>\n",
       "      <td>1.000000</td>\n",
       "      <td>2.000000</td>\n",
       "      <td>10.000000</td>\n",
       "    </tr>\n",
       "    <tr>\n",
       "      <th>bail_receipt_id</th>\n",
       "      <td>3083.0</td>\n",
       "      <td>1.012229e+05</td>\n",
       "      <td>1152.314160</td>\n",
       "      <td>9.923200e+04</td>\n",
       "      <td>100211.500000</td>\n",
       "      <td>101250.000000</td>\n",
       "      <td>102218.000000</td>\n",
       "      <td>103211.000000</td>\n",
       "    </tr>\n",
       "    <tr>\n",
       "      <th>fine_amt</th>\n",
       "      <td>3083.0</td>\n",
       "      <td>7.471743e+03</td>\n",
       "      <td>18246.374576</td>\n",
       "      <td>0.000000e+00</td>\n",
       "      <td>1000.000000</td>\n",
       "      <td>1000.000000</td>\n",
       "      <td>5000.000000</td>\n",
       "      <td>250000.000000</td>\n",
       "    </tr>\n",
       "    <tr>\n",
       "      <th>start_receipt_id</th>\n",
       "      <td>3083.0</td>\n",
       "      <td>0.000000e+00</td>\n",
       "      <td>0.000000</td>\n",
       "      <td>0.000000e+00</td>\n",
       "      <td>0.000000</td>\n",
       "      <td>0.000000</td>\n",
       "      <td>0.000000</td>\n",
       "      <td>0.000000</td>\n",
       "    </tr>\n",
       "    <tr>\n",
       "      <th>end_receipt_id</th>\n",
       "      <td>3083.0</td>\n",
       "      <td>1.062730e+05</td>\n",
       "      <td>0.000000</td>\n",
       "      <td>1.062730e+05</td>\n",
       "      <td>106273.000000</td>\n",
       "      <td>106273.000000</td>\n",
       "      <td>106273.000000</td>\n",
       "      <td>106273.000000</td>\n",
       "    </tr>\n",
       "    <tr>\n",
       "      <th>imm_hold</th>\n",
       "      <td>17652.0</td>\n",
       "      <td>6.514843e-03</td>\n",
       "      <td>0.080454</td>\n",
       "      <td>0.000000e+00</td>\n",
       "      <td>0.000000</td>\n",
       "      <td>0.000000</td>\n",
       "      <td>0.000000</td>\n",
       "      <td>1.000000</td>\n",
       "    </tr>\n",
       "    <tr>\n",
       "      <th>release_to_imm</th>\n",
       "      <td>17652.0</td>\n",
       "      <td>4.362112e-03</td>\n",
       "      <td>0.065904</td>\n",
       "      <td>0.000000e+00</td>\n",
       "      <td>0.000000</td>\n",
       "      <td>0.000000</td>\n",
       "      <td>0.000000</td>\n",
       "      <td>1.000000</td>\n",
       "    </tr>\n",
       "    <tr>\n",
       "      <th>juris_imm</th>\n",
       "      <td>17652.0</td>\n",
       "      <td>4.362112e-03</td>\n",
       "      <td>0.065904</td>\n",
       "      <td>0.000000e+00</td>\n",
       "      <td>0.000000</td>\n",
       "      <td>0.000000</td>\n",
       "      <td>0.000000</td>\n",
       "      <td>1.000000</td>\n",
       "    </tr>\n",
       "    <tr>\n",
       "      <th>cancel_detainer</th>\n",
       "      <td>17652.0</td>\n",
       "      <td>2.384999e-02</td>\n",
       "      <td>0.152586</td>\n",
       "      <td>0.000000e+00</td>\n",
       "      <td>0.000000</td>\n",
       "      <td>0.000000</td>\n",
       "      <td>0.000000</td>\n",
       "      <td>1.000000</td>\n",
       "    </tr>\n",
       "    <tr>\n",
       "      <th>total_fine</th>\n",
       "      <td>3511.0</td>\n",
       "      <td>8.187050e+03</td>\n",
       "      <td>18953.682051</td>\n",
       "      <td>0.000000e+00</td>\n",
       "      <td>1000.000000</td>\n",
       "      <td>2000.000000</td>\n",
       "      <td>7500.000000</td>\n",
       "      <td>250000.000000</td>\n",
       "    </tr>\n",
       "    <tr>\n",
       "      <th>log_total_fine</th>\n",
       "      <td>3511.0</td>\n",
       "      <td>-inf</td>\n",
       "      <td>NaN</td>\n",
       "      <td>-inf</td>\n",
       "      <td>6.907755</td>\n",
       "      <td>7.600902</td>\n",
       "      <td>8.922658</td>\n",
       "      <td>12.429216</td>\n",
       "    </tr>\n",
       "  </tbody>\n",
       "</table>\n",
       "</div>"
      ],
      "text/plain": [
       "                        count          mean           std           min  \\\n",
       "amer_indian_alaskan   17652.0  3.047813e-02      0.171904  0.000000e+00   \n",
       "asian_pacific_island  17652.0  5.784047e-02      0.233448  0.000000e+00   \n",
       "black                 17652.0  2.399728e-01      0.427079  0.000000e+00   \n",
       "hispanic              17652.0  8.406979e-02      0.277500  0.000000e+00   \n",
       "white                 17652.0  5.876388e-01      0.492273  0.000000e+00   \n",
       "female                17652.0  2.383299e-01      0.426074  0.000000e+00   \n",
       "male                  17652.0  7.616701e-01      0.426074  0.000000e+00   \n",
       "time_detained         17652.0  2.535993e+01     62.996963  4.861111e-03   \n",
       "log_time_detained     17652.0  1.345339e+00      2.142756 -5.326488e+00   \n",
       "seriousness           17652.0  2.992635e+00      1.616985  0.000000e+00   \n",
       "max_seriousness       17652.0  3.521187e+00      1.579590  0.000000e+00   \n",
       "drug                  17652.0  1.100725e-01      0.312989  0.000000e+00   \n",
       "other                 17652.0  1.195332e-01      0.324424  0.000000e+00   \n",
       "property              17652.0  2.409925e-01      0.427698  0.000000e+00   \n",
       "public_order          17652.0  2.728869e-01      0.445456  0.000000e+00   \n",
       "sex                   17652.0  1.597553e-02      0.125384  0.000000e+00   \n",
       "violent               17652.0  2.405393e-01      0.427423  0.000000e+00   \n",
       "felony                17652.0  6.121686e-01      0.487270  0.000000e+00   \n",
       "misdemeanor           17652.0  4.124179e-02      0.198855  0.000000e+00   \n",
       "charge_count          17652.0  1.789259e+00      1.682895  0.000000e+00   \n",
       "charge_topcount       17652.0  1.782801e+00      1.642091  0.000000e+00   \n",
       "bail_receipt_id        3083.0  1.012229e+05   1152.314160  9.923200e+04   \n",
       "fine_amt               3083.0  7.471743e+03  18246.374576  0.000000e+00   \n",
       "start_receipt_id       3083.0  0.000000e+00      0.000000  0.000000e+00   \n",
       "end_receipt_id         3083.0  1.062730e+05      0.000000  1.062730e+05   \n",
       "imm_hold              17652.0  6.514843e-03      0.080454  0.000000e+00   \n",
       "release_to_imm        17652.0  4.362112e-03      0.065904  0.000000e+00   \n",
       "juris_imm             17652.0  4.362112e-03      0.065904  0.000000e+00   \n",
       "cancel_detainer       17652.0  2.384999e-02      0.152586  0.000000e+00   \n",
       "total_fine             3511.0  8.187050e+03  18953.682051  0.000000e+00   \n",
       "log_total_fine         3511.0          -inf           NaN          -inf   \n",
       "\n",
       "                                25%            50%            75%  \\\n",
       "amer_indian_alaskan        0.000000       0.000000       0.000000   \n",
       "asian_pacific_island       0.000000       0.000000       0.000000   \n",
       "black                      0.000000       0.000000       0.000000   \n",
       "hispanic                   0.000000       0.000000       0.000000   \n",
       "white                      0.000000       1.000000       1.000000   \n",
       "female                     0.000000       0.000000       0.000000   \n",
       "male                       1.000000       1.000000       1.000000   \n",
       "time_detained              0.965972       2.836111      20.833507   \n",
       "log_time_detained         -0.034620       1.042434       3.036563   \n",
       "seriousness                2.000000       3.000000       4.000000   \n",
       "max_seriousness            3.000000       4.000000       5.000000   \n",
       "drug                       0.000000       0.000000       0.000000   \n",
       "other                      0.000000       0.000000       0.000000   \n",
       "property                   0.000000       0.000000       0.000000   \n",
       "public_order               0.000000       0.000000       1.000000   \n",
       "sex                        0.000000       0.000000       0.000000   \n",
       "violent                    0.000000       0.000000       0.000000   \n",
       "felony                     0.000000       1.000000       1.000000   \n",
       "misdemeanor                0.000000       0.000000       0.000000   \n",
       "charge_count               1.000000       1.000000       2.000000   \n",
       "charge_topcount            1.000000       1.000000       2.000000   \n",
       "bail_receipt_id       100211.500000  101250.000000  102218.000000   \n",
       "fine_amt                1000.000000    1000.000000    5000.000000   \n",
       "start_receipt_id           0.000000       0.000000       0.000000   \n",
       "end_receipt_id        106273.000000  106273.000000  106273.000000   \n",
       "imm_hold                   0.000000       0.000000       0.000000   \n",
       "release_to_imm             0.000000       0.000000       0.000000   \n",
       "juris_imm                  0.000000       0.000000       0.000000   \n",
       "cancel_detainer            0.000000       0.000000       0.000000   \n",
       "total_fine              1000.000000    2000.000000    7500.000000   \n",
       "log_total_fine             6.907755       7.600902       8.922658   \n",
       "\n",
       "                                max  \n",
       "amer_indian_alaskan        1.000000  \n",
       "asian_pacific_island       1.000000  \n",
       "black                      1.000000  \n",
       "hispanic                   1.000000  \n",
       "white                      1.000000  \n",
       "female                     1.000000  \n",
       "male                       1.000000  \n",
       "time_detained           1314.554167  \n",
       "log_time_detained          7.181253  \n",
       "seriousness                6.000000  \n",
       "max_seriousness            6.000000  \n",
       "drug                       1.000000  \n",
       "other                      1.000000  \n",
       "property                   1.000000  \n",
       "public_order               1.000000  \n",
       "sex                        1.000000  \n",
       "violent                    1.000000  \n",
       "felony                     1.000000  \n",
       "misdemeanor                1.000000  \n",
       "charge_count              21.000000  \n",
       "charge_topcount           10.000000  \n",
       "bail_receipt_id       103211.000000  \n",
       "fine_amt              250000.000000  \n",
       "start_receipt_id           0.000000  \n",
       "end_receipt_id        106273.000000  \n",
       "imm_hold                   1.000000  \n",
       "release_to_imm             1.000000  \n",
       "juris_imm                  1.000000  \n",
       "cancel_detainer            1.000000  \n",
       "total_fine            250000.000000  \n",
       "log_total_fine            12.429216  "
      ]
     },
     "execution_count": 719,
     "metadata": {},
     "output_type": "execute_result"
    }
   ],
   "source": [
    "df.describe().T"
   ]
  },
  {
   "cell_type": "code",
   "execution_count": 720,
   "metadata": {},
   "outputs": [
    {
     "data": {
      "text/plain": [
       "Intercept              -1.965759\n",
       "imm_hold                1.230190\n",
       "charge_topcount         0.598926\n",
       "male                    0.144873\n",
       "black                   0.099078\n",
       "hispanic               -0.068464\n",
       "amer_indian_alaskan     0.300671\n",
       "asian_pacific_island   -0.100655\n",
       "max_seriousness         0.545354\n",
       "felony                 -0.148445\n",
       "drug                    0.300404\n",
       "sex                     0.339773\n",
       "property               -0.176968\n",
       "violent                 0.246035\n",
       "other                   1.833480\n",
       "dtype: float64"
      ]
     },
     "execution_count": 720,
     "metadata": {},
     "output_type": "execute_result"
    }
   ],
   "source": [
    "reg.params"
   ]
  },
  {
   "cell_type": "code",
   "execution_count": 721,
   "metadata": {},
   "outputs": [
    {
     "name": "stdout",
     "output_type": "stream",
     "text": [
      "8.416686245774228\n"
     ]
    }
   ],
   "source": [
    "# Does this work as a predictive equation? Reference categories: race = white, crime type = public order\n",
    "log_time_detained = (reg.params['Intercept'] + \n",
    "                    (reg.params['imm_hold'] * 1) + \n",
    "                    (reg.params['charge_topcount'] * 1.7) +\n",
    "                    (reg.params['male'] * 1) +\n",
    "                    (reg.params['black'] * 0) +\n",
    "                    (reg.params['hispanic'] * 1) +\n",
    "                    (reg.params['amer_indian_alaskan'] * 0) +\n",
    "                    (reg.params['asian_pacific_island'] * 0) +\n",
    "                    (reg.params['max_seriousness'] * 3.52) +\n",
    "                    (reg.params['felony'] * 1) +\n",
    "                    (reg.params['drug'] * 0) +\n",
    "                    (reg.params['sex'] * 0) +\n",
    "                    (reg.params['property'] * 0) +\n",
    "                    (reg.params['violent'] * 0) +\n",
    "                    (reg.params['other'] * 0))\n",
    "predicted_time_detained_0 = np.power(np.e, log_time_detained)\n",
    "print(f'{predicted_time_detained_0}')"
   ]
  },
  {
   "cell_type": "code",
   "execution_count": 722,
   "metadata": {},
   "outputs": [
    {
     "name": "stdout",
     "output_type": "stream",
     "text": [
      "2.459666993565452\n"
     ]
    }
   ],
   "source": [
    "# Does this work as a predictive equation? Reference categories: race = white, crime type = public order\n",
    "log_time_detained = (reg.params['Intercept'] + \n",
    "                    (reg.params['imm_hold'] * 0) + \n",
    "                    (reg.params['charge_topcount'] * 1.7) +\n",
    "                    (reg.params['male'] * 1) +\n",
    "                    (reg.params['black'] * 0) +\n",
    "                    (reg.params['hispanic'] * 1) +\n",
    "                    (reg.params['amer_indian_alaskan'] * 0) +\n",
    "                    (reg.params['asian_pacific_island'] * 0) +\n",
    "                    (reg.params['max_seriousness'] * 3.52) +\n",
    "                    (reg.params['felony'] * 1) +\n",
    "                    (reg.params['drug'] * 0) +\n",
    "                    (reg.params['sex'] * 0) +\n",
    "                    (reg.params['property'] * 0) +\n",
    "                    (reg.params['violent'] * 0) +\n",
    "                    (reg.params['other'] * 0))\n",
    "predicted_time_detained_1 = np.power(np.e, log_time_detained)\n",
    "print(f'{predicted_time_detained_1}')"
   ]
  },
  {
   "cell_type": "code",
   "execution_count": 723,
   "metadata": {},
   "outputs": [
    {
     "data": {
      "text/plain": [
       "3.4218803877892743"
      ]
     },
     "execution_count": 723,
     "metadata": {},
     "output_type": "execute_result"
    }
   ],
   "source": [
    "predicted_time_detained_0 / predicted_time_detained_1"
   ]
  },
  {
   "cell_type": "code",
   "execution_count": 724,
   "metadata": {},
   "outputs": [
    {
     "data": {
      "text/plain": [
       "5.9570192522087755"
      ]
     },
     "execution_count": 724,
     "metadata": {},
     "output_type": "execute_result"
    }
   ],
   "source": [
    "(predicted_time_detained_0 - predicted_time_detained_1)"
   ]
  },
  {
   "cell_type": "code",
   "execution_count": 725,
   "metadata": {},
   "outputs": [
    {
     "data": {
      "text/plain": [
       "Intercept               -85.995041\n",
       "imm_hold                242.188039\n",
       "charge_topcount          82.016307\n",
       "male                     15.589301\n",
       "black                    10.415219\n",
       "hispanic                 -6.617279\n",
       "amer_indian_alaskan      35.076540\n",
       "asian_pacific_island     -9.575472\n",
       "max_seriousness          72.521910\n",
       "felony                  -13.795284\n",
       "drug                     35.040471\n",
       "sex                      40.462809\n",
       "property                -16.219366\n",
       "violent                  27.894461\n",
       "other                   525.561825\n",
       "dtype: float64"
      ]
     },
     "execution_count": 725,
     "metadata": {},
     "output_type": "execute_result"
    }
   ],
   "source": [
    "(np.power(np.e, reg.params) - 1) * 100"
   ]
  },
  {
   "cell_type": "code",
   "execution_count": null,
   "metadata": {
    "collapsed": true
   },
   "outputs": [],
   "source": []
  }
 ],
 "metadata": {
  "kernelspec": {
   "display_name": "Python 3",
   "language": "python",
   "name": "python3"
  },
  "language_info": {
   "codemirror_mode": {
    "name": "ipython",
    "version": 3
   },
   "file_extension": ".py",
   "mimetype": "text/x-python",
   "name": "python",
   "nbconvert_exporter": "python",
   "pygments_lexer": "ipython3",
   "version": "3.6.2"
  }
 },
 "nbformat": 4,
 "nbformat_minor": 2
}
